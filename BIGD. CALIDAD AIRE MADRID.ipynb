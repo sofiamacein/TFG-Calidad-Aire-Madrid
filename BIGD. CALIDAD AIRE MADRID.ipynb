{
 "cells": [
  {
   "cell_type": "markdown",
   "id": "6596d52d",
   "metadata": {},
   "source": [
    "<img src=\"logoucm.png\" style=\"height: 100px\">\n",
    "<center style=\"color:#888\">Big Data<br/></center>\n",
    "\n",
    "\n",
    "<h1><center>Calidad del aire en la Comunidad de Madrid</center></h1>"
   ]
  },
  {
   "cell_type": "markdown",
   "id": "4340b273",
   "metadata": {},
   "source": [
    "# Introducción"
   ]
  },
  {
   "cell_type": "markdown",
   "id": "9dbf00e2",
   "metadata": {},
   "source": [
    "Los datos empleados en este trabajo son datos recogidos de forma diaria desde 2010 hasta 2023 por la Comunidad de Madrid sobre la concentración de diferentes contaminantes en 24 estaciones repartidas por todo su territorio. Estos datos son publicado diariamente en su página web <a href=\"https://airedemadrid.madrid.es/portal/site/calidadaire\">Portal de Calidad del aire</a>, así como un **Índice de Calidad del Aire** que tiene como objetivo dar una valoración de los efectos de la contaminación atmosférica sobre la salud.\n",
    "\n",
    "Se puede obtener más información de las variables recogidas en el <a href=\"http://localhost:8888/tree/OneDrive/Escritorio/CALIDAD%20AIRE%20MADRID\">Interprete fichero</a>.\n",
    "Se presenta una breve descripción de los datos recogidos."
   ]
  },
  {
   "cell_type": "markdown",
   "id": "7082d2e5",
   "metadata": {},
   "source": [
    "\n",
    "| Atributo | Descripción |\n",
    "| :- |:- |\n",
    "|**PROVINCIA**| Identificador de la provincia (en este caso siempre '28'-Madrid)|\n",
    "|**MUNICIPIO**| Identificador del municipio (en este caso siempre '79'-Mardrid|\n",
    "|**ESTACION**| Identificador de la estación de recogida de los contaminantes|\n",
    "|**MAGNITUD**| Identificador del contaminante|\n",
    "|**PUNTO MUESTREO**| Identificador del punto de muestro|\n",
    "|**ANO**| Año de recogida del dato|\n",
    "|**MES**| Mes de recogida el dato|\n",
    "|**D01**| D0_X_ indica el día del mes|\n",
    "|**V01**| V0_X_ indica si el dato está verificado o no (Sí: \"V\", NO: \"N\")|"
   ]
  },
  {
   "cell_type": "markdown",
   "id": "fa6c6593",
   "metadata": {},
   "source": [
    "# Librerías"
   ]
  },
  {
   "cell_type": "code",
   "execution_count": 1,
   "id": "33489261",
   "metadata": {},
   "outputs": [],
   "source": [
    "# Librerias \n",
    "import numpy as np\n",
    "import pandas as pd\n",
    "\n",
    "import seaborn as sns\n",
    "import matplotlib.pyplot as plt  \n",
    "\n",
    "import warnings\n",
    "warnings.filterwarnings('ignore')\n",
    "\n",
    "%matplotlib inline"
   ]
  },
  {
   "cell_type": "markdown",
   "id": "d3af4a91",
   "metadata": {},
   "source": [
    "# 1. Análisis Exploratorio de los Datos"
   ]
  },
  {
   "cell_type": "markdown",
   "id": "a5ad5e84",
   "metadata": {},
   "source": [
    "## 1.1 Limpieza de la base de datos"
   ]
  },
  {
   "cell_type": "markdown",
   "id": "4844916d",
   "metadata": {},
   "source": [
    "En primer lugar, abrimos el fichero con los datos y estudiamos la dimensión y estructura de los mismos. "
   ]
  },
  {
   "cell_type": "code",
   "execution_count": 2,
   "id": "6a0a135c",
   "metadata": {},
   "outputs": [
    {
     "data": {
      "text/html": [
       "<div>\n",
       "<style scoped>\n",
       "    .dataframe tbody tr th:only-of-type {\n",
       "        vertical-align: middle;\n",
       "    }\n",
       "\n",
       "    .dataframe tbody tr th {\n",
       "        vertical-align: top;\n",
       "    }\n",
       "\n",
       "    .dataframe thead th {\n",
       "        text-align: right;\n",
       "    }\n",
       "</style>\n",
       "<table border=\"1\" class=\"dataframe\">\n",
       "  <thead>\n",
       "    <tr style=\"text-align: right;\">\n",
       "      <th></th>\n",
       "      <th>Unnamed: 0</th>\n",
       "      <th>PROVINCIA</th>\n",
       "      <th>MUNICIPIO</th>\n",
       "      <th>ESTACION</th>\n",
       "      <th>MAGNITUD</th>\n",
       "      <th>PUNTO_MUESTREO</th>\n",
       "      <th>ANO</th>\n",
       "      <th>MES</th>\n",
       "      <th>D01</th>\n",
       "      <th>V01</th>\n",
       "      <th>...</th>\n",
       "      <th>D27</th>\n",
       "      <th>V27</th>\n",
       "      <th>D28</th>\n",
       "      <th>V28</th>\n",
       "      <th>D29</th>\n",
       "      <th>V29</th>\n",
       "      <th>D30</th>\n",
       "      <th>V30</th>\n",
       "      <th>D31</th>\n",
       "      <th>V31</th>\n",
       "    </tr>\n",
       "  </thead>\n",
       "  <tbody>\n",
       "    <tr>\n",
       "      <th>0</th>\n",
       "      <td>0</td>\n",
       "      <td>28</td>\n",
       "      <td>79</td>\n",
       "      <td>4</td>\n",
       "      <td>1</td>\n",
       "      <td>28079004_1_38</td>\n",
       "      <td>2010</td>\n",
       "      <td>1</td>\n",
       "      <td>12.0</td>\n",
       "      <td>V</td>\n",
       "      <td>...</td>\n",
       "      <td>16.0</td>\n",
       "      <td>V</td>\n",
       "      <td>21.0</td>\n",
       "      <td>V</td>\n",
       "      <td>22.0</td>\n",
       "      <td>V</td>\n",
       "      <td>17.0</td>\n",
       "      <td>V</td>\n",
       "      <td>15.0</td>\n",
       "      <td>V</td>\n",
       "    </tr>\n",
       "    <tr>\n",
       "      <th>1</th>\n",
       "      <td>1</td>\n",
       "      <td>28</td>\n",
       "      <td>79</td>\n",
       "      <td>4</td>\n",
       "      <td>1</td>\n",
       "      <td>28079004_1_38</td>\n",
       "      <td>2010</td>\n",
       "      <td>2</td>\n",
       "      <td>18.0</td>\n",
       "      <td>V</td>\n",
       "      <td>...</td>\n",
       "      <td>15.0</td>\n",
       "      <td>V</td>\n",
       "      <td>13.0</td>\n",
       "      <td>V</td>\n",
       "      <td>0.0</td>\n",
       "      <td>N</td>\n",
       "      <td>0.0</td>\n",
       "      <td>N</td>\n",
       "      <td>0.0</td>\n",
       "      <td>N</td>\n",
       "    </tr>\n",
       "    <tr>\n",
       "      <th>2</th>\n",
       "      <td>2</td>\n",
       "      <td>28</td>\n",
       "      <td>79</td>\n",
       "      <td>4</td>\n",
       "      <td>1</td>\n",
       "      <td>28079004_1_38</td>\n",
       "      <td>2010</td>\n",
       "      <td>3</td>\n",
       "      <td>13.0</td>\n",
       "      <td>V</td>\n",
       "      <td>...</td>\n",
       "      <td>14.0</td>\n",
       "      <td>V</td>\n",
       "      <td>16.0</td>\n",
       "      <td>V</td>\n",
       "      <td>15.0</td>\n",
       "      <td>V</td>\n",
       "      <td>13.0</td>\n",
       "      <td>V</td>\n",
       "      <td>14.0</td>\n",
       "      <td>V</td>\n",
       "    </tr>\n",
       "    <tr>\n",
       "      <th>3</th>\n",
       "      <td>3</td>\n",
       "      <td>28</td>\n",
       "      <td>79</td>\n",
       "      <td>4</td>\n",
       "      <td>1</td>\n",
       "      <td>28079004_1_38</td>\n",
       "      <td>2010</td>\n",
       "      <td>4</td>\n",
       "      <td>14.0</td>\n",
       "      <td>V</td>\n",
       "      <td>...</td>\n",
       "      <td>9.0</td>\n",
       "      <td>V</td>\n",
       "      <td>9.0</td>\n",
       "      <td>V</td>\n",
       "      <td>9.0</td>\n",
       "      <td>V</td>\n",
       "      <td>9.0</td>\n",
       "      <td>V</td>\n",
       "      <td>0.0</td>\n",
       "      <td>N</td>\n",
       "    </tr>\n",
       "    <tr>\n",
       "      <th>4</th>\n",
       "      <td>4</td>\n",
       "      <td>28</td>\n",
       "      <td>79</td>\n",
       "      <td>4</td>\n",
       "      <td>1</td>\n",
       "      <td>28079004_1_38</td>\n",
       "      <td>2010</td>\n",
       "      <td>5</td>\n",
       "      <td>8.0</td>\n",
       "      <td>V</td>\n",
       "      <td>...</td>\n",
       "      <td>9.0</td>\n",
       "      <td>V</td>\n",
       "      <td>9.0</td>\n",
       "      <td>V</td>\n",
       "      <td>9.0</td>\n",
       "      <td>V</td>\n",
       "      <td>9.0</td>\n",
       "      <td>V</td>\n",
       "      <td>9.0</td>\n",
       "      <td>V</td>\n",
       "    </tr>\n",
       "  </tbody>\n",
       "</table>\n",
       "<p>5 rows × 70 columns</p>\n",
       "</div>"
      ],
      "text/plain": [
       "   Unnamed: 0  PROVINCIA  MUNICIPIO  ESTACION  MAGNITUD PUNTO_MUESTREO   ANO  \\\n",
       "0           0         28         79         4         1  28079004_1_38  2010   \n",
       "1           1         28         79         4         1  28079004_1_38  2010   \n",
       "2           2         28         79         4         1  28079004_1_38  2010   \n",
       "3           3         28         79         4         1  28079004_1_38  2010   \n",
       "4           4         28         79         4         1  28079004_1_38  2010   \n",
       "\n",
       "   MES   D01 V01  ...   D27 V27   D28 V28   D29 V29   D30 V30   D31 V31  \n",
       "0    1  12.0   V  ...  16.0   V  21.0   V  22.0   V  17.0   V  15.0   V  \n",
       "1    2  18.0   V  ...  15.0   V  13.0   V   0.0   N   0.0   N   0.0   N  \n",
       "2    3  13.0   V  ...  14.0   V  16.0   V  15.0   V  13.0   V  14.0   V  \n",
       "3    4  14.0   V  ...   9.0   V   9.0   V   9.0   V   9.0   V   0.0   N  \n",
       "4    5   8.0   V  ...   9.0   V   9.0   V   9.0   V   9.0   V   9.0   V  \n",
       "\n",
       "[5 rows x 70 columns]"
      ]
     },
     "execution_count": 2,
     "metadata": {},
     "output_type": "execute_result"
    }
   ],
   "source": [
    "# Cargamos los datos\n",
    "df = pd.read_csv(\"datos_total.csv\", delimiter = \",\")\n",
    "df.head(5)"
   ]
  },
  {
   "cell_type": "code",
   "execution_count": 3,
   "id": "7a26e9bd",
   "metadata": {
    "scrolled": false
   },
   "outputs": [
    {
     "data": {
      "text/plain": [
       "(21633, 70)"
      ]
     },
     "execution_count": 3,
     "metadata": {},
     "output_type": "execute_result"
    }
   ],
   "source": [
    "# Numero de obeservaciones y de variables\n",
    "df.shape"
   ]
  },
  {
   "cell_type": "markdown",
   "id": "0d35444c",
   "metadata": {},
   "source": [
    "Tenemos 21633 registros de 70 variables, aunque eliminamos las variables ***provoncia*** y ***municipio*** por ser redundantes. "
   ]
  },
  {
   "cell_type": "code",
   "execution_count": 4,
   "id": "07752277",
   "metadata": {},
   "outputs": [],
   "source": [
    "# Variables\n",
    "df = df.drop(columns=['Unnamed: 0', 'PROVINCIA', 'MUNICIPIO'], axis = 1)"
   ]
  },
  {
   "cell_type": "markdown",
   "id": "7e28e2ed",
   "metadata": {},
   "source": [
    "En primer lugar, vamos a tratar con el problema de los datos no verificados. Sólo son validos aquellos datos acompañados de un código de verificación *V*."
   ]
  },
  {
   "cell_type": "markdown",
   "id": "53c17888",
   "metadata": {},
   "source": [
    "El estudio que vamos a realizar crea un índice a partir de ciertos compuestos (<a href=\"https://airedemadrid.madrid.es/portales/calidadaire/es/Bases-de-datos-y-publicaciones/Bases-de-datos-de-calidad-del-aire/Indices-y-zonas/Indice-de-calidad-del-aire/?vgnextfmt=default&vgnextoid=303d635a41187710VgnVCM1000001d4a900aRCRD&vgnextchannel=480285a1259d7710VgnVCM2000001f4a900aRCRD\">Índice de Calidad del Aire</a>). Por ello, vamos a seleccionar las magnitudes que nos interesan reduciendo así la dimensionalidad del problema."
   ]
  },
  {
   "cell_type": "markdown",
   "id": "aca33b32",
   "metadata": {},
   "source": [
    "*Los compuestos que se emplean para calcular el índice de calidad son las partículas en suspensión (PM10 y PM2,5), dióxido de azufre, dióxido de nitrógeno y ozono. Para cada uno de estos contaminantes se establece un índice parcial, de forma que el peor valor de los cinco definirá el índice global y, por lo tanto, la calidad del aire en el municipio de Madrid.*"
   ]
  },
  {
   "cell_type": "markdown",
   "id": "236a7c44",
   "metadata": {},
   "source": [
    "| Contaminantes | id| Muy bueno | Bueno | Regular | Malo | Muy malo |\n",
    "| :- |:- |:-|:-|:-|:-| :-|\n",
    "|Partículas PM2,5| 9| 0-15|16-30|31-55|56-110|>110|\n",
    "|Partículas PM10| 10| 0-25|26-50|51-90|91-180|>180|\n",
    "|NO2| 8| 0-50|51-100|101-200|201-400|>400|\n",
    "|O3| 14|0-60|61-120|121-180|181-240|>240|\n",
    "|SO2| 1|0-50|51-100|101-350|351-500|>500|"
   ]
  },
  {
   "cell_type": "markdown",
   "id": "945cfe69",
   "metadata": {},
   "source": [
    "Por tanto, nos quedamos con los registros de los contaminantes que conforman el índice previamente definido."
   ]
  },
  {
   "cell_type": "code",
   "execution_count": 5,
   "id": "d7b9becd",
   "metadata": {
    "scrolled": true
   },
   "outputs": [
    {
     "data": {
      "text/html": [
       "<div>\n",
       "<style scoped>\n",
       "    .dataframe tbody tr th:only-of-type {\n",
       "        vertical-align: middle;\n",
       "    }\n",
       "\n",
       "    .dataframe tbody tr th {\n",
       "        vertical-align: top;\n",
       "    }\n",
       "\n",
       "    .dataframe thead th {\n",
       "        text-align: right;\n",
       "    }\n",
       "</style>\n",
       "<table border=\"1\" class=\"dataframe\">\n",
       "  <thead>\n",
       "    <tr style=\"text-align: right;\">\n",
       "      <th></th>\n",
       "      <th>ESTACION</th>\n",
       "      <th>MAGNITUD</th>\n",
       "      <th>PUNTO_MUESTREO</th>\n",
       "      <th>ANO</th>\n",
       "      <th>MES</th>\n",
       "      <th>D01</th>\n",
       "      <th>V01</th>\n",
       "      <th>D02</th>\n",
       "      <th>V02</th>\n",
       "      <th>D03</th>\n",
       "      <th>...</th>\n",
       "      <th>D27</th>\n",
       "      <th>V27</th>\n",
       "      <th>D28</th>\n",
       "      <th>V28</th>\n",
       "      <th>D29</th>\n",
       "      <th>V29</th>\n",
       "      <th>D30</th>\n",
       "      <th>V30</th>\n",
       "      <th>D31</th>\n",
       "      <th>V31</th>\n",
       "    </tr>\n",
       "  </thead>\n",
       "  <tbody>\n",
       "    <tr>\n",
       "      <th>0</th>\n",
       "      <td>4</td>\n",
       "      <td>1</td>\n",
       "      <td>28079004_1_38</td>\n",
       "      <td>2010</td>\n",
       "      <td>1</td>\n",
       "      <td>12.0</td>\n",
       "      <td>V</td>\n",
       "      <td>15.0</td>\n",
       "      <td>V</td>\n",
       "      <td>17.0</td>\n",
       "      <td>...</td>\n",
       "      <td>16.0</td>\n",
       "      <td>V</td>\n",
       "      <td>21.0</td>\n",
       "      <td>V</td>\n",
       "      <td>22.0</td>\n",
       "      <td>V</td>\n",
       "      <td>17.0</td>\n",
       "      <td>V</td>\n",
       "      <td>15.0</td>\n",
       "      <td>V</td>\n",
       "    </tr>\n",
       "    <tr>\n",
       "      <th>1</th>\n",
       "      <td>4</td>\n",
       "      <td>1</td>\n",
       "      <td>28079004_1_38</td>\n",
       "      <td>2010</td>\n",
       "      <td>2</td>\n",
       "      <td>18.0</td>\n",
       "      <td>V</td>\n",
       "      <td>20.0</td>\n",
       "      <td>V</td>\n",
       "      <td>24.0</td>\n",
       "      <td>...</td>\n",
       "      <td>15.0</td>\n",
       "      <td>V</td>\n",
       "      <td>13.0</td>\n",
       "      <td>V</td>\n",
       "      <td>0.0</td>\n",
       "      <td>N</td>\n",
       "      <td>0.0</td>\n",
       "      <td>N</td>\n",
       "      <td>0.0</td>\n",
       "      <td>N</td>\n",
       "    </tr>\n",
       "    <tr>\n",
       "      <th>2</th>\n",
       "      <td>4</td>\n",
       "      <td>1</td>\n",
       "      <td>28079004_1_38</td>\n",
       "      <td>2010</td>\n",
       "      <td>3</td>\n",
       "      <td>13.0</td>\n",
       "      <td>V</td>\n",
       "      <td>15.0</td>\n",
       "      <td>V</td>\n",
       "      <td>13.0</td>\n",
       "      <td>...</td>\n",
       "      <td>14.0</td>\n",
       "      <td>V</td>\n",
       "      <td>16.0</td>\n",
       "      <td>V</td>\n",
       "      <td>15.0</td>\n",
       "      <td>V</td>\n",
       "      <td>13.0</td>\n",
       "      <td>V</td>\n",
       "      <td>14.0</td>\n",
       "      <td>V</td>\n",
       "    </tr>\n",
       "    <tr>\n",
       "      <th>3</th>\n",
       "      <td>4</td>\n",
       "      <td>1</td>\n",
       "      <td>28079004_1_38</td>\n",
       "      <td>2010</td>\n",
       "      <td>4</td>\n",
       "      <td>14.0</td>\n",
       "      <td>V</td>\n",
       "      <td>14.0</td>\n",
       "      <td>V</td>\n",
       "      <td>13.0</td>\n",
       "      <td>...</td>\n",
       "      <td>9.0</td>\n",
       "      <td>V</td>\n",
       "      <td>9.0</td>\n",
       "      <td>V</td>\n",
       "      <td>9.0</td>\n",
       "      <td>V</td>\n",
       "      <td>9.0</td>\n",
       "      <td>V</td>\n",
       "      <td>0.0</td>\n",
       "      <td>N</td>\n",
       "    </tr>\n",
       "    <tr>\n",
       "      <th>4</th>\n",
       "      <td>4</td>\n",
       "      <td>1</td>\n",
       "      <td>28079004_1_38</td>\n",
       "      <td>2010</td>\n",
       "      <td>5</td>\n",
       "      <td>8.0</td>\n",
       "      <td>V</td>\n",
       "      <td>8.0</td>\n",
       "      <td>V</td>\n",
       "      <td>8.0</td>\n",
       "      <td>...</td>\n",
       "      <td>9.0</td>\n",
       "      <td>V</td>\n",
       "      <td>9.0</td>\n",
       "      <td>V</td>\n",
       "      <td>9.0</td>\n",
       "      <td>V</td>\n",
       "      <td>9.0</td>\n",
       "      <td>V</td>\n",
       "      <td>9.0</td>\n",
       "      <td>V</td>\n",
       "    </tr>\n",
       "  </tbody>\n",
       "</table>\n",
       "<p>5 rows × 67 columns</p>\n",
       "</div>"
      ],
      "text/plain": [
       "   ESTACION  MAGNITUD PUNTO_MUESTREO   ANO  MES   D01 V01   D02 V02   D03  \\\n",
       "0         4         1  28079004_1_38  2010    1  12.0   V  15.0   V  17.0   \n",
       "1         4         1  28079004_1_38  2010    2  18.0   V  20.0   V  24.0   \n",
       "2         4         1  28079004_1_38  2010    3  13.0   V  15.0   V  13.0   \n",
       "3         4         1  28079004_1_38  2010    4  14.0   V  14.0   V  13.0   \n",
       "4         4         1  28079004_1_38  2010    5   8.0   V   8.0   V   8.0   \n",
       "\n",
       "   ...   D27  V27   D28  V28   D29  V29   D30  V30   D31  V31  \n",
       "0  ...  16.0    V  21.0    V  22.0    V  17.0    V  15.0    V  \n",
       "1  ...  15.0    V  13.0    V   0.0    N   0.0    N   0.0    N  \n",
       "2  ...  14.0    V  16.0    V  15.0    V  13.0    V  14.0    V  \n",
       "3  ...   9.0    V   9.0    V   9.0    V   9.0    V   0.0    N  \n",
       "4  ...   9.0    V   9.0    V   9.0    V   9.0    V   9.0    V  \n",
       "\n",
       "[5 rows x 67 columns]"
      ]
     },
     "execution_count": 5,
     "metadata": {},
     "output_type": "execute_result"
    }
   ],
   "source": [
    "# DataFrame con los contaminantes de interes\n",
    "df_contaminantes = df[(df['MAGNITUD'] == 9) | (df['MAGNITUD'] == 10) | \n",
    "                      (df['MAGNITUD'] == 8) | (df['MAGNITUD'] == 14) |\n",
    "                      (df['MAGNITUD'] == 1)]\n",
    "df_contaminantes.head(5)"
   ]
  },
  {
   "cell_type": "code",
   "execution_count": 6,
   "id": "ef99460b",
   "metadata": {},
   "outputs": [],
   "source": [
    "dias = ['D01','D02','D03','D04','D05','D06','D07','D08','D09','D10',\n",
    "       'D11','D12','D13','D14','D15','D16','D17','D18','D19','D20',\n",
    "       'D21','D22','D23','D24','D25','D26','D27','D28','D29','D30','D31']\n",
    "\n",
    "verf = ['V01','V02','V03','V04','V05','V06','V07','V08','V09','V10',\n",
    "       'V11','V12','V13','V14','V15','V16','V17','V18','V19','V20',\n",
    "       'V21','V22','V23','V24','V25','V26','V27','V28','V29','V30','V31']"
   ]
  },
  {
   "cell_type": "code",
   "execution_count": 7,
   "id": "fedd3d59",
   "metadata": {
    "scrolled": true
   },
   "outputs": [],
   "source": [
    "# Dias \n",
    "df_dias = df_contaminantes.melt(id_vars=['ESTACION', 'MAGNITUD', 'PUNTO_MUESTREO', 'ANO', 'MES'],\n",
    "                                value_vars = dias,\n",
    "                                var_name = 'DIA',\n",
    "                                value_name = 'VALOR')\n",
    "# Verificaciones\n",
    "df_verf= df_contaminantes.melt(id_vars=['ESTACION', 'MAGNITUD', 'PUNTO_MUESTREO', 'ANO', 'MES'],\n",
    "                               value_vars = verf,\n",
    "                               var_name = 'VER',\n",
    "                               value_name = 'VV')\n",
    "\n",
    "df_dias['VV'] = df_verf['VV']\n",
    "df1 = df_dias"
   ]
  },
  {
   "cell_type": "markdown",
   "id": "ad3aaaca",
   "metadata": {},
   "source": [
    "Con este dataframe, vamos a diferencias entre los valores no verificados (aquellos que van seguidos de un 'N') y los valores no medidos por no existir el día en concreto (p.e, 30-02).\n",
    "\n",
    "En primer lugar, eliminamos del dataframe aquellos días que no existen. "
   ]
  },
  {
   "cell_type": "code",
   "execution_count": 8,
   "id": "035cd23e",
   "metadata": {},
   "outputs": [],
   "source": [
    "date_str = df1['ANO'].astype(str) + '-' + df1['MES'].astype(str) + '-' + df1['DIA'].str.replace('D', '').astype(str)\n",
    "df1['date'] = pd.to_datetime(date_str, format='%Y-%m-%d', errors='coerce')\n",
    "df1 = df1.dropna(subset=['date'])\n",
    "df1 = df1.sort_values(['ESTACION','MAGNITUD','date'])"
   ]
  },
  {
   "cell_type": "code",
   "execution_count": 9,
   "id": "87535245",
   "metadata": {},
   "outputs": [
    {
     "data": {
      "text/html": [
       "<div>\n",
       "<style scoped>\n",
       "    .dataframe tbody tr th:only-of-type {\n",
       "        vertical-align: middle;\n",
       "    }\n",
       "\n",
       "    .dataframe tbody tr th {\n",
       "        vertical-align: top;\n",
       "    }\n",
       "\n",
       "    .dataframe thead th {\n",
       "        text-align: right;\n",
       "    }\n",
       "</style>\n",
       "<table border=\"1\" class=\"dataframe\">\n",
       "  <thead>\n",
       "    <tr style=\"text-align: right;\">\n",
       "      <th></th>\n",
       "      <th>ESTACION</th>\n",
       "      <th>MAGNITUD</th>\n",
       "      <th>PUNTO_MUESTREO</th>\n",
       "      <th>ANO</th>\n",
       "      <th>MES</th>\n",
       "      <th>DIA</th>\n",
       "      <th>VALOR</th>\n",
       "      <th>VV</th>\n",
       "      <th>date</th>\n",
       "    </tr>\n",
       "  </thead>\n",
       "  <tbody>\n",
       "    <tr>\n",
       "      <th>0</th>\n",
       "      <td>4</td>\n",
       "      <td>1</td>\n",
       "      <td>28079004_1_38</td>\n",
       "      <td>2010</td>\n",
       "      <td>1</td>\n",
       "      <td>D01</td>\n",
       "      <td>12.0</td>\n",
       "      <td>V</td>\n",
       "      <td>2010-01-01</td>\n",
       "    </tr>\n",
       "    <tr>\n",
       "      <th>9486</th>\n",
       "      <td>4</td>\n",
       "      <td>1</td>\n",
       "      <td>28079004_1_38</td>\n",
       "      <td>2010</td>\n",
       "      <td>1</td>\n",
       "      <td>D02</td>\n",
       "      <td>15.0</td>\n",
       "      <td>V</td>\n",
       "      <td>2010-01-02</td>\n",
       "    </tr>\n",
       "    <tr>\n",
       "      <th>18972</th>\n",
       "      <td>4</td>\n",
       "      <td>1</td>\n",
       "      <td>28079004_1_38</td>\n",
       "      <td>2010</td>\n",
       "      <td>1</td>\n",
       "      <td>D03</td>\n",
       "      <td>17.0</td>\n",
       "      <td>V</td>\n",
       "      <td>2010-01-03</td>\n",
       "    </tr>\n",
       "    <tr>\n",
       "      <th>28458</th>\n",
       "      <td>4</td>\n",
       "      <td>1</td>\n",
       "      <td>28079004_1_38</td>\n",
       "      <td>2010</td>\n",
       "      <td>1</td>\n",
       "      <td>D04</td>\n",
       "      <td>16.0</td>\n",
       "      <td>V</td>\n",
       "      <td>2010-01-04</td>\n",
       "    </tr>\n",
       "    <tr>\n",
       "      <th>37944</th>\n",
       "      <td>4</td>\n",
       "      <td>1</td>\n",
       "      <td>28079004_1_38</td>\n",
       "      <td>2010</td>\n",
       "      <td>1</td>\n",
       "      <td>D05</td>\n",
       "      <td>16.0</td>\n",
       "      <td>V</td>\n",
       "      <td>2010-01-05</td>\n",
       "    </tr>\n",
       "    <tr>\n",
       "      <th>...</th>\n",
       "      <td>...</td>\n",
       "      <td>...</td>\n",
       "      <td>...</td>\n",
       "      <td>...</td>\n",
       "      <td>...</td>\n",
       "      <td>...</td>\n",
       "      <td>...</td>\n",
       "      <td>...</td>\n",
       "      <td>...</td>\n",
       "    </tr>\n",
       "    <tr>\n",
       "      <th>256121</th>\n",
       "      <td>60</td>\n",
       "      <td>14</td>\n",
       "      <td>28079060_14_6</td>\n",
       "      <td>2021</td>\n",
       "      <td>12</td>\n",
       "      <td>D27</td>\n",
       "      <td>52.0</td>\n",
       "      <td>V</td>\n",
       "      <td>2021-12-27</td>\n",
       "    </tr>\n",
       "    <tr>\n",
       "      <th>265607</th>\n",
       "      <td>60</td>\n",
       "      <td>14</td>\n",
       "      <td>28079060_14_6</td>\n",
       "      <td>2021</td>\n",
       "      <td>12</td>\n",
       "      <td>D28</td>\n",
       "      <td>42.0</td>\n",
       "      <td>V</td>\n",
       "      <td>2021-12-28</td>\n",
       "    </tr>\n",
       "    <tr>\n",
       "      <th>275093</th>\n",
       "      <td>60</td>\n",
       "      <td>14</td>\n",
       "      <td>28079060_14_6</td>\n",
       "      <td>2021</td>\n",
       "      <td>12</td>\n",
       "      <td>D29</td>\n",
       "      <td>19.0</td>\n",
       "      <td>V</td>\n",
       "      <td>2021-12-29</td>\n",
       "    </tr>\n",
       "    <tr>\n",
       "      <th>284579</th>\n",
       "      <td>60</td>\n",
       "      <td>14</td>\n",
       "      <td>28079060_14_6</td>\n",
       "      <td>2021</td>\n",
       "      <td>12</td>\n",
       "      <td>D30</td>\n",
       "      <td>9.0</td>\n",
       "      <td>V</td>\n",
       "      <td>2021-12-30</td>\n",
       "    </tr>\n",
       "    <tr>\n",
       "      <th>294065</th>\n",
       "      <td>60</td>\n",
       "      <td>14</td>\n",
       "      <td>28079060_14_6</td>\n",
       "      <td>2021</td>\n",
       "      <td>12</td>\n",
       "      <td>D31</td>\n",
       "      <td>9.0</td>\n",
       "      <td>V</td>\n",
       "      <td>2021-12-31</td>\n",
       "    </tr>\n",
       "  </tbody>\n",
       "</table>\n",
       "<p>288735 rows × 9 columns</p>\n",
       "</div>"
      ],
      "text/plain": [
       "        ESTACION  MAGNITUD PUNTO_MUESTREO   ANO  MES  DIA  VALOR VV       date\n",
       "0              4         1  28079004_1_38  2010    1  D01   12.0  V 2010-01-01\n",
       "9486           4         1  28079004_1_38  2010    1  D02   15.0  V 2010-01-02\n",
       "18972          4         1  28079004_1_38  2010    1  D03   17.0  V 2010-01-03\n",
       "28458          4         1  28079004_1_38  2010    1  D04   16.0  V 2010-01-04\n",
       "37944          4         1  28079004_1_38  2010    1  D05   16.0  V 2010-01-05\n",
       "...          ...       ...            ...   ...  ...  ...    ... ..        ...\n",
       "256121        60        14  28079060_14_6  2021   12  D27   52.0  V 2021-12-27\n",
       "265607        60        14  28079060_14_6  2021   12  D28   42.0  V 2021-12-28\n",
       "275093        60        14  28079060_14_6  2021   12  D29   19.0  V 2021-12-29\n",
       "284579        60        14  28079060_14_6  2021   12  D30    9.0  V 2021-12-30\n",
       "294065        60        14  28079060_14_6  2021   12  D31    9.0  V 2021-12-31\n",
       "\n",
       "[288735 rows x 9 columns]"
      ]
     },
     "execution_count": 9,
     "metadata": {},
     "output_type": "execute_result"
    }
   ],
   "source": [
    "df1"
   ]
  },
  {
   "cell_type": "markdown",
   "id": "fafb62d1",
   "metadata": {},
   "source": [
    "En segundo lugar, vamos a poner a valor NaN los datos no verificados para posteriormente realizar una imputación de esos valores."
   ]
  },
  {
   "cell_type": "code",
   "execution_count": 10,
   "id": "86ef6d4a",
   "metadata": {
    "scrolled": true
   },
   "outputs": [],
   "source": [
    "df1.loc[df1['VV'] != 'V', 'VALOR'] = np.nan"
   ]
  },
  {
   "cell_type": "code",
   "execution_count": 11,
   "id": "ee45f54c",
   "metadata": {},
   "outputs": [
    {
     "data": {
      "text/plain": [
       "ESTACION             0\n",
       "MAGNITUD             0\n",
       "PUNTO_MUESTREO       0\n",
       "ANO                  0\n",
       "MES                  0\n",
       "DIA                  0\n",
       "VALOR             3920\n",
       "VV                   0\n",
       "date                 0\n",
       "dtype: int64"
      ]
     },
     "execution_count": 11,
     "metadata": {},
     "output_type": "execute_result"
    }
   ],
   "source": [
    "# Comprobamos los valores nulos\n",
    "df1.isnull().sum()"
   ]
  },
  {
   "cell_type": "code",
   "execution_count": 12,
   "id": "d1002fc4",
   "metadata": {
    "scrolled": true
   },
   "outputs": [
    {
     "data": {
      "text/plain": [
       "0"
      ]
     },
     "execution_count": 12,
     "metadata": {},
     "output_type": "execute_result"
    }
   ],
   "source": [
    "# Comprobamos filas duplicadas\n",
    "df1.duplicated().sum()"
   ]
  },
  {
   "cell_type": "markdown",
   "id": "bc4fac4d",
   "metadata": {},
   "source": [
    "## 1.2 Imputación de missing"
   ]
  },
  {
   "cell_type": "markdown",
   "id": "cc6c771d",
   "metadata": {},
   "source": [
    "Para la imputación de missing utilizamos la técnica de interpolación, lineal, en nuestro caso."
   ]
  },
  {
   "cell_type": "markdown",
   "id": "8f4cba7c",
   "metadata": {},
   "source": [
    "**Nota:** Explicar interpolación"
   ]
  },
  {
   "cell_type": "markdown",
   "id": "752f9cf5",
   "metadata": {},
   "source": [
    "**Interpolación**"
   ]
  },
  {
   "cell_type": "code",
   "execution_count": 13,
   "id": "8110dadb",
   "metadata": {
    "scrolled": false
   },
   "outputs": [],
   "source": [
    "df1['VALOR'].interpolate(inplace=True)\n",
    "df1 = df1.drop(['VV'],axis=1)"
   ]
  },
  {
   "cell_type": "markdown",
   "id": "c1f0690f",
   "metadata": {},
   "source": [
    "## 1.3 Estadísticos descriptivos"
   ]
  },
  {
   "cell_type": "markdown",
   "id": "a005bb5b",
   "metadata": {},
   "source": [
    "Creamos dataframe con las magnitudes y otro por zonas."
   ]
  },
  {
   "cell_type": "markdown",
   "id": "5ff1cdfb",
   "metadata": {},
   "source": [
    "**Por magnitudes**"
   ]
  },
  {
   "cell_type": "code",
   "execution_count": 14,
   "id": "efa845ef",
   "metadata": {
    "scrolled": true
   },
   "outputs": [
    {
     "data": {
      "text/html": [
       "<div>\n",
       "<style scoped>\n",
       "    .dataframe tbody tr th:only-of-type {\n",
       "        vertical-align: middle;\n",
       "    }\n",
       "\n",
       "    .dataframe tbody tr th {\n",
       "        vertical-align: top;\n",
       "    }\n",
       "\n",
       "    .dataframe thead th {\n",
       "        text-align: right;\n",
       "    }\n",
       "</style>\n",
       "<table border=\"1\" class=\"dataframe\">\n",
       "  <thead>\n",
       "    <tr style=\"text-align: right;\">\n",
       "      <th></th>\n",
       "      <th>ESTACION</th>\n",
       "      <th>ANO</th>\n",
       "      <th>MES</th>\n",
       "      <th>DIA</th>\n",
       "      <th>date</th>\n",
       "      <th>SO2</th>\n",
       "      <th>NO2</th>\n",
       "      <th>PM2.5</th>\n",
       "      <th>PM10</th>\n",
       "      <th>O3</th>\n",
       "    </tr>\n",
       "  </thead>\n",
       "  <tbody>\n",
       "    <tr>\n",
       "      <th>0</th>\n",
       "      <td>4</td>\n",
       "      <td>2010</td>\n",
       "      <td>1</td>\n",
       "      <td>D01</td>\n",
       "      <td>2010-01-01</td>\n",
       "      <td>12.0</td>\n",
       "      <td>12.0</td>\n",
       "      <td>NaN</td>\n",
       "      <td>NaN</td>\n",
       "      <td>NaN</td>\n",
       "    </tr>\n",
       "    <tr>\n",
       "      <th>1</th>\n",
       "      <td>4</td>\n",
       "      <td>2010</td>\n",
       "      <td>1</td>\n",
       "      <td>D02</td>\n",
       "      <td>2010-01-02</td>\n",
       "      <td>15.0</td>\n",
       "      <td>40.0</td>\n",
       "      <td>NaN</td>\n",
       "      <td>NaN</td>\n",
       "      <td>NaN</td>\n",
       "    </tr>\n",
       "    <tr>\n",
       "      <th>2</th>\n",
       "      <td>4</td>\n",
       "      <td>2010</td>\n",
       "      <td>1</td>\n",
       "      <td>D03</td>\n",
       "      <td>2010-01-03</td>\n",
       "      <td>17.0</td>\n",
       "      <td>51.0</td>\n",
       "      <td>NaN</td>\n",
       "      <td>NaN</td>\n",
       "      <td>NaN</td>\n",
       "    </tr>\n",
       "    <tr>\n",
       "      <th>3</th>\n",
       "      <td>4</td>\n",
       "      <td>2010</td>\n",
       "      <td>1</td>\n",
       "      <td>D04</td>\n",
       "      <td>2010-01-04</td>\n",
       "      <td>16.0</td>\n",
       "      <td>53.0</td>\n",
       "      <td>NaN</td>\n",
       "      <td>NaN</td>\n",
       "      <td>NaN</td>\n",
       "    </tr>\n",
       "    <tr>\n",
       "      <th>4</th>\n",
       "      <td>4</td>\n",
       "      <td>2010</td>\n",
       "      <td>1</td>\n",
       "      <td>D05</td>\n",
       "      <td>2010-01-05</td>\n",
       "      <td>16.0</td>\n",
       "      <td>46.0</td>\n",
       "      <td>NaN</td>\n",
       "      <td>NaN</td>\n",
       "      <td>NaN</td>\n",
       "    </tr>\n",
       "    <tr>\n",
       "      <th>...</th>\n",
       "      <td>...</td>\n",
       "      <td>...</td>\n",
       "      <td>...</td>\n",
       "      <td>...</td>\n",
       "      <td>...</td>\n",
       "      <td>...</td>\n",
       "      <td>...</td>\n",
       "      <td>...</td>\n",
       "      <td>...</td>\n",
       "      <td>...</td>\n",
       "    </tr>\n",
       "    <tr>\n",
       "      <th>104883</th>\n",
       "      <td>60</td>\n",
       "      <td>2021</td>\n",
       "      <td>12</td>\n",
       "      <td>D27</td>\n",
       "      <td>2021-12-27</td>\n",
       "      <td>NaN</td>\n",
       "      <td>13.0</td>\n",
       "      <td>NaN</td>\n",
       "      <td>6.0</td>\n",
       "      <td>52.0</td>\n",
       "    </tr>\n",
       "    <tr>\n",
       "      <th>104884</th>\n",
       "      <td>60</td>\n",
       "      <td>2021</td>\n",
       "      <td>12</td>\n",
       "      <td>D28</td>\n",
       "      <td>2021-12-28</td>\n",
       "      <td>NaN</td>\n",
       "      <td>19.0</td>\n",
       "      <td>NaN</td>\n",
       "      <td>5.0</td>\n",
       "      <td>42.0</td>\n",
       "    </tr>\n",
       "    <tr>\n",
       "      <th>104885</th>\n",
       "      <td>60</td>\n",
       "      <td>2021</td>\n",
       "      <td>12</td>\n",
       "      <td>D29</td>\n",
       "      <td>2021-12-29</td>\n",
       "      <td>NaN</td>\n",
       "      <td>36.0</td>\n",
       "      <td>NaN</td>\n",
       "      <td>9.0</td>\n",
       "      <td>19.0</td>\n",
       "    </tr>\n",
       "    <tr>\n",
       "      <th>104886</th>\n",
       "      <td>60</td>\n",
       "      <td>2021</td>\n",
       "      <td>12</td>\n",
       "      <td>D30</td>\n",
       "      <td>2021-12-30</td>\n",
       "      <td>NaN</td>\n",
       "      <td>44.0</td>\n",
       "      <td>NaN</td>\n",
       "      <td>8.0</td>\n",
       "      <td>9.0</td>\n",
       "    </tr>\n",
       "    <tr>\n",
       "      <th>104887</th>\n",
       "      <td>60</td>\n",
       "      <td>2021</td>\n",
       "      <td>12</td>\n",
       "      <td>D31</td>\n",
       "      <td>2021-12-31</td>\n",
       "      <td>NaN</td>\n",
       "      <td>47.0</td>\n",
       "      <td>NaN</td>\n",
       "      <td>10.0</td>\n",
       "      <td>9.0</td>\n",
       "    </tr>\n",
       "  </tbody>\n",
       "</table>\n",
       "<p>104888 rows × 10 columns</p>\n",
       "</div>"
      ],
      "text/plain": [
       "        ESTACION   ANO  MES  DIA       date   SO2   NO2  PM2.5  PM10    O3\n",
       "0              4  2010    1  D01 2010-01-01  12.0  12.0    NaN   NaN   NaN\n",
       "1              4  2010    1  D02 2010-01-02  15.0  40.0    NaN   NaN   NaN\n",
       "2              4  2010    1  D03 2010-01-03  17.0  51.0    NaN   NaN   NaN\n",
       "3              4  2010    1  D04 2010-01-04  16.0  53.0    NaN   NaN   NaN\n",
       "4              4  2010    1  D05 2010-01-05  16.0  46.0    NaN   NaN   NaN\n",
       "...          ...   ...  ...  ...        ...   ...   ...    ...   ...   ...\n",
       "104883        60  2021   12  D27 2021-12-27   NaN  13.0    NaN   6.0  52.0\n",
       "104884        60  2021   12  D28 2021-12-28   NaN  19.0    NaN   5.0  42.0\n",
       "104885        60  2021   12  D29 2021-12-29   NaN  36.0    NaN   9.0  19.0\n",
       "104886        60  2021   12  D30 2021-12-30   NaN  44.0    NaN   8.0   9.0\n",
       "104887        60  2021   12  D31 2021-12-31   NaN  47.0    NaN  10.0   9.0\n",
       "\n",
       "[104888 rows x 10 columns]"
      ]
     },
     "execution_count": 14,
     "metadata": {},
     "output_type": "execute_result"
    }
   ],
   "source": [
    "# Creamos el DataFrame con el que haremos las series temporales de los contaminantes\n",
    "df_magnitudes = df1.pivot_table(index=['ESTACION', 'ANO', 'MES', 'DIA', 'date'], columns='MAGNITUD', values='VALOR')\n",
    "df_magnitudes = df_magnitudes.reset_index()\n",
    "df_magnitudes.columns = ['ESTACION','ANO','MES','DIA','date','SO2', 'NO2', 'PM2.5', 'PM10','O3']\n",
    "df_magnitudes"
   ]
  },
  {
   "cell_type": "markdown",
   "id": "78f27132",
   "metadata": {},
   "source": [
    "**Nota:** Para poder ajustar una serie temporal, agrupamos por estación y damos a cada contaminante en cada día la media del valor que se haya recogido en las diferentes estaciones."
   ]
  },
  {
   "cell_type": "code",
   "execution_count": 15,
   "id": "71e00b5b",
   "metadata": {
    "scrolled": false
   },
   "outputs": [
    {
     "data": {
      "text/html": [
       "<div>\n",
       "<style scoped>\n",
       "    .dataframe tbody tr th:only-of-type {\n",
       "        vertical-align: middle;\n",
       "    }\n",
       "\n",
       "    .dataframe tbody tr th {\n",
       "        vertical-align: top;\n",
       "    }\n",
       "\n",
       "    .dataframe thead th {\n",
       "        text-align: right;\n",
       "    }\n",
       "</style>\n",
       "<table border=\"1\" class=\"dataframe\">\n",
       "  <thead>\n",
       "    <tr style=\"text-align: right;\">\n",
       "      <th></th>\n",
       "      <th>ESTACION</th>\n",
       "      <th>ANO</th>\n",
       "      <th>MES</th>\n",
       "      <th>SO2</th>\n",
       "      <th>NO2</th>\n",
       "      <th>PM2.5</th>\n",
       "      <th>PM10</th>\n",
       "      <th>O3</th>\n",
       "    </tr>\n",
       "    <tr>\n",
       "      <th>date</th>\n",
       "      <th></th>\n",
       "      <th></th>\n",
       "      <th></th>\n",
       "      <th></th>\n",
       "      <th></th>\n",
       "      <th></th>\n",
       "      <th></th>\n",
       "      <th></th>\n",
       "    </tr>\n",
       "  </thead>\n",
       "  <tbody>\n",
       "    <tr>\n",
       "      <th>2010-01-01</th>\n",
       "      <td>36.727273</td>\n",
       "      <td>2010.0</td>\n",
       "      <td>1.0</td>\n",
       "      <td>7.9</td>\n",
       "      <td>20.521212</td>\n",
       "      <td>7.00</td>\n",
       "      <td>17.248571</td>\n",
       "      <td>53.929825</td>\n",
       "    </tr>\n",
       "    <tr>\n",
       "      <th>2010-01-02</th>\n",
       "      <td>36.727273</td>\n",
       "      <td>2010.0</td>\n",
       "      <td>1.0</td>\n",
       "      <td>9.5</td>\n",
       "      <td>39.996970</td>\n",
       "      <td>10.00</td>\n",
       "      <td>21.097143</td>\n",
       "      <td>25.645363</td>\n",
       "    </tr>\n",
       "    <tr>\n",
       "      <th>2010-01-03</th>\n",
       "      <td>36.727273</td>\n",
       "      <td>2010.0</td>\n",
       "      <td>1.0</td>\n",
       "      <td>11.6</td>\n",
       "      <td>50.518182</td>\n",
       "      <td>12.25</td>\n",
       "      <td>22.045714</td>\n",
       "      <td>12.789474</td>\n",
       "    </tr>\n",
       "    <tr>\n",
       "      <th>2010-01-04</th>\n",
       "      <td>36.727273</td>\n",
       "      <td>2010.0</td>\n",
       "      <td>1.0</td>\n",
       "      <td>11.6</td>\n",
       "      <td>52.221212</td>\n",
       "      <td>9.00</td>\n",
       "      <td>16.394286</td>\n",
       "      <td>13.505013</td>\n",
       "    </tr>\n",
       "    <tr>\n",
       "      <th>2010-01-05</th>\n",
       "      <td>36.727273</td>\n",
       "      <td>2010.0</td>\n",
       "      <td>1.0</td>\n",
       "      <td>11.9</td>\n",
       "      <td>46.469697</td>\n",
       "      <td>8.00</td>\n",
       "      <td>18.142857</td>\n",
       "      <td>21.863409</td>\n",
       "    </tr>\n",
       "  </tbody>\n",
       "</table>\n",
       "</div>"
      ],
      "text/plain": [
       "             ESTACION     ANO  MES   SO2        NO2  PM2.5       PM10  \\\n",
       "date                                                                    \n",
       "2010-01-01  36.727273  2010.0  1.0   7.9  20.521212   7.00  17.248571   \n",
       "2010-01-02  36.727273  2010.0  1.0   9.5  39.996970  10.00  21.097143   \n",
       "2010-01-03  36.727273  2010.0  1.0  11.6  50.518182  12.25  22.045714   \n",
       "2010-01-04  36.727273  2010.0  1.0  11.6  52.221212   9.00  16.394286   \n",
       "2010-01-05  36.727273  2010.0  1.0  11.9  46.469697   8.00  18.142857   \n",
       "\n",
       "                   O3  \n",
       "date                   \n",
       "2010-01-01  53.929825  \n",
       "2010-01-02  25.645363  \n",
       "2010-01-03  12.789474  \n",
       "2010-01-04  13.505013  \n",
       "2010-01-05  21.863409  "
      ]
     },
     "execution_count": 15,
     "metadata": {},
     "output_type": "execute_result"
    }
   ],
   "source": [
    "ts_magnitudes = df_magnitudes.groupby('date').mean()\n",
    "ts_magnitudes.head(5)"
   ]
  },
  {
   "cell_type": "markdown",
   "id": "c30f0ef8",
   "metadata": {},
   "source": [
    "**Por zonas**"
   ]
  },
  {
   "cell_type": "code",
   "execution_count": 16,
   "id": "2bc15bd7",
   "metadata": {},
   "outputs": [
    {
     "data": {
      "text/html": [
       "<div>\n",
       "<style scoped>\n",
       "    .dataframe tbody tr th:only-of-type {\n",
       "        vertical-align: middle;\n",
       "    }\n",
       "\n",
       "    .dataframe tbody tr th {\n",
       "        vertical-align: top;\n",
       "    }\n",
       "\n",
       "    .dataframe thead th {\n",
       "        text-align: right;\n",
       "    }\n",
       "</style>\n",
       "<table border=\"1\" class=\"dataframe\">\n",
       "  <thead>\n",
       "    <tr style=\"text-align: right;\">\n",
       "      <th>ESTACION</th>\n",
       "      <th>MAGNITUD</th>\n",
       "      <th>ANO</th>\n",
       "      <th>MES</th>\n",
       "      <th>DIA</th>\n",
       "      <th>4</th>\n",
       "      <th>8</th>\n",
       "      <th>11</th>\n",
       "      <th>16</th>\n",
       "      <th>17</th>\n",
       "      <th>18</th>\n",
       "      <th>...</th>\n",
       "      <th>48</th>\n",
       "      <th>49</th>\n",
       "      <th>50</th>\n",
       "      <th>54</th>\n",
       "      <th>55</th>\n",
       "      <th>56</th>\n",
       "      <th>57</th>\n",
       "      <th>58</th>\n",
       "      <th>59</th>\n",
       "      <th>60</th>\n",
       "    </tr>\n",
       "  </thead>\n",
       "  <tbody>\n",
       "    <tr>\n",
       "      <th>0</th>\n",
       "      <td>1</td>\n",
       "      <td>2010</td>\n",
       "      <td>1</td>\n",
       "      <td>D01</td>\n",
       "      <td>12.0</td>\n",
       "      <td>9.0</td>\n",
       "      <td>NaN</td>\n",
       "      <td>NaN</td>\n",
       "      <td>7.0</td>\n",
       "      <td>5.0</td>\n",
       "      <td>...</td>\n",
       "      <td>NaN</td>\n",
       "      <td>NaN</td>\n",
       "      <td>NaN</td>\n",
       "      <td>NaN</td>\n",
       "      <td>NaN</td>\n",
       "      <td>NaN</td>\n",
       "      <td>6.0</td>\n",
       "      <td>NaN</td>\n",
       "      <td>NaN</td>\n",
       "      <td>NaN</td>\n",
       "    </tr>\n",
       "    <tr>\n",
       "      <th>1</th>\n",
       "      <td>1</td>\n",
       "      <td>2010</td>\n",
       "      <td>1</td>\n",
       "      <td>D02</td>\n",
       "      <td>15.0</td>\n",
       "      <td>10.0</td>\n",
       "      <td>NaN</td>\n",
       "      <td>NaN</td>\n",
       "      <td>7.0</td>\n",
       "      <td>6.0</td>\n",
       "      <td>...</td>\n",
       "      <td>NaN</td>\n",
       "      <td>NaN</td>\n",
       "      <td>NaN</td>\n",
       "      <td>NaN</td>\n",
       "      <td>NaN</td>\n",
       "      <td>NaN</td>\n",
       "      <td>8.0</td>\n",
       "      <td>NaN</td>\n",
       "      <td>NaN</td>\n",
       "      <td>NaN</td>\n",
       "    </tr>\n",
       "    <tr>\n",
       "      <th>2</th>\n",
       "      <td>1</td>\n",
       "      <td>2010</td>\n",
       "      <td>1</td>\n",
       "      <td>D03</td>\n",
       "      <td>17.0</td>\n",
       "      <td>11.0</td>\n",
       "      <td>NaN</td>\n",
       "      <td>NaN</td>\n",
       "      <td>8.0</td>\n",
       "      <td>10.0</td>\n",
       "      <td>...</td>\n",
       "      <td>NaN</td>\n",
       "      <td>NaN</td>\n",
       "      <td>NaN</td>\n",
       "      <td>NaN</td>\n",
       "      <td>NaN</td>\n",
       "      <td>NaN</td>\n",
       "      <td>8.0</td>\n",
       "      <td>NaN</td>\n",
       "      <td>NaN</td>\n",
       "      <td>NaN</td>\n",
       "    </tr>\n",
       "    <tr>\n",
       "      <th>3</th>\n",
       "      <td>1</td>\n",
       "      <td>2010</td>\n",
       "      <td>1</td>\n",
       "      <td>D04</td>\n",
       "      <td>16.0</td>\n",
       "      <td>12.0</td>\n",
       "      <td>NaN</td>\n",
       "      <td>NaN</td>\n",
       "      <td>8.0</td>\n",
       "      <td>10.0</td>\n",
       "      <td>...</td>\n",
       "      <td>NaN</td>\n",
       "      <td>NaN</td>\n",
       "      <td>NaN</td>\n",
       "      <td>NaN</td>\n",
       "      <td>NaN</td>\n",
       "      <td>NaN</td>\n",
       "      <td>7.0</td>\n",
       "      <td>NaN</td>\n",
       "      <td>NaN</td>\n",
       "      <td>NaN</td>\n",
       "    </tr>\n",
       "    <tr>\n",
       "      <th>4</th>\n",
       "      <td>1</td>\n",
       "      <td>2010</td>\n",
       "      <td>1</td>\n",
       "      <td>D05</td>\n",
       "      <td>16.0</td>\n",
       "      <td>12.0</td>\n",
       "      <td>NaN</td>\n",
       "      <td>NaN</td>\n",
       "      <td>8.0</td>\n",
       "      <td>10.0</td>\n",
       "      <td>...</td>\n",
       "      <td>NaN</td>\n",
       "      <td>NaN</td>\n",
       "      <td>NaN</td>\n",
       "      <td>NaN</td>\n",
       "      <td>NaN</td>\n",
       "      <td>NaN</td>\n",
       "      <td>7.0</td>\n",
       "      <td>NaN</td>\n",
       "      <td>NaN</td>\n",
       "      <td>NaN</td>\n",
       "    </tr>\n",
       "  </tbody>\n",
       "</table>\n",
       "<p>5 rows × 28 columns</p>\n",
       "</div>"
      ],
      "text/plain": [
       "ESTACION  MAGNITUD   ANO  MES  DIA     4     8  11  16   17    18  ...  48  \\\n",
       "0                1  2010    1  D01  12.0   9.0 NaN NaN  7.0   5.0  ... NaN   \n",
       "1                1  2010    1  D02  15.0  10.0 NaN NaN  7.0   6.0  ... NaN   \n",
       "2                1  2010    1  D03  17.0  11.0 NaN NaN  8.0  10.0  ... NaN   \n",
       "3                1  2010    1  D04  16.0  12.0 NaN NaN  8.0  10.0  ... NaN   \n",
       "4                1  2010    1  D05  16.0  12.0 NaN NaN  8.0  10.0  ... NaN   \n",
       "\n",
       "ESTACION  49  50  54  55  56   57  58  59  60  \n",
       "0        NaN NaN NaN NaN NaN  6.0 NaN NaN NaN  \n",
       "1        NaN NaN NaN NaN NaN  8.0 NaN NaN NaN  \n",
       "2        NaN NaN NaN NaN NaN  8.0 NaN NaN NaN  \n",
       "3        NaN NaN NaN NaN NaN  7.0 NaN NaN NaN  \n",
       "4        NaN NaN NaN NaN NaN  7.0 NaN NaN NaN  \n",
       "\n",
       "[5 rows x 28 columns]"
      ]
     },
     "execution_count": 16,
     "metadata": {},
     "output_type": "execute_result"
    }
   ],
   "source": [
    "# Creamos el DataFrame con el que haremos las series temporales por zonas\n",
    "df_zonas = df1.pivot_table(index=['MAGNITUD', 'ANO', 'MES', 'DIA'], columns='ESTACION', values='VALOR')\n",
    "df_zonas = df_zonas.reset_index()\n",
    "df_zonas.head(5)"
   ]
  },
  {
   "cell_type": "markdown",
   "id": "7a8f92e6",
   "metadata": {},
   "source": [
    "## 1.4 Outliers"
   ]
  },
  {
   "cell_type": "markdown",
   "id": "f70b22c6",
   "metadata": {},
   "source": [
    "Vamos a estudiar los outliers por magnitud."
   ]
  },
  {
   "cell_type": "code",
   "execution_count": 17,
   "id": "84fc4eda",
   "metadata": {},
   "outputs": [],
   "source": [
    "so2 = ts_magnitudes['SO2']\n",
    "no2 = ts_magnitudes['NO2']\n",
    "pm25 = ts_magnitudes['PM2.5']\n",
    "pm10 = ts_magnitudes['PM10']\n",
    "o3 = ts_magnitudes['O3']"
   ]
  },
  {
   "cell_type": "code",
   "execution_count": 18,
   "id": "4583e00c",
   "metadata": {},
   "outputs": [
    {
     "data": {
      "image/png": "[encoded data removed]",
      "text/plain": [
       "<Figure size 360x216 with 1 Axes>"
      ]
     },
     "metadata": {
      "needs_background": "light"
     },
     "output_type": "display_data"
    }
   ],
   "source": [
    "# Boxplot\n",
    "magnitudes = [so2, no2, pm25, pm10, o3]\n",
    "fig = plt.figure(figsize=(5,3))\n",
    "plt.boxplot(magnitudes)\n",
    "plt.xticks([1,2,3,4,5], ['SO2','NO2', 'PM2.5','PM10','O3'])\n",
    "plt.title('Outliers')\n",
    "plt.show()"
   ]
  },
  {
   "cell_type": "code",
   "execution_count": 19,
   "id": "54f57816",
   "metadata": {
    "scrolled": false
   },
   "outputs": [
    {
     "data": {
      "image/png": "[encoded data removed]",
      "text/plain": [
       "<Figure size 1440x360 with 4 Axes>"
      ]
     },
     "metadata": {
      "needs_background": "light"
     },
     "output_type": "display_data"
    }
   ],
   "source": [
    "plt.figure(plt.figure(figsize=(20,5)))\n",
    "plt.subplot(151);plt.plot(so2);plt.axhline(y=20, color='red');plt.title('SO2')\n",
    "plt.subplot(152);plt.plot(no2);plt.axhline(y=110, color='red');plt.title('NO2')\n",
    "plt.subplot(153);plt.plot(pm25);plt.axhline(y=40, color='red');plt.title('PM2.5')\n",
    "plt.subplot(154);plt.plot(pm10);plt.axhline(y=100, color='red');plt.title('PM10')\n",
    "plt.show()"
   ]
  },
  {
   "cell_type": "markdown",
   "id": "f8796b5c",
   "metadata": {},
   "source": [
    "Imputamos los valores outliers mediante interpolacion"
   ]
  },
  {
   "cell_type": "code",
   "execution_count": null,
   "id": "ac7f8bb7",
   "metadata": {},
   "outputs": [],
   "source": [
    "#ts_magnitudes.loc[no2[no2>110].index[0], 'NO2'] = np.nan\n",
    "#ts_magnitudes.loc[pm25[pm25>35].index[0], 'PM2.5'] = np.nan\n",
    "#ts_magnitudes.loc[pm10[pm10 > 10].index[0], 'PM10'] = np.nan"
   ]
  },
  {
   "cell_type": "code",
   "execution_count": null,
   "id": "036bfd11",
   "metadata": {},
   "outputs": [],
   "source": [
    "#ts_magnitudes['NO2'].interpolate(inplace=True)\n",
    "#ts_magnitudes['PM2.5'].interpolate(inplace=True)\n",
    "#ts_magnitudes['PM10'].interpolate(inplace=True)"
   ]
  },
  {
   "cell_type": "markdown",
   "id": "39d9e234",
   "metadata": {},
   "source": [
    "# 2. Índice de Calidad del Aire"
   ]
  },
  {
   "cell_type": "markdown",
   "id": "1c2fcbf4",
   "metadata": {},
   "source": [
    "Vamos a crear un índice de calidad del aire. Así, para cada magnitud determinamos el indice de la forma descrita al principio."
   ]
  },
  {
   "cell_type": "markdown",
   "id": "7c8ca552",
   "metadata": {},
   "source": [
    "| Contaminantes | id| Muy bueno | Bueno | Regular | Malo | Muy malo |\n",
    "| :- |:- |:-|:-|:-|:-| :-|\n",
    "|Partículas PM2,5| 9| 0-15|16-30|31-55|56-110|>110|\n",
    "|Partículas PM10| 10| 0-25|26-50|51-90|91-180|>180|\n",
    "|NO2| 8| 0-50|51-100|101-200|201-400|>400|\n",
    "|O3| 14|0-60|61-120|121-180|181-240|>240|\n",
    "|SO2| 1|0-50|51-100|101-350|351-500|>500|"
   ]
  },
  {
   "cell_type": "code",
   "execution_count": 20,
   "id": "05bc4081",
   "metadata": {
    "scrolled": true
   },
   "outputs": [],
   "source": [
    "# Indice para S02\n",
    "# Definimos los rangos\n",
    "bins = [0,50,100,350,500,float(\"inf\")]\n",
    "labels = [1,2,3,4,5]\n",
    "# Creamos una columna con el indice\n",
    "ts_magnitudes[\"I1\"] = pd.cut(ts_magnitudes[\"SO2\"], bins=bins, labels=labels)\n",
    "\n",
    "# Indice para N02\n",
    "bins = [0,50,100,200,400,float(\"inf\")]\n",
    "ts_magnitudes[\"I2\"] = pd.cut(ts_magnitudes[\"NO2\"], bins=bins, labels=labels)\n",
    "\n",
    "# Indice para PM2.5\n",
    "bins = [0,15,30,55,110,float(\"inf\")]\n",
    "ts_magnitudes[\"I3\"] = pd.cut(ts_magnitudes[\"PM2.5\"], bins=bins, labels=labels)\n",
    "\n",
    "# Indice para PM10\n",
    "bins = [0,25,50,90,180,float(\"inf\")]\n",
    "ts_magnitudes[\"I4\"] = pd.cut(ts_magnitudes[\"PM10\"], bins=bins, labels=labels)\n",
    "\n",
    "# Indice para O3\n",
    "bins = [0,60,120,180,240,float(\"inf\")]\n",
    "ts_magnitudes[\"I5\"] = pd.cut(ts_magnitudes[\"O3\"], bins=bins, labels=labels)"
   ]
  },
  {
   "cell_type": "markdown",
   "id": "b8ba1dc9",
   "metadata": {},
   "source": [
    "Así, obtenemos el siguiente DataFrame con las columnas de los índices de cada contaminante"
   ]
  },
  {
   "cell_type": "code",
   "execution_count": 21,
   "id": "aca17d6d",
   "metadata": {},
   "outputs": [
    {
     "data": {
      "text/html": [
       "<div>\n",
       "<style scoped>\n",
       "    .dataframe tbody tr th:only-of-type {\n",
       "        vertical-align: middle;\n",
       "    }\n",
       "\n",
       "    .dataframe tbody tr th {\n",
       "        vertical-align: top;\n",
       "    }\n",
       "\n",
       "    .dataframe thead th {\n",
       "        text-align: right;\n",
       "    }\n",
       "</style>\n",
       "<table border=\"1\" class=\"dataframe\">\n",
       "  <thead>\n",
       "    <tr style=\"text-align: right;\">\n",
       "      <th></th>\n",
       "      <th>ESTACION</th>\n",
       "      <th>ANO</th>\n",
       "      <th>MES</th>\n",
       "      <th>SO2</th>\n",
       "      <th>NO2</th>\n",
       "      <th>PM2.5</th>\n",
       "      <th>PM10</th>\n",
       "      <th>O3</th>\n",
       "      <th>I1</th>\n",
       "      <th>I2</th>\n",
       "      <th>I3</th>\n",
       "      <th>I4</th>\n",
       "      <th>I5</th>\n",
       "    </tr>\n",
       "    <tr>\n",
       "      <th>date</th>\n",
       "      <th></th>\n",
       "      <th></th>\n",
       "      <th></th>\n",
       "      <th></th>\n",
       "      <th></th>\n",
       "      <th></th>\n",
       "      <th></th>\n",
       "      <th></th>\n",
       "      <th></th>\n",
       "      <th></th>\n",
       "      <th></th>\n",
       "      <th></th>\n",
       "      <th></th>\n",
       "    </tr>\n",
       "  </thead>\n",
       "  <tbody>\n",
       "    <tr>\n",
       "      <th>2010-01-01</th>\n",
       "      <td>36.727273</td>\n",
       "      <td>2010.0</td>\n",
       "      <td>1.0</td>\n",
       "      <td>7.9</td>\n",
       "      <td>20.521212</td>\n",
       "      <td>7.00</td>\n",
       "      <td>17.248571</td>\n",
       "      <td>53.929825</td>\n",
       "      <td>1</td>\n",
       "      <td>1</td>\n",
       "      <td>1</td>\n",
       "      <td>1</td>\n",
       "      <td>1</td>\n",
       "    </tr>\n",
       "    <tr>\n",
       "      <th>2010-01-02</th>\n",
       "      <td>36.727273</td>\n",
       "      <td>2010.0</td>\n",
       "      <td>1.0</td>\n",
       "      <td>9.5</td>\n",
       "      <td>39.996970</td>\n",
       "      <td>10.00</td>\n",
       "      <td>21.097143</td>\n",
       "      <td>25.645363</td>\n",
       "      <td>1</td>\n",
       "      <td>1</td>\n",
       "      <td>1</td>\n",
       "      <td>1</td>\n",
       "      <td>1</td>\n",
       "    </tr>\n",
       "    <tr>\n",
       "      <th>2010-01-03</th>\n",
       "      <td>36.727273</td>\n",
       "      <td>2010.0</td>\n",
       "      <td>1.0</td>\n",
       "      <td>11.6</td>\n",
       "      <td>50.518182</td>\n",
       "      <td>12.25</td>\n",
       "      <td>22.045714</td>\n",
       "      <td>12.789474</td>\n",
       "      <td>1</td>\n",
       "      <td>2</td>\n",
       "      <td>1</td>\n",
       "      <td>1</td>\n",
       "      <td>1</td>\n",
       "    </tr>\n",
       "    <tr>\n",
       "      <th>2010-01-04</th>\n",
       "      <td>36.727273</td>\n",
       "      <td>2010.0</td>\n",
       "      <td>1.0</td>\n",
       "      <td>11.6</td>\n",
       "      <td>52.221212</td>\n",
       "      <td>9.00</td>\n",
       "      <td>16.394286</td>\n",
       "      <td>13.505013</td>\n",
       "      <td>1</td>\n",
       "      <td>2</td>\n",
       "      <td>1</td>\n",
       "      <td>1</td>\n",
       "      <td>1</td>\n",
       "    </tr>\n",
       "    <tr>\n",
       "      <th>2010-01-05</th>\n",
       "      <td>36.727273</td>\n",
       "      <td>2010.0</td>\n",
       "      <td>1.0</td>\n",
       "      <td>11.9</td>\n",
       "      <td>46.469697</td>\n",
       "      <td>8.00</td>\n",
       "      <td>18.142857</td>\n",
       "      <td>21.863409</td>\n",
       "      <td>1</td>\n",
       "      <td>1</td>\n",
       "      <td>1</td>\n",
       "      <td>1</td>\n",
       "      <td>1</td>\n",
       "    </tr>\n",
       "    <tr>\n",
       "      <th>2010-01-06</th>\n",
       "      <td>36.727273</td>\n",
       "      <td>2010.0</td>\n",
       "      <td>1.0</td>\n",
       "      <td>9.7</td>\n",
       "      <td>33.081818</td>\n",
       "      <td>7.25</td>\n",
       "      <td>17.091429</td>\n",
       "      <td>34.507519</td>\n",
       "      <td>1</td>\n",
       "      <td>1</td>\n",
       "      <td>1</td>\n",
       "      <td>1</td>\n",
       "      <td>1</td>\n",
       "    </tr>\n",
       "    <tr>\n",
       "      <th>2010-01-07</th>\n",
       "      <td>36.727273</td>\n",
       "      <td>2010.0</td>\n",
       "      <td>1.0</td>\n",
       "      <td>9.2</td>\n",
       "      <td>33.784848</td>\n",
       "      <td>6.50</td>\n",
       "      <td>13.640000</td>\n",
       "      <td>34.508772</td>\n",
       "      <td>1</td>\n",
       "      <td>1</td>\n",
       "      <td>1</td>\n",
       "      <td>1</td>\n",
       "      <td>1</td>\n",
       "    </tr>\n",
       "    <tr>\n",
       "      <th>2010-01-08</th>\n",
       "      <td>36.727273</td>\n",
       "      <td>2010.0</td>\n",
       "      <td>1.0</td>\n",
       "      <td>9.5</td>\n",
       "      <td>29.760606</td>\n",
       "      <td>7.25</td>\n",
       "      <td>18.488571</td>\n",
       "      <td>52.081454</td>\n",
       "      <td>1</td>\n",
       "      <td>1</td>\n",
       "      <td>1</td>\n",
       "      <td>1</td>\n",
       "      <td>1</td>\n",
       "    </tr>\n",
       "    <tr>\n",
       "      <th>2010-01-09</th>\n",
       "      <td>36.727273</td>\n",
       "      <td>2010.0</td>\n",
       "      <td>1.0</td>\n",
       "      <td>9.2</td>\n",
       "      <td>32.463636</td>\n",
       "      <td>7.25</td>\n",
       "      <td>15.737143</td>\n",
       "      <td>44.011278</td>\n",
       "      <td>1</td>\n",
       "      <td>1</td>\n",
       "      <td>1</td>\n",
       "      <td>1</td>\n",
       "      <td>1</td>\n",
       "    </tr>\n",
       "    <tr>\n",
       "      <th>2010-01-10</th>\n",
       "      <td>36.727273</td>\n",
       "      <td>2010.0</td>\n",
       "      <td>1.0</td>\n",
       "      <td>11.3</td>\n",
       "      <td>45.712121</td>\n",
       "      <td>9.50</td>\n",
       "      <td>19.685714</td>\n",
       "      <td>26.155388</td>\n",
       "      <td>1</td>\n",
       "      <td>1</td>\n",
       "      <td>1</td>\n",
       "      <td>1</td>\n",
       "      <td>1</td>\n",
       "    </tr>\n",
       "  </tbody>\n",
       "</table>\n",
       "</div>"
      ],
      "text/plain": [
       "             ESTACION     ANO  MES   SO2        NO2  PM2.5       PM10  \\\n",
       "date                                                                    \n",
       "2010-01-01  36.727273  2010.0  1.0   7.9  20.521212   7.00  17.248571   \n",
       "2010-01-02  36.727273  2010.0  1.0   9.5  39.996970  10.00  21.097143   \n",
       "2010-01-03  36.727273  2010.0  1.0  11.6  50.518182  12.25  22.045714   \n",
       "2010-01-04  36.727273  2010.0  1.0  11.6  52.221212   9.00  16.394286   \n",
       "2010-01-05  36.727273  2010.0  1.0  11.9  46.469697   8.00  18.142857   \n",
       "2010-01-06  36.727273  2010.0  1.0   9.7  33.081818   7.25  17.091429   \n",
       "2010-01-07  36.727273  2010.0  1.0   9.2  33.784848   6.50  13.640000   \n",
       "2010-01-08  36.727273  2010.0  1.0   9.5  29.760606   7.25  18.488571   \n",
       "2010-01-09  36.727273  2010.0  1.0   9.2  32.463636   7.25  15.737143   \n",
       "2010-01-10  36.727273  2010.0  1.0  11.3  45.712121   9.50  19.685714   \n",
       "\n",
       "                   O3 I1 I2 I3 I4 I5  \n",
       "date                                  \n",
       "2010-01-01  53.929825  1  1  1  1  1  \n",
       "2010-01-02  25.645363  1  1  1  1  1  \n",
       "2010-01-03  12.789474  1  2  1  1  1  \n",
       "2010-01-04  13.505013  1  2  1  1  1  \n",
       "2010-01-05  21.863409  1  1  1  1  1  \n",
       "2010-01-06  34.507519  1  1  1  1  1  \n",
       "2010-01-07  34.508772  1  1  1  1  1  \n",
       "2010-01-08  52.081454  1  1  1  1  1  \n",
       "2010-01-09  44.011278  1  1  1  1  1  \n",
       "2010-01-10  26.155388  1  1  1  1  1  "
      ]
     },
     "execution_count": 21,
     "metadata": {},
     "output_type": "execute_result"
    }
   ],
   "source": [
    "ts_magnitudes.head(10)"
   ]
  },
  {
   "cell_type": "markdown",
   "id": "010c6325",
   "metadata": {},
   "source": [
    "Para crear un índice general, realizamos un PCA en las variables que indican índice."
   ]
  },
  {
   "cell_type": "markdown",
   "id": "145c8d3c",
   "metadata": {},
   "source": [
    "**Nota:** Explicar teoría breve de PCA y Kernel PCA"
   ]
  },
  {
   "cell_type": "markdown",
   "id": "a8a233cc",
   "metadata": {},
   "source": [
    "**PCA**"
   ]
  },
  {
   "cell_type": "code",
   "execution_count": 22,
   "id": "565fb7a3",
   "metadata": {},
   "outputs": [],
   "source": [
    "# Librerias\n",
    "from sklearn.decomposition import PCA\n",
    "from sklearn.model_selection import GridSearchCV"
   ]
  },
  {
   "cell_type": "code",
   "execution_count": 23,
   "id": "f9d71d28",
   "metadata": {
    "scrolled": true
   },
   "outputs": [
    {
     "name": "stdout",
     "output_type": "stream",
     "text": [
      "Mejor número de componentes:  3\n",
      "Varianza explicada por cada componente:  [0.47668767 0.31678396 0.131101  ]\n"
     ]
    }
   ],
   "source": [
    "# Indices a los que vamos a aplicar el PCA\n",
    "indices = ['I1','I2','I3','I4','I5']\n",
    "# Creamos el objeto\n",
    "pca = PCA()\n",
    "\n",
    "# Hiperpametro para el numero de componentes \n",
    "parametros = {'n_components': list(range(1, 6))}\n",
    "\n",
    "# Definimos la búsqueda + CV\n",
    "cv = GridSearchCV(pca, parametros, cv=5, n_jobs=-1)\n",
    "cv.fit(ts_magnitudes[indices])\n",
    "\n",
    "# Resultados\n",
    "print(\"Mejor número de componentes: \", cv.best_params_['n_components'])\n",
    "print(\"Varianza explicada por cada componente: \", cv.best_estimator_.explained_variance_ratio_)"
   ]
  },
  {
   "cell_type": "markdown",
   "id": "13d83993",
   "metadata": {},
   "source": [
    "Como la varianza explicada total con las 2 primeras componentes es e casi un $80\\%$, decidimos quedarnos con 2 componentes.\n",
    "\n",
    "Graficamos el PCA con 2 componentes"
   ]
  },
  {
   "cell_type": "code",
   "execution_count": 24,
   "id": "a6e40e4f",
   "metadata": {
    "scrolled": false
   },
   "outputs": [],
   "source": [
    "# PCA con 2 componentes\n",
    "pca = PCA(n_components=2)\n",
    "X_pca = pca.fit_transform(ts_magnitudes[indices])\n",
    "\n",
    "# Grafico de la trasnformacion del pca a 2 variables\n"
   ]
  },
  {
   "cell_type": "markdown",
   "id": "a62d279a",
   "metadata": {},
   "source": [
    "Creamos el indice de calidad del aire (ica). Para ello, utilizamos la matriz de cargas (*loadings matrix*) que nos da los pesos de los coeficientes de las variables originales en la combinación lineal dada por las componentes principales. Estos pesos representan la contribuciñon de cada variable a la formación de la componente principal."
   ]
  },
  {
   "cell_type": "code",
   "execution_count": 25,
   "id": "e7ad4965",
   "metadata": {
    "scrolled": true
   },
   "outputs": [
    {
     "data": {
      "text/html": [
       "<div>\n",
       "<style scoped>\n",
       "    .dataframe tbody tr th:only-of-type {\n",
       "        vertical-align: middle;\n",
       "    }\n",
       "\n",
       "    .dataframe tbody tr th {\n",
       "        vertical-align: top;\n",
       "    }\n",
       "\n",
       "    .dataframe thead th {\n",
       "        text-align: right;\n",
       "    }\n",
       "</style>\n",
       "<table border=\"1\" class=\"dataframe\">\n",
       "  <thead>\n",
       "    <tr style=\"text-align: right;\">\n",
       "      <th></th>\n",
       "      <th>ESTACION</th>\n",
       "      <th>ANO</th>\n",
       "      <th>MES</th>\n",
       "      <th>SO2</th>\n",
       "      <th>NO2</th>\n",
       "      <th>PM2.5</th>\n",
       "      <th>PM10</th>\n",
       "      <th>O3</th>\n",
       "      <th>I1</th>\n",
       "      <th>I2</th>\n",
       "      <th>I3</th>\n",
       "      <th>I4</th>\n",
       "      <th>I5</th>\n",
       "      <th>ICA</th>\n",
       "    </tr>\n",
       "    <tr>\n",
       "      <th>date</th>\n",
       "      <th></th>\n",
       "      <th></th>\n",
       "      <th></th>\n",
       "      <th></th>\n",
       "      <th></th>\n",
       "      <th></th>\n",
       "      <th></th>\n",
       "      <th></th>\n",
       "      <th></th>\n",
       "      <th></th>\n",
       "      <th></th>\n",
       "      <th></th>\n",
       "      <th></th>\n",
       "      <th></th>\n",
       "    </tr>\n",
       "  </thead>\n",
       "  <tbody>\n",
       "    <tr>\n",
       "      <th>2010-01-01</th>\n",
       "      <td>36.727273</td>\n",
       "      <td>2010.0</td>\n",
       "      <td>1.0</td>\n",
       "      <td>7.90</td>\n",
       "      <td>20.521212</td>\n",
       "      <td>7.000</td>\n",
       "      <td>17.248571</td>\n",
       "      <td>53.929825</td>\n",
       "      <td>1</td>\n",
       "      <td>1</td>\n",
       "      <td>1</td>\n",
       "      <td>1</td>\n",
       "      <td>1</td>\n",
       "      <td>1.253594</td>\n",
       "    </tr>\n",
       "    <tr>\n",
       "      <th>2010-01-02</th>\n",
       "      <td>36.727273</td>\n",
       "      <td>2010.0</td>\n",
       "      <td>1.0</td>\n",
       "      <td>9.50</td>\n",
       "      <td>39.996970</td>\n",
       "      <td>10.000</td>\n",
       "      <td>21.097143</td>\n",
       "      <td>25.645363</td>\n",
       "      <td>1</td>\n",
       "      <td>1</td>\n",
       "      <td>1</td>\n",
       "      <td>1</td>\n",
       "      <td>1</td>\n",
       "      <td>1.253594</td>\n",
       "    </tr>\n",
       "    <tr>\n",
       "      <th>2010-01-03</th>\n",
       "      <td>36.727273</td>\n",
       "      <td>2010.0</td>\n",
       "      <td>1.0</td>\n",
       "      <td>11.60</td>\n",
       "      <td>50.518182</td>\n",
       "      <td>12.250</td>\n",
       "      <td>22.045714</td>\n",
       "      <td>12.789474</td>\n",
       "      <td>1</td>\n",
       "      <td>2</td>\n",
       "      <td>1</td>\n",
       "      <td>1</td>\n",
       "      <td>1</td>\n",
       "      <td>1.338135</td>\n",
       "    </tr>\n",
       "    <tr>\n",
       "      <th>2010-01-04</th>\n",
       "      <td>36.727273</td>\n",
       "      <td>2010.0</td>\n",
       "      <td>1.0</td>\n",
       "      <td>11.60</td>\n",
       "      <td>52.221212</td>\n",
       "      <td>9.000</td>\n",
       "      <td>16.394286</td>\n",
       "      <td>13.505013</td>\n",
       "      <td>1</td>\n",
       "      <td>2</td>\n",
       "      <td>1</td>\n",
       "      <td>1</td>\n",
       "      <td>1</td>\n",
       "      <td>1.338135</td>\n",
       "    </tr>\n",
       "    <tr>\n",
       "      <th>2010-01-05</th>\n",
       "      <td>36.727273</td>\n",
       "      <td>2010.0</td>\n",
       "      <td>1.0</td>\n",
       "      <td>11.90</td>\n",
       "      <td>46.469697</td>\n",
       "      <td>8.000</td>\n",
       "      <td>18.142857</td>\n",
       "      <td>21.863409</td>\n",
       "      <td>1</td>\n",
       "      <td>1</td>\n",
       "      <td>1</td>\n",
       "      <td>1</td>\n",
       "      <td>1</td>\n",
       "      <td>1.253594</td>\n",
       "    </tr>\n",
       "    <tr>\n",
       "      <th>...</th>\n",
       "      <td>...</td>\n",
       "      <td>...</td>\n",
       "      <td>...</td>\n",
       "      <td>...</td>\n",
       "      <td>...</td>\n",
       "      <td>...</td>\n",
       "      <td>...</td>\n",
       "      <td>...</td>\n",
       "      <td>...</td>\n",
       "      <td>...</td>\n",
       "      <td>...</td>\n",
       "      <td>...</td>\n",
       "      <td>...</td>\n",
       "      <td>...</td>\n",
       "    </tr>\n",
       "    <tr>\n",
       "      <th>2021-12-27</th>\n",
       "      <td>39.217391</td>\n",
       "      <td>2021.0</td>\n",
       "      <td>12.0</td>\n",
       "      <td>3.25</td>\n",
       "      <td>14.130435</td>\n",
       "      <td>3.750</td>\n",
       "      <td>7.846154</td>\n",
       "      <td>53.000000</td>\n",
       "      <td>1</td>\n",
       "      <td>1</td>\n",
       "      <td>1</td>\n",
       "      <td>1</td>\n",
       "      <td>1</td>\n",
       "      <td>1.253594</td>\n",
       "    </tr>\n",
       "    <tr>\n",
       "      <th>2021-12-28</th>\n",
       "      <td>39.217391</td>\n",
       "      <td>2021.0</td>\n",
       "      <td>12.0</td>\n",
       "      <td>3.50</td>\n",
       "      <td>21.608696</td>\n",
       "      <td>4.750</td>\n",
       "      <td>10.538462</td>\n",
       "      <td>45.230769</td>\n",
       "      <td>1</td>\n",
       "      <td>1</td>\n",
       "      <td>1</td>\n",
       "      <td>1</td>\n",
       "      <td>1</td>\n",
       "      <td>1.253594</td>\n",
       "    </tr>\n",
       "    <tr>\n",
       "      <th>2021-12-29</th>\n",
       "      <td>39.217391</td>\n",
       "      <td>2021.0</td>\n",
       "      <td>12.0</td>\n",
       "      <td>4.00</td>\n",
       "      <td>40.913043</td>\n",
       "      <td>11.500</td>\n",
       "      <td>19.307692</td>\n",
       "      <td>18.538462</td>\n",
       "      <td>1</td>\n",
       "      <td>1</td>\n",
       "      <td>1</td>\n",
       "      <td>1</td>\n",
       "      <td>1</td>\n",
       "      <td>1.253594</td>\n",
       "    </tr>\n",
       "    <tr>\n",
       "      <th>2021-12-30</th>\n",
       "      <td>39.217391</td>\n",
       "      <td>2021.0</td>\n",
       "      <td>12.0</td>\n",
       "      <td>3.75</td>\n",
       "      <td>48.086957</td>\n",
       "      <td>12.375</td>\n",
       "      <td>19.076923</td>\n",
       "      <td>10.692308</td>\n",
       "      <td>1</td>\n",
       "      <td>1</td>\n",
       "      <td>1</td>\n",
       "      <td>1</td>\n",
       "      <td>1</td>\n",
       "      <td>1.253594</td>\n",
       "    </tr>\n",
       "    <tr>\n",
       "      <th>2021-12-31</th>\n",
       "      <td>39.217391</td>\n",
       "      <td>2021.0</td>\n",
       "      <td>12.0</td>\n",
       "      <td>4.00</td>\n",
       "      <td>45.086957</td>\n",
       "      <td>12.625</td>\n",
       "      <td>17.846154</td>\n",
       "      <td>12.153846</td>\n",
       "      <td>1</td>\n",
       "      <td>1</td>\n",
       "      <td>1</td>\n",
       "      <td>1</td>\n",
       "      <td>1</td>\n",
       "      <td>1.253594</td>\n",
       "    </tr>\n",
       "  </tbody>\n",
       "</table>\n",
       "<p>4383 rows × 14 columns</p>\n",
       "</div>"
      ],
      "text/plain": [
       "             ESTACION     ANO   MES    SO2        NO2   PM2.5       PM10  \\\n",
       "date                                                                       \n",
       "2010-01-01  36.727273  2010.0   1.0   7.90  20.521212   7.000  17.248571   \n",
       "2010-01-02  36.727273  2010.0   1.0   9.50  39.996970  10.000  21.097143   \n",
       "2010-01-03  36.727273  2010.0   1.0  11.60  50.518182  12.250  22.045714   \n",
       "2010-01-04  36.727273  2010.0   1.0  11.60  52.221212   9.000  16.394286   \n",
       "2010-01-05  36.727273  2010.0   1.0  11.90  46.469697   8.000  18.142857   \n",
       "...               ...     ...   ...    ...        ...     ...        ...   \n",
       "2021-12-27  39.217391  2021.0  12.0   3.25  14.130435   3.750   7.846154   \n",
       "2021-12-28  39.217391  2021.0  12.0   3.50  21.608696   4.750  10.538462   \n",
       "2021-12-29  39.217391  2021.0  12.0   4.00  40.913043  11.500  19.307692   \n",
       "2021-12-30  39.217391  2021.0  12.0   3.75  48.086957  12.375  19.076923   \n",
       "2021-12-31  39.217391  2021.0  12.0   4.00  45.086957  12.625  17.846154   \n",
       "\n",
       "                   O3 I1 I2 I3 I4 I5       ICA  \n",
       "date                                            \n",
       "2010-01-01  53.929825  1  1  1  1  1  1.253594  \n",
       "2010-01-02  25.645363  1  1  1  1  1  1.253594  \n",
       "2010-01-03  12.789474  1  2  1  1  1  1.338135  \n",
       "2010-01-04  13.505013  1  2  1  1  1  1.338135  \n",
       "2010-01-05  21.863409  1  1  1  1  1  1.253594  \n",
       "...               ... .. .. .. .. ..       ...  \n",
       "2021-12-27  53.000000  1  1  1  1  1  1.253594  \n",
       "2021-12-28  45.230769  1  1  1  1  1  1.253594  \n",
       "2021-12-29  18.538462  1  1  1  1  1  1.253594  \n",
       "2021-12-30  10.692308  1  1  1  1  1  1.253594  \n",
       "2021-12-31  12.153846  1  1  1  1  1  1.253594  \n",
       "\n",
       "[4383 rows x 14 columns]"
      ]
     },
     "execution_count": 25,
     "metadata": {},
     "output_type": "execute_result"
    }
   ],
   "source": [
    "# Martiz de carga\n",
    "cargas = pca.components_\n",
    "\n",
    "# Creamos el indice calidad del aire\n",
    "ICA = np.dot(ts_magnitudes[indices],cargas.T)\n",
    "ICA = ICA.mean(axis=1)\n",
    "\n",
    "ts_magnitudes['ICA'] = ICA\n",
    "ts_magnitudes"
   ]
  },
  {
   "cell_type": "markdown",
   "id": "63289f5f",
   "metadata": {},
   "source": [
    "**Kernel PCA**"
   ]
  },
  {
   "cell_type": "code",
   "execution_count": 26,
   "id": "ac3e89f0",
   "metadata": {},
   "outputs": [],
   "source": [
    "# Librerias\n",
    "from sklearn.decomposition import KernelPCA\n",
    "from sklearn.pipeline import Pipeline"
   ]
  },
  {
   "cell_type": "code",
   "execution_count": null,
   "id": "e0d6dcc1",
   "metadata": {},
   "outputs": [],
   "source": [
    "# Columnas a las que aplicamos Kernel PCA\n",
    "#indices = df_comp_mag[['I1','I2','I3','I4','I5']]\n",
    "\n",
    "# Creamos el objeto\n",
    "#kpca = KernelPCA()\n",
    "\n",
    "#rango_gamma = np.linspace(0, 1, 10)\n",
    "#ks = list(range(1,6))\n",
    "\n",
    "# Hiperparametros para GridSearchCV\n",
    "#h_parametros = {'kpca_gamma': rango_gamma,\n",
    "#    'num_comp': ks}\n",
    "\n",
    "# Definimos la búsqueda + CV, con la métrica a optimizar\n",
    "#cv = GridSearchCV(kpca, h_parametros, cv=5, n_jobs=-1, scoring = 'r2')\n",
    "#cv.fit(indices)\n",
    "\n",
    "#cv.best_estimator_"
   ]
  },
  {
   "cell_type": "markdown",
   "id": "a2963cc1",
   "metadata": {},
   "source": [
    "# 3. Predicción de la serie temporal"
   ]
  },
  {
   "cell_type": "markdown",
   "id": "d71a82d8",
   "metadata": {},
   "source": [
    "## 3.1 Series temporales univariantes por contaminante. Modelos ARIMA"
   ]
  },
  {
   "cell_type": "markdown",
   "id": "2eb1e798",
   "metadata": {},
   "source": [
    "Primero vamos a realizar una predicción de cada contaminante como series temporales univariantes. \n",
    "\n",
    "De estos, utilizaremos una muestra para entrenar los modelos y el resto para comparar las predicciones con los datos."
   ]
  },
  {
   "cell_type": "code",
   "execution_count": 27,
   "id": "fae9476f",
   "metadata": {},
   "outputs": [],
   "source": [
    "# Librerias\n",
    "import statsmodels\n",
    "from statsmodels.tsa.seasonal import seasonal_decompose\n",
    "from statsmodels.tsa.stattools import adfuller\n",
    "from statsmodels.graphics.tsaplots import plot_acf, plot_pacf\n",
    "from statsmodels.tsa.arima.model import ARIMA\n",
    "import statsmodels.api as sm"
   ]
  },
  {
   "cell_type": "markdown",
   "id": "0f90f7b4",
   "metadata": {},
   "source": [
    "### 3.1.1 Contaminante: $SO_2$"
   ]
  },
  {
   "cell_type": "markdown",
   "id": "2a1c9ac5",
   "metadata": {},
   "source": [
    "Vamos a estudiar la serie temporal para el contaminante $SO_2$."
   ]
  },
  {
   "cell_type": "code",
   "execution_count": 28,
   "id": "ab40db54",
   "metadata": {
    "scrolled": true
   },
   "outputs": [
    {
     "data": {
      "text/html": [
       "<div>\n",
       "<style scoped>\n",
       "    .dataframe tbody tr th:only-of-type {\n",
       "        vertical-align: middle;\n",
       "    }\n",
       "\n",
       "    .dataframe tbody tr th {\n",
       "        vertical-align: top;\n",
       "    }\n",
       "\n",
       "    .dataframe thead th {\n",
       "        text-align: right;\n",
       "    }\n",
       "</style>\n",
       "<table border=\"1\" class=\"dataframe\">\n",
       "  <thead>\n",
       "    <tr style=\"text-align: right;\">\n",
       "      <th></th>\n",
       "      <th>SO2</th>\n",
       "    </tr>\n",
       "    <tr>\n",
       "      <th>fecha</th>\n",
       "      <th></th>\n",
       "    </tr>\n",
       "  </thead>\n",
       "  <tbody>\n",
       "    <tr>\n",
       "      <th>2010-01-01</th>\n",
       "      <td>7.9</td>\n",
       "    </tr>\n",
       "    <tr>\n",
       "      <th>2010-01-02</th>\n",
       "      <td>9.5</td>\n",
       "    </tr>\n",
       "    <tr>\n",
       "      <th>2010-01-03</th>\n",
       "      <td>11.6</td>\n",
       "    </tr>\n",
       "    <tr>\n",
       "      <th>2010-01-04</th>\n",
       "      <td>11.6</td>\n",
       "    </tr>\n",
       "    <tr>\n",
       "      <th>2010-01-05</th>\n",
       "      <td>11.9</td>\n",
       "    </tr>\n",
       "  </tbody>\n",
       "</table>\n",
       "</div>"
      ],
      "text/plain": [
       "             SO2\n",
       "fecha           \n",
       "2010-01-01   7.9\n",
       "2010-01-02   9.5\n",
       "2010-01-03  11.6\n",
       "2010-01-04  11.6\n",
       "2010-01-05  11.9"
      ]
     },
     "execution_count": 28,
     "metadata": {},
     "output_type": "execute_result"
    }
   ],
   "source": [
    "so2 = ts_magnitudes[['SO2']]\n",
    "fecha = pd.date_range(start='2010-01-01', end='2021-12-31', freq='D')\n",
    "so2['fecha'] = fecha\n",
    "so2 = so2.set_index('fecha')\n",
    "so2.head()"
   ]
  },
  {
   "cell_type": "code",
   "execution_count": 29,
   "id": "1e0a2f07",
   "metadata": {
    "scrolled": true
   },
   "outputs": [
    {
     "data": {
      "image/png": "[encoded data removed]",
      "text/plain": [
       "<Figure size 936x360 with 1 Axes>"
      ]
     },
     "metadata": {
      "needs_background": "light"
     },
     "output_type": "display_data"
    }
   ],
   "source": [
    "# Split\n",
    "# Datos de entrenamiento\n",
    "train_so2 = so2[(so2.index.year >= 2010) & (so2.index.year < 2019)]\n",
    "fecha = pd.date_range(start='2010-01-01', end='2018-12-31', freq='D')   \n",
    "train_so2['fecha'] = fecha\n",
    "train_so2 = train_so2.set_index('fecha')\n",
    "train_so2 = train_so2.asfreq('D')\n",
    "\n",
    "# Datos de test\n",
    "test_so2 = so2[(so2.index.year >= 2019) & (so2.index.year < 2022)]\n",
    "fecha = pd.date_range(start='2019-01-01', end='2021-12-31', freq='D')   \n",
    "test_so2['fecha'] = fecha\n",
    "test_so2 = test_so2.set_index('fecha')\n",
    "test_so2 = test_so2.asfreq('D')\n",
    "\n",
    "# Grafico train-test\n",
    "train_so2['SO2'].plot(figsize=(13,5),fontsize=15)\n",
    "test_so2['SO2'].plot(figsize=(13,5),fontsize=15)\n",
    "plt.title('Concentration SO2 diaria 2010-2021', fontsize=16)\n",
    "plt.xlabel('')\n",
    "plt.ylabel('ug/m^3', fontsize=12)\n",
    "plt.grid()\n",
    "plt.legend(['Training Data', 'Test Data'])\n",
    "plt.show()"
   ]
  },
  {
   "cell_type": "markdown",
   "id": "aaeed54c",
   "metadata": {},
   "source": [
    "En primer lugar, vamos a estudiar las componentes de la serie:\n",
    "1. Tendecia\n",
    "2. Estacionalidad\n",
    "3. Residuos"
   ]
  },
  {
   "cell_type": "code",
   "execution_count": 30,
   "id": "08b4e3cb",
   "metadata": {},
   "outputs": [
    {
     "data": {
      "image/png": "[encoded data removed]",
      "text/plain": [
       "<Figure size 432x288 with 4 Axes>"
      ]
     },
     "metadata": {
      "needs_background": "light"
     },
     "output_type": "display_data"
    }
   ],
   "source": [
    "des = seasonal_decompose(train_so2)\n",
    "tendencia = des.trend\n",
    "estacionalidad = des.seasonal\n",
    "res = des.resid\n",
    "\n",
    "# plot the components\n",
    "plt.subplot(411)\n",
    "plt.plot(train_so2, label='Original')\n",
    "plt.legend(loc='best')\n",
    "plt.subplot(412)\n",
    "plt.plot(tendencia, label='Tendencia')\n",
    "plt.legend(loc='best')\n",
    "plt.subplot(413)\n",
    "plt.plot(estacionalidad,label='Estacionalidad')\n",
    "plt.legend(loc='best')\n",
    "plt.subplot(414)\n",
    "plt.plot(res, label='Ruido')\n",
    "plt.legend(loc='best')\n",
    "plt.tight_layout()\n",
    "plt.show()"
   ]
  },
  {
   "cell_type": "markdown",
   "id": "d42f73b2",
   "metadata": {},
   "source": [
    "Realizamos un test para ver si la serie es estacionaria"
   ]
  },
  {
   "cell_type": "code",
   "execution_count": 31,
   "id": "1bda8d37",
   "metadata": {},
   "outputs": [
    {
     "name": "stdout",
     "output_type": "stream",
     "text": [
      "ADF Statistic: -3.882876118650123\n",
      "p-value: 0.0021645467661720015\n",
      "Critical Values:\n",
      "\t1%: -3.4323587353357996\n",
      "\t5%: -2.8624275393930216\n",
      "\t10%: -2.5672424561649447\n"
     ]
    }
   ],
   "source": [
    "result = adfuller(train_so2['SO2'])\n",
    "print('ADF Statistic:', result[0])\n",
    "print('p-value:', result[1])\n",
    "print('Critical Values:')\n",
    "for key, value in result[4].items():\n",
    "    print('\\t{}: {}'.format(key, value))"
   ]
  },
  {
   "cell_type": "markdown",
   "id": "e27bc6bc",
   "metadata": {},
   "source": [
    "Dado que el test rechaza la hipótesis nula de que las serie sea no estacionaria, estudiamos las funciones de autocorrelación simple y parcial."
   ]
  },
  {
   "cell_type": "code",
   "execution_count": 32,
   "id": "512aaced",
   "metadata": {
    "scrolled": false
   },
   "outputs": [
    {
     "data": {
      "image/png": "[encoded data removed]",
      "text/plain": [
       "<Figure size 432x288 with 1 Axes>"
      ]
     },
     "metadata": {
      "needs_background": "light"
     },
     "output_type": "display_data"
    },
    {
     "data": {
      "image/png": "[encoded data removed]",
      "text/plain": [
       "<Figure size 432x288 with 1 Axes>"
      ]
     },
     "metadata": {
      "needs_background": "light"
     },
     "output_type": "display_data"
    }
   ],
   "source": [
    "# FAS y FAP \n",
    "acf = plot_acf(train_so2, lags=365*3)\n",
    "pacf = plot_pacf(train_so2, lags=365*3)\n",
    "\n",
    "# Graficos\n",
    "plt.show()"
   ]
  },
  {
   "cell_type": "markdown",
   "id": "b04223b1",
   "metadata": {},
   "source": [
    "Como podemos ver que no hemos quitado la estacionalidad ni la tendencia de la serie, vamos a tomarla serie de forma anual, y estudiar cada año de manera independiente para así, finalmente aplicar un modelo SARIMA con estacionalidad 365.\n",
    "\n",
    "Comenzamos con el **año 2010**"
   ]
  },
  {
   "cell_type": "code",
   "execution_count": 33,
   "id": "6f870778",
   "metadata": {
    "scrolled": true
   },
   "outputs": [
    {
     "data": {
      "text/html": [
       "<div>\n",
       "<style scoped>\n",
       "    .dataframe tbody tr th:only-of-type {\n",
       "        vertical-align: middle;\n",
       "    }\n",
       "\n",
       "    .dataframe tbody tr th {\n",
       "        vertical-align: top;\n",
       "    }\n",
       "\n",
       "    .dataframe thead th {\n",
       "        text-align: right;\n",
       "    }\n",
       "</style>\n",
       "<table border=\"1\" class=\"dataframe\">\n",
       "  <thead>\n",
       "    <tr style=\"text-align: right;\">\n",
       "      <th></th>\n",
       "      <th>SO2</th>\n",
       "    </tr>\n",
       "    <tr>\n",
       "      <th>fecha</th>\n",
       "      <th></th>\n",
       "    </tr>\n",
       "  </thead>\n",
       "  <tbody>\n",
       "    <tr>\n",
       "      <th>2010-01-01</th>\n",
       "      <td>7.9</td>\n",
       "    </tr>\n",
       "    <tr>\n",
       "      <th>2010-01-02</th>\n",
       "      <td>9.5</td>\n",
       "    </tr>\n",
       "    <tr>\n",
       "      <th>2010-01-03</th>\n",
       "      <td>11.6</td>\n",
       "    </tr>\n",
       "    <tr>\n",
       "      <th>2010-01-04</th>\n",
       "      <td>11.6</td>\n",
       "    </tr>\n",
       "    <tr>\n",
       "      <th>2010-01-05</th>\n",
       "      <td>11.9</td>\n",
       "    </tr>\n",
       "    <tr>\n",
       "      <th>...</th>\n",
       "      <td>...</td>\n",
       "    </tr>\n",
       "    <tr>\n",
       "      <th>2010-12-27</th>\n",
       "      <td>15.5</td>\n",
       "    </tr>\n",
       "    <tr>\n",
       "      <th>2010-12-28</th>\n",
       "      <td>18.2</td>\n",
       "    </tr>\n",
       "    <tr>\n",
       "      <th>2010-12-29</th>\n",
       "      <td>18.0</td>\n",
       "    </tr>\n",
       "    <tr>\n",
       "      <th>2010-12-30</th>\n",
       "      <td>13.2</td>\n",
       "    </tr>\n",
       "    <tr>\n",
       "      <th>2010-12-31</th>\n",
       "      <td>10.5</td>\n",
       "    </tr>\n",
       "  </tbody>\n",
       "</table>\n",
       "<p>365 rows × 1 columns</p>\n",
       "</div>"
      ],
      "text/plain": [
       "             SO2\n",
       "fecha           \n",
       "2010-01-01   7.9\n",
       "2010-01-02   9.5\n",
       "2010-01-03  11.6\n",
       "2010-01-04  11.6\n",
       "2010-01-05  11.9\n",
       "...          ...\n",
       "2010-12-27  15.5\n",
       "2010-12-28  18.2\n",
       "2010-12-29  18.0\n",
       "2010-12-30  13.2\n",
       "2010-12-31  10.5\n",
       "\n",
       "[365 rows x 1 columns]"
      ]
     },
     "execution_count": 33,
     "metadata": {},
     "output_type": "execute_result"
    }
   ],
   "source": [
    "train_so2_1 = train_so2[(train_so2.index.year == 2010)]\n",
    "train_so2_1"
   ]
  },
  {
   "cell_type": "code",
   "execution_count": null,
   "id": "caf6ed77",
   "metadata": {
    "scrolled": true
   },
   "outputs": [],
   "source": [
    "# Grafico train-test\n",
    "train_so2_1['SO2'].plot(figsize=(13,5),fontsize=15)\n",
    "plt.title('Concentration SO2 diaria para 2010', fontsize=16)\n",
    "plt.xlabel('')\n",
    "plt.ylabel('ug/m^3', fontsize=12)\n",
    "plt.grid()\n",
    "plt.legend(['Training Data 2010'])\n",
    "plt.show()"
   ]
  },
  {
   "cell_type": "markdown",
   "id": "1f7686a2",
   "metadata": {},
   "source": [
    "En primer lugar, miramos las componentes de la serie"
   ]
  },
  {
   "cell_type": "code",
   "execution_count": null,
   "id": "b8acfd55",
   "metadata": {
    "scrolled": true
   },
   "outputs": [],
   "source": [
    "des = seasonal_decompose(train_so2_1)\n",
    "tendencia = des.trend\n",
    "estacionalidad = des.seasonal\n",
    "res = des.resid\n",
    "\n",
    "# Grafico de las componentes de la serie temporal\n",
    "plt.subplot(411)\n",
    "plt.plot(train_so2, label='Original')\n",
    "plt.legend(loc='best')\n",
    "plt.subplot(412)\n",
    "plt.plot(tendencia, label='Tendencia')\n",
    "plt.legend(loc='best')\n",
    "plt.subplot(413)\n",
    "plt.plot(estacionalidad,label='Estacionalidad')\n",
    "plt.legend(loc='best')\n",
    "plt.subplot(414)\n",
    "plt.plot(res, label='Ruido')\n",
    "plt.legend(loc='best')\n",
    "plt.tight_layout()\n",
    "plt.show()"
   ]
  },
  {
   "cell_type": "markdown",
   "id": "def1868b",
   "metadata": {},
   "source": [
    "Podemos ver que existe tanto tendencia como estacionalidad (que puede ser semanal). Así, estudiamos el test adf para ver si la serie es estacionaria"
   ]
  },
  {
   "cell_type": "code",
   "execution_count": null,
   "id": "4752427d",
   "metadata": {},
   "outputs": [],
   "source": [
    "result = adfuller(train_so2_1['SO2'])\n",
    "print('ADF Statistic:', result[0])\n",
    "print('p-value:', result[1])\n",
    "print('Critical Values:')\n",
    "for key, value in result[4].items():\n",
    "    print('\\t{}: {}'.format(key, value))"
   ]
  },
  {
   "cell_type": "markdown",
   "id": "5be01dfc",
   "metadata": {},
   "source": [
    "Como el p-valor es $p.valor > 0.05$ aceptamos la hipótesis nula de que la serie no es estacionaria. Así, realizamos una diferenciacióne estacional de frecuencia 52 (semanal) y una diferenciación simple"
   ]
  },
  {
   "cell_type": "code",
   "execution_count": null,
   "id": "666d1dd7",
   "metadata": {
    "scrolled": true
   },
   "outputs": [],
   "source": [
    "# Diferenciacion estacional \n",
    "sdiff_so2 = train_so2_1.diff(periods=52)\n",
    "# Diferenciacion simple\n",
    "diff_so2 = sdiff_so2.diff()\n",
    "# Grafico serie estacionaria\n",
    "diff_so2['SO2'].plot(figsize=(13,5),fontsize=15)\n",
    "plt.grid()\n",
    "plt.legend(['Serie estacionaria 2010'], loc = 'best')\n",
    "plt.show()"
   ]
  },
  {
   "cell_type": "code",
   "execution_count": null,
   "id": "f2e03a64",
   "metadata": {
    "scrolled": true
   },
   "outputs": [],
   "source": [
    "diff_so2 = diff_so2['SO2'][53:]\n",
    "result = adfuller(diff_so2)\n",
    "print('ADF Statistic:', result[0])\n",
    "print('p-value:', result[1])\n",
    "print('Critical Values:')\n",
    "for key, value in result[4].items():\n",
    "    print('\\t{}: {}'.format(key, value))"
   ]
  },
  {
   "cell_type": "markdown",
   "id": "01b8025b",
   "metadata": {},
   "source": [
    "Ahora, rechazamos que la serie es no estacionaria y podemos estudiar las funciones de autocorrelación simple y parcial."
   ]
  },
  {
   "cell_type": "code",
   "execution_count": null,
   "id": "883fc1bc",
   "metadata": {
    "scrolled": false
   },
   "outputs": [],
   "source": [
    "# FAS y FAP \n",
    "plt.figure(figsize=(20,100))\n",
    "acf = plot_acf(diff_so2, lags=10)  # MA tiene splikes  \n",
    "pacf = plot_pacf(diff_so2, lags=15) \n",
    "# SARIMA(0,1,1)(0,1,1)_52\n",
    "\n",
    "# Graficos\n",
    "plt.show()"
   ]
  },
  {
   "cell_type": "markdown",
   "id": "f7d26344",
   "metadata": {},
   "source": [
    "Queremos ajustar un modelo ARIMA basándonos en los gráficos de las funciones de autocorrelación. "
   ]
  },
  {
   "cell_type": "markdown",
   "id": "cf83cd51",
   "metadata": {},
   "source": [
    "Ajustamos un modelo $SARIMA(1,1,2)\\times(1,1,0)_{52}$ año 2010"
   ]
  },
  {
   "cell_type": "code",
   "execution_count": null,
   "id": "83bfbfdd",
   "metadata": {},
   "outputs": [],
   "source": [
    "# Modelo\n",
    "modelo1 = sm.tsa.statespace.SARIMAX(train_so2_1, order=(1,1,2), seasonal_order=(1,1,0,52*2))\n",
    "resultados1 = modelo1.fit()\n",
    "\n",
    "# Resultados\n",
    "print(resultados1.summary())"
   ]
  },
  {
   "cell_type": "markdown",
   "id": "7e1a4164",
   "metadata": {},
   "source": [
    "**Predicciones**"
   ]
  },
  {
   "cell_type": "markdown",
   "id": "01780751",
   "metadata": {},
   "source": [
    "Así, juntando la estacionalidad que habíamos detectado al principio junto con la estacionalidad del modelo SARIMA tenemos:\n",
    "$SARIMA(,1,)\\times(,1,)$"
   ]
  },
  {
   "cell_type": "code",
   "execution_count": null,
   "id": "e5ab0c65",
   "metadata": {},
   "outputs": [],
   "source": [
    "test_so2_1 = train_so2[(train_so2.index.year == 2011)]"
   ]
  },
  {
   "cell_type": "code",
   "execution_count": null,
   "id": "105f09ea",
   "metadata": {},
   "outputs": [],
   "source": [
    "predicciones = resultados1.forecast(steps=365)\n",
    "predicciones = pd.Series(predicciones, index=test_so2_1.index)\n",
    "\n",
    "# Plot actual and predicted values\n",
    "plt.plot(train_so2_1, label='Entrenamiento')\n",
    "plt.plot(test_so2_1, label='Test')\n",
    "plt.plot(predicciones, label='Predicciones')\n",
    "plt.legend()\n",
    "plt.show()"
   ]
  },
  {
   "cell_type": "markdown",
   "id": "730ae8a0",
   "metadata": {},
   "source": [
    "### 3.1.2 Contaminante: $NO_2$"
   ]
  },
  {
   "cell_type": "code",
   "execution_count": null,
   "id": "b227cbdb",
   "metadata": {},
   "outputs": [],
   "source": [
    "no2 = ts_magnitudes[['NO2']]\n",
    "fecha = pd.date_range(start='2010-01-01', end='2021-12-31', freq='D')\n",
    "no2['fecha'] = fecha\n",
    "no2 = no2.set_index('fecha')\n",
    "no2.head()"
   ]
  },
  {
   "cell_type": "code",
   "execution_count": null,
   "id": "c1dd8bad",
   "metadata": {
    "scrolled": false
   },
   "outputs": [],
   "source": [
    "# Split\n",
    "# Datos de entrenamiento\n",
    "train_no2 = no2[(no2.index.year >= 2010) & (no2.index.year < 2019)]\n",
    "fecha = pd.date_range(start='2010-01-01', end='2018-12-31', freq='D')   \n",
    "train_no2['fecha'] = fecha\n",
    "train_no2 = train_no2.set_index('fecha')\n",
    "train_no2 = train_no2.asfreq('D')\n",
    "\n",
    "# Datos de test\n",
    "test_no2 = no2[(no2.index.year >= 2019) & (no2.index.year < 2022)]\n",
    "fecha = pd.date_range(start='2019-01-01', end='2021-12-31', freq='D')   \n",
    "test_no2['fecha'] = fecha\n",
    "test_no2 = test_no2.set_index('fecha')\n",
    "test_no2 = test_no2.asfreq('D')\n",
    "\n",
    "# Grafico train-test\n",
    "train_no2['NO2'].plot(figsize=(13,5),fontsize=15)\n",
    "test_no2['NO2'].plot(figsize=(13,5),fontsize=15)\n",
    "plt.title('Concentration NO2 mensual', fontsize=16)\n",
    "plt.xlabel('')\n",
    "plt.ylabel('ug/m^3', fontsize=12)\n",
    "plt.grid()\n",
    "plt.legend(['Training Data', 'Test Data'])\n",
    "plt.show()"
   ]
  },
  {
   "cell_type": "markdown",
   "id": "0e6b45a2",
   "metadata": {},
   "source": [
    "En primer lugar, vamos a estudiar las componentes de la serie:\n",
    "1. Tendecia\n",
    "2. Estacionalidad\n",
    "3. Residuos"
   ]
  },
  {
   "cell_type": "code",
   "execution_count": null,
   "id": "876cf6a6",
   "metadata": {},
   "outputs": [],
   "source": [
    "des = seasonal_decompose(train_no2)\n",
    "tendencia = des.trend\n",
    "estacionalidad = des.seasonal\n",
    "res = des.resid\n",
    "\n",
    "# plot the components\n",
    "plt.subplot(411)\n",
    "plt.plot(train_so2, label='Original')\n",
    "plt.legend(loc='best')\n",
    "plt.subplot(412)\n",
    "plt.plot(tendencia, label='Tendencia')\n",
    "plt.legend(loc='best')\n",
    "plt.subplot(413)\n",
    "plt.plot(estacionalidad,label='Estacionalidad')\n",
    "plt.legend(loc='best')\n",
    "plt.subplot(414)\n",
    "plt.plot(res, label='Residuos')\n",
    "plt.legend(loc='best')\n",
    "plt.tight_layout()\n",
    "plt.show()"
   ]
  },
  {
   "cell_type": "markdown",
   "id": "c448384b",
   "metadata": {},
   "source": [
    "Realizamos un test para ver si la serie es estacionaria"
   ]
  },
  {
   "cell_type": "code",
   "execution_count": null,
   "id": "45b74fc1",
   "metadata": {},
   "outputs": [],
   "source": [
    "result = adfuller(train_no2['NO2'])\n",
    "print('ADF Statistic:', result[0])\n",
    "print('p-value:', result[1])\n",
    "print('Critical Values:')\n",
    "for key, value in result[4].items():\n",
    "    print('\\t{}: {}'.format(key, value))"
   ]
  },
  {
   "cell_type": "markdown",
   "id": "cd76385e",
   "metadata": {},
   "source": [
    "Dado que el test rechaza la hipótesis nula de que las serie sea no estacionaria, estudiamos las funciones de autocorrelación simple y parcial."
   ]
  },
  {
   "cell_type": "code",
   "execution_count": null,
   "id": "3b3b03a1",
   "metadata": {
    "scrolled": false
   },
   "outputs": [],
   "source": [
    "# FAS y FAP \n",
    "acf = plot_acf(train_no2, lags=365*2)\n",
    "pacf = plot_pacf(train_no2, lags=365*2)\n",
    "\n",
    "# Graficos\n",
    "plt.show()"
   ]
  },
  {
   "cell_type": "markdown",
   "id": "5076e5e3",
   "metadata": {},
   "source": [
    "Como podemos ver que no hemos quitado la estacionalidad ni la tendencia de la serie, vamos a tomarla serie de forma anual, y estudiar cada año de manera independiente para así, finalmente aplicar un modelo SARIMA con estacionalidad 365.\n",
    "\n",
    "Comenzamos con el **año 2010**"
   ]
  },
  {
   "cell_type": "code",
   "execution_count": null,
   "id": "ed909d6a",
   "metadata": {
    "scrolled": true
   },
   "outputs": [],
   "source": [
    "train_no2_1 = train_no2[(train_no2.index.year == 2010)]\n",
    "train_no2_1"
   ]
  },
  {
   "cell_type": "code",
   "execution_count": null,
   "id": "048ff43b",
   "metadata": {
    "scrolled": true
   },
   "outputs": [],
   "source": [
    "# Grafico train-test\n",
    "train_no2_1['NO2'].plot(figsize=(13,5),fontsize=15)\n",
    "plt.title('Concentration NO2 diaria para 2010', fontsize=16)\n",
    "plt.xlabel('')\n",
    "plt.ylabel('ug/m^3', fontsize=12)\n",
    "plt.grid()\n",
    "plt.legend(['Training Data 2010'])\n",
    "plt.show()"
   ]
  },
  {
   "cell_type": "code",
   "execution_count": null,
   "id": "516fbf6a",
   "metadata": {
    "scrolled": true
   },
   "outputs": [],
   "source": [
    "des = seasonal_decompose(train_no2_1)\n",
    "tendencia = des.trend\n",
    "estacionalidad = des.seasonal\n",
    "res = des.resid\n",
    "\n",
    "# Grafico de las componentes de la serie temporal\n",
    "plt.subplot(411)\n",
    "plt.plot(train_so2, label='Original')\n",
    "plt.legend(loc='best')\n",
    "plt.subplot(412)\n",
    "plt.plot(tendencia, label='Tendencia')\n",
    "plt.legend(loc='best')\n",
    "plt.subplot(413)\n",
    "plt.plot(estacionalidad,label='Estacionalidad')\n",
    "plt.legend(loc='best')\n",
    "plt.subplot(414)\n",
    "plt.plot(res, label='Ruido')\n",
    "plt.legend(loc='best')\n",
    "plt.tight_layout()\n",
    "plt.show()"
   ]
  },
  {
   "cell_type": "markdown",
   "id": "47e54ca1",
   "metadata": {},
   "source": [
    "test"
   ]
  },
  {
   "cell_type": "code",
   "execution_count": null,
   "id": "5c0fef1a",
   "metadata": {
    "scrolled": false
   },
   "outputs": [],
   "source": [
    "result = adfuller(train_no2_1['NO2'])\n",
    "print('ADF Statistic:', result[0])\n",
    "print('p-value:', result[1])\n",
    "print('Critical Values:')\n",
    "for key, value in result[4].items():\n",
    "    print('\\t{}: {}'.format(key, value))"
   ]
  },
  {
   "cell_type": "code",
   "execution_count": null,
   "id": "bd4781e1",
   "metadata": {
    "scrolled": false
   },
   "outputs": [],
   "source": [
    "# Diferenciacion estacional \n",
    "sdiff_no2 = train_no2_1.diff(periods=52)\n",
    "diff_no2 = sdiff_no2.diff()\n",
    "# Grafico serie estacionaria\n",
    "diff_no2['NO2'].plot(figsize=(13,5),fontsize=15)\n",
    "plt.grid()\n",
    "plt.legend(['Serie estacionaria 2010'], loc = 'best')\n",
    "plt.show()"
   ]
  },
  {
   "cell_type": "code",
   "execution_count": null,
   "id": "37c1b432",
   "metadata": {},
   "outputs": [],
   "source": [
    "# FAS y FAP \n",
    "diff_no2 = diff_no2[53:]\n",
    "acf = plot_acf(diff_no2, lags=30) # spike 2,3 MA(2) MA(1)\n",
    "pacf = plot_pacf(diff_no2, lags=30) \n",
    "\n",
    "# Graficos\n",
    "plt.show()"
   ]
  },
  {
   "cell_type": "code",
   "execution_count": null,
   "id": "9b5defa5",
   "metadata": {},
   "outputs": [],
   "source": [
    "# Modelo\n",
    "modelo2 = sm.tsa.statespace.SARIMAX(train_no2, order=(1,1,2), seasonal_order=(0,1,1,52))\n",
    "resultados2 = modelo2.fit()\n",
    "\n",
    "# Resultados\n",
    "print(resultados2.summary())"
   ]
  },
  {
   "cell_type": "markdown",
   "id": "d0c606ff",
   "metadata": {},
   "source": [
    "**Predicciones**"
   ]
  },
  {
   "cell_type": "code",
   "execution_count": null,
   "id": "31daefbd",
   "metadata": {},
   "outputs": [],
   "source": [
    "test_no2_1 = train_no2[(train_no2.index.year == 2011)]"
   ]
  },
  {
   "cell_type": "code",
   "execution_count": null,
   "id": "1382533d",
   "metadata": {},
   "outputs": [],
   "source": [
    "predicciones = resultados2.forecast(steps=365)\n",
    "predicciones = pd.Series(predicciones, index=test_so2_1.index)\n",
    "\n",
    "# Plot actual and predicted values\n",
    "plt.plot(train_no2_1, label='Entrenamiento')\n",
    "plt.plot(test_no2_1, label='Test')\n",
    "plt.plot(predicciones, label='Predicciones')\n",
    "plt.legend()\n",
    "plt.show()"
   ]
  },
  {
   "cell_type": "markdown",
   "id": "e4eba220",
   "metadata": {},
   "source": [
    "### 3.1.3 Contaminante: $PM2.5$"
   ]
  },
  {
   "cell_type": "code",
   "execution_count": null,
   "id": "e4877f9b",
   "metadata": {},
   "outputs": [],
   "source": [
    "pm25 = ts_magnitudes[['PM2.5']]\n",
    "fecha = pd.date_range(start='2010-01-01', end='2021-12-31', freq='D')\n",
    "pm25['fecha'] = fecha\n",
    "pm25 = pm25.set_index('fecha')\n",
    "pm25.head()"
   ]
  },
  {
   "cell_type": "code",
   "execution_count": null,
   "id": "60be5046",
   "metadata": {
    "scrolled": false
   },
   "outputs": [],
   "source": [
    "# Split\n",
    "# Datos de entrenamiento\n",
    "train_pm25 = pm25[(pm25.index.year >= 2010) & (pm25.index.year < 2019)]\n",
    "fecha = pd.date_range(start='2010-01-01', end='2018-12-31', freq='D')   \n",
    "train_pm25['fecha'] = fecha\n",
    "train_pm25 = train_pm25.set_index('fecha')\n",
    "train_pm25 = train_pm25.asfreq('D')\n",
    "\n",
    "# Datos de test\n",
    "test_pm25 = pm25[(pm25.index.year >= 2019) & (pm25.index.year < 2021)]\n",
    "fecha = pd.date_range(start='2019-01-01', end='2020-12-31', freq='D')   \n",
    "test_pm25['fecha'] = fecha\n",
    "test_pm25= test_pm25.set_index('fecha')\n",
    "test_pm35 = test_pm25.asfreq('D')\n",
    "\n",
    "# Grafico train-test\n",
    "train_pm25['PM2.5'].plot(figsize=(13,5),fontsize=15)\n",
    "test_pm25['PM2.5'].plot(figsize=(13,5),fontsize=15)\n",
    "plt.title('Concentration PM2.5 mensual', fontsize=16)\n",
    "plt.xlabel('')\n",
    "plt.ylabel('ug/m^3', fontsize=12)\n",
    "plt.grid()\n",
    "plt.legend(['Training Data', 'Test Data'])\n",
    "plt.show()"
   ]
  },
  {
   "cell_type": "markdown",
   "id": "0fbc0c43",
   "metadata": {},
   "source": [
    "En primer lugar, vamos a estudiar las componentes de la serie:\n",
    "1. Tendecia\n",
    "2. Estacionalidad\n",
    "3. Residuos"
   ]
  },
  {
   "cell_type": "code",
   "execution_count": null,
   "id": "aac7b5b6",
   "metadata": {},
   "outputs": [],
   "source": [
    "des = seasonal_decompose(train_pm25)\n",
    "tendencia = des.trend\n",
    "estacionalidad = des.seasonal\n",
    "res = des.resid\n",
    "\n",
    "# plot the components\n",
    "plt.subplot(411)\n",
    "plt.plot(train_so2, label='Original')\n",
    "plt.legend(loc='best')\n",
    "plt.subplot(412)\n",
    "plt.plot(tendencia, label='Tendencia')\n",
    "plt.legend(loc='best')\n",
    "plt.subplot(413)\n",
    "plt.plot(estacionalidad,label='Estacionalidad')\n",
    "plt.legend(loc='best')\n",
    "plt.subplot(414)\n",
    "plt.plot(res, label='Residuos')\n",
    "plt.legend(loc='best')\n",
    "plt.tight_layout()\n",
    "plt.show()"
   ]
  },
  {
   "cell_type": "markdown",
   "id": "96231e0d",
   "metadata": {},
   "source": [
    "Realizamos un test para ver si la serie es estacionaria"
   ]
  },
  {
   "cell_type": "code",
   "execution_count": null,
   "id": "8e8fdc46",
   "metadata": {},
   "outputs": [],
   "source": [
    "result = adfuller(train_pm25['PM2.5'])\n",
    "print('ADF Statistic:', result[0])\n",
    "print('p-value:', result[1])\n",
    "print('Critical Values:')\n",
    "for key, value in result[4].items():\n",
    "    print('\\t{}: {}'.format(key, value))"
   ]
  },
  {
   "cell_type": "markdown",
   "id": "040f0c91",
   "metadata": {},
   "source": [
    "Como la serie es estacionaria, estudiamos las funciones de autocorrelación simple y parcial para ajustar un ARIMA"
   ]
  },
  {
   "cell_type": "code",
   "execution_count": null,
   "id": "5c97df60",
   "metadata": {},
   "outputs": [],
   "source": [
    "# FAS y FAP \n",
    "acf = plot_acf(train_pm25, lags=365*2)\n",
    "pacf = plot_pacf(train_pm25, lags=365*2)\n",
    "\n",
    "# Graficos\n",
    "plt.show()"
   ]
  },
  {
   "cell_type": "markdown",
   "id": "eafff72c",
   "metadata": {},
   "source": [
    "Ajustamos un modelo "
   ]
  },
  {
   "cell_type": "code",
   "execution_count": null,
   "id": "3b14aa10",
   "metadata": {},
   "outputs": [],
   "source": [
    "# Modelo\n",
    "modelo3 = sm.tsa.statespace.SARIMAX(train_pm25, order=(1,0,2), seasonal_order=(1,0,0,365))\n",
    "resultados3 = modelo3.fit()\n",
    "\n",
    "# Resultados\n",
    "print(resultados3.summary())"
   ]
  },
  {
   "cell_type": "markdown",
   "id": "8f4881b2",
   "metadata": {},
   "source": [
    "**Predicciones**"
   ]
  },
  {
   "cell_type": "markdown",
   "id": "660f8cc8",
   "metadata": {},
   "source": [
    "### 3.1.4 Contaminante: $PM_{10}$"
   ]
  },
  {
   "cell_type": "code",
   "execution_count": null,
   "id": "d1cd59c5",
   "metadata": {},
   "outputs": [],
   "source": [
    "pm10 = ts_magnitudes[['PM10']]\n",
    "fecha = pd.date_range(start='2010-01-01', end='2021-12-31', freq='D')\n",
    "pm10['fecha'] = fecha\n",
    "pm10 = pm10.set_index('fecha')\n",
    "pm10.head()"
   ]
  },
  {
   "cell_type": "code",
   "execution_count": null,
   "id": "2b208fa6",
   "metadata": {
    "scrolled": true
   },
   "outputs": [],
   "source": [
    "# Split\n",
    "# Datos de entrenamiento\n",
    "train_pm10 = pm10[(pm10.index.year >= 2010) & (pm10.index.year < 2019)]\n",
    "fecha = pd.date_range(start='2010-01-01', end='2018-12-31', freq='D')   \n",
    "train_pm10['fecha'] = fecha\n",
    "train_pm10 = train_pm10.set_index('fecha')\n",
    "train_pm10 = train_pm10.asfreq('D')\n",
    "\n",
    "# Datos de test\n",
    "test_pm10 = pm10[(pm10.index.year >= 2019) & (pm10.index.year < 2021)]\n",
    "fecha = pd.date_range(start='2019-01-01', end='2020-12-31', freq='D')   \n",
    "test_pm10['fecha'] = fecha\n",
    "test_pm10 = test_pm10.set_index('fecha')\n",
    "test_pm10 = test_pm10.asfreq('D')\n",
    "\n",
    "# Grafico train-test\n",
    "train_pm10['PM10'].plot(figsize=(13,5),fontsize=15)\n",
    "test_pm10['PM10'].plot(figsize=(13,5),fontsize=15)\n",
    "plt.title('Concentration PM10 mensual', fontsize=16)\n",
    "plt.xlabel('')\n",
    "plt.ylabel('ug/m^3', fontsize=12)\n",
    "plt.grid()\n",
    "plt.legend(['Training Data', 'Test Data'])\n",
    "plt.show()"
   ]
  },
  {
   "cell_type": "markdown",
   "id": "d5209063",
   "metadata": {},
   "source": [
    "En primer lugar, vamos a estudiar las componentes de la serie:\n",
    "1. Tendecia\n",
    "2. Estacionalidad\n",
    "3. Residuos"
   ]
  },
  {
   "cell_type": "code",
   "execution_count": null,
   "id": "8eb7f78e",
   "metadata": {},
   "outputs": [],
   "source": [
    "des = seasonal_decompose(train_pm10)\n",
    "tendencia = des.trend\n",
    "estacionalidad = des.seasonal\n",
    "res = des.resid\n",
    "\n",
    "# plot the components\n",
    "plt.subplot(411)\n",
    "plt.plot(train_so2, label='Original')\n",
    "plt.legend(loc='best')\n",
    "plt.subplot(412)\n",
    "plt.plot(tendencia, label='Tendencia')\n",
    "plt.legend(loc='best')\n",
    "plt.subplot(413)\n",
    "plt.plot(estacionalidad,label='Estacionalidad')\n",
    "plt.legend(loc='best')\n",
    "plt.subplot(414)\n",
    "plt.plot(res, label='Residuos')\n",
    "plt.legend(loc='best')\n",
    "plt.tight_layout()\n",
    "plt.show()"
   ]
  },
  {
   "cell_type": "markdown",
   "id": "16893869",
   "metadata": {},
   "source": [
    "Realizamos un test para ver si la serie es estacionaria"
   ]
  },
  {
   "cell_type": "code",
   "execution_count": null,
   "id": "262502d2",
   "metadata": {},
   "outputs": [],
   "source": [
    "result = adfuller(train_pm10['PM10'])\n",
    "print('ADF Statistic:', result[0])\n",
    "print('p-value:', result[1])\n",
    "print('Critical Values:')\n",
    "for key, value in result[4].items():\n",
    "    print('\\t{}: {}'.format(key, value))"
   ]
  },
  {
   "cell_type": "markdown",
   "id": "e22b9dbf",
   "metadata": {},
   "source": [
    "Como la serie es estacionaria, estudiamos las funciones de autocorrelación simple y parcial para ajustar un ARIMA"
   ]
  },
  {
   "cell_type": "code",
   "execution_count": null,
   "id": "76e7f691",
   "metadata": {},
   "outputs": [],
   "source": [
    "# FAS y FAP \n",
    "acf = plot_acf(train_pm10, lags=365*2)\n",
    "pacf = plot_pacf(train_pm10, lags=365*2)\n",
    "\n",
    "# Graficos\n",
    "plt.show()"
   ]
  },
  {
   "cell_type": "markdown",
   "id": "48bfab2a",
   "metadata": {},
   "source": [
    "Así, ajustamos un modelo SARIMA:\n"
   ]
  },
  {
   "cell_type": "code",
   "execution_count": null,
   "id": "23b9e5aa",
   "metadata": {},
   "outputs": [],
   "source": [
    "# Modelo\n",
    "modelo4 = sm.tsa.statespace.SARIMAX(train_pm10, order=(1,0,2), seasonal_order=(1,0,0,365))\n",
    "resultados4 = modelo4.fit()\n",
    "\n",
    "# Resultados\n",
    "print(resultados4.summary())"
   ]
  },
  {
   "cell_type": "markdown",
   "id": "9a560798",
   "metadata": {},
   "source": [
    "**Predicciones**"
   ]
  },
  {
   "cell_type": "markdown",
   "id": "7930d653",
   "metadata": {},
   "source": [
    "### 3.1.5 Contaminante: $O_3$"
   ]
  },
  {
   "cell_type": "code",
   "execution_count": null,
   "id": "0fc8b69d",
   "metadata": {},
   "outputs": [],
   "source": [
    "o3 = ts_magnitudes[['O3']]\n",
    "fecha = pd.date_range(start='2010-01-01', end='2021-12-31', freq='D')\n",
    "o3['fecha'] = fecha\n",
    "o3 = o3.set_index('fecha')\n",
    "o3.head()"
   ]
  },
  {
   "cell_type": "code",
   "execution_count": null,
   "id": "bacd588a",
   "metadata": {
    "scrolled": false
   },
   "outputs": [],
   "source": [
    "# Split\n",
    "# Datos de entrenamiento\n",
    "train_o3 = o3[(o3.index.year >= 2010) & (o3.index.year < 2019)]\n",
    "fecha = pd.date_range(start='2010-01-01', end='2018-12-31', freq='D')   \n",
    "train_o3['fecha'] = fecha\n",
    "train_o3 = train_o3.set_index('fecha')\n",
    "train_o3 = train_o3.asfreq('D')\n",
    "\n",
    "# Datos de test\n",
    "test_o3 = o3[(o3.index.year >= 2019) & (o3.index.year < 2021)]\n",
    "fecha = pd.date_range(start='2019-01-01', end='2020-12-31', freq='D')   \n",
    "test_o3['fecha'] = fecha\n",
    "test_o3 = test_o3.set_index('fecha')\n",
    "test_o3 = test_o3.asfreq('D')\n",
    "\n",
    "# Grafico train-test\n",
    "train_o3['O3'].plot(figsize=(13,5),fontsize=15)\n",
    "test_o3['O3'].plot(figsize=(13,5),fontsize=15)\n",
    "plt.title('Concentration O3 mensual', fontsize=16)\n",
    "plt.xlabel('')\n",
    "plt.ylabel('ug/m^3', fontsize=12)\n",
    "plt.grid()\n",
    "plt.legend(['Training Data', 'Test Data'])\n",
    "plt.show()"
   ]
  },
  {
   "cell_type": "markdown",
   "id": "6321a7be",
   "metadata": {},
   "source": [
    "En primer lugar, vamos a estudiar las componentes de la serie:\n",
    "1. Tendecia\n",
    "2. Estacionalidad\n",
    "3. Residuos"
   ]
  },
  {
   "cell_type": "code",
   "execution_count": null,
   "id": "a3311d90",
   "metadata": {},
   "outputs": [],
   "source": [
    "des = seasonal_decompose(train_o3)\n",
    "tendencia = des.trend\n",
    "estacionalidad = des.seasonal\n",
    "res = des.resid\n",
    "\n",
    "# plot the components\n",
    "plt.subplot(411)\n",
    "plt.plot(train_so2, label='Original')\n",
    "plt.legend(loc='best')\n",
    "plt.subplot(412)\n",
    "plt.plot(tendencia, label='Tendencia')\n",
    "plt.legend(loc='best')\n",
    "plt.subplot(413)\n",
    "plt.plot(estacionalidad,label='Estacionalidad')\n",
    "plt.legend(loc='best')\n",
    "plt.subplot(414)\n",
    "plt.plot(res, label='Residuos')\n",
    "plt.legend(loc='best')\n",
    "plt.tight_layout()\n",
    "plt.show()"
   ]
  },
  {
   "cell_type": "markdown",
   "id": "fe1cd30c",
   "metadata": {},
   "source": [
    "Realizamos un test para ver si la serie es estacionaria"
   ]
  },
  {
   "cell_type": "code",
   "execution_count": null,
   "id": "88071655",
   "metadata": {},
   "outputs": [],
   "source": [
    "result = adfuller(train_o3['O3'])\n",
    "print('ADF Statistic:', result[0])\n",
    "print('p-value:', result[1])\n",
    "print('Critical Values:')\n",
    "for key, value in result[4].items():\n",
    "    print('\\t{}: {}'.format(key, value))"
   ]
  },
  {
   "cell_type": "markdown",
   "id": "779546f5",
   "metadata": {},
   "source": [
    "Como la serie es estacionaria, estudiamos las funciones de autocorrelación simple y parcial para ajustar un ARIMA"
   ]
  },
  {
   "cell_type": "code",
   "execution_count": null,
   "id": "bc8115d4",
   "metadata": {},
   "outputs": [],
   "source": [
    "# FAS y FAP \n",
    "acf = plot_acf(train_o3, lags=365*2)\n",
    "pacf = plot_pacf(train_o3, lags=365*2)\n",
    "\n",
    "# Graficos\n",
    "plt.show()"
   ]
  },
  {
   "cell_type": "markdown",
   "id": "f77da401",
   "metadata": {},
   "source": [
    "Así, ajustamos un modelo SARIMA:\n"
   ]
  },
  {
   "cell_type": "code",
   "execution_count": null,
   "id": "6d749b8a",
   "metadata": {},
   "outputs": [],
   "source": [
    "# Modelo\n",
    "modelo5 = sm.tsa.statespace.SARIMAX(train_o3, order=(1,0,2), seasonal_order=(1,0,0,365))\n",
    "resultados5 = modelo3.fit()\n",
    "\n",
    "# Resultados\n",
    "print(resultados5.summary())"
   ]
  },
  {
   "cell_type": "markdown",
   "id": "2d9faf17",
   "metadata": {},
   "source": [
    "**Predicciones**"
   ]
  }
 ],
 "metadata": {
  "kernelspec": {
   "display_name": "Python 3 (ipykernel)",
   "language": "python",
   "name": "python3"
  },
  "language_info": {
   "codemirror_mode": {
    "name": "ipython",
    "version": 3
   },
   "file_extension": ".py",
   "mimetype": "text/x-python",
   "name": "python",
   "nbconvert_exporter": "python",
   "pygments_lexer": "ipython3",
   "version": "3.9.12"
  }
 },
 "nbformat": 4,
 "nbformat_minor": 5
}
