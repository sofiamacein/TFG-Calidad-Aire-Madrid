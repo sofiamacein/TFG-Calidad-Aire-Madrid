{
 "cells": [
  {
   "cell_type": "markdown",
   "id": "6596d52d",
   "metadata": {},
   "source": [
    "<img src=\"logoucm.png\" style=\"height: 100px\">\n",
    "\n",
    "<h1><center>Calidad del aire en la Comunidad de Madrid</center></h1>"
   ]
  },
  {
   "cell_type": "markdown",
   "id": "d9918b4e",
   "metadata": {},
   "source": [
    "# Resumen"
   ]
  },
  {
   "cell_type": "markdown",
   "id": "12fbee4e",
   "metadata": {},
   "source": [
    "El Índice de Calidad del Aire (CAQI) es un valor adimensional que se calcula a partir de los datos recopilados en las estaciones de monitoreo, teniendo en cuenta los límites establecidos por la legislación y los efectos nocivos para la salud de varios contaminantes.\n",
    "\n",
    "El objetivo de este trabajo de fin de grado es desarrollar índices de calidad del aire pronosticados para cada una de las cinco zonas del municipio de Madrid. Además, se presentarán diferentes métodos para realizar una predicción diaria de la calidad del aire en la Comunidad de Madrid, utilizando la información disponible en el siguiente <a href=\"https://airedemadrid.madrid.es/portales/calidadaire/es/Servicios-y-recomendaciones/Prediccion-diaria/?vgnextfmt=default&vgnextchannel=e6ae471c5c503710VgnVCM1000008a4a900aRCRD\">enlace</a>. "
   ]
  },
  {
   "cell_type": "markdown",
   "id": "4340b273",
   "metadata": {},
   "source": [
    "# Introducción"
   ]
  },
  {
   "cell_type": "markdown",
   "id": "9ddb258b",
   "metadata": {},
   "source": [
    "Los datos utilizados en este trabajo fueron recopilados diariamente desde 2010 hasta 2023 por la Comunidad de Madrid. Estos datos se refieren a la concentración de diversos contaminantes medidos en 24 estaciones distribuidas en todo el territorio de la comunidad. La Comunidad de Madrid publica estos datos diariamente en su página web, en el Portal de Calidad del Aire, junto con un Índice de Calidad del Aire. El objetivo de este índice es proporcionar una evaluación de los efectos de la contaminación atmosférica en la salud.\n",
    "\n",
    "Para obtener más información sobre las variables recopiladas, se puede consultar el Interprete fichero en el siguiente enlace: <a href=\"https://airedemadrid.madrid.es/portal/site/calidadaire\">Interprete fichero</a>.\n",
    "\n",
    "A continuación, se presenta una breve descripción de los datos recopilados:"
   ]
  },
  {
   "cell_type": "markdown",
   "id": "7082d2e5",
   "metadata": {},
   "source": [
    "| Atributo | Descripción |\n",
    "| :- |:- |\n",
    "|**PROVINCIA**| Identificador de la provincia (en este caso siempre '28'-Madrid)|\n",
    "|**MUNICIPIO**| Identificador del municipio (en este caso siempre '79'-Mardrid|\n",
    "|**ESTACION**| Identificador de la estación de recogida de los contaminantes|\n",
    "|**MAGNITUD**| Identificador del contaminante|\n",
    "|**PUNTO MUESTREO**| Identificador del punto de muestro|\n",
    "|**ANO**| Año de recogida del dato|\n",
    "|**MES**| Mes de recogida el dato|\n",
    "|**D01**| D0_X_ indica el día del mes|\n",
    "|**V01**| V0_X_ indica si el dato está verificado o no (Sí: \"V\", No: \"N\")|"
   ]
  },
  {
   "cell_type": "markdown",
   "id": "fa6c6593",
   "metadata": {},
   "source": [
    "# 0. Librerías"
   ]
  },
  {
   "cell_type": "code",
   "execution_count": null,
   "id": "33489261",
   "metadata": {},
   "outputs": [],
   "source": [
    "# Librerias \n",
    "import numpy as np\n",
    "import pandas as pd\n",
    "\n",
    "import seaborn as sns\n",
    "import matplotlib.pyplot as plt  \n",
    "\n",
    "%matplotlib inline"
   ]
  },
  {
   "cell_type": "code",
   "execution_count": null,
   "id": "381f7cf6",
   "metadata": {},
   "outputs": [],
   "source": [
    "import warnings\n",
    "warnings.filterwarnings('ignore')"
   ]
  },
  {
   "cell_type": "markdown",
   "id": "d3af4a91",
   "metadata": {},
   "source": [
    "# 1. Análisis exploratorio de los datos"
   ]
  },
  {
   "cell_type": "markdown",
   "id": "a5ad5e84",
   "metadata": {},
   "source": [
    "## 1.1 Limpieza de la base de datos"
   ]
  },
  {
   "cell_type": "markdown",
   "id": "4844916d",
   "metadata": {},
   "source": [
    "En primer lugar, procedemos a abrir el fichero que contiene los datos y analizamos su dimensión y estructura."
   ]
  },
  {
   "cell_type": "code",
   "execution_count": null,
   "id": "6a0a135c",
   "metadata": {},
   "outputs": [],
   "source": [
    "# Importacion de datos\n",
    "df = pd.read_csv(\"./Datos/datos_total.csv\", delimiter = \",\")\n",
    "df_original = df.copy()\n",
    "\n",
    "df.head(5)"
   ]
  },
  {
   "cell_type": "code",
   "execution_count": null,
   "id": "7a26e9bd",
   "metadata": {
    "scrolled": false
   },
   "outputs": [],
   "source": [
    "# Eliminacion de variables\n",
    "df = df.drop(columns=['Unnamed: 0', 'PROVINCIA', 'MUNICIPIO'], axis = 1)\n",
    "\n",
    "# Dimension de los datos\n",
    "df.shape"
   ]
  },
  {
   "cell_type": "markdown",
   "id": "0d35444c",
   "metadata": {},
   "source": [
    "Disponemos de un total de 21.633 registros que contienen información sobre 70 variables. Sin embargo, hemos eliminado las variables **_PROVINCIA_** y **_MUNICIPIO_** debido a su redundancia, ya que los datos se refieren exclusivamente a la Comunidad de Madrid. Además, hemos eliminado la variable **_Unnamed:0_**. Por lo tanto, la base de datos ahora se compone de las 67 variables restantes para cada uno de los 21.633 registros."
   ]
  },
  {
   "cell_type": "code",
   "execution_count": null,
   "id": "76b4e2cb",
   "metadata": {
    "scrolled": true
   },
   "outputs": [],
   "source": [
    "# Tipo de las variables y valores nulos\n",
    "df.info()"
   ]
  },
  {
   "cell_type": "markdown",
   "id": "203e5782",
   "metadata": {},
   "source": [
    "A primera vista, la base de datos no muestra ningún valor faltante. Sin embargo, es importante tener en cuenta que existen datos no verificados. Esto significa que, aunque no haya valores explícitamente marcados como faltantes, algunos datos pueden no haber sido validados o requerir una verificación adicional para asegurar su precisión. En este contexto, sólo son válidos aquellos datos que estén acompañados por un código de verificación \"V\". \n",
    "\n",
    "Para abordar este problema, se reducirá la dimensión de la base de datos, conservando únicamente los compuestos presentes en la creación del índice de calidad del aire. Esto permitirá enfocar el análisis en las variables más relevantes para evaluar la calidad del aire. Esto es:"
   ]
  },
  {
   "cell_type": "markdown",
   "id": "aca33b32",
   "metadata": {},
   "source": [
    "*Los compuestos que se emplean para calcular el índice de calidad son las partículas en suspensión (PM10 y PM2,5), dióxido de azufre, dióxido de nitrógeno y ozono. Para cada uno de estos contaminantes se establece un índice parcial, de forma que el peor valor de los cinco definirá el índice global y, por lo tanto, la calidad del aire en el municipio de Madrid.*"
   ]
  },
  {
   "cell_type": "markdown",
   "id": "236a7c44",
   "metadata": {},
   "source": [
    "| Contaminantes | id| Muy bueno | Bueno | Regular | Malo | Muy malo |\n",
    "| :- |:- |:-|:-|:-|:-| :-|\n",
    "|Partículas PM2,5| 9| 0-15|16-30|31-55|56-110|>110|\n",
    "|Partículas PM10| 10| 0-25|26-50|51-90|91-180|>180|\n",
    "|NO2| 8| 0-50|51-100|101-200|201-400|>400|\n",
    "|O3| 14|0-60|61-120|121-180|181-240|>240|\n",
    "|SO2| 1|0-50|51-100|101-350|351-500|>500|\n",
    "[Indices parciales](#indices-parciales)\n",
    "\n",
    "Fuente: [Aire de Madrid](https://airedemadrid.madrid.es/portales/calidadaire/es/Bases-de-datos-y-publicaciones/Bases-de-datos-de-calidad-del-aire/Indices-y-zonas/Indice-de-Calidad-del-Aire/?vgnextfmt=default&vgnextoid=303d635a41187710VgnVCM1000001d4a900aRCRD&vgnextchannel=480285a1259d7710VgnVCM2000001f4a900aRCRD)"
   ]
  },
  {
   "cell_type": "markdown",
   "id": "a7518853",
   "metadata": {},
   "source": [
    "En consecuencia, se procede a la creación de una nueva base de datos con una estructura más apropiada para el análisis."
   ]
  },
  {
   "cell_type": "code",
   "execution_count": null,
   "id": "d7b9becd",
   "metadata": {
    "scrolled": true
   },
   "outputs": [],
   "source": [
    "# Dataframe con los contaminantes de interes\n",
    "df_contaminantes = df[(df['MAGNITUD'].isin([9, 10, 8, 14, 1]))]\n",
    "\n",
    "# Listado de dias y correspondientes codigos de verificacion\n",
    "dias = ['D01','D02','D03','D04','D05','D06','D07','D08','D09','D10',\n",
    "       'D11','D12','D13','D14','D15','D16','D17','D18','D19','D20',\n",
    "       'D21','D22','D23','D24','D25','D26','D27','D28','D29','D30','D31']\n",
    "\n",
    "verf = ['V01','V02','V03','V04','V05','V06','V07','V08','V09','V10',\n",
    "       'V11','V12','V13','V14','V15','V16','V17','V18','V19','V20',\n",
    "       'V21','V22','V23','V24','V25','V26','V27','V28','V29','V30','V31']\n",
    "\n",
    "# Formato long del dataframe\n",
    "# Dias\n",
    "df_dias = df_contaminantes.melt(id_vars=['ESTACION', 'MAGNITUD', 'PUNTO_MUESTREO', 'ANO', 'MES'],\n",
    "                                value_vars = dias,\n",
    "                                var_name = 'DIA',\n",
    "                                value_name = 'VALOR')\n",
    "# Verificaciones\n",
    "df_verf= df_contaminantes.melt(id_vars=['ESTACION', 'MAGNITUD', 'PUNTO_MUESTREO', 'ANO', 'MES'],\n",
    "                               value_vars = verf,\n",
    "                               var_name = 'VER',\n",
    "                               value_name = 'VV')\n",
    "\n",
    "# Asociar los valores de verificacion\n",
    "df_dias['VV'] = df_verf['VV']\n",
    "df = df_dias\n",
    "\n",
    "# Visualizacion\n",
    "df.head(5)"
   ]
  },
  {
   "cell_type": "markdown",
   "id": "ad3aaaca",
   "metadata": {},
   "source": [
    "Con este dataframe, vamos a diferenciar entre los valores no verificados (aquellos que están seguidos de una código de verificación 'N') y los valores no medidos debido a la inexistencia de un día en particular (por ejemplo, el 30 de febrero).\n",
    "\n",
    "Para comenzar, eliminamos del dataframe aquellos registros correspondientes a los días que no existen."
   ]
  },
  {
   "cell_type": "code",
   "execution_count": null,
   "id": "035cd23e",
   "metadata": {},
   "outputs": [],
   "source": [
    "# Creacion de la columna 'date'\n",
    "date_str = df['ANO'].astype(str) + '-' + df['MES'].astype(str) + '-' + df['DIA'].str.replace('D', '').astype(str)\n",
    "df['date'] = pd.to_datetime(date_str, format='%Y-%m-%d', errors='coerce')\n",
    "\n",
    "# Eliminacion de los registros con dias inexistentes\n",
    "df = df.dropna(subset=['date'])\n",
    "\n",
    "# Reordanacion de las columnas\n",
    "df = df[['ESTACION', 'MAGNITUD', 'PUNTO_MUESTREO', 'ANO', 'MES', 'DIA', 'date', 'VALOR', 'VV']]\n",
    "\n",
    "# Reordenacion de los registros por fecha\n",
    "df = df.sort_values(['ESTACION','MAGNITUD','ANO','MES'])"
   ]
  },
  {
   "cell_type": "markdown",
   "id": "fafb62d1",
   "metadata": {},
   "source": [
    "En segundo lugar, vamos a asignar el valor $-1$ a los datos no verificados para poder llevar a cabo una imputación de dichos valores. De esta manera, en análisis posteriores, podremos diferenciar los datos no verificados de aquellos que no están registrados."
   ]
  },
  {
   "cell_type": "code",
   "execution_count": null,
   "id": "86ef6d4a",
   "metadata": {
    "scrolled": true
   },
   "outputs": [],
   "source": [
    "# Asignacion de valores missing\n",
    "df.loc[df['VV'] != 'V', 'VALOR'] = -1\n",
    "df = df.drop(['VV'], axis = 1)"
   ]
  },
  {
   "cell_type": "markdown",
   "id": "f62cf080",
   "metadata": {},
   "source": [
    "Por último, estudiamos la presencia de valores nulos y datos no verificados y nos aseguramos de que no existan filas duplicadas."
   ]
  },
  {
   "cell_type": "code",
   "execution_count": null,
   "id": "ee45f54c",
   "metadata": {
    "scrolled": true
   },
   "outputs": [],
   "source": [
    "# Comprobacion valores nulos y duplicados\n",
    "print(\"Numero de valores nulos en las diferentes variables:\") \n",
    "print(df.isnull().sum())\n",
    "print(\"\\nNumero de datos no verificados:\", (df['VALOR'] == -1).sum())\n",
    "print(\"\\nNumero de registros duplicados:\" ,df.duplicated().sum())"
   ]
  },
  {
   "cell_type": "markdown",
   "id": "bc4fac4d",
   "metadata": {},
   "source": [
    "## 1.2 Imputación de missing"
   ]
  },
  {
   "cell_type": "markdown",
   "id": "cc6c771d",
   "metadata": {},
   "source": [
    "Una primera aproximación para tratar los datos missing podría ser utilizar la técnica de interpolación lineal. La interpolación lineal calcula un valor promedio entre dos puntos conocidos y este se utiliza para reemplazar el valor faltante. Es importante destacar que, al utilizar la interpolación lineal, estamos asumiendo una relación lineal entre los datos.\n",
    "\n",
    "Otra opción es realizar la imputación de missing examinando los contaminantes en diferentes zonas geográficas de la Comunidad de Madrid. Según la división establecida, las zonas se definen de la siguiente manera:\n",
    "\n",
    "* **Zona 1 (interior M30)**: 7 estaciones de tráfico (Escuelas Aguirre, Castellana, Plaza de Castilla, Ramón y Cajal, Cuatro Caminos, Plaza de España y Barrio del Pilar) + 3 estaciones de fondo (Plaza del Carmen, Méndez Álvaro y Retiro).\n",
    "* **Zona 2 (Sureste)**: 1 estación de tráfico (Moratalaz) y 2 estaciones de fondo (Vallecas y Ensanche de Vallecas).\n",
    "* **Zona 3 (Noreste)**: 5 estaciones de fondo (Arturo Soria, Sanchinarro, Urbanización Embajada, Barajas Pueblo y Tres Olivos) y 1 estación suburbana (Juan Carlos I).\n",
    "* **Zona 4 (Noroeste)**: 2 estaciones suburbanas (El Pardo y Casa de Campo).\n",
    "* **Zona 5 (Suroeste)**: 1 estación de tráfico (Plaza Elíptica) y 2 estaciones de fondo (Farolillo y Villaverde).\n",
    "\n",
    "De esta forma, realizaremos la imputación de los valores que no han sido validados."
   ]
  },
  {
   "cell_type": "code",
   "execution_count": null,
   "id": "1e544858",
   "metadata": {
    "scrolled": true
   },
   "outputs": [],
   "source": [
    "# Dataframe con todas las zonas\n",
    "df_zonas = df.pivot_table(index=['MAGNITUD','ANO', 'MES', 'DIA', 'date'], columns='ESTACION', values='VALOR')\n",
    "df_zonas = df_zonas.reset_index()\n",
    "df_zonas.drop(['ANO','MES','DIA'],axis=1, inplace=True)\n",
    "df_zonas = df_zonas.set_index('date')\n",
    "\n",
    "# Renombrar columnas\n",
    "cols = df_zonas.columns\n",
    "nombres = {col: str(col) for col in cols}\n",
    "df_zonas = df_zonas.rename(columns=nombres)\n",
    "\n",
    "# Renombrar magnitudes\n",
    "nombres_magnitudes = {1: 'SO2', 8: 'NO2', 9: 'PM2.5', 10: 'PM10', 14: 'O3'}\n",
    "df_zonas['MAGNITUD'] = df_zonas['MAGNITUD'].map(nombres_magnitudes)\n",
    "\n",
    "# Visualizacion\n",
    "df_zonas.head(5)"
   ]
  },
  {
   "cell_type": "code",
   "execution_count": null,
   "id": "02a13773",
   "metadata": {},
   "outputs": [],
   "source": [
    "# Comprobar que no se toma el valor 0.0\n",
    "#suma = 0\n",
    "#for col in df_zonas:\n",
    "#    suma = suma + len(df_zonas[df_zonas[col]==0])\n",
    "#    \n",
    "#print(\"Numero de veces que se toma el valor 0:\" , suma)\n",
    "#\n",
    "# Cambiar valores NaN por 0\n",
    "#df_zonas = df_zonas.fillna(0)"
   ]
  },
  {
   "cell_type": "code",
   "execution_count": null,
   "id": "7be607d2",
   "metadata": {},
   "outputs": [],
   "source": [
    "# Indices de las estaciones en las diferentes zonas\n",
    "zona1 = ['8','48','50','11','10','4','5','3','47','9'] # la 3,5,9 y 10 no estan --> buscar como incluirlas\n",
    "zona2 = ['20','13','54'] # la 20 y 13 no estan\n",
    "zona3 = ['16','57','55','27','86','59'] # la 86 no esta\n",
    "zona4 = ['58','24']\n",
    "zona5 = ['56','18','17']\n",
    "\n",
    "# Dataframe por zonas\n",
    "# Zona 1\n",
    "zona1 = df_zonas[['8','48','50','11','4','47']]\n",
    "\n",
    "# Zona 2\n",
    "zona2 = df_zonas[['54']]\n",
    "\n",
    "# Zona 3\n",
    "zona3 = df_zonas[['16','57','55','27','59']]\n",
    "\n",
    "# Zona 4\n",
    "zona4 = df_zonas[['58', '24']]\n",
    "\n",
    "# Zona 5\n",
    "zona5 = df_zonas[['56','18','17']]"
   ]
  },
  {
   "cell_type": "markdown",
   "id": "4980e518",
   "metadata": {},
   "source": [
    "Para imputar los valores faltantes, procederemos de la siguiente manera:\n",
    "\n",
    "1. Si exiten mediciones del contaminante en otras estaciones de la misma zona, es decir, si alguna de las columnas tiene un valor distinto de NaN, imputaremos la media de esos valores.\n",
    "2. En caso contrario,  utilizaremos la técnica de interpolación lineal.\n",
    "\n",
    "A continuación, creamos una función para llevar a cabo este proceso:"
   ]
  },
  {
   "cell_type": "code",
   "execution_count": null,
   "id": "03f344ab",
   "metadata": {},
   "outputs": [],
   "source": [
    "def imputar_missing(df):\n",
    "    # Imputar missing cuando hay datos de otras estaciones\n",
    "    for i in range(len(df)):\n",
    "        fila = df.iloc[i,:]\n",
    "        if (fila == -1).any():\n",
    "            indices = np.where(df.iloc[i,:] == -1)[0]\n",
    "            suma = fila.sum() + len(indices)\n",
    "            if (suma) > 0:\n",
    "                media = suma/(sum(fila>0))\n",
    "                fila[indices] = media    \n",
    "                \n",
    "    # Imputar missing cuando no hay datos de otras estaciones\n",
    "    for col in df:\n",
    "        df[col] = df[col].replace(-1, np.nan)\n",
    "        df[col] = df[col].interpolate()\n",
    "    \n",
    "    return df"
   ]
  },
  {
   "cell_type": "markdown",
   "id": "e5977669",
   "metadata": {},
   "source": [
    "Realizamos primero la imputación de los valores faltantes en la **Zona 1 (M30 interior)**."
   ]
  },
  {
   "cell_type": "code",
   "execution_count": null,
   "id": "ae310aa1",
   "metadata": {
    "scrolled": true
   },
   "outputs": [],
   "source": [
    "# Numero de valores faltantes en las diferentes variables\n",
    "print(\"Numero de valores no verificados en las diferentes estaciones de la Zona 1:\", )\n",
    "print(zona1.isin([-1]).sum())"
   ]
  },
  {
   "cell_type": "code",
   "execution_count": null,
   "id": "ced26714",
   "metadata": {
    "scrolled": true
   },
   "outputs": [],
   "source": [
    "# Imputacion de missing\n",
    "zona1 = imputar_missing(zona1)"
   ]
  },
  {
   "cell_type": "markdown",
   "id": "fe2277f7",
   "metadata": {},
   "source": [
    "Verificamos que no haya valores no verficados después de la imputación."
   ]
  },
  {
   "cell_type": "code",
   "execution_count": null,
   "id": "dcc9434e",
   "metadata": {},
   "outputs": [],
   "source": [
    "# Numero de valores faltantes en las diferentes variables\n",
    "print(\"Numero de valores no verificados en las diferentes estaciones de la Zona 1:\", )\n",
    "print(zona1.isin([-1]).sum())"
   ]
  },
  {
   "cell_type": "markdown",
   "id": "51c82e92",
   "metadata": {},
   "source": [
    "Procedemos de manera análoga con el resto de zonas."
   ]
  },
  {
   "cell_type": "code",
   "execution_count": null,
   "id": "457f91b5",
   "metadata": {},
   "outputs": [],
   "source": [
    "# Imputacion de missing\n",
    "zona2 = imputar_missing(zona2)\n",
    "zona3 = imputar_missing(zona3)\n",
    "zona4 = imputar_missing(zona4)\n",
    "zona5 = imputar_missing(zona5)"
   ]
  },
  {
   "cell_type": "markdown",
   "id": "630d3dff",
   "metadata": {},
   "source": [
    "Comprobamos nuevamente que no existan valores nulos después de la imputación en ninguno de los dataframe de las diferentes zonas."
   ]
  },
  {
   "cell_type": "code",
   "execution_count": null,
   "id": "f499d14e",
   "metadata": {},
   "outputs": [],
   "source": [
    "# Numero de valores faltantes en las diferentes variables \n",
    "print(\"Numero de valores no verificados en las diferentes estaciones de la Zona 2:\", )\n",
    "print(zona2.isin([-1]).sum())\n",
    "# Numero de valores faltantes en las diferentes variables\n",
    "print(\"\\nNumero de valores no verificados en las diferentes estaciones de la Zona 3:\", )\n",
    "print(zona3.isin([-1]).sum())\n",
    "# Numero de valores faltantes en las diferentes variables\n",
    "print(\"\\nNumero de valores no verificados en las diferentes estaciones de la Zona 4:\", )\n",
    "print(zona4.isin([-1]).sum())\n",
    "# Numero de valores faltantes en las diferentes variables\n",
    "print(\"\\nNumero de valores no verificados en las diferentes estaciones de la Zona 5:\", )\n",
    "print(zona5.isin([-1]).sum())"
   ]
  },
  {
   "cell_type": "markdown",
   "id": "0fe920c0",
   "metadata": {},
   "source": [
    "Finalmente, creamos una base de datos que agrupa todas las zonas y bases de datos específicas para cada zona definida."
   ]
  },
  {
   "cell_type": "code",
   "execution_count": null,
   "id": "cd619674",
   "metadata": {
    "scrolled": true
   },
   "outputs": [],
   "source": [
    "# Crear el dataframe con las zonas de estudio\n",
    "df_estaciones = pd.concat([zona1, zona2, zona3, zona4, zona5], axis=1)\n",
    "df_estaciones['MAGNITUD'] = df_zonas['MAGNITUD']"
   ]
  },
  {
   "cell_type": "code",
   "execution_count": null,
   "id": "22484016",
   "metadata": {},
   "outputs": [],
   "source": [
    "# Magnitudes para las zonas\n",
    "zona1['MAGNITUD'] = df_estaciones['MAGNITUD']\n",
    "zona2['MAGNITUD'] = df_estaciones['MAGNITUD']\n",
    "zona3['MAGNITUD'] = df_estaciones['MAGNITUD']\n",
    "zona4['MAGNITUD'] = df_estaciones['MAGNITUD']\n",
    "zona4['MAGNITUD'] = df_estaciones['MAGNITUD']\n",
    "zona5['MAGNITUD'] = df_estaciones['MAGNITUD']"
   ]
  },
  {
   "cell_type": "markdown",
   "id": "c1f0690f",
   "metadata": {},
   "source": [
    "## 1.3 Análisis descriptivo"
   ]
  },
  {
   "cell_type": "markdown",
   "id": "c43ab233",
   "metadata": {},
   "source": [
    "Para continuar con el estudio, llevamos a cabo un análisis descriptivo de los datos. Para ello, creamos dos dataframes: uno que contiene la información de las magnitudes o contaminantes y otro que está agrupado por zonas geográficas."
   ]
  },
  {
   "cell_type": "markdown",
   "id": "4a794bc3",
   "metadata": {},
   "source": [
    "**Por magnitudes**"
   ]
  },
  {
   "cell_type": "markdown",
   "id": "b3dff971",
   "metadata": {},
   "source": [
    "En primer lugar, analizamos el dataframe relacionado con los contaminantes. "
   ]
  },
  {
   "cell_type": "code",
   "execution_count": null,
   "id": "efa845ef",
   "metadata": {
    "scrolled": true
   },
   "outputs": [],
   "source": [
    "# Dataframe con las series temporales de los contaminantes\n",
    "df_magnitudes = df.pivot_table(index=['ESTACION', 'ANO', 'MES', 'DIA', 'date'], columns='MAGNITUD', values='VALOR')\n",
    "df_magnitudes = df_magnitudes.reset_index()\n",
    "\n",
    "# Renombrar columnas\n",
    "df_magnitudes.columns = ['ESTACION','ANO','MES','DIA','date','SO2', 'NO2', 'PM2.5', 'PM10','O3']\n",
    "\n",
    "# Visualizacion\n",
    "df_magnitudes.head(5)"
   ]
  },
  {
   "cell_type": "markdown",
   "id": "ca9180f0",
   "metadata": {},
   "source": [
    "Como se puede observar, no todas las estaciones miden todos los contaminantes. Por tanto, para ajustar un modelo de series temporales, tomamos el promedio diario del contaminante utilizando todas las estaciones de medición."
   ]
  },
  {
   "cell_type": "code",
   "execution_count": null,
   "id": "10a5884d",
   "metadata": {
    "scrolled": false
   },
   "outputs": [],
   "source": [
    "# Calculo promedio diario\n",
    "ts_magnitudes = df_magnitudes.groupby('date').mean()\n",
    "ts_magnitudes.drop(columns=['ESTACION', 'MES'], inplace=True)"
   ]
  },
  {
   "cell_type": "markdown",
   "id": "d095300e",
   "metadata": {},
   "source": [
    "El siguiente gráfico muestra las tendencias medias por año de los diferentes contaminantes. Cada línea representa un contaminante específico. En el eje x se encuentran los años, mientras que en el eje y se muestran los valores promedio."
   ]
  },
  {
   "cell_type": "code",
   "execution_count": null,
   "id": "810b6895",
   "metadata": {
    "scrolled": false
   },
   "outputs": [],
   "source": [
    "# Calcular las medias por año\n",
    "contaminantes = ['SO2', 'NO2', 'PM2.5', 'PM10', 'O3']\n",
    "media_anual = ts_magnitudes.groupby('ANO').mean()\n",
    "\n",
    "# Grafico\n",
    "plt.figure(figsize=(10, 6))\n",
    "\n",
    "colors = ['blue', 'green', 'orange', 'red', 'purple']\n",
    "for i, contaminante in enumerate(contaminantes):\n",
    "    plt.plot(media_anual.index, media_anual[contaminante], color=colors[i], label=contaminante)\n",
    "\n",
    "plt.title('Tendencias Medias por Año - Contaminantes')\n",
    "plt.xlabel('Año')\n",
    "plt.ylabel('Valor Promedio')\n",
    "plt.legend() # Buscar mejor sitio\n",
    "plt.grid(True)\n",
    "\n",
    "plt.show()"
   ]
  },
  {
   "cell_type": "markdown",
   "id": "0f9c3549",
   "metadata": {},
   "source": [
    "Como se mostró previamente en la figura [Indices parciales](#indices-parciales), podemos crear un índice parcial por contaminante donde se utiliza la siguiente nomenclatura:\n",
    "* 1: Muy Bueno\n",
    "* 2: Bueno\n",
    "* 3: Regular\n",
    "* 4: Malo\n",
    "* 5: Muy Malo"
   ]
  },
  {
   "cell_type": "code",
   "execution_count": null,
   "id": "fa84728f",
   "metadata": {},
   "outputs": [],
   "source": [
    "def indice_parcial(valores, magnitud):\n",
    "    # Etiqueta de calidad del aire\n",
    "    labels = [1,2,3,4,5]\n",
    "    \n",
    "    # Indice segun las diferentes magnitudes\n",
    "    if magnitud == 'SO2':\n",
    "        bins = [0,50,100,350,500,float(\"inf\")]\n",
    "        indice = pd.cut(valores, bins=bins, labels=labels)\n",
    "        \n",
    "    elif magnitud == 'NO2':\n",
    "        bins = [0,50,100,200,400,float(\"inf\")]\n",
    "        indice = pd.cut(valores, bins=bins, labels=labels)\n",
    "    \n",
    "    elif magnitud == 'PM2.5':\n",
    "        bins = [0,15,30,55,110,float(\"inf\")]\n",
    "        indice = pd.cut(valores, bins=bins, labels=labels)\n",
    "    \n",
    "    elif magnitud == 'PM10':\n",
    "        bins = [0,25,50,90,180,float(\"inf\")]\n",
    "        indice = pd.cut(valores, bins=bins, labels=labels)\n",
    "    \n",
    "    elif magnitud == 'O3':\n",
    "        bins = [0,60,120,180,240,float(\"inf\")]\n",
    "        indice = pd.cut(valores, bins=bins, labels=labels)\n",
    "        \n",
    "    else:\n",
    "        print('El contaminante no es valido')\n",
    "        \n",
    "    return indice"
   ]
  },
  {
   "cell_type": "markdown",
   "id": "0a4d9c35",
   "metadata": {},
   "source": [
    "Además, podemos crear un índice general  que se obtiene a partir de los índices parciales y se calcula tomando el valor más alto entre ellos. De esta manera, el índice general representa el nivel de restricción más alto entre todos los contaminantes considerados."
   ]
  },
  {
   "cell_type": "code",
   "execution_count": null,
   "id": "e87283da",
   "metadata": {},
   "outputs": [],
   "source": [
    "def indice_general(arr):\n",
    "    indice = np.max(arr)\n",
    "    return indice"
   ]
  },
  {
   "cell_type": "markdown",
   "id": "a9aa39c6",
   "metadata": {},
   "source": [
    "Aplicamos estas funciones a la base de datos agrupada por contaminantes para generar los índices parciales correspondientes a cada contaminante, así como el índice general que engloba todas las mediciones."
   ]
  },
  {
   "cell_type": "code",
   "execution_count": null,
   "id": "f5e5d786",
   "metadata": {
    "scrolled": true
   },
   "outputs": [],
   "source": [
    "# Indice para S02\n",
    "ts_magnitudes['I1'] = indice_parcial(ts_magnitudes['SO2'], 'SO2')\n",
    "\n",
    "# Indice para N02\n",
    "ts_magnitudes['I2'] = indice_parcial(ts_magnitudes['NO2'], 'NO2')\n",
    "\n",
    "# Indice para PM2.5\n",
    "ts_magnitudes['I3'] = indice_parcial(ts_magnitudes['PM2.5'], 'PM2.5')\n",
    "\n",
    "# Indice para PM10\n",
    "ts_magnitudes['I4'] = indice_parcial(ts_magnitudes['PM10'], 'PM10')\n",
    "\n",
    "# Indice para O3\n",
    "ts_magnitudes['I5'] = indice_parcial(ts_magnitudes['O3'], 'O3')\n",
    "\n",
    "# Indice general\n",
    "ts_magnitudes['ICA'] = ts_magnitudes.loc[:,'I1':'I5'].apply(indice_general,axis=1)\n",
    "\n",
    "# Visualizacion\n",
    "ts_magnitudes.head(5)"
   ]
  },
  {
   "cell_type": "markdown",
   "id": "6d006778",
   "metadata": {},
   "source": [
    "**Por zonas geográficas**"
   ]
  },
  {
   "cell_type": "markdown",
   "id": "d58c761b",
   "metadata": {},
   "source": [
    "**Nota:** Hacer un dataframe que conste de:\n",
    "\n",
    "* filas: las diferentes zonas \n",
    "* columnas: indices parcilales e indice general para cada zona\n",
    "\n",
    "Ver como hacer esto en una función."
   ]
  },
  {
   "cell_type": "markdown",
   "id": "a190157f",
   "metadata": {},
   "source": [
    "Durante el proceso de imputación de los valores no verificados, habíamos examinado la distribución por zonas. \n",
    "\n",
    "Para calcular el índice parcial de cada contaminante en función de la zona, calculamos la media para cada fila del dataframe y utilizamos ese valor para generar el índice parcial correspondiente."
   ]
  },
  {
   "cell_type": "code",
   "execution_count": null,
   "id": "8a358759",
   "metadata": {
    "scrolled": true
   },
   "outputs": [],
   "source": [
    "contaminantes"
   ]
  },
  {
   "cell_type": "code",
   "execution_count": null,
   "id": "d2e5e0dd",
   "metadata": {},
   "outputs": [],
   "source": [
    "# Zona 1\n",
    "zona1_media = zona1.groupby(['date','MAGNITUD']).mean()\n",
    "zona1_media = zona1_media.mean(axis=1).reset_index()\n",
    "zona1_media = zona1_media.rename(columns={0: 'valor'})\n",
    "zona1_media = zona1_media.pivot_table(index=['date'], columns='MAGNITUD', values='valor')\n",
    "zona1_media = zona1_media[contaminantes]\n",
    "# Indice para S02\n",
    "zona1_media['I1'] = indice_parcial(zona1_media['SO2'], 'SO2')\n",
    "\n",
    "# Indice para N02\n",
    "zona1_media['I2'] = indice_parcial(zona1_media['NO2'], 'NO2')\n",
    "\n",
    "# Indice para PM2.5\n",
    "zona1_media['I3'] = indice_parcial(zona1_media['PM2.5'], 'PM2.5')\n",
    "\n",
    "# Indice para PM10\n",
    "zona1_media['I4'] = indice_parcial(zona1_media['PM10'], 'PM10')\n",
    "\n",
    "# Indice para O3\n",
    "zona1_media['I5'] = indice_parcial(zona1_media['O3'], 'O3')\n",
    "\n",
    "# Indice general\n",
    "zona1_media['ICA'] = zona1_media.loc[:,'I1':'I5'].apply(indice_general,axis=1)\n",
    "\n",
    "# Visualizacion\n",
    "zona1_media.head(5)"
   ]
  },
  {
   "cell_type": "code",
   "execution_count": null,
   "id": "5019ab4f",
   "metadata": {},
   "outputs": [],
   "source": [
    "# Zona 2\n",
    "zona2_media = zona2.groupby(['date','MAGNITUD']).mean()\n",
    "zona2_media = zona2_media.mean(axis=1).reset_index()\n",
    "zona2_media = zona2_media.rename(columns={0: 'valor'})\n",
    "zona2_media = zona2_media.fillna(0)\n",
    "zona2_media = zona2_media.pivot_table(index=['date'], columns='MAGNITUD', values='valor')\n",
    "zona2_media = zona2_media[contaminantes]\n",
    "\n",
    "# Indice para S02\n",
    "zona2_media['I1'] = indice_parcial(zona2_media['SO2'], 'SO2')\n",
    "\n",
    "# Indice para N02\n",
    "zona2_media['I2'] = indice_parcial(zona2_media['NO2'], 'NO2')\n",
    "\n",
    "# Indice para PM2.5\n",
    "zona2_media['I3'] = indice_parcial(zona2_media['PM2.5'], 'PM2.5')\n",
    "\n",
    "# Indice para PM10\n",
    "zona2_media['I4'] = indice_parcial(zona2_media['PM10'], 'PM10')\n",
    "\n",
    "# Indice para O3\n",
    "zona2_media['I5'] = indice_parcial(zona2_media['O3'], 'O3')\n",
    "\n",
    "# Indice general\n",
    "zona2_media['ICA'] = zona2_media.loc[:,'I1':'I5'].apply(indice_general,axis=1)\n",
    "\n",
    "# Visualizacion\n",
    "zona2_media.head(5)"
   ]
  },
  {
   "cell_type": "code",
   "execution_count": null,
   "id": "c77332c4",
   "metadata": {},
   "outputs": [],
   "source": [
    "# Zona 3\n",
    "zona3_media = zona3.groupby(['date','MAGNITUD']).mean()\n",
    "zona3_media = zona3_media.mean(axis=1).reset_index()\n",
    "zona3_media = zona3_media.rename(columns={0: 'valor'})\n",
    "zona3_media = zona3_media.pivot_table(index=['date'], columns='MAGNITUD', values='valor')\n",
    "zona3_media = zona3_media[contaminantes]\n",
    "zona3_media"
   ]
  },
  {
   "cell_type": "code",
   "execution_count": null,
   "id": "87cf165e",
   "metadata": {},
   "outputs": [],
   "source": [
    "# Zona 3\n",
    "zona3_media = zona3.groupby(['date','MAGNITUD']).mean()\n",
    "zona3_media = zona3_media.mean(axis=1).reset_index()\n",
    "zona3_media = zona3_media.rename(columns={0: 'valor'})\n",
    "zona3_media = zona3_media.pivot_table(index=['date'], columns='MAGNITUD', values='valor')\n",
    "zona3_media = zona3_media[contaminantes]\n",
    "\n",
    "# Indice para S02\n",
    "zona3_media['I1'] = indice_parcial(zona3_media['SO2'], 'SO2')\n",
    "\n",
    "# Indice para N02\n",
    "zona3_media['I2'] = indice_parcial(zona3_media['NO2'], 'NO2')\n",
    "\n",
    "# Indice para PM2.5\n",
    "zona3_media['I3'] = indice_parcial(zona3_media['PM2.5'], 'PM2.5')\n",
    "\n",
    "# Indice para PM10\n",
    "zona3_media['I4'] = indice_parcial(zona3_media['PM10'], 'PM10')\n",
    "\n",
    "# Indice para O3\n",
    "zona3_media['I5'] = indice_parcial(zona3_media['O3'], 'O3')\n",
    "\n",
    "# Indice general\n",
    "zona3_media['ICA'] = zona3_media.loc[:,'I1':'I5'].apply(indice_general,axis=1)\n",
    "\n",
    "# Visualizacion\n",
    "zona3_media.head(5)"
   ]
  },
  {
   "cell_type": "code",
   "execution_count": null,
   "id": "90739ca1",
   "metadata": {
    "scrolled": true
   },
   "outputs": [],
   "source": [
    "# Zona 3\n",
    "zona4_media = zona4.groupby(['date','MAGNITUD']).mean()\n",
    "zona4_media = zona4_media.mean(axis=1).reset_index()\n",
    "zona4_media = zona4_media.rename(columns={0: 'valor'})\n",
    "zona4_media = zona4_media.pivot_table(index=['date'], columns='MAGNITUD', values='valor')\n",
    "zona4_media = zona4_media[contaminantes]\n",
    "\n",
    "# Indice para S02\n",
    "zona4_media['I1'] = indice_parcial(zona4_media['SO2'], 'SO2')\n",
    "\n",
    "# Indice para N02\n",
    "zona4_media['I2'] = indice_parcial(zona4_media['NO2'], 'NO2')\n",
    "\n",
    "# Indice para PM2.5\n",
    "zona4_media['I3'] = indice_parcial(zona4_media['PM2.5'], 'PM2.5')\n",
    "\n",
    "# Indice para PM10\n",
    "zona4_media['I4'] = indice_parcial(zona4_media['PM10'], 'PM10')\n",
    "\n",
    "# Indice para O3\n",
    "zona4_media['I5'] = indice_parcial(zona4_media['O3'], 'O3')\n",
    "\n",
    "# Indice general\n",
    "zona4_media['ICA'] = zona4_media.loc[:,'I1':'I5'].apply(indice_general,axis=1)\n",
    "\n",
    "# Visualizacion\n",
    "zona4_media.head(5)"
   ]
  },
  {
   "cell_type": "code",
   "execution_count": null,
   "id": "41afc105",
   "metadata": {
    "scrolled": false
   },
   "outputs": [],
   "source": [
    "# Zona 5\n",
    "zona5_media = zona5.groupby(['date','MAGNITUD']).mean()\n",
    "zona5_media = zona5_media.mean(axis=1).reset_index()\n",
    "zona5_media = zona5_media.rename(columns={0: 'valor'})\n",
    "zona5_media = zona5_media.pivot_table(index=['date'], columns='MAGNITUD', values='valor')\n",
    "zona5_media = zona5_media[contaminantes]\n",
    "\n",
    "# Indice para S02\n",
    "zona5_media['I1'] = indice_parcial(zona5_media['SO2'], 'SO2')\n",
    "\n",
    "# Indice para N02\n",
    "zona5_media['I2'] = indice_parcial(zona5_media['NO2'], 'NO2')\n",
    "\n",
    "# Indice para PM2.5\n",
    "zona5_media['I3'] = indice_parcial(zona5_media['PM2.5'], 'PM2.5')\n",
    "\n",
    "# Indice para PM10\n",
    "zona5_media['I4'] = indice_parcial(zona5_media['PM10'], 'PM10')\n",
    "\n",
    "# Indice para O3\n",
    "zona5_media['I5'] = indice_parcial(zona5_media['O3'], 'O3')\n",
    "\n",
    "# Indice general\n",
    "zona5_media['ICA'] = zona5_media.loc[:,'I1':'I5'].apply(indice_general,axis=1)\n",
    "\n",
    "# Visualizacion\n",
    "zona5_media.head(5)"
   ]
  },
  {
   "cell_type": "markdown",
   "id": "f6fb4b01",
   "metadata": {},
   "source": [
    "**Nota:** Ver cómo juntar los dataframes en 1 solo que refleje las zonas."
   ]
  },
  {
   "cell_type": "markdown",
   "id": "e883e57e",
   "metadata": {},
   "source": [
    "Vamos a crear un mapa de la Comunidad de Madrid con las zonas agrupadas y representar el índice de calidad del aire general en cada zona mediante el uso de diferentes colores."
   ]
  },
  {
   "cell_type": "code",
   "execution_count": null,
   "id": "da0c4109",
   "metadata": {},
   "outputs": [],
   "source": [
    "#!pip install folium"
   ]
  },
  {
   "cell_type": "code",
   "execution_count": null,
   "id": "8221f039",
   "metadata": {},
   "outputs": [],
   "source": [
    "# Librerias\n",
    "import folium\n",
    "from folium.plugins import MarkerCluster\n",
    "from folium.vector_layers import Polygon"
   ]
  },
  {
   "cell_type": "code",
   "execution_count": null,
   "id": "4a773b9b",
   "metadata": {},
   "outputs": [],
   "source": [
    "# Crear mapa centrado en la Comunidad de Madrid\n",
    "madrid_map = folium.Map(location=[40.4168, -3.7038], zoom_start=11)"
   ]
  },
  {
   "cell_type": "code",
   "execution_count": null,
   "id": "e4f5677d",
   "metadata": {},
   "outputs": [],
   "source": [
    "# Definir las zonas \n",
    "# Coordenadas zona 1\n",
    "interior_coordinates = [[40.419, -3.717], [40.419, -3.686], \n",
    "                        [40.434, -3.686], [40.434, -3.717]]\n",
    "\n",
    "# Coordenadas zona 2\n",
    "radial1_coordinates = [[40.434, -3.717], [40.434, -3.686],\n",
    "                       [40.442, -3.686], [40.442, -3.717]]\n",
    "\n",
    "# Coordenadas zona 3\n",
    "radial2_coordinates = [[40.434, -3.717], [40.434, -3.748],\n",
    "                       [40.442, -3.748], [40.442, -3.717]]\n",
    "\n",
    "# Coordenadas zona 4\n",
    "radial3_coordinates = [[40.434, -3.717], [40.434, -3.779],\n",
    "                       [40.442, -3.779], [40.442, -3.717]]\n",
    "\n",
    "# Coordenadas zona 5\n",
    "radial4_coordinates = [[40.434, -3.717], [40.434, -3.654], \n",
    "                       [40.442, -3.654], [40.442, -3.717]]"
   ]
  },
  {
   "cell_type": "code",
   "execution_count": null,
   "id": "f1f86848",
   "metadata": {},
   "outputs": [],
   "source": [
    "# Capas\n",
    "# Capa zona 1\n",
    "central_polygon = folium.vector_layers.Polygon(locations=interior_coordinates, color='blue', fill=True, fill_color='green', fill_opacity=0.3)\n",
    "central_polygon.add_to(madrid_map)\n",
    "\n",
    "# Capa zona2\n",
    "radial1_polygon = folium.vector_layers.Polygon(locations=radial1_coordinates, color='blue', fill=True, fill_color='green', fill_opacity=0.3)\n",
    "radial1_polygon.add_to(madrid_map)\n",
    "\n",
    "# Capa zona 3\n",
    "radial2_polygon = folium.vector_layers.Polygon(locations=radial2_coordinates, color='blue', fill=True, fill_color='green', fill_opacity=0.3)\n",
    "radial2_polygon.add_to(madrid_map)\n",
    "\n",
    "# Capa zona 4\n",
    "radial3_polygon = folium.vector_layers.Polygon(locations=radial3_coordinates, color='blue', fill=True, fill_color='green', fill_opacity=0.3)\n",
    "radial3_polygon.add_to(madrid_map)\n",
    "\n",
    "# Capa zona 5\n",
    "radial4_polygon = folium.vector_layers.Polygon(locations=radial4_coordinates, color='blue', fill=True, fill_color='green', fill_opacity=0.3)\n",
    "radial4_polygon.add_to(madrid_map)"
   ]
  },
  {
   "cell_type": "code",
   "execution_count": null,
   "id": "25f035f6",
   "metadata": {},
   "outputs": [],
   "source": [
    "# Visualizacion\n",
    "madrid_map"
   ]
  },
  {
   "cell_type": "markdown",
   "id": "7a8f92e6",
   "metadata": {},
   "source": [
    "## 1.4 Outliers"
   ]
  },
  {
   "cell_type": "markdown",
   "id": "e3095e22",
   "metadata": {},
   "source": [
    "Podemos estudiar los outliers de varias formas. En primer lugar, podemos analizar los outliers por zonas geográficas."
   ]
  },
  {
   "cell_type": "markdown",
   "id": "2ea75f11",
   "metadata": {},
   "source": [
    "En primer lugar, definimos una función para crear lo gráficos boxplot"
   ]
  },
  {
   "cell_type": "code",
   "execution_count": null,
   "id": "de5b0da5",
   "metadata": {},
   "outputs": [],
   "source": [
    "# Recodificacion de las magnitudes con sus respectivos nombres\n",
    "nombres_magnitudes = {1: 'SO2', 8: 'NO2', 9: 'PM2.5', 10: 'PM10', 14: 'O3'}\n",
    "magnitudes = ['SO2', 'NO2', 'PM2.5', 'PM10', 'O3']\n",
    "\n",
    "# Funcion para crear boxplot\n",
    "def boxplot_zona(df):\n",
    "    # Crear columna 'MAGNITUD' en el dataframe\n",
    "    df['MAGNITUD'] = df_estaciones['MAGNITUD']\n",
    "    df['MAGNITUD'] = df['MAGNITUD'].map(nombres_magnitudes)\n",
    "    \n",
    "    # Crear figura y ejes\n",
    "    fig, axes = plt.subplots(5, 1, figsize=(10, 15))\n",
    "    \n",
    "    # Iterar sobre las magnitudes y crear un subplot para cada una\n",
    "    for i, magnitud in enumerate(magnitudes):\n",
    "        # Filtrar los datos por magnitud y reemplazar los ceros por NaN\n",
    "        data = df[df['MAGNITUD'] == magnitud].replace(0, np.nan) \n",
    "        \n",
    "        # Crear el boxplot en el subplot correspondiente\n",
    "        sns.boxplot(data=data, ax=axes[i])\n",
    "        axes[i].set_title(f'Boxplot de la Magnitud {magnitud}')\n",
    "        axes[i].set_xlabel('Magnitud')\n",
    "        axes[i].set_ylabel('Valores')\n",
    "        \n",
    "    # Ajustar espacio entre subplots\n",
    "    plt.tight_layout()\n",
    "    \n",
    "    return plt.show()"
   ]
  },
  {
   "cell_type": "markdown",
   "id": "9f72cd6e",
   "metadata": {},
   "source": [
    "Estudiamos los boxplot en las diferentes zonas geográficas.\n",
    "\n",
    "Comenzamos por la **Zona 1 (M30 interior)**."
   ]
  },
  {
   "cell_type": "code",
   "execution_count": null,
   "id": "f8ae6374",
   "metadata": {
    "scrolled": true
   },
   "outputs": [],
   "source": [
    "# Zona1\n",
    "boxplot_zona(zona1)"
   ]
  },
  {
   "cell_type": "code",
   "execution_count": null,
   "id": "c8af6fec",
   "metadata": {},
   "outputs": [],
   "source": [
    "# Zona 2\n",
    "boxplot_zona(zona2)"
   ]
  },
  {
   "cell_type": "code",
   "execution_count": null,
   "id": "0c5a943e",
   "metadata": {},
   "outputs": [],
   "source": [
    "# Zona 3\n",
    "boxplot_zona(zona3)"
   ]
  },
  {
   "cell_type": "code",
   "execution_count": null,
   "id": "d56b1b84",
   "metadata": {},
   "outputs": [],
   "source": [
    "# Zona 4\n",
    "boxplot_zona(zona4)"
   ]
  },
  {
   "cell_type": "code",
   "execution_count": null,
   "id": "17c0d986",
   "metadata": {},
   "outputs": [],
   "source": [
    "# Zona 5\n",
    "boxplot_zona(zona5)"
   ]
  }
 ],
 "metadata": {
  "kernelspec": {
   "display_name": "Python 3 (ipykernel)",
   "language": "python",
   "name": "python3"
  },
  "language_info": {
   "codemirror_mode": {
    "name": "ipython",
    "version": 3
   },
   "file_extension": ".py",
   "mimetype": "text/x-python",
   "name": "python",
   "nbconvert_exporter": "python",
   "pygments_lexer": "ipython3",
   "version": "3.9.12"
  }
 },
 "nbformat": 4,
 "nbformat_minor": 5
}
