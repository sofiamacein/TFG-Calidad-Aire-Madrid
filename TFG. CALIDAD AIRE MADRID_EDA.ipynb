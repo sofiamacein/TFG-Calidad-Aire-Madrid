{
 "cells": [
  {
   "cell_type": "markdown",
   "id": "6596d52d",
   "metadata": {},
   "source": [
    "<img src=\"logoucm.png\" style=\"height: 100px\">\n",
    "\n",
    "<h1><center>Calidad del aire en la Comunidad de Madrid</center></h1>"
   ]
  },
  {
   "cell_type": "markdown",
   "id": "80d28b7c",
   "metadata": {},
   "source": [
    "# Resumen"
   ]
  },
  {
   "cell_type": "markdown",
   "id": "087a3c8f",
   "metadata": {},
   "source": [
    "El Índice de Calidad del Aire (ICA) es un valor adimensional que se calcula a partir de los datos recopilados en las estaciones de monitoreo, teniendo en cuenta los límites establecidos por la legislación y los efectos nocivos para la salud de varios contaminantes.\n",
    "\n",
    "El objetivo de este trabajo de fin de grado es desarrollar índices de calidad del aire pronosticados para cada una de las cinco zonas del municipio de Madrid. Además, se presentarán diferentes métodos para realizar una predicción diaria de la calidad del aire en la Comunidad de Madrid, utilizando la información disponible en el siguiente <a href=\"https://airedemadrid.madrid.es/portales/calidadaire/es/Servicios-y-recomendaciones/Prediccion-diaria/?vgnextfmt=default&vgnextchannel=e6ae471c5c503710VgnVCM1000008a4a900aRCRD\">enlace</a>. "
   ]
  },
  {
   "cell_type": "markdown",
   "id": "4340b273",
   "metadata": {},
   "source": [
    "# Introducción"
   ]
  },
  {
   "cell_type": "markdown",
   "id": "9ddb258b",
   "metadata": {},
   "source": [
    "Los datos utilizados en este trabajo fueron recopilados diariamente desde 2010 hasta 2021 por la Comunidad de Madrid. Estos datos se refieren a la concentración de diversos contaminantes medidos en 24 estaciones distribuidas en todo el territorio de la comunidad. La Comunidad de Madrid publica estos datos diariamente en su página web, en el Portal de Calidad del Aire, junto con un Índice de Calidad del Aire. El objetivo de este índice es proporcionar una evaluación de los efectos de la contaminación atmosférica en la salud.\n",
    "\n",
    "Para obtener más información sobre las variables recopiladas, se puede consultar el Interprete fichero en el siguiente enlace: <a href=\"https://airedemadrid.madrid.es/portal/site/calidadaire\">Interprete fichero</a>.\n",
    "\n",
    "A continuación, se presenta una breve descripción de los datos recopilados:"
   ]
  },
  {
   "cell_type": "markdown",
   "id": "7082d2e5",
   "metadata": {},
   "source": [
    "| Atributo | Descripción |\n",
    "| :- |:- |\n",
    "|**PROVINCIA**| Identificador de la provincia (en este caso siempre '28'-Madrid)|\n",
    "|**MUNICIPIO**| Identificador del municipio (en este caso siempre '79'-Mardrid|\n",
    "|**ESTACION**| Identificador de la estación de recogida de los contaminantes|\n",
    "|**MAGNITUD**| Identificador del contaminante|\n",
    "|**PUNTO MUESTREO**| Identificador del punto de muestro|\n",
    "|**ANO**| Año de recogida del dato|\n",
    "|**MES**| Mes de recogida el dato|\n",
    "|**D01**| D0_X_ indica el día del mes|\n",
    "|**V01**| V0_X_ indica si el dato está verificado o no (Sí: \"V\", No: \"N\")|"
   ]
  },
  {
   "cell_type": "markdown",
   "id": "fa6c6593",
   "metadata": {},
   "source": [
    "# 0. Librerías"
   ]
  },
  {
   "cell_type": "code",
   "execution_count": 1,
   "id": "33489261",
   "metadata": {},
   "outputs": [],
   "source": [
    "# Librerias \n",
    "import numpy as np\n",
    "import pandas as pd\n",
    "\n",
    "import seaborn as sns\n",
    "import matplotlib.pyplot as plt  \n",
    "\n",
    "%matplotlib inline"
   ]
  },
  {
   "cell_type": "code",
   "execution_count": 2,
   "id": "3b994164",
   "metadata": {},
   "outputs": [],
   "source": [
    "import warnings\n",
    "warnings.filterwarnings('ignore')"
   ]
  },
  {
   "cell_type": "markdown",
   "id": "d3af4a91",
   "metadata": {},
   "source": [
    "# 1. Análisis exploratorio de los datos"
   ]
  },
  {
   "cell_type": "markdown",
   "id": "a5ad5e84",
   "metadata": {},
   "source": [
    "## 1.1 Limpieza de la base de datos"
   ]
  },
  {
   "cell_type": "markdown",
   "id": "4844916d",
   "metadata": {},
   "source": [
    "En primer lugar, procedemos a abrir el fichero que contiene los datos y analizamos su dimensión y estructura."
   ]
  },
  {
   "cell_type": "code",
   "execution_count": 3,
   "id": "6a0a135c",
   "metadata": {},
   "outputs": [
    {
     "data": {
      "text/html": [
       "<div>\n",
       "<style scoped>\n",
       "    .dataframe tbody tr th:only-of-type {\n",
       "        vertical-align: middle;\n",
       "    }\n",
       "\n",
       "    .dataframe tbody tr th {\n",
       "        vertical-align: top;\n",
       "    }\n",
       "\n",
       "    .dataframe thead th {\n",
       "        text-align: right;\n",
       "    }\n",
       "</style>\n",
       "<table border=\"1\" class=\"dataframe\">\n",
       "  <thead>\n",
       "    <tr style=\"text-align: right;\">\n",
       "      <th></th>\n",
       "      <th>Unnamed: 0</th>\n",
       "      <th>PROVINCIA</th>\n",
       "      <th>MUNICIPIO</th>\n",
       "      <th>ESTACION</th>\n",
       "      <th>MAGNITUD</th>\n",
       "      <th>PUNTO_MUESTREO</th>\n",
       "      <th>ANO</th>\n",
       "      <th>MES</th>\n",
       "      <th>D01</th>\n",
       "      <th>V01</th>\n",
       "      <th>...</th>\n",
       "      <th>D27</th>\n",
       "      <th>V27</th>\n",
       "      <th>D28</th>\n",
       "      <th>V28</th>\n",
       "      <th>D29</th>\n",
       "      <th>V29</th>\n",
       "      <th>D30</th>\n",
       "      <th>V30</th>\n",
       "      <th>D31</th>\n",
       "      <th>V31</th>\n",
       "    </tr>\n",
       "  </thead>\n",
       "  <tbody>\n",
       "    <tr>\n",
       "      <th>0</th>\n",
       "      <td>0</td>\n",
       "      <td>28</td>\n",
       "      <td>79</td>\n",
       "      <td>4</td>\n",
       "      <td>1</td>\n",
       "      <td>28079004_1_38</td>\n",
       "      <td>2010</td>\n",
       "      <td>1</td>\n",
       "      <td>12.0</td>\n",
       "      <td>V</td>\n",
       "      <td>...</td>\n",
       "      <td>16.0</td>\n",
       "      <td>V</td>\n",
       "      <td>21.0</td>\n",
       "      <td>V</td>\n",
       "      <td>22.0</td>\n",
       "      <td>V</td>\n",
       "      <td>17.0</td>\n",
       "      <td>V</td>\n",
       "      <td>15.0</td>\n",
       "      <td>V</td>\n",
       "    </tr>\n",
       "    <tr>\n",
       "      <th>1</th>\n",
       "      <td>1</td>\n",
       "      <td>28</td>\n",
       "      <td>79</td>\n",
       "      <td>4</td>\n",
       "      <td>1</td>\n",
       "      <td>28079004_1_38</td>\n",
       "      <td>2010</td>\n",
       "      <td>2</td>\n",
       "      <td>18.0</td>\n",
       "      <td>V</td>\n",
       "      <td>...</td>\n",
       "      <td>15.0</td>\n",
       "      <td>V</td>\n",
       "      <td>13.0</td>\n",
       "      <td>V</td>\n",
       "      <td>0.0</td>\n",
       "      <td>N</td>\n",
       "      <td>0.0</td>\n",
       "      <td>N</td>\n",
       "      <td>0.0</td>\n",
       "      <td>N</td>\n",
       "    </tr>\n",
       "    <tr>\n",
       "      <th>2</th>\n",
       "      <td>2</td>\n",
       "      <td>28</td>\n",
       "      <td>79</td>\n",
       "      <td>4</td>\n",
       "      <td>1</td>\n",
       "      <td>28079004_1_38</td>\n",
       "      <td>2010</td>\n",
       "      <td>3</td>\n",
       "      <td>13.0</td>\n",
       "      <td>V</td>\n",
       "      <td>...</td>\n",
       "      <td>14.0</td>\n",
       "      <td>V</td>\n",
       "      <td>16.0</td>\n",
       "      <td>V</td>\n",
       "      <td>15.0</td>\n",
       "      <td>V</td>\n",
       "      <td>13.0</td>\n",
       "      <td>V</td>\n",
       "      <td>14.0</td>\n",
       "      <td>V</td>\n",
       "    </tr>\n",
       "    <tr>\n",
       "      <th>3</th>\n",
       "      <td>3</td>\n",
       "      <td>28</td>\n",
       "      <td>79</td>\n",
       "      <td>4</td>\n",
       "      <td>1</td>\n",
       "      <td>28079004_1_38</td>\n",
       "      <td>2010</td>\n",
       "      <td>4</td>\n",
       "      <td>14.0</td>\n",
       "      <td>V</td>\n",
       "      <td>...</td>\n",
       "      <td>9.0</td>\n",
       "      <td>V</td>\n",
       "      <td>9.0</td>\n",
       "      <td>V</td>\n",
       "      <td>9.0</td>\n",
       "      <td>V</td>\n",
       "      <td>9.0</td>\n",
       "      <td>V</td>\n",
       "      <td>0.0</td>\n",
       "      <td>N</td>\n",
       "    </tr>\n",
       "    <tr>\n",
       "      <th>4</th>\n",
       "      <td>4</td>\n",
       "      <td>28</td>\n",
       "      <td>79</td>\n",
       "      <td>4</td>\n",
       "      <td>1</td>\n",
       "      <td>28079004_1_38</td>\n",
       "      <td>2010</td>\n",
       "      <td>5</td>\n",
       "      <td>8.0</td>\n",
       "      <td>V</td>\n",
       "      <td>...</td>\n",
       "      <td>9.0</td>\n",
       "      <td>V</td>\n",
       "      <td>9.0</td>\n",
       "      <td>V</td>\n",
       "      <td>9.0</td>\n",
       "      <td>V</td>\n",
       "      <td>9.0</td>\n",
       "      <td>V</td>\n",
       "      <td>9.0</td>\n",
       "      <td>V</td>\n",
       "    </tr>\n",
       "  </tbody>\n",
       "</table>\n",
       "<p>5 rows × 70 columns</p>\n",
       "</div>"
      ],
      "text/plain": [
       "   Unnamed: 0  PROVINCIA  MUNICIPIO  ESTACION  MAGNITUD PUNTO_MUESTREO   ANO  \\\n",
       "0           0         28         79         4         1  28079004_1_38  2010   \n",
       "1           1         28         79         4         1  28079004_1_38  2010   \n",
       "2           2         28         79         4         1  28079004_1_38  2010   \n",
       "3           3         28         79         4         1  28079004_1_38  2010   \n",
       "4           4         28         79         4         1  28079004_1_38  2010   \n",
       "\n",
       "   MES   D01 V01  ...   D27 V27   D28 V28   D29 V29   D30 V30   D31 V31  \n",
       "0    1  12.0   V  ...  16.0   V  21.0   V  22.0   V  17.0   V  15.0   V  \n",
       "1    2  18.0   V  ...  15.0   V  13.0   V   0.0   N   0.0   N   0.0   N  \n",
       "2    3  13.0   V  ...  14.0   V  16.0   V  15.0   V  13.0   V  14.0   V  \n",
       "3    4  14.0   V  ...   9.0   V   9.0   V   9.0   V   9.0   V   0.0   N  \n",
       "4    5   8.0   V  ...   9.0   V   9.0   V   9.0   V   9.0   V   9.0   V  \n",
       "\n",
       "[5 rows x 70 columns]"
      ]
     },
     "execution_count": 3,
     "metadata": {},
     "output_type": "execute_result"
    }
   ],
   "source": [
    "# Importacion de datos\n",
    "df = pd.read_csv(\"./Datos/datos_total.csv\", delimiter = \",\")\n",
    "df_original = df.copy()\n",
    "\n",
    "df.head(5)"
   ]
  },
  {
   "cell_type": "code",
   "execution_count": 4,
   "id": "7a26e9bd",
   "metadata": {
    "scrolled": false
   },
   "outputs": [
    {
     "data": {
      "text/plain": [
       "(21633, 67)"
      ]
     },
     "execution_count": 4,
     "metadata": {},
     "output_type": "execute_result"
    }
   ],
   "source": [
    "# Eliminacion de variables\n",
    "df = df.drop(columns=['Unnamed: 0', 'PROVINCIA', 'MUNICIPIO'], axis = 1)\n",
    "\n",
    "# Dimension de los datos\n",
    "df.shape"
   ]
  },
  {
   "cell_type": "markdown",
   "id": "0d35444c",
   "metadata": {},
   "source": [
    "Disponemos de un total de 21.633 registros que contienen información sobre 70 variables. Sin embargo, hemos eliminado las variables **_PROVINCIA_** y **_MUNICIPIO_** debido a su redundancia, ya que los datos se refieren exclusivamente a la Comunidad de Madrid. Además, hemos eliminado la variable **_Unnamed:0_**. Por lo tanto, la base de datos ahora se compone de las 67 variables restantes para cada uno de los 21.633 registros."
   ]
  },
  {
   "cell_type": "code",
   "execution_count": 5,
   "id": "76b4e2cb",
   "metadata": {
    "scrolled": true
   },
   "outputs": [
    {
     "name": "stdout",
     "output_type": "stream",
     "text": [
      "<class 'pandas.core.frame.DataFrame'>\n",
      "RangeIndex: 21633 entries, 0 to 21632\n",
      "Data columns (total 67 columns):\n",
      " #   Column          Non-Null Count  Dtype  \n",
      "---  ------          --------------  -----  \n",
      " 0   ESTACION        21633 non-null  int64  \n",
      " 1   MAGNITUD        21633 non-null  int64  \n",
      " 2   PUNTO_MUESTREO  21633 non-null  object \n",
      " 3   ANO             21633 non-null  int64  \n",
      " 4   MES             21633 non-null  int64  \n",
      " 5   D01             21633 non-null  float64\n",
      " 6   V01             21633 non-null  object \n",
      " 7   D02             21633 non-null  float64\n",
      " 8   V02             21633 non-null  object \n",
      " 9   D03             21633 non-null  float64\n",
      " 10  V03             21633 non-null  object \n",
      " 11  D04             21633 non-null  float64\n",
      " 12  V04             21633 non-null  object \n",
      " 13  D05             21633 non-null  float64\n",
      " 14  V05             21633 non-null  object \n",
      " 15  D06             21633 non-null  float64\n",
      " 16  V06             21633 non-null  object \n",
      " 17  D07             21633 non-null  float64\n",
      " 18  V07             21633 non-null  object \n",
      " 19  D08             21633 non-null  float64\n",
      " 20  V08             21633 non-null  object \n",
      " 21  D09             21633 non-null  float64\n",
      " 22  V09             21633 non-null  object \n",
      " 23  D10             21633 non-null  float64\n",
      " 24  V10             21633 non-null  object \n",
      " 25  D11             21633 non-null  float64\n",
      " 26  V11             21633 non-null  object \n",
      " 27  D12             21633 non-null  float64\n",
      " 28  V12             21633 non-null  object \n",
      " 29  D13             21633 non-null  float64\n",
      " 30  V13             21633 non-null  object \n",
      " 31  D14             21633 non-null  float64\n",
      " 32  V14             21633 non-null  object \n",
      " 33  D15             21633 non-null  float64\n",
      " 34  V15             21633 non-null  object \n",
      " 35  D16             21633 non-null  float64\n",
      " 36  V16             21633 non-null  object \n",
      " 37  D17             21633 non-null  float64\n",
      " 38  V17             21633 non-null  object \n",
      " 39  D18             21633 non-null  float64\n",
      " 40  V18             21633 non-null  object \n",
      " 41  D19             21633 non-null  float64\n",
      " 42  V19             21633 non-null  object \n",
      " 43  D20             21633 non-null  float64\n",
      " 44  V20             21633 non-null  object \n",
      " 45  D21             21633 non-null  float64\n",
      " 46  V21             21633 non-null  object \n",
      " 47  D22             21633 non-null  float64\n",
      " 48  V22             21633 non-null  object \n",
      " 49  D23             21633 non-null  float64\n",
      " 50  V23             21633 non-null  object \n",
      " 51  D24             21633 non-null  float64\n",
      " 52  V24             21633 non-null  object \n",
      " 53  D25             21633 non-null  float64\n",
      " 54  V25             21633 non-null  object \n",
      " 55  D26             21633 non-null  float64\n",
      " 56  V26             21633 non-null  object \n",
      " 57  D27             21633 non-null  float64\n",
      " 58  V27             21633 non-null  object \n",
      " 59  D28             21633 non-null  float64\n",
      " 60  V28             21633 non-null  object \n",
      " 61  D29             21633 non-null  float64\n",
      " 62  V29             21633 non-null  object \n",
      " 63  D30             21633 non-null  float64\n",
      " 64  V30             21633 non-null  object \n",
      " 65  D31             21633 non-null  float64\n",
      " 66  V31             21633 non-null  object \n",
      "dtypes: float64(31), int64(4), object(32)\n",
      "memory usage: 11.1+ MB\n"
     ]
    }
   ],
   "source": [
    "# Tipo de las variables y valores nulos\n",
    "df.info()"
   ]
  },
  {
   "cell_type": "markdown",
   "id": "203e5782",
   "metadata": {},
   "source": [
    "A primera vista, la base de datos no muestra ningún valor faltante. Sin embargo, es importante tener en cuenta que existen datos no verificados. Esto significa que, aunque no haya valores explícitamente marcados como faltantes, algunos datos pueden no haber sido validados o requerir una verificación adicional para asegurar su precisión. En este contexto, sólo son válidos aquellos datos que estén acompañados por un código de verificación \"V\". \n",
    "\n",
    "Para abordar este problema, se reducirá la dimensión de la base de datos, conservando únicamente los compuestos presentes en la creación del índice de calidad del aire. Esto permitirá enfocar el análisis en las variables más relevantes para evaluar la calidad del aire. Esto es:"
   ]
  },
  {
   "cell_type": "markdown",
   "id": "aca33b32",
   "metadata": {},
   "source": [
    "*Los compuestos que se emplean para calcular el índice de calidad son las partículas en suspensión (PM10 y PM2,5), dióxido de azufre, dióxido de nitrógeno y ozono. Para cada uno de estos contaminantes se establece un índice parcial, de forma que el peor valor de los cinco definirá el índice global y, por lo tanto, la calidad del aire en el municipio de Madrid.*"
   ]
  },
  {
   "cell_type": "markdown",
   "id": "236a7c44",
   "metadata": {},
   "source": [
    "| Contaminantes | id| Muy bueno | Bueno | Regular | Malo | Muy malo |\n",
    "| :- |:- |:-|:-|:-|:-| :-|\n",
    "|Partículas PM2,5| 9| 0-15|16-30|31-55|56-110|>110|\n",
    "|Partículas PM10| 10| 0-25|26-50|51-90|91-180|>180|\n",
    "|NO2| 8| 0-50|51-100|101-200|201-400|>400|\n",
    "|O3| 14|0-60|61-120|121-180|181-240|>240|\n",
    "|SO2| 1|0-50|51-100|101-350|351-500|>500|\n",
    "[Indices parciales](#indices-parciales)\n",
    "\n",
    "Fuente: [Aire de Madrid](https://airedemadrid.madrid.es/portales/calidadaire/es/Bases-de-datos-y-publicaciones/Bases-de-datos-de-calidad-del-aire/Indices-y-zonas/Indice-de-Calidad-del-Aire/?vgnextfmt=default&vgnextoid=303d635a41187710VgnVCM1000001d4a900aRCRD&vgnextchannel=480285a1259d7710VgnVCM2000001f4a900aRCRD)"
   ]
  },
  {
   "cell_type": "markdown",
   "id": "a7518853",
   "metadata": {},
   "source": [
    "En consecuencia, se procede a la creación de una nueva base de datos con una estructura más apropiada para el análisis."
   ]
  },
  {
   "cell_type": "code",
   "execution_count": 6,
   "id": "d7b9becd",
   "metadata": {
    "scrolled": true
   },
   "outputs": [
    {
     "data": {
      "text/html": [
       "<div>\n",
       "<style scoped>\n",
       "    .dataframe tbody tr th:only-of-type {\n",
       "        vertical-align: middle;\n",
       "    }\n",
       "\n",
       "    .dataframe tbody tr th {\n",
       "        vertical-align: top;\n",
       "    }\n",
       "\n",
       "    .dataframe thead th {\n",
       "        text-align: right;\n",
       "    }\n",
       "</style>\n",
       "<table border=\"1\" class=\"dataframe\">\n",
       "  <thead>\n",
       "    <tr style=\"text-align: right;\">\n",
       "      <th></th>\n",
       "      <th>ESTACION</th>\n",
       "      <th>MAGNITUD</th>\n",
       "      <th>PUNTO_MUESTREO</th>\n",
       "      <th>ANO</th>\n",
       "      <th>MES</th>\n",
       "      <th>DIA</th>\n",
       "      <th>VALOR</th>\n",
       "      <th>VV</th>\n",
       "    </tr>\n",
       "  </thead>\n",
       "  <tbody>\n",
       "    <tr>\n",
       "      <th>0</th>\n",
       "      <td>4</td>\n",
       "      <td>1</td>\n",
       "      <td>28079004_1_38</td>\n",
       "      <td>2010</td>\n",
       "      <td>1</td>\n",
       "      <td>D01</td>\n",
       "      <td>12.0</td>\n",
       "      <td>V</td>\n",
       "    </tr>\n",
       "    <tr>\n",
       "      <th>1</th>\n",
       "      <td>4</td>\n",
       "      <td>1</td>\n",
       "      <td>28079004_1_38</td>\n",
       "      <td>2010</td>\n",
       "      <td>2</td>\n",
       "      <td>D01</td>\n",
       "      <td>18.0</td>\n",
       "      <td>V</td>\n",
       "    </tr>\n",
       "    <tr>\n",
       "      <th>2</th>\n",
       "      <td>4</td>\n",
       "      <td>1</td>\n",
       "      <td>28079004_1_38</td>\n",
       "      <td>2010</td>\n",
       "      <td>3</td>\n",
       "      <td>D01</td>\n",
       "      <td>13.0</td>\n",
       "      <td>V</td>\n",
       "    </tr>\n",
       "    <tr>\n",
       "      <th>3</th>\n",
       "      <td>4</td>\n",
       "      <td>1</td>\n",
       "      <td>28079004_1_38</td>\n",
       "      <td>2010</td>\n",
       "      <td>4</td>\n",
       "      <td>D01</td>\n",
       "      <td>14.0</td>\n",
       "      <td>V</td>\n",
       "    </tr>\n",
       "    <tr>\n",
       "      <th>4</th>\n",
       "      <td>4</td>\n",
       "      <td>1</td>\n",
       "      <td>28079004_1_38</td>\n",
       "      <td>2010</td>\n",
       "      <td>5</td>\n",
       "      <td>D01</td>\n",
       "      <td>8.0</td>\n",
       "      <td>V</td>\n",
       "    </tr>\n",
       "  </tbody>\n",
       "</table>\n",
       "</div>"
      ],
      "text/plain": [
       "   ESTACION  MAGNITUD PUNTO_MUESTREO   ANO  MES  DIA  VALOR VV\n",
       "0         4         1  28079004_1_38  2010    1  D01   12.0  V\n",
       "1         4         1  28079004_1_38  2010    2  D01   18.0  V\n",
       "2         4         1  28079004_1_38  2010    3  D01   13.0  V\n",
       "3         4         1  28079004_1_38  2010    4  D01   14.0  V\n",
       "4         4         1  28079004_1_38  2010    5  D01    8.0  V"
      ]
     },
     "execution_count": 6,
     "metadata": {},
     "output_type": "execute_result"
    }
   ],
   "source": [
    "# Dataframe con los contaminantes de interes\n",
    "df_contaminantes = df[(df['MAGNITUD'].isin([9, 10, 8, 14, 1]))]\n",
    "\n",
    "# Listado de dias y correspondientes codigos de verificacion\n",
    "dias = ['D01','D02','D03','D04','D05','D06','D07','D08','D09','D10',\n",
    "       'D11','D12','D13','D14','D15','D16','D17','D18','D19','D20',\n",
    "       'D21','D22','D23','D24','D25','D26','D27','D28','D29','D30','D31']\n",
    "\n",
    "verf = ['V01','V02','V03','V04','V05','V06','V07','V08','V09','V10',\n",
    "       'V11','V12','V13','V14','V15','V16','V17','V18','V19','V20',\n",
    "       'V21','V22','V23','V24','V25','V26','V27','V28','V29','V30','V31']\n",
    "\n",
    "# Formato long del dataframe\n",
    "# Dias\n",
    "df_dias = df_contaminantes.melt(id_vars=['ESTACION', 'MAGNITUD', 'PUNTO_MUESTREO', 'ANO', 'MES'],\n",
    "                                value_vars = dias,\n",
    "                                var_name = 'DIA',\n",
    "                                value_name = 'VALOR')\n",
    "# Verificaciones\n",
    "df_verf= df_contaminantes.melt(id_vars=['ESTACION', 'MAGNITUD', 'PUNTO_MUESTREO', 'ANO', 'MES'],\n",
    "                               value_vars = verf,\n",
    "                               var_name = 'VER',\n",
    "                               value_name = 'VV')\n",
    "\n",
    "# Asociar los valores de verificacion\n",
    "df_dias['VV'] = df_verf['VV']\n",
    "df = df_dias\n",
    "\n",
    "# Visualizacion\n",
    "df.head(5)"
   ]
  },
  {
   "cell_type": "markdown",
   "id": "ad3aaaca",
   "metadata": {},
   "source": [
    "Con este dataframe, vamos a diferenciar entre los valores no verificados (aquellos que están seguidos de una código de verificación 'N') y los valores no medidos debido a la inexistencia de un día en particular (por ejemplo, el 30 de febrero).\n",
    "\n",
    "Para comenzar, eliminamos del dataframe aquellos registros correspondientes a los días que no existen."
   ]
  },
  {
   "cell_type": "code",
   "execution_count": 7,
   "id": "035cd23e",
   "metadata": {},
   "outputs": [],
   "source": [
    "# Creacion de la columna 'date'\n",
    "date_str = df['ANO'].astype(str) + '-' + df['MES'].astype(str) + '-' + df['DIA'].str.replace('D', '').astype(str)\n",
    "df['date'] = pd.to_datetime(date_str, format='%Y-%m-%d', errors='coerce')\n",
    "\n",
    "# Eliminacion de los registros con dias inexistentes\n",
    "df = df.dropna(subset=['date'])\n",
    "\n",
    "# Reordanacion de las columnas\n",
    "df = df[['ESTACION', 'MAGNITUD', 'PUNTO_MUESTREO', 'ANO', 'MES', 'DIA', 'date', 'VALOR', 'VV']]\n",
    "\n",
    "# Reordenacion de los registros por fecha\n",
    "df = df.sort_values(['ESTACION','MAGNITUD','ANO','MES'])"
   ]
  },
  {
   "cell_type": "markdown",
   "id": "fafb62d1",
   "metadata": {},
   "source": [
    "En segundo lugar, vamos a asignar el valor $-1$ a los datos no verificados para poder llevar a cabo una imputación de dichos valores. De esta manera, en análisis posteriores, podremos diferenciar los datos no verificados de aquellos que no están registrados."
   ]
  },
  {
   "cell_type": "code",
   "execution_count": 8,
   "id": "86ef6d4a",
   "metadata": {
    "scrolled": true
   },
   "outputs": [],
   "source": [
    "# Asignacion de valores missing\n",
    "df.loc[df['VV'] != 'V', 'VALOR'] = -1\n",
    "df = df.drop(['VV'], axis = 1)"
   ]
  },
  {
   "cell_type": "markdown",
   "id": "f62cf080",
   "metadata": {},
   "source": [
    "Por último, estudiamos la presencia de valores nulos y datos no verificados y nos aseguramos de que no existan filas duplicadas."
   ]
  },
  {
   "cell_type": "code",
   "execution_count": 9,
   "id": "ee45f54c",
   "metadata": {
    "scrolled": true
   },
   "outputs": [
    {
     "name": "stdout",
     "output_type": "stream",
     "text": [
      "Numero de valores nulos en las diferentes variables:\n",
      "ESTACION          0\n",
      "MAGNITUD          0\n",
      "PUNTO_MUESTREO    0\n",
      "ANO               0\n",
      "MES               0\n",
      "DIA               0\n",
      "date              0\n",
      "VALOR             0\n",
      "dtype: int64\n",
      "\n",
      "Numero de datos no verificados: 3920\n",
      "\n",
      "Numero de registros duplicados: 0\n"
     ]
    }
   ],
   "source": [
    "# Comprobacion valores nulos y duplicados\n",
    "print(\"Numero de valores nulos en las diferentes variables:\") \n",
    "print(df.isnull().sum())\n",
    "print(\"\\nNumero de datos no verificados:\", (df['VALOR'] == -1).sum())\n",
    "print(\"\\nNumero de registros duplicados:\" ,df.duplicated().sum())"
   ]
  },
  {
   "cell_type": "markdown",
   "id": "bc4fac4d",
   "metadata": {},
   "source": [
    "## 1.2 Imputación de missing"
   ]
  },
  {
   "cell_type": "markdown",
   "id": "cc6c771d",
   "metadata": {},
   "source": [
    "Una primera aproximación para tratar los datos missing podría ser utilizar la técnica de interpolación lineal. La interpolación lineal calcula un valor promedio entre dos puntos conocidos y este se utiliza para reemplazar el valor faltante. Es importante destacar que, al utilizar la interpolación lineal, estamos asumiendo una relación lineal entre los datos.\n",
    "\n",
    "Otra opción es realizar la imputación de missing examinando los contaminantes en diferentes zonas geográficas de la Comunidad de Madrid. Según la división establecida, las zonas se definen de la siguiente manera:\n",
    "\n",
    "* **Zona 1 (interior M30)**: 7 estaciones de tráfico (Escuelas Aguirre, Castellana, Plaza de Castilla, Ramón y Cajal, Cuatro Caminos, Plaza de España y Barrio del Pilar) + 3 estaciones de fondo (Plaza del Carmen, Méndez Álvaro y Retiro).\n",
    "* **Zona 2 (Sureste)**: 1 estación de tráfico (Moratalaz) y 2 estaciones de fondo (Vallecas y Ensanche de Vallecas).\n",
    "* **Zona 3 (Noreste)**: 5 estaciones de fondo (Arturo Soria, Sanchinarro, Urbanización Embajada, Barajas Pueblo y Tres Olivos) y 1 estación suburbana (Juan Carlos I).\n",
    "* **Zona 4 (Noroeste)**: 2 estaciones suburbanas (El Pardo y Casa de Campo).\n",
    "* **Zona 5 (Suroeste)**: 1 estación de tráfico (Plaza Elíptica) y 2 estaciones de fondo (Farolillo y Villaverde).\n",
    "\n",
    "De esta forma, realizaremos la imputación de los valores que no han sido validados."
   ]
  },
  {
   "cell_type": "code",
   "execution_count": 10,
   "id": "1e544858",
   "metadata": {
    "scrolled": true
   },
   "outputs": [
    {
     "data": {
      "text/html": [
       "<div>\n",
       "<style scoped>\n",
       "    .dataframe tbody tr th:only-of-type {\n",
       "        vertical-align: middle;\n",
       "    }\n",
       "\n",
       "    .dataframe tbody tr th {\n",
       "        vertical-align: top;\n",
       "    }\n",
       "\n",
       "    .dataframe thead th {\n",
       "        text-align: right;\n",
       "    }\n",
       "</style>\n",
       "<table border=\"1\" class=\"dataframe\">\n",
       "  <thead>\n",
       "    <tr style=\"text-align: right;\">\n",
       "      <th>ESTACION</th>\n",
       "      <th>MAGNITUD</th>\n",
       "      <th>4</th>\n",
       "      <th>8</th>\n",
       "      <th>11</th>\n",
       "      <th>16</th>\n",
       "      <th>17</th>\n",
       "      <th>18</th>\n",
       "      <th>24</th>\n",
       "      <th>27</th>\n",
       "      <th>35</th>\n",
       "      <th>...</th>\n",
       "      <th>48</th>\n",
       "      <th>49</th>\n",
       "      <th>50</th>\n",
       "      <th>54</th>\n",
       "      <th>55</th>\n",
       "      <th>56</th>\n",
       "      <th>57</th>\n",
       "      <th>58</th>\n",
       "      <th>59</th>\n",
       "      <th>60</th>\n",
       "    </tr>\n",
       "    <tr>\n",
       "      <th>date</th>\n",
       "      <th></th>\n",
       "      <th></th>\n",
       "      <th></th>\n",
       "      <th></th>\n",
       "      <th></th>\n",
       "      <th></th>\n",
       "      <th></th>\n",
       "      <th></th>\n",
       "      <th></th>\n",
       "      <th></th>\n",
       "      <th></th>\n",
       "      <th></th>\n",
       "      <th></th>\n",
       "      <th></th>\n",
       "      <th></th>\n",
       "      <th></th>\n",
       "      <th></th>\n",
       "      <th></th>\n",
       "      <th></th>\n",
       "      <th></th>\n",
       "      <th></th>\n",
       "    </tr>\n",
       "  </thead>\n",
       "  <tbody>\n",
       "    <tr>\n",
       "      <th>2010-01-01</th>\n",
       "      <td>SO2</td>\n",
       "      <td>12.0</td>\n",
       "      <td>9.0</td>\n",
       "      <td>NaN</td>\n",
       "      <td>NaN</td>\n",
       "      <td>7.0</td>\n",
       "      <td>5.0</td>\n",
       "      <td>7.0</td>\n",
       "      <td>NaN</td>\n",
       "      <td>10.0</td>\n",
       "      <td>...</td>\n",
       "      <td>NaN</td>\n",
       "      <td>NaN</td>\n",
       "      <td>NaN</td>\n",
       "      <td>NaN</td>\n",
       "      <td>NaN</td>\n",
       "      <td>NaN</td>\n",
       "      <td>6.0</td>\n",
       "      <td>NaN</td>\n",
       "      <td>NaN</td>\n",
       "      <td>NaN</td>\n",
       "    </tr>\n",
       "    <tr>\n",
       "      <th>2010-01-02</th>\n",
       "      <td>SO2</td>\n",
       "      <td>15.0</td>\n",
       "      <td>10.0</td>\n",
       "      <td>NaN</td>\n",
       "      <td>NaN</td>\n",
       "      <td>7.0</td>\n",
       "      <td>6.0</td>\n",
       "      <td>7.0</td>\n",
       "      <td>NaN</td>\n",
       "      <td>11.0</td>\n",
       "      <td>...</td>\n",
       "      <td>NaN</td>\n",
       "      <td>NaN</td>\n",
       "      <td>NaN</td>\n",
       "      <td>NaN</td>\n",
       "      <td>NaN</td>\n",
       "      <td>NaN</td>\n",
       "      <td>8.0</td>\n",
       "      <td>NaN</td>\n",
       "      <td>NaN</td>\n",
       "      <td>NaN</td>\n",
       "    </tr>\n",
       "    <tr>\n",
       "      <th>2010-01-03</th>\n",
       "      <td>SO2</td>\n",
       "      <td>17.0</td>\n",
       "      <td>11.0</td>\n",
       "      <td>NaN</td>\n",
       "      <td>NaN</td>\n",
       "      <td>8.0</td>\n",
       "      <td>10.0</td>\n",
       "      <td>8.0</td>\n",
       "      <td>NaN</td>\n",
       "      <td>14.0</td>\n",
       "      <td>...</td>\n",
       "      <td>NaN</td>\n",
       "      <td>NaN</td>\n",
       "      <td>NaN</td>\n",
       "      <td>NaN</td>\n",
       "      <td>NaN</td>\n",
       "      <td>NaN</td>\n",
       "      <td>8.0</td>\n",
       "      <td>NaN</td>\n",
       "      <td>NaN</td>\n",
       "      <td>NaN</td>\n",
       "    </tr>\n",
       "    <tr>\n",
       "      <th>2010-01-04</th>\n",
       "      <td>SO2</td>\n",
       "      <td>16.0</td>\n",
       "      <td>12.0</td>\n",
       "      <td>NaN</td>\n",
       "      <td>NaN</td>\n",
       "      <td>8.0</td>\n",
       "      <td>10.0</td>\n",
       "      <td>8.0</td>\n",
       "      <td>NaN</td>\n",
       "      <td>13.0</td>\n",
       "      <td>...</td>\n",
       "      <td>NaN</td>\n",
       "      <td>NaN</td>\n",
       "      <td>NaN</td>\n",
       "      <td>NaN</td>\n",
       "      <td>NaN</td>\n",
       "      <td>NaN</td>\n",
       "      <td>7.0</td>\n",
       "      <td>NaN</td>\n",
       "      <td>NaN</td>\n",
       "      <td>NaN</td>\n",
       "    </tr>\n",
       "    <tr>\n",
       "      <th>2010-01-05</th>\n",
       "      <td>SO2</td>\n",
       "      <td>16.0</td>\n",
       "      <td>12.0</td>\n",
       "      <td>NaN</td>\n",
       "      <td>NaN</td>\n",
       "      <td>8.0</td>\n",
       "      <td>10.0</td>\n",
       "      <td>8.0</td>\n",
       "      <td>NaN</td>\n",
       "      <td>13.0</td>\n",
       "      <td>...</td>\n",
       "      <td>NaN</td>\n",
       "      <td>NaN</td>\n",
       "      <td>NaN</td>\n",
       "      <td>NaN</td>\n",
       "      <td>NaN</td>\n",
       "      <td>NaN</td>\n",
       "      <td>7.0</td>\n",
       "      <td>NaN</td>\n",
       "      <td>NaN</td>\n",
       "      <td>NaN</td>\n",
       "    </tr>\n",
       "  </tbody>\n",
       "</table>\n",
       "<p>5 rows × 25 columns</p>\n",
       "</div>"
      ],
      "text/plain": [
       "ESTACION   MAGNITUD     4     8  11  16   17    18   24  27    35  ...  48  \\\n",
       "date                                                               ...       \n",
       "2010-01-01      SO2  12.0   9.0 NaN NaN  7.0   5.0  7.0 NaN  10.0  ... NaN   \n",
       "2010-01-02      SO2  15.0  10.0 NaN NaN  7.0   6.0  7.0 NaN  11.0  ... NaN   \n",
       "2010-01-03      SO2  17.0  11.0 NaN NaN  8.0  10.0  8.0 NaN  14.0  ... NaN   \n",
       "2010-01-04      SO2  16.0  12.0 NaN NaN  8.0  10.0  8.0 NaN  13.0  ... NaN   \n",
       "2010-01-05      SO2  16.0  12.0 NaN NaN  8.0  10.0  8.0 NaN  13.0  ... NaN   \n",
       "\n",
       "ESTACION    49  50  54  55  56   57  58  59  60  \n",
       "date                                             \n",
       "2010-01-01 NaN NaN NaN NaN NaN  6.0 NaN NaN NaN  \n",
       "2010-01-02 NaN NaN NaN NaN NaN  8.0 NaN NaN NaN  \n",
       "2010-01-03 NaN NaN NaN NaN NaN  8.0 NaN NaN NaN  \n",
       "2010-01-04 NaN NaN NaN NaN NaN  7.0 NaN NaN NaN  \n",
       "2010-01-05 NaN NaN NaN NaN NaN  7.0 NaN NaN NaN  \n",
       "\n",
       "[5 rows x 25 columns]"
      ]
     },
     "execution_count": 10,
     "metadata": {},
     "output_type": "execute_result"
    }
   ],
   "source": [
    "# Dataframe con todas las zonas\n",
    "df_zonas = df.pivot_table(index=['MAGNITUD','ANO', 'MES', 'DIA', 'date'], columns='ESTACION', values='VALOR')\n",
    "df_zonas = df_zonas.reset_index()\n",
    "df_zonas.drop(['ANO','MES','DIA'],axis=1, inplace=True)\n",
    "df_zonas = df_zonas.set_index('date')\n",
    "\n",
    "# Renombrar columnas\n",
    "cols = df_zonas.columns\n",
    "nombres = {col: str(col) for col in cols}\n",
    "df_zonas = df_zonas.rename(columns=nombres)\n",
    "\n",
    "# Renombrar magnitudes\n",
    "nombres_magnitudes = {1: 'SO2', 8: 'NO2', 9: 'PM2.5', 10: 'PM10', 14: 'O3'}\n",
    "df_zonas['MAGNITUD'] = df_zonas['MAGNITUD'].map(nombres_magnitudes)\n",
    "\n",
    "# Visualizacion\n",
    "df_zonas.head(5)"
   ]
  },
  {
   "cell_type": "code",
   "execution_count": 11,
   "id": "7be607d2",
   "metadata": {},
   "outputs": [],
   "source": [
    "# Indices de las estaciones en las diferentes zonas\n",
    "zona1 = ['8','48','50','11','10','4','5','3','47','9'] # la 3,5,9 y 10 no estan --> buscar como incluirlas\n",
    "zona2 = ['20','13','54'] # la 20 y 13 no estan\n",
    "zona3 = ['16','57','55','27','86','59'] # la 86 no esta\n",
    "zona4 = ['58','24']\n",
    "zona5 = ['56','18','17']\n",
    "\n",
    "# Dataframe por zonas\n",
    "# Zona 1\n",
    "zona1 = df_zonas[['8','48','50','11','4','47']]\n",
    "\n",
    "# Zona 2\n",
    "zona2 = df_zonas[['54']]\n",
    "\n",
    "# Zona 3\n",
    "zona3 = df_zonas[['16','57','55','27','59']]\n",
    "\n",
    "# Zona 4\n",
    "zona4 = df_zonas[['58', '24']]\n",
    "\n",
    "# Zona 5\n",
    "zona5 = df_zonas[['56','18','17']]"
   ]
  },
  {
   "cell_type": "markdown",
   "id": "4980e518",
   "metadata": {},
   "source": [
    "Para imputar los valores faltantes, procederemos de la siguiente manera:\n",
    "\n",
    "1. Si exiten mediciones del contaminante en otras estaciones de la misma zona, es decir, si alguna de las columnas tiene un valor distinto de NaN, imputaremos la media de esos valores.\n",
    "2. En caso contrario,  utilizaremos la técnica de interpolación lineal.\n",
    "\n",
    "A continuación, creamos una función para llevar a cabo este proceso:"
   ]
  },
  {
   "cell_type": "code",
   "execution_count": 12,
   "id": "03f344ab",
   "metadata": {},
   "outputs": [],
   "source": [
    "def imputar_missing(df):\n",
    "    # Imputar missing cuando hay datos de otras estaciones\n",
    "    for i in range(len(df)):\n",
    "        fila = df.iloc[i,:]\n",
    "        if (fila == -1).any():\n",
    "            indices = np.where(df.iloc[i,:] == -1)[0]\n",
    "            suma = fila.sum() + len(indices)\n",
    "            if (suma) > 0:\n",
    "                media = suma/(sum(fila>0))\n",
    "                fila[indices] = media    \n",
    "                \n",
    "    # Imputar missing cuando no hay datos de otras estaciones\n",
    "    for col in df:\n",
    "        df[col] = df[col].replace(-1, np.nan)\n",
    "        df[col] = df[col].interpolate()\n",
    "    \n",
    "    return df"
   ]
  },
  {
   "cell_type": "markdown",
   "id": "e5977669",
   "metadata": {},
   "source": [
    "Realizamos primero la imputación de los valores faltantes en la **Zona 1 (M30 interior)**."
   ]
  },
  {
   "cell_type": "code",
   "execution_count": 13,
   "id": "ae310aa1",
   "metadata": {
    "scrolled": true
   },
   "outputs": [
    {
     "name": "stdout",
     "output_type": "stream",
     "text": [
      "Numero de valores no verificados en las diferentes estaciones de la Zona 1:\n",
      "ESTACION\n",
      "8     468\n",
      "48    188\n",
      "50    350\n",
      "11     11\n",
      "4     303\n",
      "47    188\n",
      "dtype: int64\n"
     ]
    }
   ],
   "source": [
    "# Numero de valores faltantes en las diferentes variables\n",
    "print(\"Numero de valores no verificados en las diferentes estaciones de la Zona 1:\", )\n",
    "print(zona1.isin([-1]).sum())"
   ]
  },
  {
   "cell_type": "code",
   "execution_count": 14,
   "id": "61f8e955",
   "metadata": {
    "scrolled": true
   },
   "outputs": [],
   "source": [
    "# Imputacion de missing\n",
    "zona1 = imputar_missing(zona1)"
   ]
  },
  {
   "cell_type": "markdown",
   "id": "fe2277f7",
   "metadata": {},
   "source": [
    "Verificamos que no haya valores no verficados después de la imputación."
   ]
  },
  {
   "cell_type": "code",
   "execution_count": 15,
   "id": "dcc9434e",
   "metadata": {},
   "outputs": [
    {
     "name": "stdout",
     "output_type": "stream",
     "text": [
      "Numero de valores no verificados en las diferentes estaciones de la Zona 1:\n",
      "ESTACION\n",
      "8     0\n",
      "48    0\n",
      "50    0\n",
      "11    0\n",
      "4     0\n",
      "47    0\n",
      "dtype: int64\n"
     ]
    }
   ],
   "source": [
    "# Numero de valores faltantes en las diferentes variables\n",
    "print(\"Numero de valores no verificados en las diferentes estaciones de la Zona 1:\", )\n",
    "print(zona1.isin([-1]).sum())"
   ]
  },
  {
   "cell_type": "markdown",
   "id": "18ab0483",
   "metadata": {},
   "source": [
    "Procedemos de manera análoga con el resto de zonas."
   ]
  },
  {
   "cell_type": "code",
   "execution_count": 16,
   "id": "176b4d1c",
   "metadata": {},
   "outputs": [],
   "source": [
    "# Imputacion de missing\n",
    "zona2 = imputar_missing(zona2)\n",
    "zona3 = imputar_missing(zona3)\n",
    "zona4 = imputar_missing(zona4)\n",
    "zona5 = imputar_missing(zona5)"
   ]
  },
  {
   "cell_type": "markdown",
   "id": "ed1bb46c",
   "metadata": {},
   "source": [
    "Comprobamos nuevamente que no existan valores nulos después de la imputación en ninguno de los dataframe de las diferentes zonas."
   ]
  },
  {
   "cell_type": "code",
   "execution_count": 17,
   "id": "954d955e",
   "metadata": {},
   "outputs": [
    {
     "name": "stdout",
     "output_type": "stream",
     "text": [
      "Numero de valores no verificados en las diferentes estaciones de la Zona 2:\n",
      "ESTACION\n",
      "54    0\n",
      "dtype: int64\n",
      "\n",
      "Numero de valores no verificados en las diferentes estaciones de la Zona 3:\n",
      "ESTACION\n",
      "16    0\n",
      "57    0\n",
      "55    0\n",
      "27    0\n",
      "59    0\n",
      "dtype: int64\n",
      "\n",
      "Numero de valores no verificados en las diferentes estaciones de la Zona 4:\n",
      "ESTACION\n",
      "58    0\n",
      "24    0\n",
      "dtype: int64\n",
      "\n",
      "Numero de valores no verificados en las diferentes estaciones de la Zona 5:\n",
      "ESTACION\n",
      "56    0\n",
      "18    0\n",
      "17    0\n",
      "dtype: int64\n"
     ]
    }
   ],
   "source": [
    "# Numero de valores faltantes en las diferentes variables \n",
    "print(\"Numero de valores no verificados en las diferentes estaciones de la Zona 2:\", )\n",
    "print(zona2.isin([-1]).sum())\n",
    "# Numero de valores faltantes en las diferentes variables\n",
    "print(\"\\nNumero de valores no verificados en las diferentes estaciones de la Zona 3:\", )\n",
    "print(zona3.isin([-1]).sum())\n",
    "# Numero de valores faltantes en las diferentes variables\n",
    "print(\"\\nNumero de valores no verificados en las diferentes estaciones de la Zona 4:\", )\n",
    "print(zona4.isin([-1]).sum())\n",
    "# Numero de valores faltantes en las diferentes variables\n",
    "print(\"\\nNumero de valores no verificados en las diferentes estaciones de la Zona 5:\", )\n",
    "print(zona5.isin([-1]).sum())"
   ]
  },
  {
   "cell_type": "markdown",
   "id": "0cd3e12d",
   "metadata": {},
   "source": [
    "Finalmente, creamos una base de datos que agrupa todas las zonas y bases de datos específicas para cada zona definida."
   ]
  },
  {
   "cell_type": "code",
   "execution_count": 18,
   "id": "b8bcdca2",
   "metadata": {
    "scrolled": true
   },
   "outputs": [],
   "source": [
    "# Crear el dataframe con las zonas de estudio\n",
    "df_estaciones = pd.concat([zona1, zona2, zona3, zona4, zona5], axis=1)\n",
    "df_estaciones['MAGNITUD'] = df_zonas['MAGNITUD']"
   ]
  },
  {
   "cell_type": "code",
   "execution_count": 19,
   "id": "3d44174d",
   "metadata": {},
   "outputs": [],
   "source": [
    "# Magnitudes para las zonas\n",
    "zona1['MAGNITUD'] = df_estaciones['MAGNITUD']\n",
    "zona2['MAGNITUD'] = df_estaciones['MAGNITUD']\n",
    "zona3['MAGNITUD'] = df_estaciones['MAGNITUD']\n",
    "zona4['MAGNITUD'] = df_estaciones['MAGNITUD']\n",
    "zona4['MAGNITUD'] = df_estaciones['MAGNITUD']\n",
    "zona5['MAGNITUD'] = df_estaciones['MAGNITUD']"
   ]
  },
  {
   "cell_type": "markdown",
   "id": "c1f0690f",
   "metadata": {},
   "source": [
    "## 1.3 Análisis descriptivo"
   ]
  },
  {
   "cell_type": "markdown",
   "id": "c43ab233",
   "metadata": {},
   "source": [
    "Para continuar con el estudio, llevamos a cabo un análisis descriptivo de los datos. Para ello, creamos dos dataframes: uno que contiene la información de las magnitudes o contaminantes y otro que está agrupado por zonas geográficas."
   ]
  },
  {
   "cell_type": "markdown",
   "id": "4a794bc3",
   "metadata": {},
   "source": [
    "**Por magnitudes**"
   ]
  },
  {
   "cell_type": "markdown",
   "id": "b3dff971",
   "metadata": {},
   "source": [
    "En primer lugar, analizamos el dataframe relacionado con los contaminantes. "
   ]
  },
  {
   "cell_type": "code",
   "execution_count": 20,
   "id": "efa845ef",
   "metadata": {
    "scrolled": true
   },
   "outputs": [
    {
     "data": {
      "text/html": [
       "<div>\n",
       "<style scoped>\n",
       "    .dataframe tbody tr th:only-of-type {\n",
       "        vertical-align: middle;\n",
       "    }\n",
       "\n",
       "    .dataframe tbody tr th {\n",
       "        vertical-align: top;\n",
       "    }\n",
       "\n",
       "    .dataframe thead th {\n",
       "        text-align: right;\n",
       "    }\n",
       "</style>\n",
       "<table border=\"1\" class=\"dataframe\">\n",
       "  <thead>\n",
       "    <tr style=\"text-align: right;\">\n",
       "      <th></th>\n",
       "      <th>ESTACION</th>\n",
       "      <th>ANO</th>\n",
       "      <th>MES</th>\n",
       "      <th>DIA</th>\n",
       "      <th>date</th>\n",
       "      <th>SO2</th>\n",
       "      <th>NO2</th>\n",
       "      <th>PM2.5</th>\n",
       "      <th>PM10</th>\n",
       "      <th>O3</th>\n",
       "    </tr>\n",
       "  </thead>\n",
       "  <tbody>\n",
       "    <tr>\n",
       "      <th>0</th>\n",
       "      <td>4</td>\n",
       "      <td>2010</td>\n",
       "      <td>1</td>\n",
       "      <td>D01</td>\n",
       "      <td>2010-01-01</td>\n",
       "      <td>12.0</td>\n",
       "      <td>12.0</td>\n",
       "      <td>NaN</td>\n",
       "      <td>NaN</td>\n",
       "      <td>NaN</td>\n",
       "    </tr>\n",
       "    <tr>\n",
       "      <th>1</th>\n",
       "      <td>4</td>\n",
       "      <td>2010</td>\n",
       "      <td>1</td>\n",
       "      <td>D02</td>\n",
       "      <td>2010-01-02</td>\n",
       "      <td>15.0</td>\n",
       "      <td>40.0</td>\n",
       "      <td>NaN</td>\n",
       "      <td>NaN</td>\n",
       "      <td>NaN</td>\n",
       "    </tr>\n",
       "    <tr>\n",
       "      <th>2</th>\n",
       "      <td>4</td>\n",
       "      <td>2010</td>\n",
       "      <td>1</td>\n",
       "      <td>D03</td>\n",
       "      <td>2010-01-03</td>\n",
       "      <td>17.0</td>\n",
       "      <td>51.0</td>\n",
       "      <td>NaN</td>\n",
       "      <td>NaN</td>\n",
       "      <td>NaN</td>\n",
       "    </tr>\n",
       "    <tr>\n",
       "      <th>3</th>\n",
       "      <td>4</td>\n",
       "      <td>2010</td>\n",
       "      <td>1</td>\n",
       "      <td>D04</td>\n",
       "      <td>2010-01-04</td>\n",
       "      <td>16.0</td>\n",
       "      <td>53.0</td>\n",
       "      <td>NaN</td>\n",
       "      <td>NaN</td>\n",
       "      <td>NaN</td>\n",
       "    </tr>\n",
       "    <tr>\n",
       "      <th>4</th>\n",
       "      <td>4</td>\n",
       "      <td>2010</td>\n",
       "      <td>1</td>\n",
       "      <td>D05</td>\n",
       "      <td>2010-01-05</td>\n",
       "      <td>16.0</td>\n",
       "      <td>46.0</td>\n",
       "      <td>NaN</td>\n",
       "      <td>NaN</td>\n",
       "      <td>NaN</td>\n",
       "    </tr>\n",
       "  </tbody>\n",
       "</table>\n",
       "</div>"
      ],
      "text/plain": [
       "   ESTACION   ANO  MES  DIA       date   SO2   NO2  PM2.5  PM10  O3\n",
       "0         4  2010    1  D01 2010-01-01  12.0  12.0    NaN   NaN NaN\n",
       "1         4  2010    1  D02 2010-01-02  15.0  40.0    NaN   NaN NaN\n",
       "2         4  2010    1  D03 2010-01-03  17.0  51.0    NaN   NaN NaN\n",
       "3         4  2010    1  D04 2010-01-04  16.0  53.0    NaN   NaN NaN\n",
       "4         4  2010    1  D05 2010-01-05  16.0  46.0    NaN   NaN NaN"
      ]
     },
     "execution_count": 20,
     "metadata": {},
     "output_type": "execute_result"
    }
   ],
   "source": [
    "# Dataframe con las series temporales de los contaminantes\n",
    "df_magnitudes = df.pivot_table(index=['ESTACION', 'ANO', 'MES', 'DIA', 'date'], columns='MAGNITUD', values='VALOR')\n",
    "df_magnitudes = df_magnitudes.reset_index()\n",
    "\n",
    "# Renombrar columnas\n",
    "df_magnitudes.columns = ['ESTACION','ANO','MES','DIA','date','SO2', 'NO2', 'PM2.5', 'PM10','O3']\n",
    "\n",
    "# Visualizacion\n",
    "df_magnitudes.head(5)"
   ]
  },
  {
   "cell_type": "markdown",
   "id": "ca9180f0",
   "metadata": {},
   "source": [
    "Como se puede observar, no todas las estaciones miden todos los contaminantes. Por tanto, para ajustar un modelo de series temporales, tomamos el promedio diario del contaminante utilizando todas las estaciones de medición."
   ]
  },
  {
   "cell_type": "code",
   "execution_count": 21,
   "id": "10a5884d",
   "metadata": {
    "scrolled": false
   },
   "outputs": [],
   "source": [
    "# Calculo promedio diario\n",
    "ts_magnitudes = df_magnitudes.groupby('date').mean()\n",
    "ts_magnitudes.drop(columns=['ESTACION', 'MES'], inplace=True)"
   ]
  },
  {
   "cell_type": "markdown",
   "id": "d095300e",
   "metadata": {},
   "source": [
    "El siguiente gráfico muestra las tendencias medias por año de los diferentes contaminantes. Cada línea representa un contaminante específico. En el eje x se encuentran los años, mientras que en el eje y se muestran los valores promedio."
   ]
  },
  {
   "cell_type": "code",
   "execution_count": 22,
   "id": "810b6895",
   "metadata": {
    "scrolled": false
   },
   "outputs": [
    {
     "data": {
      "image/png": "[encoded data removed]",
      "text/plain": [
       "<Figure size 720x432 with 1 Axes>"
      ]
     },
     "metadata": {
      "needs_background": "light"
     },
     "output_type": "display_data"
    }
   ],
   "source": [
    "# Calcular las medias por año\n",
    "contaminantes = ['SO2', 'NO2', 'PM2.5', 'PM10', 'O3']\n",
    "media_anual = ts_magnitudes.groupby('ANO').mean()\n",
    "\n",
    "# Grafico\n",
    "plt.figure(figsize=(10, 6))\n",
    "\n",
    "colors = ['blue', 'green', 'orange', 'red', 'purple']\n",
    "for i, contaminante in enumerate(contaminantes):\n",
    "    plt.plot(media_anual.index, media_anual[contaminante], color=colors[i], label=contaminante)\n",
    "\n",
    "plt.title('Tendencias Medias por Año - Contaminantes')\n",
    "plt.xlabel('Año')\n",
    "plt.ylabel('Valor Promedio')\n",
    "plt.legend() # Buscar mejor sitio\n",
    "plt.grid(True)\n",
    "\n",
    "plt.show()"
   ]
  },
  {
   "cell_type": "markdown",
   "id": "d27d858b",
   "metadata": {},
   "source": [
    "Como se mostró previamente en la figura [Indices parciales](#indices-parciales), podemos crear un índice parcial por contaminante donde se utiliza la siguiente nomenclatura:\n",
    "* 1: Muy Bueno\n",
    "* 2: Bueno\n",
    "* 3: Regular\n",
    "* 4: Malo\n",
    "* 5: Muy Malo"
   ]
  },
  {
   "cell_type": "code",
   "execution_count": 23,
   "id": "48b87350",
   "metadata": {},
   "outputs": [],
   "source": [
    "def indice_parcial(valores, magnitud):\n",
    "    # Etiqueta de calidad del aire\n",
    "    labels = [1,2,3,4,5]\n",
    "    \n",
    "    # Indice segun las diferentes magnitudes\n",
    "    if magnitud == 'SO2':\n",
    "        bins = [0,50,100,350,500,float(\"inf\")]\n",
    "        indice = pd.cut(valores, bins=bins, labels=labels)\n",
    "        \n",
    "    elif magnitud == 'NO2':\n",
    "        bins = [0,50,100,200,400,float(\"inf\")]\n",
    "        indice = pd.cut(valores, bins=bins, labels=labels)\n",
    "    \n",
    "    elif magnitud == 'PM2.5':\n",
    "        bins = [0,15,30,55,110,float(\"inf\")]\n",
    "        indice = pd.cut(valores, bins=bins, labels=labels)\n",
    "    \n",
    "    elif magnitud == 'PM10':\n",
    "        bins = [0,25,50,90,180,float(\"inf\")]\n",
    "        indice = pd.cut(valores, bins=bins, labels=labels)\n",
    "    \n",
    "    elif magnitud == 'O3':\n",
    "        bins = [0,60,120,180,240,float(\"inf\")]\n",
    "        indice = pd.cut(valores, bins=bins, labels=labels)\n",
    "        \n",
    "    else:\n",
    "        print('El contaminante no es valido')\n",
    "        \n",
    "    return indice"
   ]
  },
  {
   "cell_type": "markdown",
   "id": "2a10c3b9",
   "metadata": {},
   "source": [
    "Además, podemos crear un índice general  que se obtiene a partir de los índices parciales y se calcula tomando el valor más alto entre ellos. De esta manera, el índice general representa el nivel de restricción más alto entre todos los contaminantes considerados."
   ]
  },
  {
   "cell_type": "code",
   "execution_count": 24,
   "id": "b13b6c16",
   "metadata": {},
   "outputs": [],
   "source": [
    "def indice_general(arr):\n",
    "    indice = np.max(arr)\n",
    "    return indice"
   ]
  },
  {
   "cell_type": "markdown",
   "id": "c07a224e",
   "metadata": {},
   "source": [
    "Aplicamos estas funciones a la base de datos agrupada por contaminantes para generar los índices parciales correspondientes a cada contaminante, así como el índice general que engloba todas las mediciones."
   ]
  },
  {
   "cell_type": "code",
   "execution_count": 25,
   "id": "24fbe6b9",
   "metadata": {
    "scrolled": true
   },
   "outputs": [
    {
     "data": {
      "text/html": [
       "<div>\n",
       "<style scoped>\n",
       "    .dataframe tbody tr th:only-of-type {\n",
       "        vertical-align: middle;\n",
       "    }\n",
       "\n",
       "    .dataframe tbody tr th {\n",
       "        vertical-align: top;\n",
       "    }\n",
       "\n",
       "    .dataframe thead th {\n",
       "        text-align: right;\n",
       "    }\n",
       "</style>\n",
       "<table border=\"1\" class=\"dataframe\">\n",
       "  <thead>\n",
       "    <tr style=\"text-align: right;\">\n",
       "      <th></th>\n",
       "      <th>ANO</th>\n",
       "      <th>SO2</th>\n",
       "      <th>NO2</th>\n",
       "      <th>PM2.5</th>\n",
       "      <th>PM10</th>\n",
       "      <th>O3</th>\n",
       "      <th>I1</th>\n",
       "      <th>I2</th>\n",
       "      <th>I3</th>\n",
       "      <th>I4</th>\n",
       "      <th>I5</th>\n",
       "      <th>ICA</th>\n",
       "    </tr>\n",
       "    <tr>\n",
       "      <th>date</th>\n",
       "      <th></th>\n",
       "      <th></th>\n",
       "      <th></th>\n",
       "      <th></th>\n",
       "      <th></th>\n",
       "      <th></th>\n",
       "      <th></th>\n",
       "      <th></th>\n",
       "      <th></th>\n",
       "      <th></th>\n",
       "      <th></th>\n",
       "      <th></th>\n",
       "    </tr>\n",
       "  </thead>\n",
       "  <tbody>\n",
       "    <tr>\n",
       "      <th>2010-01-01</th>\n",
       "      <td>2010.0</td>\n",
       "      <td>7.9</td>\n",
       "      <td>17.409091</td>\n",
       "      <td>7.00</td>\n",
       "      <td>8.0</td>\n",
       "      <td>51.785714</td>\n",
       "      <td>1</td>\n",
       "      <td>1</td>\n",
       "      <td>1</td>\n",
       "      <td>1</td>\n",
       "      <td>1</td>\n",
       "      <td>1</td>\n",
       "    </tr>\n",
       "    <tr>\n",
       "      <th>2010-01-02</th>\n",
       "      <td>2010.0</td>\n",
       "      <td>9.5</td>\n",
       "      <td>36.454545</td>\n",
       "      <td>10.00</td>\n",
       "      <td>12.0</td>\n",
       "      <td>23.500000</td>\n",
       "      <td>1</td>\n",
       "      <td>1</td>\n",
       "      <td>1</td>\n",
       "      <td>1</td>\n",
       "      <td>1</td>\n",
       "      <td>1</td>\n",
       "    </tr>\n",
       "    <tr>\n",
       "      <th>2010-01-03</th>\n",
       "      <td>2010.0</td>\n",
       "      <td>11.6</td>\n",
       "      <td>46.545455</td>\n",
       "      <td>12.25</td>\n",
       "      <td>13.1</td>\n",
       "      <td>10.642857</td>\n",
       "      <td>1</td>\n",
       "      <td>1</td>\n",
       "      <td>1</td>\n",
       "      <td>1</td>\n",
       "      <td>1</td>\n",
       "      <td>1</td>\n",
       "    </tr>\n",
       "    <tr>\n",
       "      <th>2010-01-04</th>\n",
       "      <td>2010.0</td>\n",
       "      <td>11.6</td>\n",
       "      <td>47.818182</td>\n",
       "      <td>9.00</td>\n",
       "      <td>7.6</td>\n",
       "      <td>11.357143</td>\n",
       "      <td>1</td>\n",
       "      <td>1</td>\n",
       "      <td>1</td>\n",
       "      <td>1</td>\n",
       "      <td>1</td>\n",
       "      <td>1</td>\n",
       "    </tr>\n",
       "    <tr>\n",
       "      <th>2010-01-05</th>\n",
       "      <td>2010.0</td>\n",
       "      <td>11.9</td>\n",
       "      <td>41.636364</td>\n",
       "      <td>8.00</td>\n",
       "      <td>9.5</td>\n",
       "      <td>19.714286</td>\n",
       "      <td>1</td>\n",
       "      <td>1</td>\n",
       "      <td>1</td>\n",
       "      <td>1</td>\n",
       "      <td>1</td>\n",
       "      <td>1</td>\n",
       "    </tr>\n",
       "  </tbody>\n",
       "</table>\n",
       "</div>"
      ],
      "text/plain": [
       "               ANO   SO2        NO2  PM2.5  PM10         O3 I1 I2 I3 I4 I5  \\\n",
       "date                                                                         \n",
       "2010-01-01  2010.0   7.9  17.409091   7.00   8.0  51.785714  1  1  1  1  1   \n",
       "2010-01-02  2010.0   9.5  36.454545  10.00  12.0  23.500000  1  1  1  1  1   \n",
       "2010-01-03  2010.0  11.6  46.545455  12.25  13.1  10.642857  1  1  1  1  1   \n",
       "2010-01-04  2010.0  11.6  47.818182   9.00   7.6  11.357143  1  1  1  1  1   \n",
       "2010-01-05  2010.0  11.9  41.636364   8.00   9.5  19.714286  1  1  1  1  1   \n",
       "\n",
       "            ICA  \n",
       "date             \n",
       "2010-01-01    1  \n",
       "2010-01-02    1  \n",
       "2010-01-03    1  \n",
       "2010-01-04    1  \n",
       "2010-01-05    1  "
      ]
     },
     "execution_count": 25,
     "metadata": {},
     "output_type": "execute_result"
    }
   ],
   "source": [
    "# Indice para S02\n",
    "ts_magnitudes['I1'] = indice_parcial(ts_magnitudes['SO2'], 'SO2')\n",
    "\n",
    "# Indice para N02\n",
    "ts_magnitudes['I2'] = indice_parcial(ts_magnitudes['NO2'], 'NO2')\n",
    "\n",
    "# Indice para PM2.5\n",
    "ts_magnitudes['I3'] = indice_parcial(ts_magnitudes['PM2.5'], 'PM2.5')\n",
    "\n",
    "# Indice para PM10\n",
    "ts_magnitudes['I4'] = indice_parcial(ts_magnitudes['PM10'], 'PM10')\n",
    "\n",
    "# Indice para O3\n",
    "ts_magnitudes['I5'] = indice_parcial(ts_magnitudes['O3'], 'O3')\n",
    "\n",
    "# Indice general\n",
    "ts_magnitudes['ICA'] = ts_magnitudes.loc[:,'I1':'I5'].apply(indice_general,axis=1)\n",
    "\n",
    "# Visualizacion\n",
    "ts_magnitudes.head(5)"
   ]
  },
  {
   "cell_type": "markdown",
   "id": "6d006778",
   "metadata": {},
   "source": [
    "**Por zonas geográficas**"
   ]
  },
  {
   "cell_type": "markdown",
   "id": "e3c71b2f",
   "metadata": {},
   "source": [
    "Durante el proceso de imputación de los valores no verificados, habíamos examinado los contaminantes por zonas. \n",
    "\n",
    "Por tanto, para calcular el índice parcial de cada contaminante en función de la zona, calculamos la media para cada fila del dataframe y utilizamos ese valor para generar el índice parcial correspondiente."
   ]
  },
  {
   "cell_type": "code",
   "execution_count": 26,
   "id": "7f27174b",
   "metadata": {},
   "outputs": [
    {
     "data": {
      "text/html": [
       "<div>\n",
       "<style scoped>\n",
       "    .dataframe tbody tr th:only-of-type {\n",
       "        vertical-align: middle;\n",
       "    }\n",
       "\n",
       "    .dataframe tbody tr th {\n",
       "        vertical-align: top;\n",
       "    }\n",
       "\n",
       "    .dataframe thead th {\n",
       "        text-align: right;\n",
       "    }\n",
       "</style>\n",
       "<table border=\"1\" class=\"dataframe\">\n",
       "  <thead>\n",
       "    <tr style=\"text-align: right;\">\n",
       "      <th>MAGNITUD</th>\n",
       "      <th>SO2</th>\n",
       "      <th>NO2</th>\n",
       "      <th>PM2.5</th>\n",
       "      <th>PM10</th>\n",
       "      <th>O3</th>\n",
       "      <th>I1</th>\n",
       "      <th>I2</th>\n",
       "      <th>I3</th>\n",
       "      <th>I4</th>\n",
       "      <th>I5</th>\n",
       "      <th>ICA</th>\n",
       "    </tr>\n",
       "    <tr>\n",
       "      <th>date</th>\n",
       "      <th></th>\n",
       "      <th></th>\n",
       "      <th></th>\n",
       "      <th></th>\n",
       "      <th></th>\n",
       "      <th></th>\n",
       "      <th></th>\n",
       "      <th></th>\n",
       "      <th></th>\n",
       "      <th></th>\n",
       "      <th></th>\n",
       "    </tr>\n",
       "  </thead>\n",
       "  <tbody>\n",
       "    <tr>\n",
       "      <th>2010-01-01</th>\n",
       "      <td>10.5</td>\n",
       "      <td>22.75</td>\n",
       "      <td>28.247396</td>\n",
       "      <td>18.517681</td>\n",
       "      <td>28.166667</td>\n",
       "      <td>1</td>\n",
       "      <td>1</td>\n",
       "      <td>2</td>\n",
       "      <td>1</td>\n",
       "      <td>1</td>\n",
       "      <td>2</td>\n",
       "    </tr>\n",
       "    <tr>\n",
       "      <th>2010-01-02</th>\n",
       "      <td>12.5</td>\n",
       "      <td>45.25</td>\n",
       "      <td>28.828125</td>\n",
       "      <td>20.202029</td>\n",
       "      <td>23.833333</td>\n",
       "      <td>1</td>\n",
       "      <td>1</td>\n",
       "      <td>2</td>\n",
       "      <td>1</td>\n",
       "      <td>1</td>\n",
       "      <td>2</td>\n",
       "    </tr>\n",
       "    <tr>\n",
       "      <th>2010-01-03</th>\n",
       "      <td>14.0</td>\n",
       "      <td>57.50</td>\n",
       "      <td>29.075521</td>\n",
       "      <td>20.219709</td>\n",
       "      <td>22.000000</td>\n",
       "      <td>1</td>\n",
       "      <td>2</td>\n",
       "      <td>2</td>\n",
       "      <td>1</td>\n",
       "      <td>1</td>\n",
       "      <td>2</td>\n",
       "    </tr>\n",
       "    <tr>\n",
       "      <th>2010-01-04</th>\n",
       "      <td>14.0</td>\n",
       "      <td>57.25</td>\n",
       "      <td>27.822917</td>\n",
       "      <td>18.237390</td>\n",
       "      <td>21.833333</td>\n",
       "      <td>1</td>\n",
       "      <td>2</td>\n",
       "      <td>2</td>\n",
       "      <td>1</td>\n",
       "      <td>1</td>\n",
       "      <td>2</td>\n",
       "    </tr>\n",
       "    <tr>\n",
       "      <th>2010-01-05</th>\n",
       "      <td>14.0</td>\n",
       "      <td>50.50</td>\n",
       "      <td>27.403646</td>\n",
       "      <td>19.088405</td>\n",
       "      <td>23.333333</td>\n",
       "      <td>1</td>\n",
       "      <td>2</td>\n",
       "      <td>2</td>\n",
       "      <td>1</td>\n",
       "      <td>1</td>\n",
       "      <td>2</td>\n",
       "    </tr>\n",
       "  </tbody>\n",
       "</table>\n",
       "</div>"
      ],
      "text/plain": [
       "MAGNITUD     SO2    NO2      PM2.5       PM10         O3 I1 I2 I3 I4 I5  ICA\n",
       "date                                                                        \n",
       "2010-01-01  10.5  22.75  28.247396  18.517681  28.166667  1  1  2  1  1    2\n",
       "2010-01-02  12.5  45.25  28.828125  20.202029  23.833333  1  1  2  1  1    2\n",
       "2010-01-03  14.0  57.50  29.075521  20.219709  22.000000  1  2  2  1  1    2\n",
       "2010-01-04  14.0  57.25  27.822917  18.237390  21.833333  1  2  2  1  1    2\n",
       "2010-01-05  14.0  50.50  27.403646  19.088405  23.333333  1  2  2  1  1    2"
      ]
     },
     "execution_count": 26,
     "metadata": {},
     "output_type": "execute_result"
    }
   ],
   "source": [
    "# Zona 1\n",
    "zona1_media = zona1.groupby(['date','MAGNITUD']).mean()\n",
    "zona1_media = zona1_media.mean(axis=1).reset_index()\n",
    "zona1_media = zona1_media.rename(columns={0: 'valor'})\n",
    "zona1_media = zona1_media.pivot_table(index=['date'], columns='MAGNITUD', values='valor')\n",
    "zona1_media = zona1_media[contaminantes]\n",
    "\n",
    "# Indice para S02\n",
    "zona1_media['I1'] = indice_parcial(zona1_media['SO2'], 'SO2')\n",
    "\n",
    "# Indice para N02\n",
    "zona1_media['I2'] = indice_parcial(zona1_media['NO2'], 'NO2')\n",
    "\n",
    "# Indice para PM2.5\n",
    "zona1_media['I3'] = indice_parcial(zona1_media['PM2.5'], 'PM2.5')\n",
    "\n",
    "# Indice para PM10\n",
    "zona1_media['I4'] = indice_parcial(zona1_media['PM10'], 'PM10')\n",
    "\n",
    "# Indice para O3\n",
    "zona1_media['I5'] = indice_parcial(zona1_media['O3'], 'O3')\n",
    "\n",
    "# Indice general\n",
    "zona1_media['ICA'] = zona1_media.loc[:,'I1':'I5'].apply(indice_general,axis=1)\n",
    "\n",
    "# Visualizacion\n",
    "zona1_media.head(5)"
   ]
  },
  {
   "cell_type": "code",
   "execution_count": 27,
   "id": "41021725",
   "metadata": {},
   "outputs": [
    {
     "data": {
      "text/html": [
       "<div>\n",
       "<style scoped>\n",
       "    .dataframe tbody tr th:only-of-type {\n",
       "        vertical-align: middle;\n",
       "    }\n",
       "\n",
       "    .dataframe tbody tr th {\n",
       "        vertical-align: top;\n",
       "    }\n",
       "\n",
       "    .dataframe thead th {\n",
       "        text-align: right;\n",
       "    }\n",
       "</style>\n",
       "<table border=\"1\" class=\"dataframe\">\n",
       "  <thead>\n",
       "    <tr style=\"text-align: right;\">\n",
       "      <th>MAGNITUD</th>\n",
       "      <th>SO2</th>\n",
       "      <th>NO2</th>\n",
       "      <th>PM2.5</th>\n",
       "      <th>PM10</th>\n",
       "      <th>O3</th>\n",
       "      <th>I1</th>\n",
       "      <th>I2</th>\n",
       "      <th>I3</th>\n",
       "      <th>I4</th>\n",
       "      <th>I5</th>\n",
       "      <th>ICA</th>\n",
       "    </tr>\n",
       "    <tr>\n",
       "      <th>date</th>\n",
       "      <th></th>\n",
       "      <th></th>\n",
       "      <th></th>\n",
       "      <th></th>\n",
       "      <th></th>\n",
       "      <th></th>\n",
       "      <th></th>\n",
       "      <th></th>\n",
       "      <th></th>\n",
       "      <th></th>\n",
       "      <th></th>\n",
       "    </tr>\n",
       "  </thead>\n",
       "  <tbody>\n",
       "    <tr>\n",
       "      <th>2010-01-01</th>\n",
       "      <td>0.0</td>\n",
       "      <td>21.0</td>\n",
       "      <td>48.002623</td>\n",
       "      <td>59.501312</td>\n",
       "      <td>71.0</td>\n",
       "      <td>NaN</td>\n",
       "      <td>1</td>\n",
       "      <td>3</td>\n",
       "      <td>3</td>\n",
       "      <td>2</td>\n",
       "      <td>3</td>\n",
       "    </tr>\n",
       "    <tr>\n",
       "      <th>2010-01-02</th>\n",
       "      <td>0.0</td>\n",
       "      <td>47.0</td>\n",
       "      <td>48.005247</td>\n",
       "      <td>59.503935</td>\n",
       "      <td>36.0</td>\n",
       "      <td>NaN</td>\n",
       "      <td>1</td>\n",
       "      <td>3</td>\n",
       "      <td>3</td>\n",
       "      <td>1</td>\n",
       "      <td>3</td>\n",
       "    </tr>\n",
       "    <tr>\n",
       "      <th>2010-01-03</th>\n",
       "      <td>0.0</td>\n",
       "      <td>55.0</td>\n",
       "      <td>48.007870</td>\n",
       "      <td>59.506559</td>\n",
       "      <td>22.0</td>\n",
       "      <td>NaN</td>\n",
       "      <td>2</td>\n",
       "      <td>3</td>\n",
       "      <td>3</td>\n",
       "      <td>1</td>\n",
       "      <td>3</td>\n",
       "    </tr>\n",
       "    <tr>\n",
       "      <th>2010-01-04</th>\n",
       "      <td>0.0</td>\n",
       "      <td>56.0</td>\n",
       "      <td>48.010494</td>\n",
       "      <td>59.509182</td>\n",
       "      <td>24.0</td>\n",
       "      <td>NaN</td>\n",
       "      <td>2</td>\n",
       "      <td>3</td>\n",
       "      <td>3</td>\n",
       "      <td>1</td>\n",
       "      <td>3</td>\n",
       "    </tr>\n",
       "    <tr>\n",
       "      <th>2010-01-05</th>\n",
       "      <td>0.0</td>\n",
       "      <td>62.0</td>\n",
       "      <td>48.013117</td>\n",
       "      <td>59.511806</td>\n",
       "      <td>29.0</td>\n",
       "      <td>NaN</td>\n",
       "      <td>2</td>\n",
       "      <td>3</td>\n",
       "      <td>3</td>\n",
       "      <td>1</td>\n",
       "      <td>3</td>\n",
       "    </tr>\n",
       "  </tbody>\n",
       "</table>\n",
       "</div>"
      ],
      "text/plain": [
       "MAGNITUD    SO2   NO2      PM2.5       PM10    O3   I1 I2 I3 I4 I5  ICA\n",
       "date                                                                   \n",
       "2010-01-01  0.0  21.0  48.002623  59.501312  71.0  NaN  1  3  3  2    3\n",
       "2010-01-02  0.0  47.0  48.005247  59.503935  36.0  NaN  1  3  3  1    3\n",
       "2010-01-03  0.0  55.0  48.007870  59.506559  22.0  NaN  2  3  3  1    3\n",
       "2010-01-04  0.0  56.0  48.010494  59.509182  24.0  NaN  2  3  3  1    3\n",
       "2010-01-05  0.0  62.0  48.013117  59.511806  29.0  NaN  2  3  3  1    3"
      ]
     },
     "execution_count": 27,
     "metadata": {},
     "output_type": "execute_result"
    }
   ],
   "source": [
    "# Zona 2\n",
    "zona2_media = zona2.groupby(['date','MAGNITUD']).mean()\n",
    "zona2_media = zona2_media.mean(axis=1).reset_index()\n",
    "zona2_media = zona2_media.rename(columns={0: 'valor'})\n",
    "zona2_media = zona2_media.fillna(0)\n",
    "zona2_media = zona2_media.pivot_table(index=['date'], columns='MAGNITUD', values='valor')\n",
    "zona2_media = zona2_media[contaminantes]\n",
    "\n",
    "# Indice para S02\n",
    "zona2_media['I1'] = indice_parcial(zona2_media['SO2'], 'SO2')\n",
    "\n",
    "# Indice para N02\n",
    "zona2_media['I2'] = indice_parcial(zona2_media['NO2'], 'NO2')\n",
    "\n",
    "# Indice para PM2.5\n",
    "zona2_media['I3'] = indice_parcial(zona2_media['PM2.5'], 'PM2.5')\n",
    "\n",
    "# Indice para PM10\n",
    "zona2_media['I4'] = indice_parcial(zona2_media['PM10'], 'PM10')\n",
    "\n",
    "# Indice para O3\n",
    "zona2_media['I5'] = indice_parcial(zona2_media['O3'], 'O3')\n",
    "\n",
    "# Indice general\n",
    "zona2_media['ICA'] = zona2_media.loc[:,'I1':'I5'].apply(indice_general,axis=1)\n",
    "\n",
    "# Visualizacion\n",
    "zona2_media.head(5)"
   ]
  },
  {
   "cell_type": "code",
   "execution_count": 28,
   "id": "6e914096",
   "metadata": {},
   "outputs": [
    {
     "data": {
      "text/html": [
       "<div>\n",
       "<style scoped>\n",
       "    .dataframe tbody tr th:only-of-type {\n",
       "        vertical-align: middle;\n",
       "    }\n",
       "\n",
       "    .dataframe tbody tr th {\n",
       "        vertical-align: top;\n",
       "    }\n",
       "\n",
       "    .dataframe thead th {\n",
       "        text-align: right;\n",
       "    }\n",
       "</style>\n",
       "<table border=\"1\" class=\"dataframe\">\n",
       "  <thead>\n",
       "    <tr style=\"text-align: right;\">\n",
       "      <th>MAGNITUD</th>\n",
       "      <th>SO2</th>\n",
       "      <th>NO2</th>\n",
       "      <th>PM2.5</th>\n",
       "      <th>PM10</th>\n",
       "      <th>O3</th>\n",
       "      <th>I1</th>\n",
       "      <th>I2</th>\n",
       "      <th>I3</th>\n",
       "      <th>I4</th>\n",
       "      <th>I5</th>\n",
       "      <th>ICA</th>\n",
       "    </tr>\n",
       "    <tr>\n",
       "      <th>date</th>\n",
       "      <th></th>\n",
       "      <th></th>\n",
       "      <th></th>\n",
       "      <th></th>\n",
       "      <th></th>\n",
       "      <th></th>\n",
       "      <th></th>\n",
       "      <th></th>\n",
       "      <th></th>\n",
       "      <th></th>\n",
       "      <th></th>\n",
       "    </tr>\n",
       "  </thead>\n",
       "  <tbody>\n",
       "    <tr>\n",
       "      <th>2010-01-01</th>\n",
       "      <td>6.0</td>\n",
       "      <td>22.75</td>\n",
       "      <td>38.9969</td>\n",
       "      <td>27.300217</td>\n",
       "      <td>33.6</td>\n",
       "      <td>1</td>\n",
       "      <td>1</td>\n",
       "      <td>3</td>\n",
       "      <td>2</td>\n",
       "      <td>1</td>\n",
       "      <td>3</td>\n",
       "    </tr>\n",
       "    <tr>\n",
       "      <th>2010-01-02</th>\n",
       "      <td>8.0</td>\n",
       "      <td>47.50</td>\n",
       "      <td>38.9938</td>\n",
       "      <td>31.700650</td>\n",
       "      <td>18.0</td>\n",
       "      <td>1</td>\n",
       "      <td>1</td>\n",
       "      <td>3</td>\n",
       "      <td>2</td>\n",
       "      <td>1</td>\n",
       "      <td>3</td>\n",
       "    </tr>\n",
       "    <tr>\n",
       "      <th>2010-01-03</th>\n",
       "      <td>8.0</td>\n",
       "      <td>54.75</td>\n",
       "      <td>38.9907</td>\n",
       "      <td>30.901084</td>\n",
       "      <td>13.0</td>\n",
       "      <td>1</td>\n",
       "      <td>2</td>\n",
       "      <td>3</td>\n",
       "      <td>2</td>\n",
       "      <td>1</td>\n",
       "      <td>3</td>\n",
       "    </tr>\n",
       "    <tr>\n",
       "      <th>2010-01-04</th>\n",
       "      <td>7.0</td>\n",
       "      <td>52.25</td>\n",
       "      <td>38.9876</td>\n",
       "      <td>26.901517</td>\n",
       "      <td>14.0</td>\n",
       "      <td>1</td>\n",
       "      <td>2</td>\n",
       "      <td>3</td>\n",
       "      <td>2</td>\n",
       "      <td>1</td>\n",
       "      <td>3</td>\n",
       "    </tr>\n",
       "    <tr>\n",
       "      <th>2010-01-05</th>\n",
       "      <td>7.0</td>\n",
       "      <td>49.00</td>\n",
       "      <td>38.9845</td>\n",
       "      <td>28.101950</td>\n",
       "      <td>16.8</td>\n",
       "      <td>1</td>\n",
       "      <td>1</td>\n",
       "      <td>3</td>\n",
       "      <td>2</td>\n",
       "      <td>1</td>\n",
       "      <td>3</td>\n",
       "    </tr>\n",
       "  </tbody>\n",
       "</table>\n",
       "</div>"
      ],
      "text/plain": [
       "MAGNITUD    SO2    NO2    PM2.5       PM10    O3 I1 I2 I3 I4 I5  ICA\n",
       "date                                                                \n",
       "2010-01-01  6.0  22.75  38.9969  27.300217  33.6  1  1  3  2  1    3\n",
       "2010-01-02  8.0  47.50  38.9938  31.700650  18.0  1  1  3  2  1    3\n",
       "2010-01-03  8.0  54.75  38.9907  30.901084  13.0  1  2  3  2  1    3\n",
       "2010-01-04  7.0  52.25  38.9876  26.901517  14.0  1  2  3  2  1    3\n",
       "2010-01-05  7.0  49.00  38.9845  28.101950  16.8  1  1  3  2  1    3"
      ]
     },
     "execution_count": 28,
     "metadata": {},
     "output_type": "execute_result"
    }
   ],
   "source": [
    "# Zona 3\n",
    "zona3_media = zona3.groupby(['date','MAGNITUD']).mean()\n",
    "zona3_media = zona3_media.mean(axis=1).reset_index()\n",
    "zona3_media = zona3_media.rename(columns={0: 'valor'})\n",
    "zona3_media = zona3_media.pivot_table(index=['date'], columns='MAGNITUD', values='valor')\n",
    "zona3_media = zona3_media[contaminantes]\n",
    "\n",
    "# Indice para S02\n",
    "zona3_media['I1'] = indice_parcial(zona3_media['SO2'], 'SO2')\n",
    "\n",
    "# Indice para N02\n",
    "zona3_media['I2'] = indice_parcial(zona3_media['NO2'], 'NO2')\n",
    "\n",
    "# Indice para PM2.5\n",
    "zona3_media['I3'] = indice_parcial(zona3_media['PM2.5'], 'PM2.5')\n",
    "\n",
    "# Indice para PM10\n",
    "zona3_media['I4'] = indice_parcial(zona3_media['PM10'], 'PM10')\n",
    "\n",
    "# Indice para O3\n",
    "zona3_media['I5'] = indice_parcial(zona3_media['O3'], 'O3')\n",
    "\n",
    "# Indice general\n",
    "zona3_media['ICA'] = zona3_media.loc[:,'I1':'I5'].apply(indice_general,axis=1)\n",
    "\n",
    "# Visualizacion\n",
    "zona3_media.head(5)"
   ]
  },
  {
   "cell_type": "code",
   "execution_count": 29,
   "id": "e77b9a23",
   "metadata": {
    "scrolled": true
   },
   "outputs": [
    {
     "data": {
      "text/html": [
       "<div>\n",
       "<style scoped>\n",
       "    .dataframe tbody tr th:only-of-type {\n",
       "        vertical-align: middle;\n",
       "    }\n",
       "\n",
       "    .dataframe tbody tr th {\n",
       "        vertical-align: top;\n",
       "    }\n",
       "\n",
       "    .dataframe thead th {\n",
       "        text-align: right;\n",
       "    }\n",
       "</style>\n",
       "<table border=\"1\" class=\"dataframe\">\n",
       "  <thead>\n",
       "    <tr style=\"text-align: right;\">\n",
       "      <th>MAGNITUD</th>\n",
       "      <th>SO2</th>\n",
       "      <th>NO2</th>\n",
       "      <th>PM2.5</th>\n",
       "      <th>PM10</th>\n",
       "      <th>O3</th>\n",
       "      <th>I1</th>\n",
       "      <th>I2</th>\n",
       "      <th>I3</th>\n",
       "      <th>I4</th>\n",
       "      <th>I5</th>\n",
       "      <th>ICA</th>\n",
       "    </tr>\n",
       "    <tr>\n",
       "      <th>date</th>\n",
       "      <th></th>\n",
       "      <th></th>\n",
       "      <th></th>\n",
       "      <th></th>\n",
       "      <th></th>\n",
       "      <th></th>\n",
       "      <th></th>\n",
       "      <th></th>\n",
       "      <th></th>\n",
       "      <th></th>\n",
       "      <th></th>\n",
       "    </tr>\n",
       "  </thead>\n",
       "  <tbody>\n",
       "    <tr>\n",
       "      <th>2010-01-01</th>\n",
       "      <td>7.0</td>\n",
       "      <td>5.5</td>\n",
       "      <td>13.503194</td>\n",
       "      <td>28.501597</td>\n",
       "      <td>80.0</td>\n",
       "      <td>1</td>\n",
       "      <td>1</td>\n",
       "      <td>1</td>\n",
       "      <td>2</td>\n",
       "      <td>2</td>\n",
       "      <td>2</td>\n",
       "    </tr>\n",
       "    <tr>\n",
       "      <th>2010-01-02</th>\n",
       "      <td>7.0</td>\n",
       "      <td>26.5</td>\n",
       "      <td>15.006388</td>\n",
       "      <td>30.504791</td>\n",
       "      <td>35.5</td>\n",
       "      <td>1</td>\n",
       "      <td>1</td>\n",
       "      <td>2</td>\n",
       "      <td>2</td>\n",
       "      <td>1</td>\n",
       "      <td>2</td>\n",
       "    </tr>\n",
       "    <tr>\n",
       "      <th>2010-01-03</th>\n",
       "      <td>8.0</td>\n",
       "      <td>40.5</td>\n",
       "      <td>16.509581</td>\n",
       "      <td>33.007984</td>\n",
       "      <td>13.0</td>\n",
       "      <td>1</td>\n",
       "      <td>1</td>\n",
       "      <td>2</td>\n",
       "      <td>2</td>\n",
       "      <td>1</td>\n",
       "      <td>2</td>\n",
       "    </tr>\n",
       "    <tr>\n",
       "      <th>2010-01-04</th>\n",
       "      <td>8.0</td>\n",
       "      <td>53.0</td>\n",
       "      <td>15.512775</td>\n",
       "      <td>30.511178</td>\n",
       "      <td>16.5</td>\n",
       "      <td>1</td>\n",
       "      <td>2</td>\n",
       "      <td>2</td>\n",
       "      <td>2</td>\n",
       "      <td>1</td>\n",
       "      <td>2</td>\n",
       "    </tr>\n",
       "    <tr>\n",
       "      <th>2010-01-05</th>\n",
       "      <td>8.0</td>\n",
       "      <td>32.5</td>\n",
       "      <td>14.015969</td>\n",
       "      <td>29.014372</td>\n",
       "      <td>30.5</td>\n",
       "      <td>1</td>\n",
       "      <td>1</td>\n",
       "      <td>1</td>\n",
       "      <td>2</td>\n",
       "      <td>1</td>\n",
       "      <td>2</td>\n",
       "    </tr>\n",
       "  </tbody>\n",
       "</table>\n",
       "</div>"
      ],
      "text/plain": [
       "MAGNITUD    SO2   NO2      PM2.5       PM10    O3 I1 I2 I3 I4 I5  ICA\n",
       "date                                                                 \n",
       "2010-01-01  7.0   5.5  13.503194  28.501597  80.0  1  1  1  2  2    2\n",
       "2010-01-02  7.0  26.5  15.006388  30.504791  35.5  1  1  2  2  1    2\n",
       "2010-01-03  8.0  40.5  16.509581  33.007984  13.0  1  1  2  2  1    2\n",
       "2010-01-04  8.0  53.0  15.512775  30.511178  16.5  1  2  2  2  1    2\n",
       "2010-01-05  8.0  32.5  14.015969  29.014372  30.5  1  1  1  2  1    2"
      ]
     },
     "execution_count": 29,
     "metadata": {},
     "output_type": "execute_result"
    }
   ],
   "source": [
    "# Zona 4\n",
    "zona4_media = zona4.groupby(['date','MAGNITUD']).mean()\n",
    "zona4_media = zona4_media.mean(axis=1).reset_index()\n",
    "zona4_media = zona4_media.rename(columns={0: 'valor'})\n",
    "zona4_media = zona4_media.pivot_table(index=['date'], columns='MAGNITUD', values='valor')\n",
    "zona4_media = zona4_media[contaminantes]\n",
    "\n",
    "# Indice para S02\n",
    "zona4_media['I1'] = indice_parcial(zona4_media['SO2'], 'SO2')\n",
    "\n",
    "# Indice para N02\n",
    "zona4_media['I2'] = indice_parcial(zona4_media['NO2'], 'NO2')\n",
    "\n",
    "# Indice para PM2.5\n",
    "zona4_media['I3'] = indice_parcial(zona4_media['PM2.5'], 'PM2.5')\n",
    "\n",
    "# Indice para PM10\n",
    "zona4_media['I4'] = indice_parcial(zona4_media['PM10'], 'PM10')\n",
    "\n",
    "# Indice para O3\n",
    "zona4_media['I5'] = indice_parcial(zona4_media['O3'], 'O3')\n",
    "\n",
    "# Indice general\n",
    "zona4_media['ICA'] = zona4_media.loc[:,'I1':'I5'].apply(indice_general,axis=1)\n",
    "\n",
    "# Visualizacion\n",
    "zona4_media.head(5)"
   ]
  },
  {
   "cell_type": "code",
   "execution_count": 30,
   "id": "8e953892",
   "metadata": {
    "scrolled": false
   },
   "outputs": [
    {
     "data": {
      "text/html": [
       "<div>\n",
       "<style scoped>\n",
       "    .dataframe tbody tr th:only-of-type {\n",
       "        vertical-align: middle;\n",
       "    }\n",
       "\n",
       "    .dataframe tbody tr th {\n",
       "        vertical-align: top;\n",
       "    }\n",
       "\n",
       "    .dataframe thead th {\n",
       "        text-align: right;\n",
       "    }\n",
       "</style>\n",
       "<table border=\"1\" class=\"dataframe\">\n",
       "  <thead>\n",
       "    <tr style=\"text-align: right;\">\n",
       "      <th>MAGNITUD</th>\n",
       "      <th>SO2</th>\n",
       "      <th>NO2</th>\n",
       "      <th>PM2.5</th>\n",
       "      <th>PM10</th>\n",
       "      <th>O3</th>\n",
       "      <th>I1</th>\n",
       "      <th>I2</th>\n",
       "      <th>I3</th>\n",
       "      <th>I4</th>\n",
       "      <th>I5</th>\n",
       "      <th>ICA</th>\n",
       "    </tr>\n",
       "    <tr>\n",
       "      <th>date</th>\n",
       "      <th></th>\n",
       "      <th></th>\n",
       "      <th></th>\n",
       "      <th></th>\n",
       "      <th></th>\n",
       "      <th></th>\n",
       "      <th></th>\n",
       "      <th></th>\n",
       "      <th></th>\n",
       "      <th></th>\n",
       "      <th></th>\n",
       "    </tr>\n",
       "  </thead>\n",
       "  <tbody>\n",
       "    <tr>\n",
       "      <th>2010-01-01</th>\n",
       "      <td>6.0</td>\n",
       "      <td>18.5</td>\n",
       "      <td>52.327010</td>\n",
       "      <td>23.168675</td>\n",
       "      <td>53.0</td>\n",
       "      <td>1</td>\n",
       "      <td>1</td>\n",
       "      <td>3</td>\n",
       "      <td>1</td>\n",
       "      <td>1</td>\n",
       "      <td>3</td>\n",
       "    </tr>\n",
       "    <tr>\n",
       "      <th>2010-01-02</th>\n",
       "      <td>6.5</td>\n",
       "      <td>35.5</td>\n",
       "      <td>52.320686</td>\n",
       "      <td>24.837027</td>\n",
       "      <td>25.5</td>\n",
       "      <td>1</td>\n",
       "      <td>1</td>\n",
       "      <td>3</td>\n",
       "      <td>1</td>\n",
       "      <td>1</td>\n",
       "      <td>3</td>\n",
       "    </tr>\n",
       "    <tr>\n",
       "      <th>2010-01-03</th>\n",
       "      <td>9.0</td>\n",
       "      <td>45.0</td>\n",
       "      <td>52.314363</td>\n",
       "      <td>25.505379</td>\n",
       "      <td>12.5</td>\n",
       "      <td>1</td>\n",
       "      <td>1</td>\n",
       "      <td>3</td>\n",
       "      <td>2</td>\n",
       "      <td>1</td>\n",
       "      <td>3</td>\n",
       "    </tr>\n",
       "    <tr>\n",
       "      <th>2010-01-04</th>\n",
       "      <td>9.0</td>\n",
       "      <td>50.5</td>\n",
       "      <td>52.308039</td>\n",
       "      <td>24.173731</td>\n",
       "      <td>9.5</td>\n",
       "      <td>1</td>\n",
       "      <td>2</td>\n",
       "      <td>3</td>\n",
       "      <td>1</td>\n",
       "      <td>1</td>\n",
       "      <td>3</td>\n",
       "    </tr>\n",
       "    <tr>\n",
       "      <th>2010-01-05</th>\n",
       "      <td>9.0</td>\n",
       "      <td>45.5</td>\n",
       "      <td>52.301715</td>\n",
       "      <td>24.842083</td>\n",
       "      <td>18.5</td>\n",
       "      <td>1</td>\n",
       "      <td>1</td>\n",
       "      <td>3</td>\n",
       "      <td>1</td>\n",
       "      <td>1</td>\n",
       "      <td>3</td>\n",
       "    </tr>\n",
       "  </tbody>\n",
       "</table>\n",
       "</div>"
      ],
      "text/plain": [
       "MAGNITUD    SO2   NO2      PM2.5       PM10    O3 I1 I2 I3 I4 I5  ICA\n",
       "date                                                                 \n",
       "2010-01-01  6.0  18.5  52.327010  23.168675  53.0  1  1  3  1  1    3\n",
       "2010-01-02  6.5  35.5  52.320686  24.837027  25.5  1  1  3  1  1    3\n",
       "2010-01-03  9.0  45.0  52.314363  25.505379  12.5  1  1  3  2  1    3\n",
       "2010-01-04  9.0  50.5  52.308039  24.173731   9.5  1  2  3  1  1    3\n",
       "2010-01-05  9.0  45.5  52.301715  24.842083  18.5  1  1  3  1  1    3"
      ]
     },
     "execution_count": 30,
     "metadata": {},
     "output_type": "execute_result"
    }
   ],
   "source": [
    "# Zona 5\n",
    "zona5_media = zona5.groupby(['date','MAGNITUD']).mean()\n",
    "zona5_media = zona5_media.mean(axis=1).reset_index()\n",
    "zona5_media = zona5_media.rename(columns={0: 'valor'})\n",
    "zona5_media = zona5_media.pivot_table(index=['date'], columns='MAGNITUD', values='valor')\n",
    "zona5_media = zona5_media[contaminantes]\n",
    "\n",
    "# Indice para S02\n",
    "zona5_media['I1'] = indice_parcial(zona5_media['SO2'], 'SO2')\n",
    "\n",
    "# Indice para N02\n",
    "zona5_media['I2'] = indice_parcial(zona5_media['NO2'], 'NO2')\n",
    "\n",
    "# Indice para PM2.5\n",
    "zona5_media['I3'] = indice_parcial(zona5_media['PM2.5'], 'PM2.5')\n",
    "\n",
    "# Indice para PM10\n",
    "zona5_media['I4'] = indice_parcial(zona5_media['PM10'], 'PM10')\n",
    "\n",
    "# Indice para O3\n",
    "zona5_media['I5'] = indice_parcial(zona5_media['O3'], 'O3')\n",
    "\n",
    "# Indice general\n",
    "zona5_media['ICA'] = zona5_media.loc[:,'I1':'I5'].apply(indice_general,axis=1)\n",
    "\n",
    "# Visualizacion\n",
    "zona5_media.head(5)"
   ]
  },
  {
   "cell_type": "markdown",
   "id": "9bbdead9",
   "metadata": {},
   "source": [
    "Vamos a crear un mapa de la Comunidad de Madrid con las zonas agrupadas y representar el índice de calidad del aire general en cada zona mediante el uso de diferentes colores."
   ]
  },
  {
   "cell_type": "code",
   "execution_count": null,
   "id": "28216426",
   "metadata": {},
   "outputs": [],
   "source": [
    "#!pip install folium"
   ]
  },
  {
   "cell_type": "code",
   "execution_count": null,
   "id": "cb508c81",
   "metadata": {},
   "outputs": [],
   "source": [
    "# Librerias\n",
    "import folium\n",
    "from folium.plugins import MarkerCluster\n",
    "from folium.vector_layers import Polygon"
   ]
  },
  {
   "cell_type": "code",
   "execution_count": null,
   "id": "c494c497",
   "metadata": {},
   "outputs": [],
   "source": [
    "# Crear mapa centrado en la Comunidad de Madrid\n",
    "madrid_map = folium.Map(location=[40.4168, -3.7038], zoom_start=11)"
   ]
  },
  {
   "cell_type": "code",
   "execution_count": null,
   "id": "fc6b9d8f",
   "metadata": {},
   "outputs": [],
   "source": [
    "# Definir las zonas \n",
    "# Coordenadas zona 1 - Interior \n",
    "zona1_coordinates = [[40.474580, -3.750343], [40.480848, -3.674468], \n",
    "                     [40.386772, -3.662109], [40.388341, -3.734893]]\n",
    "\n",
    "# Coordenadas zona 2 - Sureste\n",
    "zona2_coordinates = [[40.388341, -3.734893], [40.380495, -3.548126],\n",
    "                     [40.341255, -3.595504], [40.337591, -3.727340]]\n",
    "\n",
    "# Coordenadas zona 3 - Noreste\n",
    "zona3_coordinates = [[40.474580, -3.750343],[40.477192, -3.754119],\n",
    "                     [40.532533, -3.660049],[40.515309, -3.548126],\n",
    "                     [40.453684, -3.543319],[40.452639, -3.651122],\n",
    "                    [40.486070, -3.674125]]\n",
    "\n",
    "# Coordenadas zona 4 - Noroeste\n",
    "zona4_coordinates = [[40.572184, -3.925781], [40.608163, -3.721847],\n",
    "                     [40.518963, -3.687515], [40.465178, -3.796005]]\n",
    "\n",
    "# Coordenadas zona 5 - Suroeste\n",
    "zona5_coordinates = [[40.398277, -3.833084], [40.388341, -3.734893],\n",
    "                     [40.337591, -3.727340], [40.337591, -3.823470]]"
   ]
  },
  {
   "cell_type": "code",
   "execution_count": null,
   "id": "3a4452d1",
   "metadata": {},
   "outputs": [],
   "source": [
    "# Capas\n",
    "# Capa zona 1\n",
    "zona1_polygon = folium.vector_layers.Polygon(locations=zona1_coordinates, color='blue', fill=True, fill_color='lightgreen', fill_opacity=0.3)\n",
    "zona1_polygon.add_to(madrid_map)\n",
    "\n",
    "# Capa zona2\n",
    "zona2_polygon = folium.vector_layers.Polygon(locations=zona2_coordinates, color='blue', fill=True, fill_color='lightgreen', fill_opacity=0.3)\n",
    "zona2_polygon.add_to(madrid_map)\n",
    "\n",
    "# Capa zona 3\n",
    "zona3_polygon = folium.vector_layers.Polygon(locations=zona3_coordinates, color='blue', fill=True, fill_color='lightgreen', fill_opacity=0.3)\n",
    "zona3_polygon.add_to(madrid_map)\n",
    "\n",
    "# Capa zona 4\n",
    "zona4_polygon = folium.vector_layers.Polygon(locations=zona4_coordinates, color='blue', fill=True, fill_color='lightgreen', fill_opacity=0.3)\n",
    "zona4_polygon.add_to(madrid_map)\n",
    "\n",
    "# Capa zona 5\n",
    "zona5_polygon = folium.vector_layers.Polygon(locations=zona5_coordinates, color='blue', fill=True, fill_color='lightgreen', fill_opacity=0.3)\n",
    "zona5_polygon.add_to(madrid_map)"
   ]
  },
  {
   "cell_type": "code",
   "execution_count": null,
   "id": "dc327a91",
   "metadata": {
    "scrolled": false
   },
   "outputs": [],
   "source": [
    "# Visualizacion\n",
    "madrid_map"
   ]
  },
  {
   "cell_type": "markdown",
   "id": "3f43e51d",
   "metadata": {},
   "source": [
    "**Nota:** Hay que hacer\n",
    "- Mapa de zonas con un archivo JSON  posible <a href=\"https://datos.comunidad.madrid/catalogo/dataset?sort=score+desc%2C+metadata_modified+desc&amp=&res_format=JSON&q=aire\">enlace</a>. \n",
    "\n",
    "- Choropleth con el índice general <a href=\"https://www.youtube.com/watch?v=AHiWIOohYa8&t=753s&ab_channel=SCIENCEANDSCIENCEONLY\"> tutorial </a>"
   ]
  },
  {
   "cell_type": "markdown",
   "id": "7a8f92e6",
   "metadata": {},
   "source": [
    "## 1.4 Outliers"
   ]
  },
  {
   "cell_type": "markdown",
   "id": "8c3cc492",
   "metadata": {},
   "source": [
    "Los gráficos boxplot nos permiten identificar los valores atípicos de cada contaminante en cada zona."
   ]
  },
  {
   "cell_type": "code",
   "execution_count": 31,
   "id": "6b8bec7f",
   "metadata": {
    "scrolled": false
   },
   "outputs": [
    {
     "data": {
      "image/png": "[encoded data removed]",
      "text/plain": [
       "<Figure size 720x432 with 6 Axes>"
      ]
     },
     "metadata": {},
     "output_type": "display_data"
    }
   ],
   "source": [
    "# Graficos outliers\n",
    "sns.set(style=\"whitegrid\")\n",
    "fig, axs = plt.subplots(3, 2, figsize=(10, 6))\n",
    "\n",
    "# Boxplot\n",
    "sns.boxplot(data=zona1_media[contaminantes], ax=axs[0][0], palette=\"Set1\")\n",
    "sns.boxplot(data=zona2_media[contaminantes], ax=axs[0][1], palette=\"Set1\")\n",
    "sns.boxplot(data=zona3_media[contaminantes], ax=axs[1][0], palette=\"Set1\")\n",
    "sns.boxplot(data=zona4_media[contaminantes], ax=axs[1][1], palette=\"Set1\")\n",
    "sns.boxplot(data=zona5_media[contaminantes], ax=axs[2][0], palette=\"Set1\")\n",
    "\n",
    "# Titulos\n",
    "axs[0][0].set_title(\"Zona 1\")\n",
    "axs[0][1].set_title(\"Zona 2\")\n",
    "axs[1][0].set_title(\"Zona 3\")\n",
    "axs[1][1].set_title(\"Zona 4\")\n",
    "axs[2][0].set_title(\"Zona 5\")\n",
    "\n",
    "fig.tight_layout()\n",
    "\n",
    "plt.show()"
   ]
  },
  {
   "cell_type": "markdown",
   "id": "49c675cb",
   "metadata": {},
   "source": [
    "## 1.5 Análisis de correlaciones"
   ]
  },
  {
   "cell_type": "code",
   "execution_count": 33,
   "id": "c2f703dc",
   "metadata": {
    "scrolled": true
   },
   "outputs": [
    {
     "data": {
      "image/png": "[encoded data removed]",
      "text/plain": [
       "<Figure size 720x432 with 11 Axes>"
      ]
     },
     "metadata": {},
     "output_type": "display_data"
    }
   ],
   "source": [
    "# Graficos correlaciones\n",
    "fig, axs = plt.subplots(3, 2, figsize=(10, 6))\n",
    "\n",
    "# Correlaciones\n",
    "corr1 = zona1_media.loc[:,'SO2':'PM10'].corr()\n",
    "sns.heatmap(data=corr1,ax=axs[0][0],cmap=\"GnBu\",annot=True) \n",
    "\n",
    "corr2 = zona2_media.loc[:,'SO2':'PM10'].corr()\n",
    "sns.heatmap(data=corr2,ax=axs[0][1],cmap=\"GnBu\",annot=True) \n",
    "\n",
    "corr3 = zona3_media.loc[:,'SO2':'PM10'].corr()\n",
    "sns.heatmap(data=corr3,ax=axs[1][0],cmap=\"GnBu\",annot=True) \n",
    "\n",
    "corr4 = zona4_media.loc[:,'SO2':'PM10'].corr()\n",
    "sns.heatmap(data=corr4,ax=axs[1][1],cmap=\"GnBu\",annot=True) \n",
    "\n",
    "corr5 = zona5_media.loc[:,'SO2':'PM10'].corr()\n",
    "sns.heatmap(data=corr5,ax=axs[2][0],cmap=\"GnBu\",annot=True) \n",
    "\n",
    "# Titulos\n",
    "axs[0][0].set_title(\"Zona 1\")\n",
    "axs[0][1].set_title(\"Zona 2\")\n",
    "axs[1][0].set_title(\"Zona 3\")\n",
    "axs[1][1].set_title(\"Zona 4\")\n",
    "axs[2][0].set_title(\"Zona 5\")\n",
    "\n",
    "fig.tight_layout()\n",
    "\n",
    "plt.show()"
   ]
  },
  {
   "cell_type": "markdown",
   "id": "447903d4",
   "metadata": {},
   "source": [
    "## 1.6 Análisis de Series Temporales"
   ]
  },
  {
   "cell_type": "markdown",
   "id": "c4615450",
   "metadata": {},
   "source": [
    "Vamos a explorar el análisis de series temporales multivariantes con el propósito de realizar predicciones sobre la contaminación. En particular, nos enfocaremos en los modelos Vector Autoregressive (VAR) y Vector Autoregressive Moving Average (VARMA)."
   ]
  },
  {
   "cell_type": "code",
   "execution_count": null,
   "id": "2c3cfe27",
   "metadata": {},
   "outputs": [],
   "source": [
    "#!pip install statsmodels"
   ]
  },
  {
   "cell_type": "code",
   "execution_count": 34,
   "id": "eef2571c",
   "metadata": {},
   "outputs": [],
   "source": [
    "# Librerias\n",
    "import statsmodels.api as sm\n",
    "\n",
    "from statsmodels.tsa.stattools import adfuller\n",
    "from statsmodels.tsa.vector_ar.vecm import coint_johansen\n",
    "\n",
    "from sklearn import metrics\n",
    "from sklearn.model_selection import ParameterGrid\n",
    "\n",
    "from statsmodels.tsa.api import VAR\n",
    "from statsmodels.tsa.statespace.varmax import VARMAX\n",
    "from pmdarima import auto_arima\n",
    "\n",
    "import warnings\n",
    "warnings.filterwarnings(\"ignore\")"
   ]
  },
  {
   "cell_type": "markdown",
   "id": "5c8ddb31",
   "metadata": {},
   "source": [
    "Definimos algunas funciones que utilizaremos posteriormente"
   ]
  },
  {
   "cell_type": "code",
   "execution_count": 35,
   "id": "1aa8e658",
   "metadata": {},
   "outputs": [],
   "source": [
    "def mean_absolute_percentage_error_func(y_true, y_pred):\n",
    "    '''\n",
    "    Calculate the mean absolute percentage error as a metric for evaluation\n",
    "    \n",
    "    Args:\n",
    "        y_true (float64): Y values for the dependent variable (test part), numpy array of floats \n",
    "        y_pred (float64): Predicted values for the dependen variable (test parrt), numpy array of floats\n",
    "    \n",
    "    Returns:\n",
    "        Mean absolute percentage error \n",
    "    '''    \n",
    "    y_true, y_pred = np.array(y_true), np.array(y_pred)\n",
    "    return np.mean(np.abs((y_true - y_pred) / y_true)) * 100"
   ]
  },
  {
   "cell_type": "code",
   "execution_count": 36,
   "id": "20f3515c",
   "metadata": {},
   "outputs": [],
   "source": [
    "def timeseries_evaluation_metrics_func(y_true, y_pred):\n",
    "    '''\n",
    "    Calculate the following evaluation metrics:\n",
    "        - MSE\n",
    "        - MAE\n",
    "        - RMSE\n",
    "        - MAPE\n",
    "        - R²\n",
    "    \n",
    "    Args:\n",
    "        y_true (float64): Y values for the dependent variable (test part), numpy array of floats \n",
    "        y_pred (float64): Predicted values for the dependen variable (test parrt), numpy array of floats\n",
    "    \n",
    "    Returns:\n",
    "        MSE, MAE, RMSE, MAPE and R² \n",
    "    '''    \n",
    "    print('Evaluation metric results: ')\n",
    "    print(f'MSE is : {metrics.mean_squared_error(y_true, y_pred)}')\n",
    "    print(f'MAE is : {metrics.mean_absolute_error(y_true, y_pred)}')\n",
    "    print(f'RMSE is : {np.sqrt(metrics.mean_squared_error(y_true, y_pred))}')\n",
    "    print(f'MAPE is : {mean_absolute_percentage_error_func(y_true, y_pred)}')\n",
    "    print(f'R2 is : {metrics.r2_score(y_true, y_pred)}',end='\\n\\n')"
   ]
  },
  {
   "cell_type": "code",
   "execution_count": 37,
   "id": "6adf9644",
   "metadata": {},
   "outputs": [],
   "source": [
    "def display_adfuller_results(result, name):\n",
    "    print(f\"Results for {name}:\")\n",
    "    print(\"ADF Statistic:\", result[0])\n",
    "    print(\"p-value:\", result[1])\n",
    "    print(\"Critical Values:\")\n",
    "    for key, value in result[4].items():\n",
    "        print(f\"   {key}: {value}\")\n",
    "    print(\"Conclusion:\")\n",
    "    if result[1] <= 0.05:\n",
    "        print('\\033[91m' + \"Reject the null hypothesis\")\n",
    "        print('\\033[91m' + \"Data is stationary\" + '\\033[0m')\n",
    "    else:\n",
    "        print('\\033[91m' + \"Fail to reject the null hypothesis\")\n",
    "        print('\\033[91m' + \"Data is non-stationary\" + '\\033[0m')"
   ]
  },
  {
   "cell_type": "code",
   "execution_count": 38,
   "id": "3096c226",
   "metadata": {},
   "outputs": [],
   "source": [
    "def cointegration_test_func(df): \n",
    "    '''\n",
    "    Test if there is a long-run relationship between features\n",
    "    \n",
    "    Args:\n",
    "        dataframe (float64): Values of the columns to be checked, numpy array of floats \n",
    "    \n",
    "    Returns:\n",
    "        True or False whether a variable has a long-run relationship between other features\n",
    "    ''' \n",
    "    johansen_cointegration_test = coint_johansen(df,-1,5)\n",
    "    c = {'0.90':0, '0.95':1, '0.99':2}\n",
    "    traces = johansen_cointegration_test.lr1\n",
    "    cvts = johansen_cointegration_test.cvt[:, c[str(1-0.05)]]\n",
    "    def adjust(val, length= 6): \n",
    "        return str(val).ljust(length)\n",
    "    print('Column_Name  >  Test_Stat  >  C(95%)  =>  Signif  \\n', '--'*25)\n",
    "    for col, trace, cvt in zip(df.columns, traces, cvts):\n",
    "        print(adjust(col), '  >  ', \n",
    "              adjust(round(trace,2), 9), \"  >  \", \n",
    "              adjust(cvt, 8), '  => ' , \n",
    "              trace > cvt)"
   ]
  },
  {
   "cell_type": "code",
   "execution_count": 39,
   "id": "8f693325",
   "metadata": {},
   "outputs": [],
   "source": [
    "def inverse_diff_func(actual_df, pred_df):\n",
    "    '''\n",
    "    Transforms the differentiated values back\n",
    "    \n",
    "    Args:\n",
    "        actual dataframe (float64): Values of the columns, numpy array of floats \n",
    "        predicted dataframe (float64): Values of the columns, numpy array of floats \n",
    "    \n",
    "    Returns:\n",
    "        Dataframe with the predicted values\n",
    "    '''\n",
    "    df_temp = pred_df.copy()\n",
    "    columns = actual_df.columns\n",
    "    for col in columns: \n",
    "        df_temp[str(col)+'_inv_diff'] = actual_df[col].iloc[-1] + df_temp[str(col)].cumsum()\n",
    "    return df_temp"
   ]
  },
  {
   "cell_type": "markdown",
   "id": "278aadc2",
   "metadata": {},
   "source": [
    "### Zona 1"
   ]
  },
  {
   "cell_type": "markdown",
   "id": "c614cf7f",
   "metadata": {},
   "source": [
    "**To do**"
   ]
  },
  {
   "cell_type": "code",
   "execution_count": 40,
   "id": "a216538d",
   "metadata": {
    "scrolled": false
   },
   "outputs": [
    {
     "data": {
      "image/png": "[encoded data removed]",
      "text/plain": [
       "<Figure size 1080x432 with 1 Axes>"
      ]
     },
     "metadata": {},
     "output_type": "display_data"
    },
    {
     "data": {
      "image/png": "[encoded data removed]",
      "text/plain": [
       "<Figure size 1080x432 with 1 Axes>"
      ]
     },
     "metadata": {},
     "output_type": "display_data"
    },
    {
     "data": {
      "image/png": "[encoded data removed]",
      "text/plain": [
       "<Figure size 1080x432 with 1 Axes>"
      ]
     },
     "metadata": {},
     "output_type": "display_data"
    },
    {
     "data": {
      "image/png": "[encoded data removed]",
      "text/plain": [
       "<Figure size 1080x432 with 1 Axes>"
      ]
     },
     "metadata": {},
     "output_type": "display_data"
    },
    {
     "data": {
      "image/png": "[encoded data removed]",
      "text/plain": [
       "<Figure size 1080x432 with 1 Axes>"
      ]
     },
     "metadata": {},
     "output_type": "display_data"
    }
   ],
   "source": [
    "# Datos\n",
    "ts_zona1 = zona1_media[['I1','I2','I3','I4','I5']]\n",
    "for col in ts_zona1.columns:\n",
    "    ts_zona1[col] = ts_zona1[col].astype(int)\n",
    "\n",
    "\n",
    "# Grafico\n",
    "for col in ts_zona1.columns:\n",
    "    plt.figure(figsize=(15, 6))\n",
    "    plt.plot(ts_zona1.index, ts_zona1[col])\n",
    "    plt.xlabel(\"Date\")\n",
    "    plt.ylabel(col)\n",
    "    plt.title(f\"Serie temporal de {col}\")\n",
    "    plt.show()"
   ]
  },
  {
   "cell_type": "markdown",
   "id": "fa24a4ae",
   "metadata": {},
   "source": [
    "En primer lugar, verificamos si la serie es estacionaria. Si no cumple con el criterio de estacionariedad, procedemos a realizar diferenciaciones simples y, posteriormente, aplicamos nuevamente algún test para comprobar si la serie resultante es estacionaria. Este proceso se repite hasta que se obtenga una serie estacionaria adecuada para el análisis."
   ]
  },
  {
   "cell_type": "code",
   "execution_count": 41,
   "id": "aaab99d3",
   "metadata": {
    "scrolled": false
   },
   "outputs": [
    {
     "name": "stdout",
     "output_type": "stream",
     "text": [
      "Results for I1:\n",
      "ADF Statistic: nan\n",
      "p-value: nan\n",
      "Critical Values:\n",
      "   1%: -3.431843184574999\n",
      "   5%: -2.862199805639132\n",
      "   10%: -2.567121218857027\n",
      "Conclusion:\n",
      "\u001b[91mFail to reject the null hypothesis\n",
      "\u001b[91mData is non-stationary\u001b[0m\n",
      "\n",
      "\n",
      "Results for I2:\n",
      "ADF Statistic: -6.0774018354482156\n",
      "p-value: 1.1130442872331034e-07\n",
      "Critical Values:\n",
      "   1%: -3.4318531381537225\n",
      "   5%: -2.8622042027970633\n",
      "   10%: -2.5671235596834574\n",
      "Conclusion:\n",
      "\u001b[91mReject the null hypothesis\n",
      "\u001b[91mData is stationary\u001b[0m\n",
      "\n",
      "\n",
      "Results for I3:\n",
      "ADF Statistic: -7.556159723303853\n",
      "p-value: 3.095586870909682e-11\n",
      "Critical Values:\n",
      "   1%: -3.4318531381537225\n",
      "   5%: -2.8622042027970633\n",
      "   10%: -2.5671235596834574\n",
      "Conclusion:\n",
      "\u001b[91mReject the null hypothesis\n",
      "\u001b[91mData is stationary\u001b[0m\n",
      "\n",
      "\n",
      "Results for I4:\n",
      "ADF Statistic: -9.17775807419517\n",
      "p-value: 2.295474192765271e-15\n",
      "Critical Values:\n",
      "   1%: -3.4318500349402785\n",
      "   5%: -2.8622028319028052\n",
      "   10%: -2.5671228298878166\n",
      "Conclusion:\n",
      "\u001b[91mReject the null hypothesis\n",
      "\u001b[91mData is stationary\u001b[0m\n",
      "\n",
      "\n",
      "Results for I5:\n",
      "ADF Statistic: nan\n",
      "p-value: nan\n",
      "Critical Values:\n",
      "   1%: -3.431843184574999\n",
      "   5%: -2.862199805639132\n",
      "   10%: -2.567121218857027\n",
      "Conclusion:\n",
      "\u001b[91mFail to reject the null hypothesis\n",
      "\u001b[91mData is non-stationary\u001b[0m\n",
      "\n",
      "\n"
     ]
    }
   ],
   "source": [
    "# Test de Dickey-Fuller para zona1\n",
    "for name, column in ts_zona1[['I1', 'I2', 'I3', 'I4', 'I5']].iteritems():\n",
    "    result = adfuller(column)\n",
    "    display_adfuller_results(result, name)\n",
    "    print('\\n')"
   ]
  },
  {
   "cell_type": "markdown",
   "id": "53adfad8",
   "metadata": {},
   "source": [
    "Separamos los datos en dos conjuntos: datos de entrenamiento y datos de prueba (o test). Esta división nos permitirá utilizar el conjunto de entrenamiento para ajustar los modelos VAR y VARMA, mientras que el conjunto de prueba se utilizará posteriormente para evaluar el rendimiento y la precisión de los modelos."
   ]
  },
  {
   "cell_type": "code",
   "execution_count": 42,
   "id": "669c61cf",
   "metadata": {},
   "outputs": [],
   "source": [
    "# Datos de entrenamiento\n",
    "train_zona1 = ts_zona1.iloc[:-30]\n",
    "\n",
    "# Datos de test\n",
    "test_zona1 = ts_zona1.iloc[-30:]"
   ]
  },
  {
   "cell_type": "markdown",
   "id": "6aa1a549",
   "metadata": {},
   "source": [
    "Una prueba de cointegración examina el movimiento conjunto entre las variables subyacentes a largo plazo. Esta característica de co-movimiento a largo plazo es lo que la distingue de la correlación. Dos o más variables están cointegradas si y solo si comparten tendencias comunes."
   ]
  },
  {
   "cell_type": "markdown",
   "id": "1576ba6e",
   "metadata": {},
   "source": [
    "**To do**"
   ]
  },
  {
   "cell_type": "code",
   "execution_count": null,
   "id": "ce655ee5",
   "metadata": {
    "scrolled": true
   },
   "outputs": [],
   "source": [
    "# Test cointegracion\n",
    "cointegration_test_func(train_zona1)"
   ]
  },
  {
   "cell_type": "markdown",
   "id": "1755b2cd",
   "metadata": {},
   "source": [
    "### Vector Autoregressive (VAR)"
   ]
  },
  {
   "cell_type": "markdown",
   "id": "aaca09ad",
   "metadata": {},
   "source": [
    "El modelo Vector AutoRegressive (VAR) es un modelo de procesos estocásticos ampliamente utilizado en el análisis de series temporales multivariantes. Su objetivo principal es capturar la relación lineal entre múltiples variables observadas en diferentes momentos del tiempo. En esencia, el VAR es un modelo bidireccional, lo que significa que las variables se influyen mutuamente a lo largo del tiempo."
   ]
  },
  {
   "cell_type": "markdown",
   "id": "68f747d3",
   "metadata": {},
   "source": [
    "En primer lugar, seleccionamos el mejor parámetro para la componente AR basándonos en algún criterio, como el Criterio de Información de Akaike (AIC) o el Criterio de Información Bayesiana (BIC)."
   ]
  },
  {
   "cell_type": "code",
   "execution_count": 43,
   "id": "97b83f9e",
   "metadata": {
    "scrolled": true
   },
   "outputs": [
    {
     "ename": "ValueError",
     "evalue": "x contains one or more constant columns. Column(s) 0, 4 are constant. Adding a constant with trend='c' is not allowed.",
     "output_type": "error",
     "traceback": [
      "\u001b[1;31m---------------------------------------------------------------------------\u001b[0m",
      "\u001b[1;31mValueError\u001b[0m                                Traceback (most recent call last)",
      "Input \u001b[1;32mIn [43]\u001b[0m, in \u001b[0;36m<cell line: 4>\u001b[1;34m()\u001b[0m\n\u001b[0;32m      2\u001b[0m df_results_VAR \u001b[38;5;241m=\u001b[39m pd\u001b[38;5;241m.\u001b[39mDataFrame()\n\u001b[0;32m      4\u001b[0m \u001b[38;5;28;01mfor\u001b[39;00m i \u001b[38;5;129;01min\u001b[39;00m [\u001b[38;5;241m1\u001b[39m,\u001b[38;5;241m2\u001b[39m,\u001b[38;5;241m3\u001b[39m,\u001b[38;5;241m4\u001b[39m,\u001b[38;5;241m5\u001b[39m,\u001b[38;5;241m6\u001b[39m,\u001b[38;5;241m7\u001b[39m,\u001b[38;5;241m8\u001b[39m,\u001b[38;5;241m9\u001b[39m]:\n\u001b[1;32m----> 5\u001b[0m     fit_v \u001b[38;5;241m=\u001b[39m \u001b[43mVAR\u001b[49m\u001b[43m(\u001b[49m\u001b[43mtrain_zona1\u001b[49m\u001b[43m)\u001b[49m\u001b[38;5;241;43m.\u001b[39;49m\u001b[43mfit\u001b[49m\u001b[43m(\u001b[49m\u001b[43mi\u001b[49m\u001b[43m)\u001b[49m\n\u001b[0;32m      6\u001b[0m     aic \u001b[38;5;241m=\u001b[39m fit_v\u001b[38;5;241m.\u001b[39maic\n\u001b[0;32m      7\u001b[0m     bic \u001b[38;5;241m=\u001b[39m fit_v\u001b[38;5;241m.\u001b[39mbic\n",
      "File \u001b[1;32m~\\anaconda3\\lib\\site-packages\\statsmodels\\tsa\\vector_ar\\var_model.py:696\u001b[0m, in \u001b[0;36mVAR.fit\u001b[1;34m(self, maxlags, method, ic, trend, verbose)\u001b[0m\n\u001b[0;32m    688\u001b[0m     \u001b[38;5;28mself\u001b[39m\u001b[38;5;241m.\u001b[39mdata\u001b[38;5;241m.\u001b[39mxnames \u001b[38;5;241m=\u001b[39m (\n\u001b[0;32m    689\u001b[0m         \u001b[38;5;28mself\u001b[39m\u001b[38;5;241m.\u001b[39mdata\u001b[38;5;241m.\u001b[39mxnames[:k_trend]\n\u001b[0;32m    690\u001b[0m         \u001b[38;5;241m+\u001b[39m x_names_to_add\n\u001b[0;32m    691\u001b[0m         \u001b[38;5;241m+\u001b[39m \u001b[38;5;28mself\u001b[39m\u001b[38;5;241m.\u001b[39mdata\u001b[38;5;241m.\u001b[39mxnames[k_trend:]\n\u001b[0;32m    692\u001b[0m     )\n\u001b[0;32m    693\u001b[0m \u001b[38;5;28mself\u001b[39m\u001b[38;5;241m.\u001b[39mdata\u001b[38;5;241m.\u001b[39mcov_names \u001b[38;5;241m=\u001b[39m pd\u001b[38;5;241m.\u001b[39mMultiIndex\u001b[38;5;241m.\u001b[39mfrom_product(\n\u001b[0;32m    694\u001b[0m     (\u001b[38;5;28mself\u001b[39m\u001b[38;5;241m.\u001b[39mdata\u001b[38;5;241m.\u001b[39mxnames, \u001b[38;5;28mself\u001b[39m\u001b[38;5;241m.\u001b[39mdata\u001b[38;5;241m.\u001b[39mynames)\n\u001b[0;32m    695\u001b[0m )\n\u001b[1;32m--> 696\u001b[0m \u001b[38;5;28;01mreturn\u001b[39;00m \u001b[38;5;28;43mself\u001b[39;49m\u001b[38;5;241;43m.\u001b[39;49m\u001b[43m_estimate_var\u001b[49m\u001b[43m(\u001b[49m\u001b[43mlags\u001b[49m\u001b[43m,\u001b[49m\u001b[43m \u001b[49m\u001b[43mtrend\u001b[49m\u001b[38;5;241;43m=\u001b[39;49m\u001b[43mtrend\u001b[49m\u001b[43m)\u001b[49m\n",
      "File \u001b[1;32m~\\anaconda3\\lib\\site-packages\\statsmodels\\tsa\\vector_ar\\var_model.py:717\u001b[0m, in \u001b[0;36mVAR._estimate_var\u001b[1;34m(self, lags, offset, trend)\u001b[0m\n\u001b[0;32m    715\u001b[0m endog \u001b[38;5;241m=\u001b[39m \u001b[38;5;28mself\u001b[39m\u001b[38;5;241m.\u001b[39mendog[offset:]\n\u001b[0;32m    716\u001b[0m exog \u001b[38;5;241m=\u001b[39m \u001b[38;5;28;01mNone\u001b[39;00m \u001b[38;5;28;01mif\u001b[39;00m \u001b[38;5;28mself\u001b[39m\u001b[38;5;241m.\u001b[39mexog \u001b[38;5;129;01mis\u001b[39;00m \u001b[38;5;28;01mNone\u001b[39;00m \u001b[38;5;28;01melse\u001b[39;00m \u001b[38;5;28mself\u001b[39m\u001b[38;5;241m.\u001b[39mexog[offset:]\n\u001b[1;32m--> 717\u001b[0m z \u001b[38;5;241m=\u001b[39m \u001b[43mutil\u001b[49m\u001b[38;5;241;43m.\u001b[39;49m\u001b[43mget_var_endog\u001b[49m\u001b[43m(\u001b[49m\u001b[43mendog\u001b[49m\u001b[43m,\u001b[49m\u001b[43m \u001b[49m\u001b[43mlags\u001b[49m\u001b[43m,\u001b[49m\u001b[43m \u001b[49m\u001b[43mtrend\u001b[49m\u001b[38;5;241;43m=\u001b[39;49m\u001b[43mtrend\u001b[49m\u001b[43m,\u001b[49m\u001b[43m \u001b[49m\u001b[43mhas_constant\u001b[49m\u001b[38;5;241;43m=\u001b[39;49m\u001b[38;5;124;43m\"\u001b[39;49m\u001b[38;5;124;43mraise\u001b[39;49m\u001b[38;5;124;43m\"\u001b[39;49m\u001b[43m)\u001b[49m\n\u001b[0;32m    718\u001b[0m \u001b[38;5;28;01mif\u001b[39;00m exog \u001b[38;5;129;01mis\u001b[39;00m \u001b[38;5;129;01mnot\u001b[39;00m \u001b[38;5;28;01mNone\u001b[39;00m:\n\u001b[0;32m    719\u001b[0m     \u001b[38;5;66;03m# TODO: currently only deterministic terms supported (exoglags==0)\u001b[39;00m\n\u001b[0;32m    720\u001b[0m     \u001b[38;5;66;03m# and since exoglags==0, x will be an array of size 0.\u001b[39;00m\n\u001b[0;32m    721\u001b[0m     x \u001b[38;5;241m=\u001b[39m util\u001b[38;5;241m.\u001b[39mget_var_endog(\n\u001b[0;32m    722\u001b[0m         exog[\u001b[38;5;241m-\u001b[39mnobs:], \u001b[38;5;241m0\u001b[39m, trend\u001b[38;5;241m=\u001b[39m\u001b[38;5;124m\"\u001b[39m\u001b[38;5;124mn\u001b[39m\u001b[38;5;124m\"\u001b[39m, has_constant\u001b[38;5;241m=\u001b[39m\u001b[38;5;124m\"\u001b[39m\u001b[38;5;124mraise\u001b[39m\u001b[38;5;124m\"\u001b[39m\n\u001b[0;32m    723\u001b[0m     )\n",
      "File \u001b[1;32m~\\anaconda3\\lib\\site-packages\\statsmodels\\tsa\\vector_ar\\util.py:35\u001b[0m, in \u001b[0;36mget_var_endog\u001b[1;34m(y, lags, trend, has_constant)\u001b[0m\n\u001b[0;32m     33\u001b[0m trend \u001b[38;5;241m=\u001b[39m tsa\u001b[38;5;241m.\u001b[39mrename_trend(trend)\n\u001b[0;32m     34\u001b[0m \u001b[38;5;28;01mif\u001b[39;00m trend \u001b[38;5;241m!=\u001b[39m \u001b[38;5;124m'\u001b[39m\u001b[38;5;124mn\u001b[39m\u001b[38;5;124m'\u001b[39m:\n\u001b[1;32m---> 35\u001b[0m     Z \u001b[38;5;241m=\u001b[39m \u001b[43mtsa\u001b[49m\u001b[38;5;241;43m.\u001b[39;49m\u001b[43madd_trend\u001b[49m\u001b[43m(\u001b[49m\u001b[43mZ\u001b[49m\u001b[43m,\u001b[49m\u001b[43m \u001b[49m\u001b[43mprepend\u001b[49m\u001b[38;5;241;43m=\u001b[39;49m\u001b[38;5;28;43;01mTrue\u001b[39;49;00m\u001b[43m,\u001b[49m\u001b[43m \u001b[49m\u001b[43mtrend\u001b[49m\u001b[38;5;241;43m=\u001b[39;49m\u001b[43mtrend\u001b[49m\u001b[43m,\u001b[49m\n\u001b[0;32m     36\u001b[0m \u001b[43m                      \u001b[49m\u001b[43mhas_constant\u001b[49m\u001b[38;5;241;43m=\u001b[39;49m\u001b[43mhas_constant\u001b[49m\u001b[43m)\u001b[49m\n\u001b[0;32m     38\u001b[0m \u001b[38;5;28;01mreturn\u001b[39;00m Z\n",
      "File \u001b[1;32m~\\anaconda3\\lib\\site-packages\\statsmodels\\tsa\\tsatools.py:152\u001b[0m, in \u001b[0;36madd_trend\u001b[1;34m(x, trend, prepend, has_constant)\u001b[0m\n\u001b[0;32m    147\u001b[0m         base_err \u001b[38;5;241m=\u001b[39m (\n\u001b[0;32m    148\u001b[0m             \u001b[38;5;124m\"\u001b[39m\u001b[38;5;124mx contains one or more constant columns. Column(s) \u001b[39m\u001b[38;5;124m\"\u001b[39m\n\u001b[0;32m    149\u001b[0m             \u001b[38;5;124mf\u001b[39m\u001b[38;5;124m\"\u001b[39m\u001b[38;5;132;01m{\u001b[39;00mconst_cols\u001b[38;5;132;01m}\u001b[39;00m\u001b[38;5;124m are constant.\u001b[39m\u001b[38;5;124m\"\u001b[39m\n\u001b[0;32m    150\u001b[0m         )\n\u001b[0;32m    151\u001b[0m     msg \u001b[38;5;241m=\u001b[39m \u001b[38;5;124mf\u001b[39m\u001b[38;5;124m\"\u001b[39m\u001b[38;5;132;01m{\u001b[39;00mbase_err\u001b[38;5;132;01m}\u001b[39;00m\u001b[38;5;124m Adding a constant with trend=\u001b[39m\u001b[38;5;124m'\u001b[39m\u001b[38;5;132;01m{\u001b[39;00mtrend\u001b[38;5;132;01m}\u001b[39;00m\u001b[38;5;124m'\u001b[39m\u001b[38;5;124m is not allowed.\u001b[39m\u001b[38;5;124m\"\u001b[39m\n\u001b[1;32m--> 152\u001b[0m     \u001b[38;5;28;01mraise\u001b[39;00m \u001b[38;5;167;01mValueError\u001b[39;00m(msg)\n\u001b[0;32m    153\u001b[0m \u001b[38;5;28;01melif\u001b[39;00m has_constant \u001b[38;5;241m==\u001b[39m \u001b[38;5;124m\"\u001b[39m\u001b[38;5;124mskip\u001b[39m\u001b[38;5;124m\"\u001b[39m:\n\u001b[0;32m    154\u001b[0m     columns \u001b[38;5;241m=\u001b[39m columns[\u001b[38;5;241m1\u001b[39m:]\n",
      "\u001b[1;31mValueError\u001b[0m: x contains one or more constant columns. Column(s) 0, 4 are constant. Adding a constant with trend='c' is not allowed."
     ]
    }
   ],
   "source": [
    "resu = []\n",
    "df_results_VAR = pd.DataFrame()\n",
    "\n",
    "for i in [1,2,3,4,5,6,7,8,9]:\n",
    "    fit_v = VAR(train_zona1).fit(i)\n",
    "    aic = fit_v.aic\n",
    "    bic = fit_v.bic\n",
    "    df1 = {'AR_Term':i, 'AIC': aic, 'BIC': bic}\n",
    "    df_results_VAR = df_results_VAR.append(df1, ignore_index=True)\n",
    "    clist = ['AR_Term','AIC','BIC']\n",
    "    df_results_VAR = df_results_VAR[clist]  "
   ]
  },
  {
   "cell_type": "markdown",
   "id": "3cfa7ba8",
   "metadata": {},
   "source": [
    "Como las variables I1 e I5 sólo toman un único valor, procedemos a eliminarlas y en caso de necesitar una predicción daremos el valor que han tomado en el histórico de datos."
   ]
  },
  {
   "cell_type": "code",
   "execution_count": 44,
   "id": "27eb2cc9",
   "metadata": {
    "scrolled": false
   },
   "outputs": [
    {
     "data": {
      "text/html": [
       "<div>\n",
       "<style scoped>\n",
       "    .dataframe tbody tr th:only-of-type {\n",
       "        vertical-align: middle;\n",
       "    }\n",
       "\n",
       "    .dataframe tbody tr th {\n",
       "        vertical-align: top;\n",
       "    }\n",
       "\n",
       "    .dataframe thead th {\n",
       "        text-align: right;\n",
       "    }\n",
       "</style>\n",
       "<table border=\"1\" class=\"dataframe\">\n",
       "  <thead>\n",
       "    <tr style=\"text-align: right;\">\n",
       "      <th></th>\n",
       "      <th>AR_Term</th>\n",
       "      <th>AIC</th>\n",
       "      <th>BIC</th>\n",
       "    </tr>\n",
       "  </thead>\n",
       "  <tbody>\n",
       "    <tr>\n",
       "      <th>7</th>\n",
       "      <td>8.0</td>\n",
       "      <td>-5.927325</td>\n",
       "      <td>-5.817254</td>\n",
       "    </tr>\n",
       "    <tr>\n",
       "      <th>6</th>\n",
       "      <td>7.0</td>\n",
       "      <td>-5.925918</td>\n",
       "      <td>-5.829075</td>\n",
       "    </tr>\n",
       "    <tr>\n",
       "      <th>8</th>\n",
       "      <td>9.0</td>\n",
       "      <td>-5.925454</td>\n",
       "      <td>-5.802150</td>\n",
       "    </tr>\n",
       "    <tr>\n",
       "      <th>5</th>\n",
       "      <td>6.0</td>\n",
       "      <td>-5.910924</td>\n",
       "      <td>-5.827303</td>\n",
       "    </tr>\n",
       "    <tr>\n",
       "      <th>4</th>\n",
       "      <td>5.0</td>\n",
       "      <td>-5.891632</td>\n",
       "      <td>-5.821227</td>\n",
       "    </tr>\n",
       "    <tr>\n",
       "      <th>3</th>\n",
       "      <td>4.0</td>\n",
       "      <td>-5.879543</td>\n",
       "      <td>-5.822350</td>\n",
       "    </tr>\n",
       "    <tr>\n",
       "      <th>2</th>\n",
       "      <td>3.0</td>\n",
       "      <td>-5.857497</td>\n",
       "      <td>-5.813511</td>\n",
       "    </tr>\n",
       "    <tr>\n",
       "      <th>1</th>\n",
       "      <td>2.0</td>\n",
       "      <td>-5.838256</td>\n",
       "      <td>-5.807472</td>\n",
       "    </tr>\n",
       "    <tr>\n",
       "      <th>0</th>\n",
       "      <td>1.0</td>\n",
       "      <td>-5.808492</td>\n",
       "      <td>-5.790904</td>\n",
       "    </tr>\n",
       "  </tbody>\n",
       "</table>\n",
       "</div>"
      ],
      "text/plain": [
       "   AR_Term       AIC       BIC\n",
       "7      8.0 -5.927325 -5.817254\n",
       "6      7.0 -5.925918 -5.829075\n",
       "8      9.0 -5.925454 -5.802150\n",
       "5      6.0 -5.910924 -5.827303\n",
       "4      5.0 -5.891632 -5.821227\n",
       "3      4.0 -5.879543 -5.822350\n",
       "2      3.0 -5.857497 -5.813511\n",
       "1      2.0 -5.838256 -5.807472\n",
       "0      1.0 -5.808492 -5.790904"
      ]
     },
     "execution_count": 44,
     "metadata": {},
     "output_type": "execute_result"
    }
   ],
   "source": [
    "# Identificar las columnas con valores constantes\n",
    "constant_cols = train_zona1.columns[train_zona1.nunique() == 1]\n",
    "\n",
    "# Eliminar las columnas constantes\n",
    "train_zona1 = train_zona1.drop(columns=constant_cols)\n",
    "test_zona1 = test_zona1.drop(columns=constant_cols)\n",
    "\n",
    "# Ajustar el modelo VAR\n",
    "df_results_VAR = pd.DataFrame()\n",
    "for i in [1, 2, 3, 4, 5, 6, 7, 8, 9]:\n",
    "    fit_v = VAR(train_zona1).fit(i)\n",
    "    aic = fit_v.aic\n",
    "    bic = fit_v.bic\n",
    "    df_results_VAR = df_results_VAR.append(\n",
    "        {\"AR_Term\": i, \"AIC\": aic, \"BIC\": bic}, ignore_index=True\n",
    "    )\n",
    "\n",
    "df_results_VAR.sort_values(by=['AIC', 'BIC'], ascending=True)"
   ]
  },
  {
   "cell_type": "code",
   "execution_count": 45,
   "id": "2f9a88d7",
   "metadata": {},
   "outputs": [],
   "source": [
    "# Parametro del modelo VAR\n",
    "best_values_VAR = df_results_VAR.sort_values(by=['AIC', 'BIC'])\n",
    "AR_Term_value_VAR = best_values_VAR['AR_Term'].iloc[0]"
   ]
  },
  {
   "cell_type": "markdown",
   "id": "0d995357",
   "metadata": {},
   "source": [
    "Ajustamos el modelo con el parámetro que obtiene mejores resultados y realizamos predicciones."
   ]
  },
  {
   "cell_type": "code",
   "execution_count": 46,
   "id": "18b85792",
   "metadata": {},
   "outputs": [],
   "source": [
    "# Ajuste del modelo\n",
    "model = VAR(train_zona1).fit(int(AR_Term_value_VAR))\n",
    "\n",
    "# Predicciones\n",
    "result = model.forecast(y=train_zona1.values, steps=len(test_zona1))"
   ]
  },
  {
   "cell_type": "code",
   "execution_count": 48,
   "id": "d3a22358",
   "metadata": {
    "scrolled": true
   },
   "outputs": [
    {
     "data": {
      "text/html": [
       "<div>\n",
       "<style scoped>\n",
       "    .dataframe tbody tr th:only-of-type {\n",
       "        vertical-align: middle;\n",
       "    }\n",
       "\n",
       "    .dataframe tbody tr th {\n",
       "        vertical-align: top;\n",
       "    }\n",
       "\n",
       "    .dataframe thead th {\n",
       "        text-align: right;\n",
       "    }\n",
       "</style>\n",
       "<table border=\"1\" class=\"dataframe\">\n",
       "  <thead>\n",
       "    <tr style=\"text-align: right;\">\n",
       "      <th>MAGNITUD</th>\n",
       "      <th>I2</th>\n",
       "      <th>I3</th>\n",
       "      <th>I4</th>\n",
       "    </tr>\n",
       "    <tr>\n",
       "      <th>new_index</th>\n",
       "      <th></th>\n",
       "      <th></th>\n",
       "      <th></th>\n",
       "    </tr>\n",
       "  </thead>\n",
       "  <tbody>\n",
       "    <tr>\n",
       "      <th>4353</th>\n",
       "      <td>1.179333</td>\n",
       "      <td>1.754084</td>\n",
       "      <td>1.120210</td>\n",
       "    </tr>\n",
       "    <tr>\n",
       "      <th>4354</th>\n",
       "      <td>1.206704</td>\n",
       "      <td>1.720000</td>\n",
       "      <td>1.146887</td>\n",
       "    </tr>\n",
       "    <tr>\n",
       "      <th>4355</th>\n",
       "      <td>1.282303</td>\n",
       "      <td>1.702825</td>\n",
       "      <td>1.191319</td>\n",
       "    </tr>\n",
       "    <tr>\n",
       "      <th>4356</th>\n",
       "      <td>1.279382</td>\n",
       "      <td>1.712315</td>\n",
       "      <td>1.242265</td>\n",
       "    </tr>\n",
       "    <tr>\n",
       "      <th>4357</th>\n",
       "      <td>1.309743</td>\n",
       "      <td>1.717384</td>\n",
       "      <td>1.270028</td>\n",
       "    </tr>\n",
       "  </tbody>\n",
       "</table>\n",
       "</div>"
      ],
      "text/plain": [
       "MAGNITUD         I2        I3        I4\n",
       "new_index                              \n",
       "4353       1.179333  1.754084  1.120210\n",
       "4354       1.206704  1.720000  1.146887\n",
       "4355       1.282303  1.702825  1.191319\n",
       "4356       1.279382  1.712315  1.242265\n",
       "4357       1.309743  1.717384  1.270028"
      ]
     },
     "execution_count": 48,
     "metadata": {},
     "output_type": "execute_result"
    }
   ],
   "source": [
    "# Predicciones\n",
    "df_pred = pd.DataFrame(result, columns=train_zona1.columns)\n",
    "df_pred[\"new_index\"] = range(len(train_zona1), len(ts_zona1))\n",
    "df_pred = df_pred.set_index(\"new_index\")\n",
    "df_pred.head(5)"
   ]
  },
  {
   "cell_type": "code",
   "execution_count": null,
   "id": "6ad1a8aa",
   "metadata": {},
   "outputs": [],
   "source": [
    "res = inverse_diff_func(train_zona1, df_pred)\n",
    "res.head()"
   ]
  },
  {
   "cell_type": "markdown",
   "id": "17169abd",
   "metadata": {},
   "source": [
    "Evaluamos el modelo VAR"
   ]
  },
  {
   "cell_type": "code",
   "execution_count": 49,
   "id": "ba146d28",
   "metadata": {
    "scrolled": false
   },
   "outputs": [
    {
     "name": "stdout",
     "output_type": "stream",
     "text": [
      "Evaluation metric for I2\n",
      "Evaluation metric results: \n",
      "MSE is : 0.11891899695236709\n",
      "MAE is : 0.33013932774443266\n",
      "RMSE is : 0.34484633817450794\n",
      "MAPE is : 30.7419932342704\n",
      "R2 is : -0.9111981653058991\n",
      "\n",
      "Evaluation metric for I3\n",
      "Evaluation metric results: \n",
      "MSE is : 0.2743032992854348\n",
      "MAE is : 0.45106294407826264\n",
      "RMSE is : 0.5237397247540373\n",
      "MAPE is : 38.895432797538106\n",
      "R2 is : -0.11707225953344524\n",
      "\n",
      "Evaluation metric for I4\n",
      "Evaluation metric results: \n",
      "MSE is : 0.13226983478422807\n",
      "MAE is : 0.34251742015902864\n",
      "RMSE is : 0.36368920080781625\n",
      "MAPE is : 30.988172826910205\n",
      "R2 is : -0.4696648309358671\n",
      "\n"
     ]
    }
   ],
   "source": [
    "# Metricas para evaluar el ajuste del modelo\n",
    "for i in ['I2', 'I3', 'I4']:\n",
    "    print(f'Evaluation metric for {i}')\n",
    "    timeseries_evaluation_metrics_func(test_zona1[i] , df_pred[i])\n",
    "    #timeseries_evaluation_metrics_func(test_zona1[str(i)] , round(df_pred[i])"
   ]
  },
  {
   "cell_type": "markdown",
   "id": "94b55fd0",
   "metadata": {},
   "source": [
    "### Vector Autorregressive Moving Avarage (VARMA)"
   ]
  },
  {
   "cell_type": "markdown",
   "id": "b9c2c63e",
   "metadata": {},
   "source": [
    "El modelo VARMA es una extensión del modelo ARMA para series temporales multivariantes que contiene una componente de vector autoregresivo (VAR), así como una componente de vector de media móvil (VMA). Este método se utiliza para series multivariantes que no presentan tendencia ni estacionalidad.\n",
    "\n",
    "Procedemos definiendo una rejilla de parámetros para seleccionar el orden AR($p$), MA($q$) y la tendencia ($tr$)."
   ]
  },
  {
   "cell_type": "code",
   "execution_count": 50,
   "id": "df3b3405",
   "metadata": {},
   "outputs": [],
   "source": [
    "# Rejilla de hiperparametros\n",
    "param_grid = {'p': [1,2,3], 'q':[1,2,3], 'tr': ['n','c','t','ct']}\n",
    "pg = list(ParameterGrid(param_grid))"
   ]
  },
  {
   "cell_type": "markdown",
   "id": "6c62f41e",
   "metadata": {},
   "source": [
    "**Nota:** Esta búsqueda de hiperparámetros va muy lento"
   ]
  },
  {
   "cell_type": "code",
   "execution_count": null,
   "id": "d5371646",
   "metadata": {
    "scrolled": true
   },
   "outputs": [],
   "source": [
    "# Hiperparametros del modelo\n",
    "df_results_VARMA = pd.DataFrame(columns=['p', 'q', 'tr','RMSE I2','RMSE I3','RMSE I4'])\n",
    "\n",
    "train_zona1 = train_zona1.astype('float64')\n",
    "test_zona1 = test_zona1.astype('float64')\n",
    "\n",
    "for a,b in enumerate(pg):\n",
    "    print(f' Running for {b}')\n",
    "    p = b.get('p')\n",
    "    q = b.get('q')\n",
    "    tr = b.get('tr')\n",
    "    model = VARMAX(train_zona1, order=(p,q), trend=tr).fit()\n",
    "    result = model.forecast(steps=len(test_zona1))\n",
    "    pred = pd.DataFrame(result, columns=train_zona1.columns)\n",
    "    #inv_res = inverse_diff_func(train_zona1, result)\n",
    "    I2rmse = np.sqrt(metrics.mean_squared_error(test_zona1.I2, pred.I2))\n",
    "    I3rmse = np.sqrt(metrics.mean_squared_error(test_zona1.I3, pred.I3))\n",
    "    I4rmse = np.sqrt(metrics.mean_squared_error(test_zona1.I4, pred.I4))\n",
    "    df_results_VARMA = df_results_VARMA.append({'p': p, 'q': q, 'tr': tr,'RMSE I2': I2rmse,\n",
    "                                                'RMSE I3': I3rmse,'RMSE I4': I4rmse},\n",
    "                                                 ignore_index=True)\n",
    "df_results_VARMA.sort_values(by=['RMSE I2', 'RMSE I3', 'RMSE I4']).head()"
   ]
  },
  {
   "cell_type": "code",
   "execution_count": null,
   "id": "91cb6ef3",
   "metadata": {},
   "outputs": [],
   "source": [
    "# Parametros del modelo\n",
    "best_values_VARMA = df_results_VARMA.sort_values(by=['RMSE I2', 'RMSE I3', 'RMSE I4']).head(1)\n",
    "p_value_VARMA = best_values_VARMA['p'].iloc[0]\n",
    "q_value_VARMA = best_values_VARMA['q'].iloc[0] \n",
    "tr_value_VARMA = best_values_VARMA['tr'].iloc[0] "
   ]
  },
  {
   "cell_type": "markdown",
   "id": "38419247",
   "metadata": {},
   "source": [
    "También podemos realizar la búsqueda de hiperparámetros con la función *auto_arima* de la libería pmdarima."
   ]
  },
  {
   "cell_type": "code",
   "execution_count": 51,
   "id": "15ed2d79",
   "metadata": {
    "scrolled": false
   },
   "outputs": [
    {
     "name": "stdout",
     "output_type": "stream",
     "text": [
      "Searching order of p and q for : I2\n",
      "Performing stepwise search to minimize aic\n",
      " ARIMA(1,1,1)(0,0,0)[0] intercept   : AIC=4141.027, Time=1.85 sec\n",
      " ARIMA(0,1,0)(0,0,0)[0] intercept   : AIC=5553.350, Time=0.77 sec\n",
      " ARIMA(1,1,0)(0,0,0)[0] intercept   : AIC=5140.109, Time=0.53 sec\n",
      " ARIMA(0,1,1)(0,0,0)[0] intercept   : AIC=4608.426, Time=0.99 sec\n",
      " ARIMA(0,1,0)(0,0,0)[0]             : AIC=5551.350, Time=0.30 sec\n",
      " ARIMA(2,1,1)(0,0,0)[0] intercept   : AIC=4142.835, Time=2.39 sec\n",
      " ARIMA(1,1,2)(0,0,0)[0] intercept   : AIC=4142.389, Time=3.82 sec\n",
      " ARIMA(0,1,2)(0,0,0)[0] intercept   : AIC=4202.335, Time=1.82 sec\n",
      " ARIMA(2,1,0)(0,0,0)[0] intercept   : AIC=4922.401, Time=0.96 sec\n",
      " ARIMA(2,1,2)(0,0,0)[0] intercept   : AIC=4144.730, Time=3.81 sec\n",
      " ARIMA(1,1,1)(0,0,0)[0]             : AIC=4139.057, Time=0.99 sec\n",
      " ARIMA(0,1,1)(0,0,0)[0]             : AIC=4606.427, Time=0.41 sec\n",
      " ARIMA(1,1,0)(0,0,0)[0]             : AIC=5138.109, Time=0.25 sec\n",
      " ARIMA(2,1,1)(0,0,0)[0]             : AIC=4140.323, Time=1.46 sec\n",
      " ARIMA(1,1,2)(0,0,0)[0]             : AIC=4140.419, Time=1.57 sec\n",
      " ARIMA(0,1,2)(0,0,0)[0]             : AIC=4200.356, Time=0.86 sec\n",
      " ARIMA(2,1,0)(0,0,0)[0]             : AIC=4920.401, Time=0.30 sec\n",
      " ARIMA(2,1,2)(0,0,0)[0]             : AIC=4142.760, Time=1.33 sec\n",
      "\n",
      "Best model:  ARIMA(1,1,1)(0,0,0)[0]          \n",
      "Total fit time: 24.469 seconds\n",
      "optimal order for:I2 is: (1, 1, 1) \n",
      "\n",
      "\n",
      "Searching order of p and q for : I3\n",
      "Performing stepwise search to minimize aic\n",
      " ARIMA(1,1,1)(0,0,0)[0] intercept   : AIC=3730.790, Time=3.66 sec\n",
      " ARIMA(0,1,0)(0,0,0)[0] intercept   : AIC=5132.830, Time=0.55 sec\n",
      " ARIMA(1,1,0)(0,0,0)[0] intercept   : AIC=4664.638, Time=0.52 sec\n",
      " ARIMA(0,1,1)(0,0,0)[0] intercept   : AIC=4255.569, Time=0.89 sec\n",
      " ARIMA(0,1,0)(0,0,0)[0]             : AIC=5130.830, Time=0.41 sec\n",
      " ARIMA(2,1,1)(0,0,0)[0] intercept   : AIC=3724.429, Time=5.85 sec\n",
      " ARIMA(2,1,0)(0,0,0)[0] intercept   : AIC=4470.834, Time=0.66 sec\n",
      " ARIMA(3,1,1)(0,0,0)[0] intercept   : AIC=3726.396, Time=8.60 sec\n",
      " ARIMA(2,1,2)(0,0,0)[0] intercept   : AIC=3734.214, Time=8.44 sec\n",
      " ARIMA(1,1,2)(0,0,0)[0] intercept   : AIC=3724.368, Time=6.05 sec\n",
      " ARIMA(0,1,2)(0,0,0)[0] intercept   : AIC=3866.315, Time=2.15 sec\n",
      " ARIMA(1,1,3)(0,0,0)[0] intercept   : AIC=3726.368, Time=9.65 sec\n",
      " ARIMA(0,1,3)(0,0,0)[0] intercept   : AIC=3757.123, Time=8.06 sec\n",
      " ARIMA(2,1,3)(0,0,0)[0] intercept   : AIC=3728.117, Time=11.11 sec\n",
      " ARIMA(1,1,2)(0,0,0)[0]             : AIC=3722.618, Time=1.51 sec\n",
      " ARIMA(0,1,2)(0,0,0)[0]             : AIC=3864.387, Time=0.96 sec\n",
      " ARIMA(1,1,1)(0,0,0)[0]             : AIC=3728.969, Time=1.32 sec\n",
      " ARIMA(2,1,2)(0,0,0)[0]             : AIC=3732.395, Time=1.62 sec\n",
      " ARIMA(1,1,3)(0,0,0)[0]             : AIC=3724.617, Time=2.59 sec\n",
      " ARIMA(0,1,1)(0,0,0)[0]             : AIC=4253.570, Time=0.41 sec\n",
      " ARIMA(0,1,3)(0,0,0)[0]             : AIC=3755.246, Time=1.11 sec\n",
      " ARIMA(2,1,1)(0,0,0)[0]             : AIC=3722.667, Time=1.55 sec\n",
      " ARIMA(2,1,3)(0,0,0)[0]             : AIC=3726.379, Time=2.31 sec\n",
      "\n",
      "Best model:  ARIMA(1,1,2)(0,0,0)[0]          \n",
      "Total fit time: 80.009 seconds\n",
      "optimal order for:I3 is: (1, 1, 2) \n",
      "\n",
      "\n",
      "Searching order of p and q for : I4\n",
      "Performing stepwise search to minimize aic\n",
      " ARIMA(1,1,1)(0,0,0)[0] intercept   : AIC=4632.015, Time=3.55 sec\n",
      " ARIMA(0,1,0)(0,0,0)[0] intercept   : AIC=5776.578, Time=0.58 sec\n",
      " ARIMA(1,1,0)(0,0,0)[0] intercept   : AIC=5473.025, Time=0.51 sec\n",
      " ARIMA(0,1,1)(0,0,0)[0] intercept   : AIC=5167.454, Time=0.91 sec\n",
      " ARIMA(0,1,0)(0,0,0)[0]             : AIC=5774.578, Time=0.35 sec\n",
      " ARIMA(2,1,1)(0,0,0)[0] intercept   : AIC=4633.972, Time=3.88 sec\n",
      " ARIMA(1,1,2)(0,0,0)[0] intercept   : AIC=4633.969, Time=5.42 sec\n",
      " ARIMA(0,1,2)(0,0,0)[0] intercept   : AIC=4773.569, Time=1.77 sec\n",
      " ARIMA(2,1,0)(0,0,0)[0] intercept   : AIC=5265.403, Time=0.64 sec\n",
      " ARIMA(2,1,2)(0,0,0)[0] intercept   : AIC=4636.014, Time=4.33 sec\n",
      " ARIMA(1,1,1)(0,0,0)[0]             : AIC=4630.015, Time=0.91 sec\n",
      " ARIMA(0,1,1)(0,0,0)[0]             : AIC=5165.454, Time=0.38 sec\n",
      " ARIMA(1,1,0)(0,0,0)[0]             : AIC=5471.025, Time=0.25 sec\n",
      " ARIMA(2,1,1)(0,0,0)[0]             : AIC=4631.972, Time=1.19 sec\n",
      " ARIMA(1,1,2)(0,0,0)[0]             : AIC=4631.969, Time=1.52 sec\n",
      " ARIMA(0,1,2)(0,0,0)[0]             : AIC=4771.569, Time=0.91 sec\n",
      " ARIMA(2,1,0)(0,0,0)[0]             : AIC=5263.403, Time=0.33 sec\n",
      " ARIMA(2,1,2)(0,0,0)[0]             : AIC=4634.014, Time=1.18 sec\n",
      "\n",
      "Best model:  ARIMA(1,1,1)(0,0,0)[0]          \n",
      "Total fit time: 28.645 seconds\n",
      "optimal order for:I4 is: (1, 1, 1) \n",
      "\n",
      "\n"
     ]
    }
   ],
   "source": [
    "# Hiperparametros del modelo\n",
    "pq = []\n",
    "for name, column in train_zona1[['I2', 'I3', 'I4']].iteritems():\n",
    "    print(f'Searching order of p and q for : {name}')\n",
    "    stepwise_model = auto_arima(train_zona1[name],start_p=1, start_q=1,max_p=7, max_q=7, seasonal=False,\n",
    "        trace=True,error_action='ignore',suppress_warnings=True, stepwise=True,maxiter=1000)\n",
    "    parameter = stepwise_model.get_params().get('order')\n",
    "    print(f'optimal order for:{name} is: {parameter} \\n\\n')\n",
    "    pq.append(stepwise_model.get_params().get('order'))"
   ]
  },
  {
   "cell_type": "code",
   "execution_count": 52,
   "id": "5ebf6584",
   "metadata": {},
   "outputs": [
    {
     "data": {
      "text/plain": [
       "[(1, 1, 1), (1, 1, 2), (1, 1, 1)]"
      ]
     },
     "execution_count": 52,
     "metadata": {},
     "output_type": "execute_result"
    }
   ],
   "source": [
    "# Parametros del modelo\n",
    "pq"
   ]
  },
  {
   "cell_type": "code",
   "execution_count": 54,
   "id": "2ac912a1",
   "metadata": {
    "scrolled": false
   },
   "outputs": [
    {
     "name": "stdout",
     "output_type": "stream",
     "text": [
      " Running for (1, 1, 1)\n",
      " Running for (1, 1, 2)\n",
      " Running for (1, 1, 1)\n"
     ]
    },
    {
     "data": {
      "text/html": [
       "<div>\n",
       "<style scoped>\n",
       "    .dataframe tbody tr th:only-of-type {\n",
       "        vertical-align: middle;\n",
       "    }\n",
       "\n",
       "    .dataframe tbody tr th {\n",
       "        vertical-align: top;\n",
       "    }\n",
       "\n",
       "    .dataframe thead th {\n",
       "        text-align: right;\n",
       "    }\n",
       "</style>\n",
       "<table border=\"1\" class=\"dataframe\">\n",
       "  <thead>\n",
       "    <tr style=\"text-align: right;\">\n",
       "      <th></th>\n",
       "      <th>p</th>\n",
       "      <th>q</th>\n",
       "      <th>RMSE I2</th>\n",
       "      <th>RMSE I3</th>\n",
       "      <th>RMSE I4</th>\n",
       "    </tr>\n",
       "  </thead>\n",
       "  <tbody>\n",
       "    <tr>\n",
       "      <th>1</th>\n",
       "      <td>1.0</td>\n",
       "      <td>2.0</td>\n",
       "      <td>0.332221</td>\n",
       "      <td>0.534228</td>\n",
       "      <td>0.361972</td>\n",
       "    </tr>\n",
       "    <tr>\n",
       "      <th>0</th>\n",
       "      <td>1.0</td>\n",
       "      <td>1.0</td>\n",
       "      <td>0.368061</td>\n",
       "      <td>0.540122</td>\n",
       "      <td>0.372445</td>\n",
       "    </tr>\n",
       "    <tr>\n",
       "      <th>2</th>\n",
       "      <td>1.0</td>\n",
       "      <td>1.0</td>\n",
       "      <td>0.368061</td>\n",
       "      <td>0.540122</td>\n",
       "      <td>0.372445</td>\n",
       "    </tr>\n",
       "  </tbody>\n",
       "</table>\n",
       "</div>"
      ],
      "text/plain": [
       "     p    q   RMSE I2   RMSE I3   RMSE I4\n",
       "1  1.0  2.0  0.332221  0.534228  0.361972\n",
       "0  1.0  1.0  0.368061  0.540122  0.372445\n",
       "2  1.0  1.0  0.368061  0.540122  0.372445"
      ]
     },
     "execution_count": 54,
     "metadata": {},
     "output_type": "execute_result"
    }
   ],
   "source": [
    "df_results_VARMA_2 = pd.DataFrame(columns=['p', 'q','RMSE I2','RMSE I3','RMSE I4'])\n",
    "\n",
    "train_zona1 = train_zona1.astype('float64')\n",
    "test_zona1 = test_zona1.astype('float64')\n",
    "\n",
    "\n",
    "for i in pq:\n",
    "    if i[0]== 0 and i[2] ==0:\n",
    "        pass\n",
    "    else:\n",
    "        print(f' Running for {i}')\n",
    "        model = VARMAX(train_zona1, order=(i[0],i[2])).fit(disp=False)\n",
    "        result = model.forecast(steps = len(test_zona1))\n",
    "        pred = pd.DataFrame(result, columns=train_zona1.columns)\n",
    "        #inv_res = inverse_diff_func(train_zona1, result)\n",
    "        I2rmse = np.sqrt(metrics.mean_squared_error(test_zona1.I2, pred.I2))\n",
    "        I3rmse = np.sqrt(metrics.mean_squared_error(test_zona1.I3, pred.I3))\n",
    "        I4rmse = np.sqrt(metrics.mean_squared_error(test_zona1.I4, pred.I4))\n",
    "        df_results_VARMA_2 = df_results_VARMA_2.append({'p':  i[0], 'q': i[2],'RMSE I2': I2rmse,\n",
    "                                                'RMSE I3': I3rmse,'RMSE I4': I4rmse},\n",
    "                                                 ignore_index=True)\n",
    "        \n",
    "df_results_VARMA_2.sort_values(by=['RMSE I2', 'RMSE I3', 'RMSE I4'])   "
   ]
  },
  {
   "cell_type": "code",
   "execution_count": 56,
   "id": "46a8556b",
   "metadata": {},
   "outputs": [],
   "source": [
    "# Parametros del modelo\n",
    "best_values_VAR_2 = df_results_VARMA_2.sort_values(by=['RMSE I2', 'RMSE I3', 'RMSE I4']).head(1)\n",
    "\n",
    "p_value_VARMA_2 = best_values_VAR_2['p'].iloc[0]\n",
    "q_value_VARMA_2 = best_values_VAR_2['q'].iloc[0] "
   ]
  },
  {
   "cell_type": "markdown",
   "id": "a01898f1",
   "metadata": {},
   "source": [
    "Ajustamos el modelo y hacemos predicciones"
   ]
  },
  {
   "cell_type": "code",
   "execution_count": 57,
   "id": "749afce2",
   "metadata": {},
   "outputs": [],
   "source": [
    "# Ajuste del modelo\n",
    "model = VARMAX(train_zona1, \n",
    "               order=(int(p_value_VARMA_2),int(q_value_VARMA_2))).fit(disp=False)\n",
    "\n",
    "# Predicciones\n",
    "result = model.forecast(steps = len(test_zona1))"
   ]
  },
  {
   "cell_type": "code",
   "execution_count": 58,
   "id": "2e87654b",
   "metadata": {},
   "outputs": [
    {
     "data": {
      "text/html": [
       "<div>\n",
       "<style scoped>\n",
       "    .dataframe tbody tr th:only-of-type {\n",
       "        vertical-align: middle;\n",
       "    }\n",
       "\n",
       "    .dataframe tbody tr th {\n",
       "        vertical-align: top;\n",
       "    }\n",
       "\n",
       "    .dataframe thead th {\n",
       "        text-align: right;\n",
       "    }\n",
       "</style>\n",
       "<table border=\"1\" class=\"dataframe\">\n",
       "  <thead>\n",
       "    <tr style=\"text-align: right;\">\n",
       "      <th>MAGNITUD</th>\n",
       "      <th>I2</th>\n",
       "      <th>I3</th>\n",
       "      <th>I4</th>\n",
       "    </tr>\n",
       "    <tr>\n",
       "      <th>new_index</th>\n",
       "      <th></th>\n",
       "      <th></th>\n",
       "      <th></th>\n",
       "    </tr>\n",
       "  </thead>\n",
       "  <tbody>\n",
       "    <tr>\n",
       "      <th>4353</th>\n",
       "      <td>1.169501</td>\n",
       "      <td>1.812442</td>\n",
       "      <td>1.101723</td>\n",
       "    </tr>\n",
       "    <tr>\n",
       "      <th>4354</th>\n",
       "      <td>1.254245</td>\n",
       "      <td>1.770469</td>\n",
       "      <td>1.206081</td>\n",
       "    </tr>\n",
       "    <tr>\n",
       "      <th>4355</th>\n",
       "      <td>1.257830</td>\n",
       "      <td>1.753350</td>\n",
       "      <td>1.220103</td>\n",
       "    </tr>\n",
       "    <tr>\n",
       "      <th>4356</th>\n",
       "      <td>1.262424</td>\n",
       "      <td>1.747904</td>\n",
       "      <td>1.234636</td>\n",
       "    </tr>\n",
       "    <tr>\n",
       "      <th>4357</th>\n",
       "      <td>1.267193</td>\n",
       "      <td>1.747998</td>\n",
       "      <td>1.248566</td>\n",
       "    </tr>\n",
       "  </tbody>\n",
       "</table>\n",
       "</div>"
      ],
      "text/plain": [
       "MAGNITUD         I2        I3        I4\n",
       "new_index                              \n",
       "4353       1.169501  1.812442  1.101723\n",
       "4354       1.254245  1.770469  1.206081\n",
       "4355       1.257830  1.753350  1.220103\n",
       "4356       1.262424  1.747904  1.234636\n",
       "4357       1.267193  1.747998  1.248566"
      ]
     },
     "execution_count": 58,
     "metadata": {},
     "output_type": "execute_result"
    }
   ],
   "source": [
    "# Predicciones\n",
    "df_pred = pd.DataFrame(result, columns=train_zona1.columns)\n",
    "df_pred[\"new_index\"] = range(len(train_zona1), len(ts_zona1))\n",
    "df_pred = df_pred.set_index(\"new_index\")\n",
    "df_pred.head()"
   ]
  },
  {
   "cell_type": "code",
   "execution_count": null,
   "id": "f8ad87dc",
   "metadata": {},
   "outputs": [],
   "source": [
    "res = inverse_diff_func(trainX, df_pred)\n",
    "res.head()"
   ]
  },
  {
   "cell_type": "code",
   "execution_count": 59,
   "id": "b2cb538b",
   "metadata": {},
   "outputs": [
    {
     "name": "stdout",
     "output_type": "stream",
     "text": [
      "Evaluation metric for I2\n",
      "Evaluation metric results: \n",
      "MSE is : 0.11037102538398022\n",
      "MAE is : 0.31432604935746816\n",
      "RMSE is : 0.3322213499821771\n",
      "MAPE is : 29.084455320589903\n",
      "R2 is : -0.7738200508139677\n",
      "\n",
      "Evaluation metric for I3\n",
      "Evaluation metric results: \n",
      "MSE is : 0.2853993113018166\n",
      "MAE is : 0.45901879963165026\n",
      "RMSE is : 0.5342277709945605\n",
      "MAPE is : 39.65836037821673\n",
      "R2 is : -0.16225963878567873\n",
      "\n",
      "Evaluation metric for I4\n",
      "Evaluation metric results: \n",
      "MSE is : 0.13102375204644823\n",
      "MAE is : 0.3412252184688508\n",
      "RMSE is : 0.3619720321329373\n",
      "MAPE is : 30.823573959561468\n",
      "R2 is : -0.45581946718275734\n",
      "\n"
     ]
    }
   ],
   "source": [
    "# Metricas para evaluar el ajuste del modelo\n",
    "for i in ['I2', 'I3', 'I4']:\n",
    "    print(f'Evaluation metric for {i}')\n",
    "    timeseries_evaluation_metrics_func(test_zona1[i] , df_pred[i])\n",
    "    #timeseries_evaluation_metrics_func(test_zona1[str(i)] , round(df_pred[i])"
   ]
  },
  {
   "cell_type": "markdown",
   "id": "6a3ad91b",
   "metadata": {},
   "source": [
    "**To do**: Modelo bayesiana"
   ]
  },
  {
   "cell_type": "markdown",
   "id": "49e9d067",
   "metadata": {},
   "source": [
    "**To do**: Añadir retardos por zonas"
   ]
  },
  {
   "cell_type": "markdown",
   "id": "4a631ef0",
   "metadata": {},
   "source": [
    "**To do**: Buscar STARIMA  y libro statistics for spatial data by Noel A.C Cressie"
   ]
  },
  {
   "cell_type": "markdown",
   "id": "6ff96bf8",
   "metadata": {},
   "source": [
    "**Conclusión**"
   ]
  },
  {
   "cell_type": "markdown",
   "id": "c66caeeb",
   "metadata": {},
   "source": []
  },
  {
   "cell_type": "markdown",
   "id": "298e5d5a",
   "metadata": {},
   "source": [
    "### Zona 2"
   ]
  },
  {
   "cell_type": "markdown",
   "id": "b901a849",
   "metadata": {},
   "source": [
    "Realizamos el mismo procedimiento para la zona 2. Debemos tener en cuenta que como en esta zona no se mide la concentración de $SO_2$, no existe la variable I1."
   ]
  },
  {
   "cell_type": "code",
   "execution_count": 65,
   "id": "73a20f58",
   "metadata": {
    "scrolled": true
   },
   "outputs": [
    {
     "data": {
      "image/png": "[encoded data removed]",
      "text/plain": [
       "<Figure size 1080x432 with 1 Axes>"
      ]
     },
     "metadata": {},
     "output_type": "display_data"
    },
    {
     "data": {
      "image/png": "[encoded data removed]",
      "text/plain": [
       "<Figure size 1080x432 with 1 Axes>"
      ]
     },
     "metadata": {},
     "output_type": "display_data"
    },
    {
     "data": {
      "image/png": "[encoded data removed]",
      "text/plain": [
       "<Figure size 1080x432 with 1 Axes>"
      ]
     },
     "metadata": {},
     "output_type": "display_data"
    },
    {
     "data": {
      "image/png": "[encoded data removed]",
      "text/plain": [
       "<Figure size 1080x432 with 1 Axes>"
      ]
     },
     "metadata": {},
     "output_type": "display_data"
    }
   ],
   "source": [
    "# Datos\n",
    "ts_zona2 = zona2_media[['I2','I3','I4','I5']]\n",
    "for col in ts_zona2.columns:\n",
    "    ts_zona2[col] = ts_zona2[col].astype(int)\n",
    "\n",
    "\n",
    "# Grafico\n",
    "for col in ts_zona2.columns:\n",
    "    plt.figure(figsize=(15, 6))\n",
    "    plt.plot(ts_zona2.index, ts_zona2[col])\n",
    "    plt.xlabel(\"Date\")\n",
    "    plt.ylabel(col)\n",
    "    plt.title(f\"Serie temporal de {col}\")\n",
    "    plt.show()"
   ]
  },
  {
   "cell_type": "markdown",
   "id": "126e6aef",
   "metadata": {},
   "source": [
    "En primer lugar, verificamos si la serie es estacionaria. Si no cumple con el criterio de estacionariedad, procedemos a realizar diferenciaciones simples y, posteriormente, aplicamos nuevamente algún test para comprobar si la serie resultante es estacionaria. Este proceso se repite hasta que se obtenga una serie estacionaria adecuada para el análisis."
   ]
  },
  {
   "cell_type": "code",
   "execution_count": 66,
   "id": "9154f277",
   "metadata": {
    "scrolled": true
   },
   "outputs": [
    {
     "name": "stdout",
     "output_type": "stream",
     "text": [
      "Results for I2:\n",
      "ADF Statistic: -6.427388270304609\n",
      "p-value: 1.7309660523366046e-08\n",
      "Critical Values:\n",
      "   1%: -3.4318521023236004\n",
      "   5%: -2.86220374520267\n",
      "   10%: -2.5671233160830274\n",
      "Conclusion:\n",
      "\u001b[91mReject the null hypothesis\n",
      "\u001b[91mData is stationary\u001b[0m\n",
      "\n",
      "\n",
      "Results for I3:\n",
      "ADF Statistic: -0.8014838387393172\n",
      "p-value: 0.8186858125984633\n",
      "Critical Values:\n",
      "   1%: -3.431843184574999\n",
      "   5%: -2.862199805639132\n",
      "   10%: -2.567121218857027\n",
      "Conclusion:\n",
      "\u001b[91mFail to reject the null hypothesis\n",
      "\u001b[91mData is non-stationary\u001b[0m\n",
      "\n",
      "\n",
      "Results for I4:\n",
      "ADF Statistic: nan\n",
      "p-value: nan\n",
      "Critical Values:\n",
      "   1%: -3.431843184574999\n",
      "   5%: -2.862199805639132\n",
      "   10%: -2.567121218857027\n",
      "Conclusion:\n",
      "\u001b[91mFail to reject the null hypothesis\n",
      "\u001b[91mData is non-stationary\u001b[0m\n",
      "\n",
      "\n",
      "Results for I5:\n",
      "ADF Statistic: -5.098543976057342\n",
      "p-value: 1.4113811413568013e-05\n",
      "Critical Values:\n",
      "   1%: -3.4318496909295364\n",
      "   5%: -2.8622026799304603\n",
      "   10%: -2.5671227489853443\n",
      "Conclusion:\n",
      "\u001b[91mReject the null hypothesis\n",
      "\u001b[91mData is stationary\u001b[0m\n",
      "\n",
      "\n"
     ]
    }
   ],
   "source": [
    "# Test de Dickey-Fuller para zona2\n",
    "for name, column in ts_zona2[['I2', 'I3', 'I4', 'I5']].iteritems():\n",
    "    result = adfuller(column)\n",
    "    display_adfuller_results(result, name)\n",
    "    print('\\n')"
   ]
  },
  {
   "cell_type": "markdown",
   "id": "a1a1d550",
   "metadata": {},
   "source": [
    "Separamos los datos en dos conjuntos: datos de entrenamiento y datos de prueba (o test). Esta división nos permitirá utilizar el conjunto de entrenamiento para ajustar los modelos VAR y VARMA, mientras que el conjunto de prueba se utilizará posteriormente para evaluar el rendimiento y la precisión de los modelos."
   ]
  },
  {
   "cell_type": "code",
   "execution_count": 74,
   "id": "ed0e3e16",
   "metadata": {},
   "outputs": [],
   "source": [
    "# Datos de entrenamiento\n",
    "train_zona2 = ts_zona2.iloc[:-30]\n",
    "\n",
    "# Datos de test\n",
    "test_zona2 = ts_zona2.iloc[-30:]"
   ]
  },
  {
   "cell_type": "markdown",
   "id": "6284af8d",
   "metadata": {},
   "source": [
    "**Nota:** Juntar todo en un identificado las zonas si es posible"
   ]
  },
  {
   "cell_type": "code",
   "execution_count": null,
   "id": "f71c6eec",
   "metadata": {},
   "outputs": [],
   "source": [
    "zona1.head(5)"
   ]
  },
  {
   "cell_type": "code",
   "execution_count": null,
   "id": "9e323394",
   "metadata": {
    "scrolled": true
   },
   "outputs": [],
   "source": [
    "# Zona 1\n",
    "zona1.pivot_table(index = 'date', columns='MAGNITUD',dropna=False)"
   ]
  },
  {
   "cell_type": "code",
   "execution_count": null,
   "id": "a6e86499",
   "metadata": {},
   "outputs": [],
   "source": [
    "# Zona 2\n",
    "zona2.pivot_table(index = 'date',columns='MAGNITUD',dropna=False)"
   ]
  },
  {
   "cell_type": "code",
   "execution_count": null,
   "id": "6d45c764",
   "metadata": {},
   "outputs": [],
   "source": [
    "# Zona 3\n",
    "zona3.pivot_table(index = 'date',columns='MAGNITUD',dropna=False)"
   ]
  },
  {
   "cell_type": "code",
   "execution_count": null,
   "id": "9b2d7959",
   "metadata": {},
   "outputs": [],
   "source": [
    "# Zona 4\n",
    "zona4.pivot_table(index = 'date',columns='MAGNITUD',dropna=False)"
   ]
  },
  {
   "cell_type": "code",
   "execution_count": null,
   "id": "14494e52",
   "metadata": {},
   "outputs": [],
   "source": [
    "# Zona 5\n",
    "zona5.pivot_table(index = 'date',columns='MAGNITUD',dropna=False)"
   ]
  }
 ],
 "metadata": {
  "kernelspec": {
   "display_name": "Python 3 (ipykernel)",
   "language": "python",
   "name": "python3"
  },
  "language_info": {
   "codemirror_mode": {
    "name": "ipython",
    "version": 3
   },
   "file_extension": ".py",
   "mimetype": "text/x-python",
   "name": "python",
   "nbconvert_exporter": "python",
   "pygments_lexer": "ipython3",
   "version": "3.9.12"
  }
 },
 "nbformat": 4,
 "nbformat_minor": 5
}
