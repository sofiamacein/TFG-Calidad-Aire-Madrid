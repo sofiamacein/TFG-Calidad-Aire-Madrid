{
 "cells": [
  {
   "cell_type": "markdown",
   "id": "6596d52d",
   "metadata": {},
   "source": [
    "<img src=\"logoucm.png\" style=\"height: 100px\">\n",
    "\n",
    "<h1><center>Calidad del aire en la Comunidad de Madrid</center></h1>"
   ]
  },
  {
   "cell_type": "markdown",
   "id": "4340b273",
   "metadata": {},
   "source": [
    "# Introducción"
   ]
  },
  {
   "cell_type": "markdown",
   "id": "9ddb258b",
   "metadata": {},
   "source": [
    "Los datos utilizados en este trabajo fueron recopilados diariamente desde 2010 hasta 2023 por la Comunidad de Madrid. Estos datos se refieren a la concentración de diversos contaminantes en 24 estaciones distribuidas en todo el territorio de la comunidad. La Comunidad de Madrid publica estos datos diariamente en su página web, en el Portal de Calidad del Aire, junto con un Índice de Calidad del Aire. El objetivo de este índice es proporcionar una evaluación de los efectos de la contaminación atmosférica en la salud.\n",
    "\n",
    "Para obtener más información sobre las variables recopiladas, se puede consultar el Interprete fichero en el siguiente enlace: <a href=\"https://airedemadrid.madrid.es/portal/site/calidadaire\">enlace al Interprete fichero</a>.\n",
    "\n",
    "A continuación, se presenta una breve descripción de los datos recopilados:"
   ]
  },
  {
   "cell_type": "markdown",
   "id": "7082d2e5",
   "metadata": {},
   "source": [
    "\n",
    "| Atributo | Descripción |\n",
    "| :- |:- |\n",
    "|**PROVINCIA**| Identificador de la provincia (en este caso siempre '28'-Madrid)|\n",
    "|**MUNICIPIO**| Identificador del municipio (en este caso siempre '79'-Mardrid|\n",
    "|**ESTACION**| Identificador de la estación de recogida de los contaminantes|\n",
    "|**MAGNITUD**| Identificador del contaminante|\n",
    "|**PUNTO MUESTREO**| Identificador del punto de muestro|\n",
    "|**ANO**| Año de recogida del dato|\n",
    "|**MES**| Mes de recogida el dato|\n",
    "|**D01**| D0_X_ indica el día del mes|\n",
    "|**V01**| V0_X_ indica si el dato está verificado o no (Sí: \"V\", NO: \"N\")|"
   ]
  },
  {
   "cell_type": "markdown",
   "id": "fa6c6593",
   "metadata": {},
   "source": [
    "# 0. Librerías"
   ]
  },
  {
   "cell_type": "code",
   "execution_count": null,
   "id": "f5963b8a",
   "metadata": {},
   "outputs": [],
   "source": [
    "#pip install geopandas"
   ]
  },
  {
   "cell_type": "code",
   "execution_count": 1,
   "id": "33489261",
   "metadata": {},
   "outputs": [],
   "source": [
    "# Librerias \n",
    "import numpy as np\n",
    "import pandas as pd\n",
    "\n",
    "import seaborn as sns\n",
    "import matplotlib.pyplot as plt  \n",
    "\n",
    "import geopandas as gpd\n",
    "\n",
    "from sklearn.impute import KNNImputer\n",
    "from shapely.geometry import Point, Polygon\n",
    "\n",
    "%matplotlib inline"
   ]
  },
  {
   "cell_type": "code",
   "execution_count": 2,
   "id": "60346e4d",
   "metadata": {},
   "outputs": [],
   "source": [
    "import warnings\n",
    "warnings.filterwarnings('ignore')"
   ]
  },
  {
   "cell_type": "markdown",
   "id": "d3af4a91",
   "metadata": {},
   "source": [
    "# 1. Análisis exploratorio de los datos"
   ]
  },
  {
   "cell_type": "markdown",
   "id": "a5ad5e84",
   "metadata": {},
   "source": [
    "## 1.1 Limpieza de la base de datos"
   ]
  },
  {
   "cell_type": "markdown",
   "id": "4844916d",
   "metadata": {},
   "source": [
    "En primer lugar, procedemos a abrir el fichero que contiene los datos y analizamos su dimensión y estructura."
   ]
  },
  {
   "cell_type": "code",
   "execution_count": 3,
   "id": "6a0a135c",
   "metadata": {},
   "outputs": [
    {
     "data": {
      "text/html": [
       "<div>\n",
       "<style scoped>\n",
       "    .dataframe tbody tr th:only-of-type {\n",
       "        vertical-align: middle;\n",
       "    }\n",
       "\n",
       "    .dataframe tbody tr th {\n",
       "        vertical-align: top;\n",
       "    }\n",
       "\n",
       "    .dataframe thead th {\n",
       "        text-align: right;\n",
       "    }\n",
       "</style>\n",
       "<table border=\"1\" class=\"dataframe\">\n",
       "  <thead>\n",
       "    <tr style=\"text-align: right;\">\n",
       "      <th></th>\n",
       "      <th>Unnamed: 0</th>\n",
       "      <th>PROVINCIA</th>\n",
       "      <th>MUNICIPIO</th>\n",
       "      <th>ESTACION</th>\n",
       "      <th>MAGNITUD</th>\n",
       "      <th>PUNTO_MUESTREO</th>\n",
       "      <th>ANO</th>\n",
       "      <th>MES</th>\n",
       "      <th>D01</th>\n",
       "      <th>V01</th>\n",
       "      <th>...</th>\n",
       "      <th>D27</th>\n",
       "      <th>V27</th>\n",
       "      <th>D28</th>\n",
       "      <th>V28</th>\n",
       "      <th>D29</th>\n",
       "      <th>V29</th>\n",
       "      <th>D30</th>\n",
       "      <th>V30</th>\n",
       "      <th>D31</th>\n",
       "      <th>V31</th>\n",
       "    </tr>\n",
       "  </thead>\n",
       "  <tbody>\n",
       "    <tr>\n",
       "      <th>0</th>\n",
       "      <td>0</td>\n",
       "      <td>28</td>\n",
       "      <td>79</td>\n",
       "      <td>4</td>\n",
       "      <td>1</td>\n",
       "      <td>28079004_1_38</td>\n",
       "      <td>2010</td>\n",
       "      <td>1</td>\n",
       "      <td>12.0</td>\n",
       "      <td>V</td>\n",
       "      <td>...</td>\n",
       "      <td>16.0</td>\n",
       "      <td>V</td>\n",
       "      <td>21.0</td>\n",
       "      <td>V</td>\n",
       "      <td>22.0</td>\n",
       "      <td>V</td>\n",
       "      <td>17.0</td>\n",
       "      <td>V</td>\n",
       "      <td>15.0</td>\n",
       "      <td>V</td>\n",
       "    </tr>\n",
       "    <tr>\n",
       "      <th>1</th>\n",
       "      <td>1</td>\n",
       "      <td>28</td>\n",
       "      <td>79</td>\n",
       "      <td>4</td>\n",
       "      <td>1</td>\n",
       "      <td>28079004_1_38</td>\n",
       "      <td>2010</td>\n",
       "      <td>2</td>\n",
       "      <td>18.0</td>\n",
       "      <td>V</td>\n",
       "      <td>...</td>\n",
       "      <td>15.0</td>\n",
       "      <td>V</td>\n",
       "      <td>13.0</td>\n",
       "      <td>V</td>\n",
       "      <td>0.0</td>\n",
       "      <td>N</td>\n",
       "      <td>0.0</td>\n",
       "      <td>N</td>\n",
       "      <td>0.0</td>\n",
       "      <td>N</td>\n",
       "    </tr>\n",
       "    <tr>\n",
       "      <th>2</th>\n",
       "      <td>2</td>\n",
       "      <td>28</td>\n",
       "      <td>79</td>\n",
       "      <td>4</td>\n",
       "      <td>1</td>\n",
       "      <td>28079004_1_38</td>\n",
       "      <td>2010</td>\n",
       "      <td>3</td>\n",
       "      <td>13.0</td>\n",
       "      <td>V</td>\n",
       "      <td>...</td>\n",
       "      <td>14.0</td>\n",
       "      <td>V</td>\n",
       "      <td>16.0</td>\n",
       "      <td>V</td>\n",
       "      <td>15.0</td>\n",
       "      <td>V</td>\n",
       "      <td>13.0</td>\n",
       "      <td>V</td>\n",
       "      <td>14.0</td>\n",
       "      <td>V</td>\n",
       "    </tr>\n",
       "    <tr>\n",
       "      <th>3</th>\n",
       "      <td>3</td>\n",
       "      <td>28</td>\n",
       "      <td>79</td>\n",
       "      <td>4</td>\n",
       "      <td>1</td>\n",
       "      <td>28079004_1_38</td>\n",
       "      <td>2010</td>\n",
       "      <td>4</td>\n",
       "      <td>14.0</td>\n",
       "      <td>V</td>\n",
       "      <td>...</td>\n",
       "      <td>9.0</td>\n",
       "      <td>V</td>\n",
       "      <td>9.0</td>\n",
       "      <td>V</td>\n",
       "      <td>9.0</td>\n",
       "      <td>V</td>\n",
       "      <td>9.0</td>\n",
       "      <td>V</td>\n",
       "      <td>0.0</td>\n",
       "      <td>N</td>\n",
       "    </tr>\n",
       "    <tr>\n",
       "      <th>4</th>\n",
       "      <td>4</td>\n",
       "      <td>28</td>\n",
       "      <td>79</td>\n",
       "      <td>4</td>\n",
       "      <td>1</td>\n",
       "      <td>28079004_1_38</td>\n",
       "      <td>2010</td>\n",
       "      <td>5</td>\n",
       "      <td>8.0</td>\n",
       "      <td>V</td>\n",
       "      <td>...</td>\n",
       "      <td>9.0</td>\n",
       "      <td>V</td>\n",
       "      <td>9.0</td>\n",
       "      <td>V</td>\n",
       "      <td>9.0</td>\n",
       "      <td>V</td>\n",
       "      <td>9.0</td>\n",
       "      <td>V</td>\n",
       "      <td>9.0</td>\n",
       "      <td>V</td>\n",
       "    </tr>\n",
       "  </tbody>\n",
       "</table>\n",
       "<p>5 rows × 70 columns</p>\n",
       "</div>"
      ],
      "text/plain": [
       "   Unnamed: 0  PROVINCIA  MUNICIPIO  ESTACION  MAGNITUD PUNTO_MUESTREO   ANO  \\\n",
       "0           0         28         79         4         1  28079004_1_38  2010   \n",
       "1           1         28         79         4         1  28079004_1_38  2010   \n",
       "2           2         28         79         4         1  28079004_1_38  2010   \n",
       "3           3         28         79         4         1  28079004_1_38  2010   \n",
       "4           4         28         79         4         1  28079004_1_38  2010   \n",
       "\n",
       "   MES   D01 V01  ...   D27 V27   D28 V28   D29 V29   D30 V30   D31 V31  \n",
       "0    1  12.0   V  ...  16.0   V  21.0   V  22.0   V  17.0   V  15.0   V  \n",
       "1    2  18.0   V  ...  15.0   V  13.0   V   0.0   N   0.0   N   0.0   N  \n",
       "2    3  13.0   V  ...  14.0   V  16.0   V  15.0   V  13.0   V  14.0   V  \n",
       "3    4  14.0   V  ...   9.0   V   9.0   V   9.0   V   9.0   V   0.0   N  \n",
       "4    5   8.0   V  ...   9.0   V   9.0   V   9.0   V   9.0   V   9.0   V  \n",
       "\n",
       "[5 rows x 70 columns]"
      ]
     },
     "execution_count": 3,
     "metadata": {},
     "output_type": "execute_result"
    }
   ],
   "source": [
    "# Importacion de datos\n",
    "df = pd.read_csv(\"datos_total.csv\", delimiter = \",\")\n",
    "df_original = df.copy()\n",
    "\n",
    "df.head(5)"
   ]
  },
  {
   "cell_type": "code",
   "execution_count": 4,
   "id": "7a26e9bd",
   "metadata": {
    "scrolled": false
   },
   "outputs": [
    {
     "data": {
      "text/plain": [
       "(21633, 70)"
      ]
     },
     "execution_count": 4,
     "metadata": {},
     "output_type": "execute_result"
    }
   ],
   "source": [
    "# Dimension de los datos\n",
    "df.shape"
   ]
  },
  {
   "cell_type": "markdown",
   "id": "0d35444c",
   "metadata": {},
   "source": [
    "Disponemos de un total de 21.633 registros que contienen información sobre 70 variables. Sin embargo, hemos eliminado las variables **_PROVINCIA_** y **_MUNICIPIO_** debido a su redundancia, ya que los datos se refieren exclusivamente a la Comunidad de Madrid. Además, hemos eliminado la variable **_Unnamed:0_**. Por lo tanto, la base de datos ahora se compone de las 67 variables restantes para cada uno de los 21.633 registros."
   ]
  },
  {
   "cell_type": "code",
   "execution_count": 5,
   "id": "07752277",
   "metadata": {},
   "outputs": [],
   "source": [
    "# Eliminacion de variables\n",
    "df = df.drop(columns=['Unnamed: 0', 'PROVINCIA', 'MUNICIPIO'], axis = 1)"
   ]
  },
  {
   "cell_type": "code",
   "execution_count": 6,
   "id": "76b4e2cb",
   "metadata": {
    "scrolled": true
   },
   "outputs": [
    {
     "name": "stdout",
     "output_type": "stream",
     "text": [
      "<class 'pandas.core.frame.DataFrame'>\n",
      "RangeIndex: 21633 entries, 0 to 21632\n",
      "Data columns (total 67 columns):\n",
      " #   Column          Non-Null Count  Dtype  \n",
      "---  ------          --------------  -----  \n",
      " 0   ESTACION        21633 non-null  int64  \n",
      " 1   MAGNITUD        21633 non-null  int64  \n",
      " 2   PUNTO_MUESTREO  21633 non-null  object \n",
      " 3   ANO             21633 non-null  int64  \n",
      " 4   MES             21633 non-null  int64  \n",
      " 5   D01             21633 non-null  float64\n",
      " 6   V01             21633 non-null  object \n",
      " 7   D02             21633 non-null  float64\n",
      " 8   V02             21633 non-null  object \n",
      " 9   D03             21633 non-null  float64\n",
      " 10  V03             21633 non-null  object \n",
      " 11  D04             21633 non-null  float64\n",
      " 12  V04             21633 non-null  object \n",
      " 13  D05             21633 non-null  float64\n",
      " 14  V05             21633 non-null  object \n",
      " 15  D06             21633 non-null  float64\n",
      " 16  V06             21633 non-null  object \n",
      " 17  D07             21633 non-null  float64\n",
      " 18  V07             21633 non-null  object \n",
      " 19  D08             21633 non-null  float64\n",
      " 20  V08             21633 non-null  object \n",
      " 21  D09             21633 non-null  float64\n",
      " 22  V09             21633 non-null  object \n",
      " 23  D10             21633 non-null  float64\n",
      " 24  V10             21633 non-null  object \n",
      " 25  D11             21633 non-null  float64\n",
      " 26  V11             21633 non-null  object \n",
      " 27  D12             21633 non-null  float64\n",
      " 28  V12             21633 non-null  object \n",
      " 29  D13             21633 non-null  float64\n",
      " 30  V13             21633 non-null  object \n",
      " 31  D14             21633 non-null  float64\n",
      " 32  V14             21633 non-null  object \n",
      " 33  D15             21633 non-null  float64\n",
      " 34  V15             21633 non-null  object \n",
      " 35  D16             21633 non-null  float64\n",
      " 36  V16             21633 non-null  object \n",
      " 37  D17             21633 non-null  float64\n",
      " 38  V17             21633 non-null  object \n",
      " 39  D18             21633 non-null  float64\n",
      " 40  V18             21633 non-null  object \n",
      " 41  D19             21633 non-null  float64\n",
      " 42  V19             21633 non-null  object \n",
      " 43  D20             21633 non-null  float64\n",
      " 44  V20             21633 non-null  object \n",
      " 45  D21             21633 non-null  float64\n",
      " 46  V21             21633 non-null  object \n",
      " 47  D22             21633 non-null  float64\n",
      " 48  V22             21633 non-null  object \n",
      " 49  D23             21633 non-null  float64\n",
      " 50  V23             21633 non-null  object \n",
      " 51  D24             21633 non-null  float64\n",
      " 52  V24             21633 non-null  object \n",
      " 53  D25             21633 non-null  float64\n",
      " 54  V25             21633 non-null  object \n",
      " 55  D26             21633 non-null  float64\n",
      " 56  V26             21633 non-null  object \n",
      " 57  D27             21633 non-null  float64\n",
      " 58  V27             21633 non-null  object \n",
      " 59  D28             21633 non-null  float64\n",
      " 60  V28             21633 non-null  object \n",
      " 61  D29             21633 non-null  float64\n",
      " 62  V29             21633 non-null  object \n",
      " 63  D30             21633 non-null  float64\n",
      " 64  V30             21633 non-null  object \n",
      " 65  D31             21633 non-null  float64\n",
      " 66  V31             21633 non-null  object \n",
      "dtypes: float64(31), int64(4), object(32)\n",
      "memory usage: 11.1+ MB\n"
     ]
    }
   ],
   "source": [
    "# Tipo de las variables y valores nulos\n",
    "df.info()"
   ]
  },
  {
   "cell_type": "markdown",
   "id": "203e5782",
   "metadata": {},
   "source": [
    "A primera vista, la base de datos no muestra ningún valor faltante. Sin embargo, es importante tener en cuenta que existen datos no verificados. Esto significa que, aunque no haya valores explícitamente marcados como faltantes, algunos datos pueden no haber sido validados o requerir una verificación adicional para asegurar su precisión. En este contexto, sólo son válidos aquellos datos que estén acompañados por un código de verificación \"V\". \n",
    "\n",
    "Para abordar este problema, se reducirá la dimensión de la base de datos, conservando únicamente los compuestos presentes en la creación del índice de calidad del aire. Esto permitirá enfocar el análisis en las variables más relevantes para evaluar la calidad del aire. Esto es:"
   ]
  },
  {
   "cell_type": "markdown",
   "id": "aca33b32",
   "metadata": {},
   "source": [
    "*Los compuestos que se emplean para calcular el índice de calidad son las partículas en suspensión (PM10 y PM2,5), dióxido de azufre, dióxido de nitrógeno y ozono. Para cada uno de estos contaminantes se establece un índice parcial, de forma que el peor valor de los cinco definirá el índice global y, por lo tanto, la calidad del aire en el municipio de Madrid.*"
   ]
  },
  {
   "cell_type": "markdown",
   "id": "236a7c44",
   "metadata": {},
   "source": [
    "| Contaminantes | id| Muy bueno | Bueno | Regular | Malo | Muy malo |\n",
    "| :- |:- |:-|:-|:-|:-| :-|\n",
    "|Partículas PM2,5| 9| 0-15|16-30|31-55|56-110|>110|\n",
    "|Partículas PM10| 10| 0-25|26-50|51-90|91-180|>180|\n",
    "|NO2| 8| 0-50|51-100|101-200|201-400|>400|\n",
    "|O3| 14|0-60|61-120|121-180|181-240|>240|\n",
    "|SO2| 1|0-50|51-100|101-350|351-500|>500|\n",
    "\n",
    "Fuente: [Aire de Madrid](https://airedemadrid.madrid.es/portales/calidadaire/es/Bases-de-datos-y-publicaciones/Bases-de-datos-de-calidad-del-aire/Indices-y-zonas/Indice-de-Calidad-del-Aire/?vgnextfmt=default&vgnextoid=303d635a41187710VgnVCM1000001d4a900aRCRD&vgnextchannel=480285a1259d7710VgnVCM2000001f4a900aRCRD)"
   ]
  },
  {
   "cell_type": "markdown",
   "id": "a7518853",
   "metadata": {},
   "source": [
    "En consecuencia, se procede a la creación de una nueva base de datos con una estructura más apropiada para el análisis"
   ]
  },
  {
   "cell_type": "code",
   "execution_count": 7,
   "id": "d7b9becd",
   "metadata": {
    "scrolled": true
   },
   "outputs": [
    {
     "data": {
      "text/html": [
       "<div>\n",
       "<style scoped>\n",
       "    .dataframe tbody tr th:only-of-type {\n",
       "        vertical-align: middle;\n",
       "    }\n",
       "\n",
       "    .dataframe tbody tr th {\n",
       "        vertical-align: top;\n",
       "    }\n",
       "\n",
       "    .dataframe thead th {\n",
       "        text-align: right;\n",
       "    }\n",
       "</style>\n",
       "<table border=\"1\" class=\"dataframe\">\n",
       "  <thead>\n",
       "    <tr style=\"text-align: right;\">\n",
       "      <th></th>\n",
       "      <th>ESTACION</th>\n",
       "      <th>MAGNITUD</th>\n",
       "      <th>PUNTO_MUESTREO</th>\n",
       "      <th>ANO</th>\n",
       "      <th>MES</th>\n",
       "      <th>DIA</th>\n",
       "      <th>VALOR</th>\n",
       "      <th>VV</th>\n",
       "    </tr>\n",
       "  </thead>\n",
       "  <tbody>\n",
       "    <tr>\n",
       "      <th>0</th>\n",
       "      <td>4</td>\n",
       "      <td>1</td>\n",
       "      <td>28079004_1_38</td>\n",
       "      <td>2010</td>\n",
       "      <td>1</td>\n",
       "      <td>D01</td>\n",
       "      <td>12.0</td>\n",
       "      <td>V</td>\n",
       "    </tr>\n",
       "    <tr>\n",
       "      <th>1</th>\n",
       "      <td>4</td>\n",
       "      <td>1</td>\n",
       "      <td>28079004_1_38</td>\n",
       "      <td>2010</td>\n",
       "      <td>2</td>\n",
       "      <td>D01</td>\n",
       "      <td>18.0</td>\n",
       "      <td>V</td>\n",
       "    </tr>\n",
       "    <tr>\n",
       "      <th>2</th>\n",
       "      <td>4</td>\n",
       "      <td>1</td>\n",
       "      <td>28079004_1_38</td>\n",
       "      <td>2010</td>\n",
       "      <td>3</td>\n",
       "      <td>D01</td>\n",
       "      <td>13.0</td>\n",
       "      <td>V</td>\n",
       "    </tr>\n",
       "    <tr>\n",
       "      <th>3</th>\n",
       "      <td>4</td>\n",
       "      <td>1</td>\n",
       "      <td>28079004_1_38</td>\n",
       "      <td>2010</td>\n",
       "      <td>4</td>\n",
       "      <td>D01</td>\n",
       "      <td>14.0</td>\n",
       "      <td>V</td>\n",
       "    </tr>\n",
       "    <tr>\n",
       "      <th>4</th>\n",
       "      <td>4</td>\n",
       "      <td>1</td>\n",
       "      <td>28079004_1_38</td>\n",
       "      <td>2010</td>\n",
       "      <td>5</td>\n",
       "      <td>D01</td>\n",
       "      <td>8.0</td>\n",
       "      <td>V</td>\n",
       "    </tr>\n",
       "  </tbody>\n",
       "</table>\n",
       "</div>"
      ],
      "text/plain": [
       "   ESTACION  MAGNITUD PUNTO_MUESTREO   ANO  MES  DIA  VALOR VV\n",
       "0         4         1  28079004_1_38  2010    1  D01   12.0  V\n",
       "1         4         1  28079004_1_38  2010    2  D01   18.0  V\n",
       "2         4         1  28079004_1_38  2010    3  D01   13.0  V\n",
       "3         4         1  28079004_1_38  2010    4  D01   14.0  V\n",
       "4         4         1  28079004_1_38  2010    5  D01    8.0  V"
      ]
     },
     "execution_count": 7,
     "metadata": {},
     "output_type": "execute_result"
    }
   ],
   "source": [
    "# Dataframe con los contaminantes de interes\n",
    "df_contaminantes = df[(df['MAGNITUD'].isin([9, 10, 8, 14, 1]))]\n",
    "\n",
    "# Listas con el listado de dias y correspondientes codigos de verificacion\n",
    "dias = ['D01','D02','D03','D04','D05','D06','D07','D08','D09','D10',\n",
    "       'D11','D12','D13','D14','D15','D16','D17','D18','D19','D20',\n",
    "       'D21','D22','D23','D24','D25','D26','D27','D28','D29','D30','D31']\n",
    "\n",
    "verf = ['V01','V02','V03','V04','V05','V06','V07','V08','V09','V10',\n",
    "       'V11','V12','V13','V14','V15','V16','V17','V18','V19','V20',\n",
    "       'V21','V22','V23','V24','V25','V26','V27','V28','V29','V30','V31']\n",
    "\n",
    "# Formato long del dataframe\n",
    "# Dias\n",
    "df_dias = df_contaminantes.melt(id_vars=['ESTACION', 'MAGNITUD', 'PUNTO_MUESTREO', 'ANO', 'MES'],\n",
    "                                value_vars = dias,\n",
    "                                var_name = 'DIA',\n",
    "                                value_name = 'VALOR')\n",
    "# Verificaciones\n",
    "df_verf= df_contaminantes.melt(id_vars=['ESTACION', 'MAGNITUD', 'PUNTO_MUESTREO', 'ANO', 'MES'],\n",
    "                               value_vars = verf,\n",
    "                               var_name = 'VER',\n",
    "                               value_name = 'VV')\n",
    "\n",
    "# Asociar los valores de verificacion\n",
    "df_dias['VV'] = df_verf['VV']\n",
    "df = df_dias\n",
    "\n",
    "# Visualizacion\n",
    "df.head(5)"
   ]
  },
  {
   "cell_type": "markdown",
   "id": "ad3aaaca",
   "metadata": {},
   "source": [
    "Con este dataframe, vamos a diferenciar entre los valores no verificados (aquellos que están seguidos de una código de verificación 'N') y los valores no medidos debido a la inexistencia de un día en particular (por ejemplo, el 30 de febrero).\n",
    "\n",
    "Para comenzar, eliminamos del dataframe aquellos registros correspondientes a los días que no existen."
   ]
  },
  {
   "cell_type": "code",
   "execution_count": 8,
   "id": "035cd23e",
   "metadata": {},
   "outputs": [],
   "source": [
    "# Creacion de la columna 'date'\n",
    "date_str = df['ANO'].astype(str) + '-' + df['MES'].astype(str) + '-' + df['DIA'].str.replace('D', '').astype(str)\n",
    "df['date'] = pd.to_datetime(date_str, format='%Y-%m-%d', errors='coerce')\n",
    "\n",
    "# Eliminacion de los registros con dias inexistentes\n",
    "df = df.dropna(subset=['date'])\n",
    "\n",
    "# Reordanacion de las columnas\n",
    "df = df[['ESTACION', 'MAGNITUD', 'PUNTO_MUESTREO', 'ANO', 'MES', 'DIA', 'date', 'VALOR', 'VV']]\n",
    "\n",
    "# Reordenacion de los registros por fecha\n",
    "df = df.sort_values(['ESTACION','MAGNITUD','date'])"
   ]
  },
  {
   "cell_type": "markdown",
   "id": "fafb62d1",
   "metadata": {},
   "source": [
    "En segundo lugar, vamos a asignar el valor $-1$ a los datos no verificados para poder llevar a cabo una imputación de dichos valores. De esta manera, en análisis posteriores, podremos diferenciar los datos no verificados de aquellos que no están registrados."
   ]
  },
  {
   "cell_type": "code",
   "execution_count": 9,
   "id": "86ef6d4a",
   "metadata": {
    "scrolled": true
   },
   "outputs": [],
   "source": [
    "# Asignacion de valores missing\n",
    "df.loc[df['VV'] != 'V', 'VALOR'] = -1\n",
    "df = df.drop(['VV'], axis = 1)"
   ]
  },
  {
   "cell_type": "markdown",
   "id": "f62cf080",
   "metadata": {},
   "source": [
    "Por último, estudiamos la presencia de valores nulos y datos no verificados y nos aseguramos de que no existan filas duplicadas."
   ]
  },
  {
   "cell_type": "code",
   "execution_count": 10,
   "id": "ee45f54c",
   "metadata": {
    "scrolled": true
   },
   "outputs": [
    {
     "name": "stdout",
     "output_type": "stream",
     "text": [
      "Numero de valores nulos en las diferentes variables:\n",
      "ESTACION          0\n",
      "MAGNITUD          0\n",
      "PUNTO_MUESTREO    0\n",
      "ANO               0\n",
      "MES               0\n",
      "DIA               0\n",
      "date              0\n",
      "VALOR             0\n",
      "dtype: int64\n",
      "\n",
      "Numero de datos no verificados: 3920\n",
      "\n",
      "Numero de registros duplicados: 0\n"
     ]
    }
   ],
   "source": [
    "# Comprobacion valores nulos y duplicados\n",
    "print(\"Numero de valores nulos en las diferentes variables:\") \n",
    "print(df.isnull().sum())\n",
    "print(\"\\nNumero de datos no verificados:\", (df['VALOR'] == -1).sum())\n",
    "print(\"\\nNumero de registros duplicados:\" ,df.duplicated().sum())"
   ]
  },
  {
   "cell_type": "markdown",
   "id": "bc4fac4d",
   "metadata": {},
   "source": [
    "## 1.2 Imputación de missing"
   ]
  },
  {
   "cell_type": "markdown",
   "id": "cc6c771d",
   "metadata": {},
   "source": [
    "Una primera aproximación para tratar los datos missing podría ser utilizar la técnica de interpolación lineal. La interpolación lineal calcula un valor promedio entre dos puntos conocidos y este se utiliza para reemplazar el valor faltante. Es importante destacar que al utilizar la interpolación lineal, estamos asumiendo una relación lineal.\n",
    "\n",
    "Otra opción es realizar la imputación de missing examinando los contaminantes en diferentes zonas geográficas de la Comunidad de Madrid. Según la división establecida, las zonas se definen de la siguiente manera:\n",
    "\n",
    "* Zona 1 (interior M30): 7 estaciones de tráfico (Escuelas Aguirre, Castellana, Plaza de Castilla, Ramón y Cajal, Cuatro Caminos, Plaza de España y Barrio del Pilar) + 3 estaciones de fondo (Plaza del Carmen, Méndez Álvaro y Retiro).\n",
    "* Zona 2 (Sureste): 1 estación de tráfico (Moratalaz) y 2 estaciones de fondo (Vallecas y Ensanche de Vallecas).\n",
    "* Zona 3 (Noreste): 5 estaciones de fondo (Arturo Soria, Sanchinarro, Urbanización Embajada, Barajas Pueblo y Tres Olivos) y 1 estación suburbana (Juan Carlos I).\n",
    "* Zona 4 (Noroeste): 2 estaciones suburbanas (El Pardo y Casa de Campo).\n",
    "* Zona 5 (Suroeste): 1 estación de tráfico (Plaza Elíptica) y 2 estaciones de fondo (Farolillo y Villaverde).\n",
    "\n",
    "De esta forma, realizaremos la imputación de los valores que no han sido validados (los que correspondían con un código de verificación 'N')."
   ]
  },
  {
   "cell_type": "code",
   "execution_count": 12,
   "id": "1e544858",
   "metadata": {
    "scrolled": true
   },
   "outputs": [
    {
     "data": {
      "text/html": [
       "<div>\n",
       "<style scoped>\n",
       "    .dataframe tbody tr th:only-of-type {\n",
       "        vertical-align: middle;\n",
       "    }\n",
       "\n",
       "    .dataframe tbody tr th {\n",
       "        vertical-align: top;\n",
       "    }\n",
       "\n",
       "    .dataframe thead th {\n",
       "        text-align: right;\n",
       "    }\n",
       "</style>\n",
       "<table border=\"1\" class=\"dataframe\">\n",
       "  <thead>\n",
       "    <tr style=\"text-align: right;\">\n",
       "      <th>ESTACION</th>\n",
       "      <th>4</th>\n",
       "      <th>8</th>\n",
       "      <th>11</th>\n",
       "      <th>16</th>\n",
       "      <th>17</th>\n",
       "      <th>18</th>\n",
       "      <th>24</th>\n",
       "      <th>27</th>\n",
       "      <th>35</th>\n",
       "      <th>36</th>\n",
       "      <th>...</th>\n",
       "      <th>49</th>\n",
       "      <th>50</th>\n",
       "      <th>54</th>\n",
       "      <th>55</th>\n",
       "      <th>56</th>\n",
       "      <th>57</th>\n",
       "      <th>58</th>\n",
       "      <th>59</th>\n",
       "      <th>60</th>\n",
       "      <th>MAGNITUD</th>\n",
       "    </tr>\n",
       "    <tr>\n",
       "      <th>date</th>\n",
       "      <th></th>\n",
       "      <th></th>\n",
       "      <th></th>\n",
       "      <th></th>\n",
       "      <th></th>\n",
       "      <th></th>\n",
       "      <th></th>\n",
       "      <th></th>\n",
       "      <th></th>\n",
       "      <th></th>\n",
       "      <th></th>\n",
       "      <th></th>\n",
       "      <th></th>\n",
       "      <th></th>\n",
       "      <th></th>\n",
       "      <th></th>\n",
       "      <th></th>\n",
       "      <th></th>\n",
       "      <th></th>\n",
       "      <th></th>\n",
       "      <th></th>\n",
       "    </tr>\n",
       "  </thead>\n",
       "  <tbody>\n",
       "    <tr>\n",
       "      <th>2010-01-01</th>\n",
       "      <td>12.0</td>\n",
       "      <td>9.0</td>\n",
       "      <td>NaN</td>\n",
       "      <td>NaN</td>\n",
       "      <td>7.0</td>\n",
       "      <td>5.0</td>\n",
       "      <td>7.0</td>\n",
       "      <td>NaN</td>\n",
       "      <td>10.0</td>\n",
       "      <td>7.0</td>\n",
       "      <td>...</td>\n",
       "      <td>NaN</td>\n",
       "      <td>NaN</td>\n",
       "      <td>NaN</td>\n",
       "      <td>NaN</td>\n",
       "      <td>NaN</td>\n",
       "      <td>6.0</td>\n",
       "      <td>NaN</td>\n",
       "      <td>NaN</td>\n",
       "      <td>NaN</td>\n",
       "      <td>1</td>\n",
       "    </tr>\n",
       "    <tr>\n",
       "      <th>2010-02-01</th>\n",
       "      <td>15.0</td>\n",
       "      <td>10.0</td>\n",
       "      <td>NaN</td>\n",
       "      <td>NaN</td>\n",
       "      <td>7.0</td>\n",
       "      <td>6.0</td>\n",
       "      <td>7.0</td>\n",
       "      <td>NaN</td>\n",
       "      <td>11.0</td>\n",
       "      <td>12.0</td>\n",
       "      <td>...</td>\n",
       "      <td>NaN</td>\n",
       "      <td>NaN</td>\n",
       "      <td>NaN</td>\n",
       "      <td>NaN</td>\n",
       "      <td>NaN</td>\n",
       "      <td>8.0</td>\n",
       "      <td>NaN</td>\n",
       "      <td>NaN</td>\n",
       "      <td>NaN</td>\n",
       "      <td>1</td>\n",
       "    </tr>\n",
       "    <tr>\n",
       "      <th>2010-03-01</th>\n",
       "      <td>17.0</td>\n",
       "      <td>11.0</td>\n",
       "      <td>NaN</td>\n",
       "      <td>NaN</td>\n",
       "      <td>8.0</td>\n",
       "      <td>10.0</td>\n",
       "      <td>8.0</td>\n",
       "      <td>NaN</td>\n",
       "      <td>14.0</td>\n",
       "      <td>18.0</td>\n",
       "      <td>...</td>\n",
       "      <td>NaN</td>\n",
       "      <td>NaN</td>\n",
       "      <td>NaN</td>\n",
       "      <td>NaN</td>\n",
       "      <td>NaN</td>\n",
       "      <td>8.0</td>\n",
       "      <td>NaN</td>\n",
       "      <td>NaN</td>\n",
       "      <td>NaN</td>\n",
       "      <td>1</td>\n",
       "    </tr>\n",
       "    <tr>\n",
       "      <th>2010-04-01</th>\n",
       "      <td>16.0</td>\n",
       "      <td>12.0</td>\n",
       "      <td>NaN</td>\n",
       "      <td>NaN</td>\n",
       "      <td>8.0</td>\n",
       "      <td>10.0</td>\n",
       "      <td>8.0</td>\n",
       "      <td>NaN</td>\n",
       "      <td>13.0</td>\n",
       "      <td>21.0</td>\n",
       "      <td>...</td>\n",
       "      <td>NaN</td>\n",
       "      <td>NaN</td>\n",
       "      <td>NaN</td>\n",
       "      <td>NaN</td>\n",
       "      <td>NaN</td>\n",
       "      <td>7.0</td>\n",
       "      <td>NaN</td>\n",
       "      <td>NaN</td>\n",
       "      <td>NaN</td>\n",
       "      <td>1</td>\n",
       "    </tr>\n",
       "    <tr>\n",
       "      <th>2010-05-01</th>\n",
       "      <td>16.0</td>\n",
       "      <td>12.0</td>\n",
       "      <td>NaN</td>\n",
       "      <td>NaN</td>\n",
       "      <td>8.0</td>\n",
       "      <td>10.0</td>\n",
       "      <td>8.0</td>\n",
       "      <td>NaN</td>\n",
       "      <td>13.0</td>\n",
       "      <td>23.0</td>\n",
       "      <td>...</td>\n",
       "      <td>NaN</td>\n",
       "      <td>NaN</td>\n",
       "      <td>NaN</td>\n",
       "      <td>NaN</td>\n",
       "      <td>NaN</td>\n",
       "      <td>7.0</td>\n",
       "      <td>NaN</td>\n",
       "      <td>NaN</td>\n",
       "      <td>NaN</td>\n",
       "      <td>1</td>\n",
       "    </tr>\n",
       "  </tbody>\n",
       "</table>\n",
       "<p>5 rows × 25 columns</p>\n",
       "</div>"
      ],
      "text/plain": [
       "ESTACION       4     8  11  16   17    18   24  27    35    36  ...  49  50  \\\n",
       "date                                                            ...           \n",
       "2010-01-01  12.0   9.0 NaN NaN  7.0   5.0  7.0 NaN  10.0   7.0  ... NaN NaN   \n",
       "2010-02-01  15.0  10.0 NaN NaN  7.0   6.0  7.0 NaN  11.0  12.0  ... NaN NaN   \n",
       "2010-03-01  17.0  11.0 NaN NaN  8.0  10.0  8.0 NaN  14.0  18.0  ... NaN NaN   \n",
       "2010-04-01  16.0  12.0 NaN NaN  8.0  10.0  8.0 NaN  13.0  21.0  ... NaN NaN   \n",
       "2010-05-01  16.0  12.0 NaN NaN  8.0  10.0  8.0 NaN  13.0  23.0  ... NaN NaN   \n",
       "\n",
       "ESTACION    54  55  56   57  58  59  60  MAGNITUD  \n",
       "date                                               \n",
       "2010-01-01 NaN NaN NaN  6.0 NaN NaN NaN         1  \n",
       "2010-02-01 NaN NaN NaN  8.0 NaN NaN NaN         1  \n",
       "2010-03-01 NaN NaN NaN  8.0 NaN NaN NaN         1  \n",
       "2010-04-01 NaN NaN NaN  7.0 NaN NaN NaN         1  \n",
       "2010-05-01 NaN NaN NaN  7.0 NaN NaN NaN         1  \n",
       "\n",
       "[5 rows x 25 columns]"
      ]
     },
     "execution_count": 12,
     "metadata": {},
     "output_type": "execute_result"
    }
   ],
   "source": [
    "# Dataframe con todas las zonas\n",
    "df_zonas = df.pivot_table(index=['MAGNITUD','date'], columns='ESTACION', values='VALOR')\n",
    "df_zonas = df_zonas.reset_index(drop=True)\n",
    "df_zonas['date'] = df['date']\n",
    "df_zonas['MAGNITUD'] = df['MAGNITUD']\n",
    "df_zonas = df_zonas.set_index('date')\n",
    "\n",
    "# Renombrar columnas\n",
    "cols = df_zonas.columns\n",
    "nombres = {col: str(col) for col in cols}\n",
    "df_zonas = df_zonas.rename(columns=nombres)\n",
    "\n",
    "# Visualizacion\n",
    "df_zonas.head(5)"
   ]
  },
  {
   "cell_type": "code",
   "execution_count": 14,
   "id": "02a13773",
   "metadata": {},
   "outputs": [
    {
     "name": "stdout",
     "output_type": "stream",
     "text": [
      "Numero de veces que se toma el valor 0: 0\n"
     ]
    }
   ],
   "source": [
    "# Comprobar que no se toma el valor 0.0\n",
    "suma = 0\n",
    "for col in df_zonas:\n",
    "    suma = suma + len(df_zonas[df_zonas[col]==0])\n",
    "    \n",
    "print(\"Numero de veces que se toma el valor 0:\" , suma)\n",
    "\n",
    "# Cambiar valores NaN por 0\n",
    "df_zonas = df_zonas.fillna(0)"
   ]
  },
  {
   "cell_type": "code",
   "execution_count": 15,
   "id": "7be607d2",
   "metadata": {},
   "outputs": [],
   "source": [
    "# Indices de las estaciones en las diferentes zonas\n",
    "zona1 = ['8','48','50','11','10','4','5','3','47','9']# la 3,5,9 y 10 no estan --> buscar como incluirlas\n",
    "zona2 = ['20','13','54'] # la 20 y 13 no estan\n",
    "zona3 = ['16','57','55','27','86','59'] # la 86 no esta\n",
    "zona4 = ['58','24']\n",
    "zona5 = ['56','18','17']\n",
    "\n",
    "# Dataframe por zonas\n",
    "# Zona 1\n",
    "zona1 = df_zonas[['8','48','50','11','4','47']]\n",
    "\n",
    "# Zona 2\n",
    "zona2 = df_zonas[['54']]\n",
    "\n",
    "# Zona 3\n",
    "zona3 = df_zonas[['16','57','55','27','59']]\n",
    "\n",
    "# Zona 4\n",
    "zona4 = df_zonas[['58', '24']]\n",
    "\n",
    "# Zona 5\n",
    "zona5 = df_zonas[['56','18','17']]"
   ]
  },
  {
   "cell_type": "markdown",
   "id": "4980e518",
   "metadata": {},
   "source": [
    "Para imputar los valores faltantes, procederemos de la siguiente manera:\n",
    "\n",
    "1. Si alguna de las columnas tiene un valor distinto de NaN, imputaremos la media de esos valores.\n",
    "1. En caso contrario, es decir, si todas las variables son NaN excepto la columna que contiene el valor -1 que deseamos imputar, utilizaremos la técnica de interpolación lineal.\n",
    "\n",
    "A continuación, creamos una función para llevar a cabo este proceso:"
   ]
  },
  {
   "cell_type": "code",
   "execution_count": 19,
   "id": "03f344ab",
   "metadata": {},
   "outputs": [],
   "source": [
    "# Funcion imputacion valores missing\n",
    "def imputar_missing(df):\n",
    "    # Imputar missing cuando hay datos de otras estaciones\n",
    "    for i in range(len(df)):\n",
    "        fila = df.iloc[i,:]\n",
    "        if (fila == -1).any():\n",
    "            indices = np.where(df.iloc[i,:] == -1)[0]\n",
    "            suma = fila.sum() + len(indices)\n",
    "            if (suma) > 0:\n",
    "                media = suma/(sum(fila>0))\n",
    "                fila[indices] = media                \n",
    "    # Imputar missing cuando no hay datos de otras estaciones\n",
    "    for col in df:\n",
    "        df[col] = df[col].replace(-1, np.nan)\n",
    "        df[col] = df[col].interpolate()\n",
    "    \n",
    "    return df"
   ]
  },
  {
   "cell_type": "markdown",
   "id": "e5977669",
   "metadata": {},
   "source": [
    "Realizamos primero la imputación de missing en la **Zona 1 (M30 interior)**."
   ]
  },
  {
   "cell_type": "code",
   "execution_count": 17,
   "id": "ae310aa1",
   "metadata": {
    "scrolled": true
   },
   "outputs": [
    {
     "name": "stdout",
     "output_type": "stream",
     "text": [
      "Numero de valores no verificados en las diferentes estaciones de la Zona 1:\n",
      "ESTACION\n",
      "8     468\n",
      "48    188\n",
      "50    350\n",
      "11     11\n",
      "4     303\n",
      "47    188\n",
      "dtype: int64\n"
     ]
    }
   ],
   "source": [
    "# Numero de valores faltantes en las diferentes variables\n",
    "print(\"Numero de valores no verificados en las diferentes estaciones de la Zona 1:\", )\n",
    "print(zona1.isin([-1]).sum())"
   ]
  },
  {
   "cell_type": "code",
   "execution_count": 18,
   "id": "5e94278a",
   "metadata": {
    "scrolled": true
   },
   "outputs": [],
   "source": [
    "# Imputacion de missing\n",
    "zona1 = imputar_missing(zona1)"
   ]
  },
  {
   "cell_type": "markdown",
   "id": "fe2277f7",
   "metadata": {},
   "source": [
    "Verificamos que no haya valores nulos después de la imputación."
   ]
  },
  {
   "cell_type": "code",
   "execution_count": 20,
   "id": "dcc9434e",
   "metadata": {},
   "outputs": [
    {
     "name": "stdout",
     "output_type": "stream",
     "text": [
      "Numero de valores no verificados en las diferentes estaciones de la Zona 1:\n",
      "ESTACION\n",
      "8     0\n",
      "48    0\n",
      "50    0\n",
      "11    0\n",
      "4     0\n",
      "47    0\n",
      "dtype: int64\n"
     ]
    }
   ],
   "source": [
    "# Numero de valores faltantes en las diferentes variables\n",
    "print(\"Numero de valores no verificados en las diferentes estaciones de la Zona 1:\", )\n",
    "print(zona1.isin([-1]).sum())"
   ]
  },
  {
   "cell_type": "markdown",
   "id": "c1c7e9b7",
   "metadata": {},
   "source": [
    "Procedemos de manera análoga con el resto de zonas"
   ]
  },
  {
   "cell_type": "code",
   "execution_count": 21,
   "id": "ce36035a",
   "metadata": {},
   "outputs": [],
   "source": [
    "# Imputacion de missing\n",
    "zona2 = imputar_missing(zona2)\n",
    "zona3 = imputar_missing(zona3)\n",
    "zona4 = imputar_missing(zona4)\n",
    "zona5 = imputar_missing(zona5)"
   ]
  },
  {
   "cell_type": "markdown",
   "id": "730e72ea",
   "metadata": {},
   "source": [
    "Comprobamos nuevamente que no existan valores nulos después de la imputación en ninguno de los dataframe de las diferentes zonas."
   ]
  },
  {
   "cell_type": "code",
   "execution_count": 22,
   "id": "5635ba3d",
   "metadata": {},
   "outputs": [
    {
     "name": "stdout",
     "output_type": "stream",
     "text": [
      "Numero de valores no verificados en las diferentes estaciones de la Zona 2:\n",
      "ESTACION\n",
      "54    0\n",
      "dtype: int64\n",
      "\n",
      "Numero de valores no verificados en las diferentes estaciones de la Zona 3:\n",
      "ESTACION\n",
      "16    0\n",
      "57    0\n",
      "55    0\n",
      "27    0\n",
      "59    0\n",
      "dtype: int64\n",
      "\n",
      "Numero de valores no verificados en las diferentes estaciones de la Zona 4:\n",
      "ESTACION\n",
      "58    0\n",
      "24    0\n",
      "dtype: int64\n",
      "\n",
      "Numero de valores no verificados en las diferentes estaciones de la Zona 5:\n",
      "ESTACION\n",
      "56    0\n",
      "18    0\n",
      "17    0\n",
      "dtype: int64\n"
     ]
    }
   ],
   "source": [
    "# Numero de valores faltantes en las diferentes variables\n",
    "print(\"Numero de valores no verificados en las diferentes estaciones de la Zona 2:\", )\n",
    "print(zona2.isin([-1]).sum())\n",
    "# Numero de valores faltantes en las diferentes variables\n",
    "print(\"\\nNumero de valores no verificados en las diferentes estaciones de la Zona 3:\", )\n",
    "print(zona3.isin([-1]).sum())\n",
    "# Numero de valores faltantes en las diferentes variables\n",
    "print(\"\\nNumero de valores no verificados en las diferentes estaciones de la Zona 4:\", )\n",
    "print(zona4.isin([-1]).sum())\n",
    "# Numero de valores faltantes en las diferentes variables\n",
    "print(\"\\nNumero de valores no verificados en las diferentes estaciones de la Zona 5:\", )\n",
    "print(zona5.isin([-1]).sum())"
   ]
  },
  {
   "cell_type": "code",
   "execution_count": 34,
   "id": "8294c1a4",
   "metadata": {
    "scrolled": true
   },
   "outputs": [],
   "source": [
    "# Crear el dataframe con las zonas de estudio\n",
    "df_estaciones = pd.concat([zona1, zona2, zona3, zona4, zona5], axis=1)\n",
    "df_estaciones['MAGNITUD'] = df_zonas['MAGNITUD']"
   ]
  },
  {
   "cell_type": "markdown",
   "id": "c1f0690f",
   "metadata": {},
   "source": [
    "## 1.3 Análisis descriptivo"
   ]
  },
  {
   "cell_type": "markdown",
   "id": "c43ab233",
   "metadata": {},
   "source": [
    "Para continuar con el estudio, llevamos a cabo un análisis descriptivo de los datos. Para ello, creamos dos DataFrames: uno que contiene la información de las magnitudes o contaminantes y otro que está agrupado por zonas geográficas."
   ]
  },
  {
   "cell_type": "markdown",
   "id": "4a794bc3",
   "metadata": {},
   "source": [
    "**Por magnitudes**"
   ]
  },
  {
   "cell_type": "markdown",
   "id": "b3dff971",
   "metadata": {},
   "source": [
    "En primer lugar, analizamos el DataFrame relacionado con los contaminantes. "
   ]
  },
  {
   "cell_type": "code",
   "execution_count": 35,
   "id": "efa845ef",
   "metadata": {
    "scrolled": true
   },
   "outputs": [
    {
     "data": {
      "text/html": [
       "<div>\n",
       "<style scoped>\n",
       "    .dataframe tbody tr th:only-of-type {\n",
       "        vertical-align: middle;\n",
       "    }\n",
       "\n",
       "    .dataframe tbody tr th {\n",
       "        vertical-align: top;\n",
       "    }\n",
       "\n",
       "    .dataframe thead th {\n",
       "        text-align: right;\n",
       "    }\n",
       "</style>\n",
       "<table border=\"1\" class=\"dataframe\">\n",
       "  <thead>\n",
       "    <tr style=\"text-align: right;\">\n",
       "      <th></th>\n",
       "      <th>ESTACION</th>\n",
       "      <th>ANO</th>\n",
       "      <th>MES</th>\n",
       "      <th>DIA</th>\n",
       "      <th>date</th>\n",
       "      <th>SO2</th>\n",
       "      <th>NO2</th>\n",
       "      <th>PM2.5</th>\n",
       "      <th>PM10</th>\n",
       "      <th>O3</th>\n",
       "    </tr>\n",
       "  </thead>\n",
       "  <tbody>\n",
       "    <tr>\n",
       "      <th>0</th>\n",
       "      <td>4</td>\n",
       "      <td>2010</td>\n",
       "      <td>1</td>\n",
       "      <td>D01</td>\n",
       "      <td>2010-01-01</td>\n",
       "      <td>12.0</td>\n",
       "      <td>12.0</td>\n",
       "      <td>NaN</td>\n",
       "      <td>NaN</td>\n",
       "      <td>NaN</td>\n",
       "    </tr>\n",
       "    <tr>\n",
       "      <th>1</th>\n",
       "      <td>4</td>\n",
       "      <td>2010</td>\n",
       "      <td>1</td>\n",
       "      <td>D02</td>\n",
       "      <td>2010-01-02</td>\n",
       "      <td>15.0</td>\n",
       "      <td>40.0</td>\n",
       "      <td>NaN</td>\n",
       "      <td>NaN</td>\n",
       "      <td>NaN</td>\n",
       "    </tr>\n",
       "    <tr>\n",
       "      <th>2</th>\n",
       "      <td>4</td>\n",
       "      <td>2010</td>\n",
       "      <td>1</td>\n",
       "      <td>D03</td>\n",
       "      <td>2010-01-03</td>\n",
       "      <td>17.0</td>\n",
       "      <td>51.0</td>\n",
       "      <td>NaN</td>\n",
       "      <td>NaN</td>\n",
       "      <td>NaN</td>\n",
       "    </tr>\n",
       "    <tr>\n",
       "      <th>3</th>\n",
       "      <td>4</td>\n",
       "      <td>2010</td>\n",
       "      <td>1</td>\n",
       "      <td>D04</td>\n",
       "      <td>2010-01-04</td>\n",
       "      <td>16.0</td>\n",
       "      <td>53.0</td>\n",
       "      <td>NaN</td>\n",
       "      <td>NaN</td>\n",
       "      <td>NaN</td>\n",
       "    </tr>\n",
       "    <tr>\n",
       "      <th>4</th>\n",
       "      <td>4</td>\n",
       "      <td>2010</td>\n",
       "      <td>1</td>\n",
       "      <td>D05</td>\n",
       "      <td>2010-01-05</td>\n",
       "      <td>16.0</td>\n",
       "      <td>46.0</td>\n",
       "      <td>NaN</td>\n",
       "      <td>NaN</td>\n",
       "      <td>NaN</td>\n",
       "    </tr>\n",
       "  </tbody>\n",
       "</table>\n",
       "</div>"
      ],
      "text/plain": [
       "   ESTACION   ANO  MES  DIA       date   SO2   NO2  PM2.5  PM10  O3\n",
       "0         4  2010    1  D01 2010-01-01  12.0  12.0    NaN   NaN NaN\n",
       "1         4  2010    1  D02 2010-01-02  15.0  40.0    NaN   NaN NaN\n",
       "2         4  2010    1  D03 2010-01-03  17.0  51.0    NaN   NaN NaN\n",
       "3         4  2010    1  D04 2010-01-04  16.0  53.0    NaN   NaN NaN\n",
       "4         4  2010    1  D05 2010-01-05  16.0  46.0    NaN   NaN NaN"
      ]
     },
     "execution_count": 35,
     "metadata": {},
     "output_type": "execute_result"
    }
   ],
   "source": [
    "# Dataframe con las series temporales de los contaminantes\n",
    "df_magnitudes = df.pivot_table(index=['ESTACION', 'ANO', 'MES', 'DIA', 'date'], columns='MAGNITUD', values='VALOR')\n",
    "df_magnitudes = df_magnitudes.reset_index()\n",
    "\n",
    "# Renombrar columnas\n",
    "df_magnitudes.columns = ['ESTACION','ANO','MES','DIA','date','SO2', 'NO2', 'PM2.5', 'PM10','O3']\n",
    "\n",
    "# Visualizacion\n",
    "df_magnitudes.head(5)"
   ]
  },
  {
   "cell_type": "markdown",
   "id": "ca9180f0",
   "metadata": {},
   "source": [
    "Como se puede observar, no todas las estaciones miden todos los contaminantes. Por tanto, para ajustar un modelo de series temporales, tomamos el promedio diario del contaminante utilizando todas las estaciones de medición."
   ]
  },
  {
   "cell_type": "code",
   "execution_count": 36,
   "id": "10a5884d",
   "metadata": {
    "scrolled": false
   },
   "outputs": [],
   "source": [
    "# Calculo promedio diario\n",
    "ts_magnitudes = df_magnitudes.groupby('date').mean()\n",
    "ts_magnitudes.drop(columns=['ESTACION', 'MES'], inplace=True)"
   ]
  },
  {
   "cell_type": "markdown",
   "id": "d095300e",
   "metadata": {},
   "source": [
    "El siguiente gráfico muestra las tendencias medias por año de los diferentes contaminantes. Cada línea representa un contaminante específico. En el eje x se encuentran los años, mientras que en el eje y se muestran los valores promedio."
   ]
  },
  {
   "cell_type": "code",
   "execution_count": 37,
   "id": "810b6895",
   "metadata": {
    "scrolled": true
   },
   "outputs": [
    {
     "data": {
      "image/png": "[encoded data removed]",
      "text/plain": [
       "<Figure size 720x432 with 1 Axes>"
      ]
     },
     "metadata": {
      "needs_background": "light"
     },
     "output_type": "display_data"
    }
   ],
   "source": [
    "# Calcular las medias por año\n",
    "contaminantes = ['SO2', 'NO2', 'PM2.5', 'PM10', 'O3']\n",
    "media_anual = ts_magnitudes.groupby('ANO').mean()\n",
    "\n",
    "# Grafico\n",
    "plt.figure(figsize=(10, 6))\n",
    "\n",
    "colors = ['blue', 'green', 'orange', 'red', 'purple']\n",
    "for i, contaminante in enumerate(contaminantes):\n",
    "    plt.plot(media_anual.index, media_anual[contaminante], color=colors[i], label=contaminante)\n",
    "\n",
    "plt.title('Tendencias Medias por Año - Contaminantes')\n",
    "plt.xlabel('Año')\n",
    "plt.ylabel('Valor Promedio')\n",
    "plt.legend() # Buscar mejor sitio\n",
    "plt.grid(True)\n",
    "\n",
    "plt.show()"
   ]
  },
  {
   "cell_type": "markdown",
   "id": "6d006778",
   "metadata": {},
   "source": [
    "**Por zonas geográficas**"
   ]
  },
  {
   "cell_type": "markdown",
   "id": "cea19a10",
   "metadata": {},
   "source": [
    "Durante el proceso de imputación de los valores no verificados, habíamos examinado la distribución por zonas."
   ]
  },
  {
   "cell_type": "code",
   "execution_count": 39,
   "id": "48af35b0",
   "metadata": {
    "scrolled": false
   },
   "outputs": [
    {
     "data": {
      "text/html": [
       "<div>\n",
       "<style scoped>\n",
       "    .dataframe tbody tr th:only-of-type {\n",
       "        vertical-align: middle;\n",
       "    }\n",
       "\n",
       "    .dataframe tbody tr th {\n",
       "        vertical-align: top;\n",
       "    }\n",
       "\n",
       "    .dataframe thead th {\n",
       "        text-align: right;\n",
       "    }\n",
       "</style>\n",
       "<table border=\"1\" class=\"dataframe\">\n",
       "  <thead>\n",
       "    <tr style=\"text-align: right;\">\n",
       "      <th>ESTACION</th>\n",
       "      <th>8</th>\n",
       "      <th>48</th>\n",
       "      <th>50</th>\n",
       "      <th>11</th>\n",
       "      <th>4</th>\n",
       "      <th>47</th>\n",
       "      <th>54</th>\n",
       "      <th>16</th>\n",
       "      <th>57</th>\n",
       "      <th>55</th>\n",
       "      <th>27</th>\n",
       "      <th>59</th>\n",
       "      <th>58</th>\n",
       "      <th>24</th>\n",
       "      <th>56</th>\n",
       "      <th>18</th>\n",
       "      <th>17</th>\n",
       "      <th>MAGNITUD</th>\n",
       "    </tr>\n",
       "    <tr>\n",
       "      <th>date</th>\n",
       "      <th></th>\n",
       "      <th></th>\n",
       "      <th></th>\n",
       "      <th></th>\n",
       "      <th></th>\n",
       "      <th></th>\n",
       "      <th></th>\n",
       "      <th></th>\n",
       "      <th></th>\n",
       "      <th></th>\n",
       "      <th></th>\n",
       "      <th></th>\n",
       "      <th></th>\n",
       "      <th></th>\n",
       "      <th></th>\n",
       "      <th></th>\n",
       "      <th></th>\n",
       "      <th></th>\n",
       "    </tr>\n",
       "  </thead>\n",
       "  <tbody>\n",
       "    <tr>\n",
       "      <th>2010-01-01</th>\n",
       "      <td>9.0</td>\n",
       "      <td>0.0</td>\n",
       "      <td>0.0</td>\n",
       "      <td>0.0</td>\n",
       "      <td>12.0</td>\n",
       "      <td>0.0</td>\n",
       "      <td>0.0</td>\n",
       "      <td>0.0</td>\n",
       "      <td>6.0</td>\n",
       "      <td>0.0</td>\n",
       "      <td>0.0</td>\n",
       "      <td>0.0</td>\n",
       "      <td>0.0</td>\n",
       "      <td>7.0</td>\n",
       "      <td>0.0</td>\n",
       "      <td>5.0</td>\n",
       "      <td>7.0</td>\n",
       "      <td>1</td>\n",
       "    </tr>\n",
       "    <tr>\n",
       "      <th>2010-02-01</th>\n",
       "      <td>10.0</td>\n",
       "      <td>0.0</td>\n",
       "      <td>0.0</td>\n",
       "      <td>0.0</td>\n",
       "      <td>15.0</td>\n",
       "      <td>0.0</td>\n",
       "      <td>0.0</td>\n",
       "      <td>0.0</td>\n",
       "      <td>8.0</td>\n",
       "      <td>0.0</td>\n",
       "      <td>0.0</td>\n",
       "      <td>0.0</td>\n",
       "      <td>0.0</td>\n",
       "      <td>7.0</td>\n",
       "      <td>0.0</td>\n",
       "      <td>6.0</td>\n",
       "      <td>7.0</td>\n",
       "      <td>1</td>\n",
       "    </tr>\n",
       "    <tr>\n",
       "      <th>2010-03-01</th>\n",
       "      <td>11.0</td>\n",
       "      <td>0.0</td>\n",
       "      <td>0.0</td>\n",
       "      <td>0.0</td>\n",
       "      <td>17.0</td>\n",
       "      <td>0.0</td>\n",
       "      <td>0.0</td>\n",
       "      <td>0.0</td>\n",
       "      <td>8.0</td>\n",
       "      <td>0.0</td>\n",
       "      <td>0.0</td>\n",
       "      <td>0.0</td>\n",
       "      <td>0.0</td>\n",
       "      <td>8.0</td>\n",
       "      <td>0.0</td>\n",
       "      <td>10.0</td>\n",
       "      <td>8.0</td>\n",
       "      <td>1</td>\n",
       "    </tr>\n",
       "    <tr>\n",
       "      <th>2010-04-01</th>\n",
       "      <td>12.0</td>\n",
       "      <td>0.0</td>\n",
       "      <td>0.0</td>\n",
       "      <td>0.0</td>\n",
       "      <td>16.0</td>\n",
       "      <td>0.0</td>\n",
       "      <td>0.0</td>\n",
       "      <td>0.0</td>\n",
       "      <td>7.0</td>\n",
       "      <td>0.0</td>\n",
       "      <td>0.0</td>\n",
       "      <td>0.0</td>\n",
       "      <td>0.0</td>\n",
       "      <td>8.0</td>\n",
       "      <td>0.0</td>\n",
       "      <td>10.0</td>\n",
       "      <td>8.0</td>\n",
       "      <td>1</td>\n",
       "    </tr>\n",
       "    <tr>\n",
       "      <th>2010-05-01</th>\n",
       "      <td>12.0</td>\n",
       "      <td>0.0</td>\n",
       "      <td>0.0</td>\n",
       "      <td>0.0</td>\n",
       "      <td>16.0</td>\n",
       "      <td>0.0</td>\n",
       "      <td>0.0</td>\n",
       "      <td>0.0</td>\n",
       "      <td>7.0</td>\n",
       "      <td>0.0</td>\n",
       "      <td>0.0</td>\n",
       "      <td>0.0</td>\n",
       "      <td>0.0</td>\n",
       "      <td>8.0</td>\n",
       "      <td>0.0</td>\n",
       "      <td>10.0</td>\n",
       "      <td>8.0</td>\n",
       "      <td>1</td>\n",
       "    </tr>\n",
       "  </tbody>\n",
       "</table>\n",
       "</div>"
      ],
      "text/plain": [
       "ESTACION       8   48   50   11     4   47   54   16   57   55   27   59   58  \\\n",
       "date                                                                            \n",
       "2010-01-01   9.0  0.0  0.0  0.0  12.0  0.0  0.0  0.0  6.0  0.0  0.0  0.0  0.0   \n",
       "2010-02-01  10.0  0.0  0.0  0.0  15.0  0.0  0.0  0.0  8.0  0.0  0.0  0.0  0.0   \n",
       "2010-03-01  11.0  0.0  0.0  0.0  17.0  0.0  0.0  0.0  8.0  0.0  0.0  0.0  0.0   \n",
       "2010-04-01  12.0  0.0  0.0  0.0  16.0  0.0  0.0  0.0  7.0  0.0  0.0  0.0  0.0   \n",
       "2010-05-01  12.0  0.0  0.0  0.0  16.0  0.0  0.0  0.0  7.0  0.0  0.0  0.0  0.0   \n",
       "\n",
       "ESTACION     24   56    18   17  MAGNITUD  \n",
       "date                                       \n",
       "2010-01-01  7.0  0.0   5.0  7.0         1  \n",
       "2010-02-01  7.0  0.0   6.0  7.0         1  \n",
       "2010-03-01  8.0  0.0  10.0  8.0         1  \n",
       "2010-04-01  8.0  0.0  10.0  8.0         1  \n",
       "2010-05-01  8.0  0.0  10.0  8.0         1  "
      ]
     },
     "execution_count": 39,
     "metadata": {},
     "output_type": "execute_result"
    }
   ],
   "source": [
    "# Visualizacion\n",
    "df_estaciones.head(5)"
   ]
  },
  {
   "cell_type": "markdown",
   "id": "ba1d5ab5",
   "metadata": {},
   "source": [
    "**Nota:** Crear un mapa de la Comunidad de Madrid con las zonas agrupadas y representar el índice de calidad mediante el uso de colores en cada zona."
   ]
  },
  {
   "cell_type": "markdown",
   "id": "7a8f92e6",
   "metadata": {},
   "source": [
    "## 1.4 Outliers"
   ]
  },
  {
   "cell_type": "code",
   "execution_count": null,
   "id": "6027595d",
   "metadata": {
    "scrolled": true
   },
   "outputs": [],
   "source": [
    "# Boxplot\n",
    "magnitudes = ts_magnitudes[['SO2','NO2','PM2.5','PM10','O3']]\n",
    "fig = plt.figure(figsize=(5,3))\n",
    "plt.boxplot(magnitudes)\n",
    "plt.xticks([1,2,3,4,5], ['SO2','NO2', 'PM2.5','PM10','O3'])\n",
    "plt.title('Outliers')\n",
    "plt.show()"
   ]
  },
  {
   "cell_type": "code",
   "execution_count": null,
   "id": "2cfb788b",
   "metadata": {},
   "outputs": [],
   "source": [
    "# Outliers\n",
    "plt.figure(plt.figure(figsize=(20,5)))\n",
    "plt.subplot(151);plt.plot(ts_magnitudes['SO2']);plt.axhline(y=20, color='red');plt.title('SO2')\n",
    "plt.subplot(152);plt.plot(ts_magnitudes['NO2']);plt.axhline(y=110, color='red');plt.title('NO2')\n",
    "plt.subplot(153);plt.plot(ts_magnitudes['PM2.5']);plt.axhline(y=50, color='red');plt.title('PM2.5')\n",
    "plt.subplot(154);plt.plot(ts_magnitudes['PM10']);plt.axhline(y=150, color='red');plt.title('PM10')\n",
    "plt.show()"
   ]
  },
  {
   "cell_type": "code",
   "execution_count": null,
   "id": "d7d40132",
   "metadata": {
    "scrolled": true
   },
   "outputs": [],
   "source": [
    "# Estudio de los outliers para ver si son outliers en más variables\n",
    "ts_magnitudes[ts_magnitudes['NO2']>110] # PM2.5 tambien es outlier \n",
    "ts_magnitudes[ts_magnitudes['PM2.5']>50] # La mayoria de PM10 tambien son outliers\n",
    "ts_magnitudes[ts_magnitudes['PM10']>150] # La mayoria de PM2.5 tambien son outliers"
   ]
  },
  {
   "cell_type": "markdown",
   "id": "8890cccf",
   "metadata": {},
   "source": [
    "Imputamos los valores que consideramos como outliers mediante interpolación"
   ]
  },
  {
   "cell_type": "code",
   "execution_count": null,
   "id": "6ee074f7",
   "metadata": {},
   "outputs": [],
   "source": [
    "# Cambiamos los valores a NaN\n",
    "ts_magnitudes.loc[ts_magnitudes['NO2'] > 110, 'NO2'] = np.nan\n",
    "ts_magnitudes.loc[ts_magnitudes['PM2.5'] > 50, 'PM2.5'] = np.nan\n",
    "ts_magnitudes.loc[ts_magnitudes['PM10'] > 110, 'PM10'] = np.nan\n",
    "\n",
    "# Imputamos esos valores\n",
    "ts_magnitudes['NO2'].interpolate(inplace=True)\n",
    "ts_magnitudes['PM2.5'].interpolate(inplace=True)\n",
    "ts_magnitudes['PM10'].interpolate(inplace=True)"
   ]
  },
  {
   "cell_type": "markdown",
   "id": "39d9e234",
   "metadata": {},
   "source": [
    "# 2. Índice de Calidad del Aire"
   ]
  },
  {
   "cell_type": "markdown",
   "id": "1c2fcbf4",
   "metadata": {},
   "source": [
    "En primer lugar, vamos a crear un indice de calidad del aire. Así, para cada magnitud determinamos el indice de la forma descrita al principio."
   ]
  },
  {
   "cell_type": "markdown",
   "id": "db80b2d0",
   "metadata": {},
   "source": [
    "## 2.1 Por magnitudes"
   ]
  },
  {
   "cell_type": "markdown",
   "id": "7c8ca552",
   "metadata": {},
   "source": [
    "| Contaminantes | id| Muy bueno | Bueno | Regular | Malo | Muy malo |\n",
    "| :- |:- |:-|:-|:-|:-| :-|\n",
    "|Partículas PM2,5| 9| 0-15|16-30|31-55|56-110|>110|\n",
    "|Partículas PM10| 10| 0-25|26-50|51-90|91-180|>180|\n",
    "|NO2| 8| 0-50|51-100|101-200|201-400|>400|\n",
    "|O3| 14|0-60|61-120|121-180|181-240|>240|\n",
    "|SO2| 1|0-50|51-100|101-350|351-500|>500|"
   ]
  },
  {
   "cell_type": "code",
   "execution_count": null,
   "id": "05bc4081",
   "metadata": {
    "scrolled": true
   },
   "outputs": [],
   "source": [
    "# Indice para S02\n",
    "# Definimos los rangos\n",
    "bins = [0,50,100,350,500,float(\"inf\")]\n",
    "labels = [1,2,3,4,5]\n",
    "# Creamos una columna con el indice\n",
    "ts_magnitudes[\"I1\"] = pd.cut(ts_magnitudes[\"SO2\"], bins=bins, labels=labels)\n",
    "\n",
    "# Indice para N02\n",
    "bins = [0,50,100,200,400,float(\"inf\")]\n",
    "ts_magnitudes[\"I2\"] = pd.cut(ts_magnitudes[\"NO2\"], bins=bins, labels=labels)\n",
    "\n",
    "# Indice para PM2.5\n",
    "bins = [0,15,30,55,110,float(\"inf\")]\n",
    "ts_magnitudes[\"I3\"] = pd.cut(ts_magnitudes[\"PM2.5\"], bins=bins, labels=labels)\n",
    "\n",
    "# Indice para PM10\n",
    "bins = [0,25,50,90,180,float(\"inf\")]\n",
    "ts_magnitudes[\"I4\"] = pd.cut(ts_magnitudes[\"PM10\"], bins=bins, labels=labels)\n",
    "\n",
    "# Indice para O3\n",
    "bins = [0,60,120,180,240,float(\"inf\")]\n",
    "ts_magnitudes[\"I5\"] = pd.cut(ts_magnitudes[\"O3\"], bins=bins, labels=labels)"
   ]
  },
  {
   "cell_type": "code",
   "execution_count": null,
   "id": "aca17d6d",
   "metadata": {},
   "outputs": [],
   "source": [
    "ts_magnitudes"
   ]
  },
  {
   "cell_type": "markdown",
   "id": "010c6325",
   "metadata": {},
   "source": [
    "Para crear un índice general, realizamos un PCA y un Kernel PCA en las variables que indican índice."
   ]
  },
  {
   "cell_type": "markdown",
   "id": "a8a233cc",
   "metadata": {},
   "source": [
    "**PCA**"
   ]
  },
  {
   "cell_type": "code",
   "execution_count": null,
   "id": "565fb7a3",
   "metadata": {},
   "outputs": [],
   "source": [
    "# Librerias\n",
    "from sklearn.decomposition import PCA, KernelPCA\n",
    "from sklearn.model_selection import GridSearchCV"
   ]
  },
  {
   "cell_type": "markdown",
   "id": "3aaeb264",
   "metadata": {},
   "source": [
    "Buscamos el número de componentes óptimo mediante GridSearchCV"
   ]
  },
  {
   "cell_type": "code",
   "execution_count": null,
   "id": "ce0fc73f",
   "metadata": {
    "scrolled": false
   },
   "outputs": [],
   "source": [
    "# Indices a los que vamos a aplicar el PCA\n",
    "indices = ['I1','I2','I3','I4','I5']\n",
    "# Creamos el objeto\n",
    "pca = PCA()\n",
    "\n",
    "# Hiperpametro para el numero de componentes \n",
    "parametros = {'n_components': list(range(1, 6))}\n",
    "\n",
    "# Definimos la búsqueda + CV\n",
    "cv = GridSearchCV(pca, parametros, cv=5, n_jobs=-1)\n",
    "cv.fit(ts_magnitudes[indices])\n",
    "\n",
    "# Resultados\n",
    "print(\"Mejor número de componentes: \", cv.best_params_['n_components'])\n",
    "print(\"Varianza explicada por cada componente: \", cv.best_estimator_.explained_variance_ratio_)"
   ]
  },
  {
   "cell_type": "markdown",
   "id": "8e0180fe",
   "metadata": {},
   "source": [
    "La varianza explicada por una componente es de un $47\\%$, mientras que con dos componentes logramos casi un $80\\%$.\n",
    "\n",
    "Así, tomaríamos dos componentes"
   ]
  },
  {
   "cell_type": "code",
   "execution_count": null,
   "id": "f9f61c2b",
   "metadata": {},
   "outputs": [],
   "source": [
    "# PCA con 2 componentes\n",
    "pca = PCA(n_components=2)\n",
    "X_pca = pca.fit_transform(ts_magnitudes[indices])\n",
    "X_pca"
   ]
  },
  {
   "cell_type": "markdown",
   "id": "e3ea0301",
   "metadata": {},
   "source": [
    "Mapa con cada estacion que mida cuantos contaminantes hay."
   ]
  },
  {
   "cell_type": "markdown",
   "id": "e44d4129",
   "metadata": {},
   "source": [
    "**Kernel PCA**"
   ]
  },
  {
   "cell_type": "code",
   "execution_count": null,
   "id": "4570bb77",
   "metadata": {},
   "outputs": [],
   "source": [
    "# Librerias\n",
    "from sklearn.decomposition import KernelPCA\n",
    "from sklearn.model_selection import GridSearchCV\n",
    "from sklearn.pipeline import Pipeline"
   ]
  },
  {
   "cell_type": "code",
   "execution_count": null,
   "id": "ca2cc234",
   "metadata": {},
   "outputs": [],
   "source": [
    "# Columnas a las que aplicamos Kernel PCA\n",
    "indices = df_comp_mag[['I1','I1','I3','I4','I5']]\n",
    "\n",
    "# Creamos el objeto\n",
    "kpca = KernelPCA()\n",
    "\n",
    "# Cremoas la tuberia\n",
    "pipe = Pipeline([\n",
    "    ('kpca', KernelPCA())\n",
    "])\n",
    "\n",
    "rango_gamma = np.linspace(0, 1, 10)\n",
    "ks = list(range(1,6))\n",
    "\n",
    "# Hiperparametros para GridSearchCV\n",
    "h_parametros = { 'kpca_gamma': rango_gamma,\n",
    "    'num_comp': ks}\n",
    "\n",
    "# Definimos la búsqueda + CV, con la métrica a optimizar\n",
    "cv = GridSearchCV(pipe, h_parametros, cv=5, n_jobs=-1, scoring = 'r2')\n",
    "cv.fit(indices)\n",
    "\n",
    "cv.best_estimator_"
   ]
  },
  {
   "cell_type": "markdown",
   "id": "4ca5412a",
   "metadata": {},
   "source": [
    "## 2.2 Por zonas"
   ]
  },
  {
   "cell_type": "markdown",
   "id": "a2963cc1",
   "metadata": {},
   "source": [
    "# 3. Predicción de la serie temporal"
   ]
  },
  {
   "cell_type": "markdown",
   "id": "d71a82d8",
   "metadata": {},
   "source": [
    "## 3.1 Series temporales univariantes por contaminante"
   ]
  },
  {
   "cell_type": "markdown",
   "id": "a3238831",
   "metadata": {},
   "source": [
    "Meter retardos como las columnas para ajustar un modelo de mach learning y hacer shuffle\n",
    "\n",
    "añadir: Retardos por zona colindantes (vecindario)\n",
    "\n",
    "añadir: estudio multivariante con vecinos por zonas\n",
    "\n",
    "Modelos especificos geolocalizados: kriging, "
   ]
  },
  {
   "cell_type": "markdown",
   "id": "87cca486",
   "metadata": {},
   "source": [
    "- Kernel PCA\n",
    "- Autoencoder"
   ]
  },
  {
   "cell_type": "markdown",
   "id": "5ef7839a",
   "metadata": {},
   "source": [
    "**Nota**:Para intentar ajustar un modelo, cogemos una estacion para tener un dato por día."
   ]
  },
  {
   "cell_type": "code",
   "execution_count": null,
   "id": "3954b423",
   "metadata": {},
   "outputs": [],
   "source": [
    "ts = df_comp_mag[df_comp_mag['ESTACION']==8]\n",
    "ts"
   ]
  },
  {
   "cell_type": "markdown",
   "id": "0f90f7b4",
   "metadata": {},
   "source": [
    "**SO2**"
   ]
  },
  {
   "cell_type": "markdown",
   "id": "2a1c9ac5",
   "metadata": {},
   "source": [
    "Vamos a estudiar la serie temporal para el contaminante $SO_2$. "
   ]
  },
  {
   "cell_type": "code",
   "execution_count": null,
   "id": "85c41403",
   "metadata": {},
   "outputs": [],
   "source": [
    "# Librerias\n",
    "import statsmodels\n",
    "from statsmodels.tsa.seasonal import seasonal_decompose"
   ]
  },
  {
   "cell_type": "code",
   "execution_count": null,
   "id": "7ac04b4f",
   "metadata": {
    "scrolled": true
   },
   "outputs": [],
   "source": [
    "so2 = ts[['date','SO2']]\n",
    "so2 = so2.set_index('date')\n",
    "so2"
   ]
  },
  {
   "cell_type": "code",
   "execution_count": null,
   "id": "1e0a2f07",
   "metadata": {},
   "outputs": [],
   "source": [
    "so2.plot(lw=1.5, color='midnightblue', figsize=(20, 8))\n",
    "plt.title('Monthly PM 2.5 Particulate Concentration', fontsize=16)\n",
    "plt.xlabel('')\n",
    "plt.ylabel('ug/m^3', fontsize=12)\n",
    "plt.grid()\n",
    "plt.show();"
   ]
  },
  {
   "cell_type": "code",
   "execution_count": null,
   "id": "1b9174fb",
   "metadata": {},
   "outputs": [],
   "source": [
    "from statsmodels.graphics.tsaplots import month_plot\n",
    "\n",
    "fig, ax = plt.subplots(figsize=(20,8))\n",
    "month_plot(so2,ylabel = 'Concentracion ug/m^3',ax=ax)\n",
    "plt.title('Monthly PM 2.5 Concentration')\n",
    "plt.xlabel('month')\n",
    "plt.ylabel('um/m^3',fontsize)\n",
    "plt.grid();\n"
   ]
  },
  {
   "cell_type": "code",
   "execution_count": null,
   "id": "0e34b6f4",
   "metadata": {},
   "outputs": [],
   "source": [
    "# Descomposicion de la serie temporal\n",
    "result = seasonal_decompose(so2,period=365)\n",
    "\n",
    "# Resultados\n",
    "print(result.trend)\n",
    "print(result.seasonal)\n",
    "print(result.resid)"
   ]
  }
 ],
 "metadata": {
  "kernelspec": {
   "display_name": "Python 3 (ipykernel)",
   "language": "python",
   "name": "python3"
  },
  "language_info": {
   "codemirror_mode": {
    "name": "ipython",
    "version": 3
   },
   "file_extension": ".py",
   "mimetype": "text/x-python",
   "name": "python",
   "nbconvert_exporter": "python",
   "pygments_lexer": "ipython3",
   "version": "3.9.12"
  }
 },
 "nbformat": 4,
 "nbformat_minor": 5
}
